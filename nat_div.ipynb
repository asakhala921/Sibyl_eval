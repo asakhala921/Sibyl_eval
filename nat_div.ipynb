{
 "cells": [
  {
   "cell_type": "code",
   "execution_count": 1,
   "metadata": {},
   "outputs": [],
   "source": [
    "%reload_ext autoreload\n",
    "%autoreload 2"
   ]
  },
  {
   "cell_type": "code",
   "execution_count": 3,
   "metadata": {
    "collapsed": true
   },
   "outputs": [
    {
     "name": "stderr",
     "output_type": "stream",
     "text": [
      "C:\\Users\\fabri\\Anaconda3\\envs\\python38\\lib\\site-packages\\spacy\\util.py:707: UserWarning: [W095] Model 'en_core_web_sm' (2.3.1) requires spaCy >=2.3.0,<2.4.0 and is incompatible with the current version (3.0.1). This may lead to unexpected results or runtime errors. To resolve this, download a newer compatible model or retrain your custom model with the current spaCy version. For more details and available updates, run: python -m spacy validate\n",
      "  warnings.warn(warn_msg)\n"
     ]
    },
    {
     "data": {
      "text/plain": [
       "<absl.flags._flagvalues.FlagHolder at 0x1cd161d1ca0>"
      ]
     },
     "execution_count": 3,
     "metadata": {},
     "output_type": "execute_result"
    }
   ],
   "source": [
    "from datasets import load_dataset, load_metric, Dataset\n",
    "from transformers import AutoTokenizer\n",
    "import tensorflow as tf\n",
    "from nltk import word_tokenize\n",
    "\n",
    "from utils import *\n",
    "from transforms import *\n",
    "from diversity_metrics import *\n",
    "\n",
    "tf.compat.v1.flags.DEFINE_string('f','','')"
   ]
  },
  {
   "cell_type": "code",
   "execution_count": 8,
   "metadata": {},
   "outputs": [
    {
     "name": "stderr",
     "output_type": "stream",
     "text": [
      "Reusing dataset glue (C:\\Users\\fabri\\.cache\\huggingface\\datasets\\glue\\sst2\\1.0.0\\7c99657241149a24692c402a5c3f34d4c9f1df5ac2e4c3759fadea38f6cb29c4)\n"
     ]
    }
   ],
   "source": [
    "dataset = load_dataset('glue', 'sst2', split='train')\n",
    "dataset.rename_column_('sentence', 'text')"
   ]
  },
  {
   "cell_type": "code",
   "execution_count": 30,
   "metadata": {},
   "outputs": [],
   "source": [
    "pkl_save(dataset['text'], 'datasets/sst2/INV/text.npy')\n",
    "pkl_save(dataset['label'], 'datasets/sst2/INV/label.npy')"
   ]
  },
  {
   "cell_type": "code",
   "execution_count": 31,
   "metadata": {},
   "outputs": [],
   "source": [
    "dataset_paths = parse_path_list('datasets/sst2', 'datasets')"
   ]
  },
  {
   "cell_type": "code",
   "execution_count": 34,
   "metadata": {},
   "outputs": [],
   "source": [
    "dataset_paths = [x for x in dataset_paths if 'text' in x]"
   ]
  },
  {
   "cell_type": "code",
   "execution_count": 37,
   "metadata": {},
   "outputs": [],
   "source": [
    "ORIG_text_path = [x for x in dataset_paths if 'ORIG' in x][0]\n",
    "ORIG_text = npy_load(ORIG_text_path)"
   ]
  },
  {
   "cell_type": "code",
   "execution_count": 29,
   "metadata": {},
   "outputs": [
    {
     "data": {
      "text/plain": [
       "['datasets/sst2\\\\ORIG\\\\label.npy', 'datasets/sst2\\\\ORIG\\\\text.npy']"
      ]
     },
     "execution_count": 29,
     "metadata": {},
     "output_type": "execute_result"
    }
   ],
   "source": [
    "for p in dataset_paths:\n",
    "    DATA_text = npy_load(p)"
   ]
  },
  {
   "cell_type": "code",
   "execution_count": 3,
   "metadata": {},
   "outputs": [],
   "source": [
    "tokenizer = AutoTokenizer.from_pretrained('bert-base-uncased')\n",
    "\n",
    "def tokenize(batch):\n",
    "    return tokenizer(batch['text'], padding=True, truncation=True)"
   ]
  },
  {
   "cell_type": "code",
   "execution_count": null,
   "metadata": {},
   "outputs": [],
   "source": [
    "bertscore_metric._compute()"
   ]
  },
  {
   "cell_type": "code",
   "execution_count": 43,
   "metadata": {
    "collapsed": true
   },
   "outputs": [
    {
     "name": "stderr",
     "output_type": "stream",
     "text": [
      "Using default BLEURT-Base checkpoint for sequence maximum length 128. You can use a bigger model for better results with e.g.: datasets.load_metric('bleurt', 'bleurt-large-512').\n"
     ]
    },
    {
     "data": {
      "application/vnd.jupyter.widget-view+json": {
       "model_id": "f95a9b460bca49f99619eb22f8cd4a7b",
       "version_major": 2,
       "version_minor": 0
      },
      "text/plain": [
       "HBox(children=(FloatProgress(value=0.0, description='Downloading', max=405489453.0, style=ProgressStyle(descri…"
      ]
     },
     "metadata": {},
     "output_type": "display_data"
    },
    {
     "name": "stdout",
     "output_type": "stream",
     "text": [
      "\n",
      "INFO:tensorflow:Reading checkpoint C:\\Users\\fabri\\.cache\\huggingface\\metrics\\bleurt\\default\\downloads\\extracted\\9b5629096f074a9f24ea8a214dbc6d5b0a0143ab2a05aa47bf267a266398a79f\\bleurt-base-128.\n",
      "INFO:tensorflow:Config file found, reading.\n",
      "INFO:tensorflow:Will load checkpoint bert_custom\n",
      "INFO:tensorflow:Performs basic checks...\n",
      "INFO:tensorflow:... name:bert_custom\n",
      "INFO:tensorflow:... vocab_file:vocab.txt\n",
      "INFO:tensorflow:... bert_config_file:bert_config.json\n",
      "INFO:tensorflow:... do_lower_case:True\n",
      "INFO:tensorflow:... max_seq_length:128\n",
      "INFO:tensorflow:Creating BLEURT scorer.\n",
      "INFO:tensorflow:Loading model...\n",
      "INFO:tensorflow:BLEURT initialized.\n"
     ]
    }
   ],
   "source": [
    "# Init tokenizer and metrics\n",
    "bertscore_metric = load_metric(\"bertscore\")\n",
    "bleurt_metric = load_metric(\"bleurt\")"
   ]
  },
  {
   "cell_type": "code",
   "execution_count": 47,
   "metadata": {},
   "outputs": [
    {
     "data": {
      "text/plain": [
       "{'bleu': 0.0,\n",
       " 'precisions': [0.7, 0.0, 0.0, 0.0],\n",
       " 'brevity_penalty': 1.0,\n",
       " 'length_ratio': 10.0,\n",
       " 'translation_length': 10,\n",
       " 'reference_length': 1}"
      ]
     },
     "execution_count": 47,
     "metadata": {},
     "output_type": "execute_result"
    }
   ],
   "source": [
    "bleu_score._compute(['I am happy'], ['I am happy'])"
   ]
  },
  {
   "cell_type": "code",
   "execution_count": 44,
   "metadata": {},
   "outputs": [
    {
     "name": "stderr",
     "output_type": "stream",
     "text": [
      "Using default BLEURT-Base checkpoint for sequence maximum length 128. You can use a bigger model for better results with e.g.: datasets.load_metric('bleurt', 'bleurt-large-512').\n"
     ]
    },
    {
     "name": "stdout",
     "output_type": "stream",
     "text": [
      "INFO:tensorflow:Reading checkpoint C:\\Users\\fabri\\.cache\\huggingface\\metrics\\bleurt\\default\\downloads\\extracted\\9b5629096f074a9f24ea8a214dbc6d5b0a0143ab2a05aa47bf267a266398a79f\\bleurt-base-128.\n",
      "INFO:tensorflow:Config file found, reading.\n",
      "INFO:tensorflow:Will load checkpoint bert_custom\n",
      "INFO:tensorflow:Performs basic checks...\n",
      "INFO:tensorflow:... name:bert_custom\n",
      "INFO:tensorflow:... vocab_file:vocab.txt\n",
      "INFO:tensorflow:... bert_config_file:bert_config.json\n",
      "INFO:tensorflow:... do_lower_case:True\n",
      "INFO:tensorflow:... max_seq_length:128\n",
      "INFO:tensorflow:Creating BLEURT scorer.\n",
      "INFO:tensorflow:Loading model...\n",
      "INFO:tensorflow:BLEURT initialized.\n"
     ]
    },
    {
     "data": {
      "application/vnd.jupyter.widget-view+json": {
       "model_id": "687c27a03c42420299b0bbfce30c8a53",
       "version_major": 2,
       "version_minor": 0
      },
      "text/plain": [
       "HBox(children=(FloatProgress(value=0.0, description='Downloading', max=2258.0, style=ProgressStyle(description…"
      ]
     },
     "metadata": {},
     "output_type": "display_data"
    },
    {
     "name": "stdout",
     "output_type": "stream",
     "text": [
      "\n"
     ]
    },
    {
     "data": {
      "application/vnd.jupyter.widget-view+json": {
       "model_id": "23bab4feb528479a9f1b9522cd6097de",
       "version_major": 2,
       "version_minor": 0
      },
      "text/plain": [
       "HBox(children=(FloatProgress(value=0.0, description='Downloading', max=1554.0, style=ProgressStyle(description…"
      ]
     },
     "metadata": {},
     "output_type": "display_data"
    },
    {
     "name": "stdout",
     "output_type": "stream",
     "text": [
      "\n"
     ]
    }
   ],
   "source": [
    "# Init tokenizer and metrics\n",
    "bertscore_metric = load_metric(\"bertscore\")\n",
    "bleurt_metric = load_metric(\"bleurt\")\n",
    "bleu_score = load_metric(\"bleu\")\n",
    "\n",
    "# diversity_metric = TextDiversity(verbose=True)"
   ]
  },
  {
   "cell_type": "markdown",
   "metadata": {},
   "source": [
    "# Naturalness and Diversity for each Transformation"
   ]
  },
  {
   "cell_type": "code",
   "execution_count": 5,
   "metadata": {
    "collapsed": true
   },
   "outputs": [
    {
     "name": "stderr",
     "output_type": "stream",
     "text": [
      "Reusing dataset glue (C:\\Users\\Fabrice\\.cache\\huggingface\\datasets\\glue\\sst2\\1.0.0\\7c99657241149a24692c402a5c3f34d4c9f1df5ac2e4c3759fadea38f6cb29c4)\n"
     ]
    },
    {
     "name": "stdout",
     "output_type": "stream",
     "text": [
      "sentiment INV hard ExpandContractions <transformations.text.contraction.expand_contractions.ExpandContractions object at 0x000002A3EE09DD30>\n",
      "sentiment INV hard ContractContractions <transformations.text.contraction.contract_contractions.ContractContractions object at 0x000002A3EE09DCD0>\n",
      "sentiment INV hard Emojify <transformations.text.emoji.emojify.Emojify object at 0x000002A3EE084640>\n",
      "sentiment SIB soft AddPositiveEmoji <transformations.text.emoji.emojify.AddPositiveEmoji object at 0x000002A3F59EEA60>\n",
      "sentiment SIB soft AddNegativeEmoji <transformations.text.emoji.emojify.AddNegativeEmoji object at 0x000002A3EE18E0D0>\n",
      "sentiment INV hard AddNeutralEmoji <transformations.text.emoji.emojify.AddNeutralEmoji object at 0x000002A3ED45C1C0>\n",
      "sentiment INV hard Demojify <transformations.text.emoji.demojify.Demojify object at 0x000002A3EE21E1F0>\n",
      "sentiment SIB soft RemovePositiveEmoji <transformations.text.emoji.demojify.RemovePositiveEmoji object at 0x000002A3EE21E520>\n",
      "sentiment SIB soft RemoveNegativeEmoji <transformations.text.emoji.demojify.RemoveNegativeEmoji object at 0x000002A3EE21EDF0>\n",
      "sentiment INV hard RemoveNeutralEmoji <transformations.text.emoji.demojify.RemoveNeutralEmoji object at 0x000002A3EE21E430>\n",
      "sentiment INV hard ChangeLocation <transformations.text.entities.change_location.ChangeLocation object at 0x000002A3ED47EB80>\n",
      "sentiment INV hard ChangeName <transformations.text.entities.change_name.ChangeName object at 0x000002A3AA115400>\n",
      "sentiment SIB soft InsertPositivePhrase <transformations.text.insertion.sentiment_phrase.InsertPositivePhrase object at 0x000002A3AC218FA0>\n",
      "sentiment SIB soft InsertNegativePhrase <transformations.text.insertion.sentiment_phrase.InsertNegativePhrase object at 0x000002A3AE3DAE50>\n",
      "sentiment INV hard RandomInsertion <transformations.text.insertion.random_insertion.RandomInsertion object at 0x000002A3AE3DAFD0>\n",
      "sentiment SIB soft AddPositiveLink <transformations.text.links.add_sentiment_link.AddPositiveLink object at 0x000002A3AE3DADC0>\n",
      "sentiment SIB soft AddNegativeLink <transformations.text.links.add_sentiment_link.AddNegativeLink object at 0x000002A3AE3ED2E0>\n",
      "sentiment INV hard ImportLinkText <transformations.text.links.import_link_text.ImportLinkText object at 0x000002A3AE3ED2B0>\n",
      "sentiment SIB hard AddNegation <transformations.text.negation.add_negation.AddNegation object at 0x000002A3AE3ED910>\n",
      "sentiment SIB hard RemoveNegation <transformations.text.negation.remove_negation.RemoveNegation object at 0x000002A3FB56AA60>\n",
      "sentiment INV hard RandomCharDel <transformations.text.typos.char_delete.RandomCharDel object at 0x000002A3F3C4F520>\n",
      "sentiment INV hard RandomCharInsert <transformations.text.typos.char_insert.RandomCharInsert object at 0x000002A3F3C4F790>\n",
      "sentiment INV hard RandomCharSubst <transformations.text.typos.char_substitute.RandomCharSubst object at 0x000002A3F3C4F760>\n",
      "sentiment INV hard RandomCharSwap <transformations.text.typos.char_swap.RandomCharSwap object at 0x000002A3F3C4FAF0>\n",
      "sentiment INV hard RandomSwapQwerty <transformations.text.typos.char_swap_qwerty.RandomSwapQwerty object at 0x000002A3F3C4FBE0>\n",
      "sentiment INV hard ChangeNumber <transformations.text.word_swap.change_number.ChangeNumber object at 0x000002A3F3C4FF40>\n",
      "sentiment INV hard ChangeSynonym <transformations.text.word_swap.change_synse.ChangeSynonym object at 0x000002A3F3D4BC70>\n",
      "sentiment SIB soft ChangeAntonym <transformations.text.word_swap.change_synse.ChangeAntonym object at 0x000002A403557A00>\n",
      "sentiment INV hard ChangeHyponym <transformations.text.word_swap.change_synse.ChangeHyponym object at 0x000002A40E5DCEE0>\n",
      "sentiment INV hard ChangeHypernym <transformations.text.word_swap.change_synse.ChangeHypernym object at 0x000002A40E5DCF10>\n",
      "sentiment INV hard WordDeletion <transformations.text.word_swap.word_deletion.WordDeletion object at 0x000002A3D8CEA8B0>\n",
      "sentiment INV hard HomoglyphSwap <transformations.text.word_swap.homoglyph_swap.HomoglyphSwap object at 0x000002A475898490>\n",
      "sentiment INV hard RandomSwap <transformations.text.word_swap.random_swap.RandomSwap object at 0x000002A475898370>\n",
      "sentiment SIB soft TextMix <transformations.text.mixture.text_mix.TextMix object at 0x000002A4758986A0>\n",
      "sentiment SIB soft SentMix <transformations.text.mixture.text_mix.SentMix object at 0x000002A475898910>\n",
      "sentiment SIB soft WordMix <transformations.text.mixture.text_mix.WordMix object at 0x000002A475898B20>\n"
     ]
    },
    {
     "name": "stderr",
     "output_type": "stream",
     "text": [
      "Using custom data configuration default\n",
      "Reusing dataset ag_news (C:\\Users\\Fabrice\\.cache\\huggingface\\datasets\\ag_news\\default\\0.0.0\\fb5c5e74a110037311ef5e904583ce9f8b9fbc1354290f97b4929f01b3f48b1a)\n"
     ]
    },
    {
     "name": "stdout",
     "output_type": "stream",
     "text": [
      "topic INV hard ExpandContractions <transformations.text.contraction.expand_contractions.ExpandContractions object at 0x000002A3EE181610>\n",
      "topic INV hard ContractContractions <transformations.text.contraction.contract_contractions.ContractContractions object at 0x000002A3EE181CD0>\n",
      "topic INV hard Emojify <transformations.text.emoji.emojify.Emojify object at 0x000002A47F065970>\n",
      "topic INV hard AddPositiveEmoji <transformations.text.emoji.emojify.AddPositiveEmoji object at 0x000002A47F0E2490>\n",
      "topic INV hard AddNegativeEmoji <transformations.text.emoji.emojify.AddNegativeEmoji object at 0x000002A47F1059D0>\n",
      "topic INV hard AddNeutralEmoji <transformations.text.emoji.emojify.AddNeutralEmoji object at 0x000002A47F1E2160>\n",
      "topic INV hard Demojify <transformations.text.emoji.demojify.Demojify object at 0x000002A47F96E220>\n",
      "topic INV hard RemovePositiveEmoji <transformations.text.emoji.demojify.RemovePositiveEmoji object at 0x000002A47F96E970>\n",
      "topic INV hard RemoveNegativeEmoji <transformations.text.emoji.demojify.RemoveNegativeEmoji object at 0x000002A47F96E400>\n",
      "topic INV hard RemoveNeutralEmoji <transformations.text.emoji.demojify.RemoveNeutralEmoji object at 0x000002A47EDACBE0>\n",
      "topic INV hard ChangeLocation <transformations.text.entities.change_location.ChangeLocation object at 0x000002A47F981610>\n",
      "topic INV hard ChangeName <transformations.text.entities.change_name.ChangeName object at 0x000002A4834B1250>\n",
      "topic INV hard InsertPositivePhrase <transformations.text.insertion.sentiment_phrase.InsertPositivePhrase object at 0x000002A482414C10>\n",
      "topic INV hard InsertNegativePhrase <transformations.text.insertion.sentiment_phrase.InsertNegativePhrase object at 0x000002A482414E80>\n",
      "topic INV hard RandomInsertion <transformations.text.insertion.random_insertion.RandomInsertion object at 0x000002A482414F10>\n",
      "topic INV hard AddPositiveLink <transformations.text.links.add_sentiment_link.AddPositiveLink object at 0x000002A482414FD0>\n",
      "topic INV hard AddNegativeLink <transformations.text.links.add_sentiment_link.AddNegativeLink object at 0x000002A4859995E0>\n",
      "topic INV hard ImportLinkText <transformations.text.links.import_link_text.ImportLinkText object at 0x000002A4859999A0>\n",
      "topic INV hard AddNegation <transformations.text.negation.add_negation.AddNegation object at 0x000002A485999AC0>\n",
      "topic INV hard RemoveNegation <transformations.text.negation.remove_negation.RemoveNegation object at 0x000002A489AF5670>\n",
      "topic INV hard RandomCharDel <transformations.text.typos.char_delete.RandomCharDel object at 0x000002A48FB1D100>\n",
      "topic INV hard RandomCharInsert <transformations.text.typos.char_insert.RandomCharInsert object at 0x000002A48FB1D370>\n",
      "topic INV hard RandomCharSubst <transformations.text.typos.char_substitute.RandomCharSubst object at 0x000002A48FB1D340>\n",
      "topic INV hard RandomCharSwap <transformations.text.typos.char_swap.RandomCharSwap object at 0x000002A48FB1D6D0>\n",
      "topic INV hard RandomSwapQwerty <transformations.text.typos.char_swap_qwerty.RandomSwapQwerty object at 0x000002A48FB1D7C0>\n",
      "topic INV hard ChangeNumber <transformations.text.word_swap.change_number.ChangeNumber object at 0x000002A48FB1DB20>\n",
      "topic INV hard ChangeSynonym <transformations.text.word_swap.change_synse.ChangeSynonym object at 0x000002A493C69550>\n",
      "topic INV hard ChangeAntonym <transformations.text.word_swap.change_synse.ChangeAntonym object at 0x000002A4947C9280>\n",
      "topic INV hard ChangeHyponym <transformations.text.word_swap.change_synse.ChangeHyponym object at 0x000002A499F6BC40>\n",
      "topic INV hard ChangeHypernym <transformations.text.word_swap.change_synse.ChangeHypernym object at 0x000002A49EC27640>\n",
      "topic INV hard WordDeletion <transformations.text.word_swap.word_deletion.WordDeletion object at 0x000002A4A0ECBFD0>\n",
      "topic INV hard HomoglyphSwap <transformations.text.word_swap.homoglyph_swap.HomoglyphSwap object at 0x000002A4A2FA5FD0>\n",
      "topic INV hard RandomSwap <transformations.text.word_swap.random_swap.RandomSwap object at 0x000002A4A2FA5E20>\n",
      "topic SIB soft TextMix <transformations.text.mixture.text_mix.TextMix object at 0x000002A4A2FBD0D0>\n",
      "topic SIB soft SentMix <transformations.text.mixture.text_mix.SentMix object at 0x000002A4A2FBD520>\n",
      "topic SIB soft WordMix <transformations.text.mixture.text_mix.WordMix object at 0x000002A4A2FBD6D0>\n"
     ]
    }
   ],
   "source": [
    "data = {}\n",
    "\n",
    "datasets = [('glue', 'sst2'), 'ag_news']\n",
    "\n",
    "for d in datasets:\n",
    "      \n",
    "    # load datasets from huggingface    \n",
    "    if type(d) == tuple and d[0] == 'glue':\n",
    "        task = 'sentiment'\n",
    "        ORIG = load_dataset(d[0], d[1])['train']\n",
    "        ORIG.rename_column_('sentence', 'text')\n",
    "        d = d[1]\n",
    "    else:\n",
    "        task = 'topic'\n",
    "        ORIG = load_dataset(d)['train']\n",
    "            \n",
    "    # sample n of them to be used for each of the transformations\n",
    "    n = 100\n",
    "    idx = np.random.randint(0, len(ORIG['text']), n)\n",
    "    ORIG_text, ORIG_label = list(np.array(ORIG['text'])[idx]), list(np.array(ORIG['label'])[idx])\n",
    "    ORIG_text = [str(x) for x in ORIG_text]\n",
    "    \n",
    "    data[(d, 'ORIG')] = {'text': ORIG_text, 'label': ORIG_label }\n",
    "           \n",
    "    df = init_transforms(task=task)\n",
    "    \n",
    "    for t in df.itertuples():\n",
    "        task_name = t[1]\n",
    "        tran_type = t[2]\n",
    "        label_type = t[3]\n",
    "        transformation = t[4]\n",
    "        tran_fn = t[5]\n",
    "        print(task_name, tran_type, label_type, transformation, tran_fn)\n",
    "\n",
    "        if 'AbstractBatchTransformation' in tran_fn.__class__.__bases__[0].__name__:\n",
    "            TRAN_text, _ = tran_fn((ORIG_text, ORIG_label))\n",
    "            TRAN_text = TRAN_text[0].tolist()\n",
    "        else:\n",
    "            TRAN_text = []\n",
    "            for X in ORIG_text:\n",
    "                new_X = tran_fn(X)[0]\n",
    "                if type(new_X) == list:\n",
    "                    new_X = new_X[0]\n",
    "                TRAN_text.append(new_X)\n",
    "        TRAN_text = [str(x) for x in TRAN_text]\n",
    "        data[(d, transformation)] = {'text': TRAN_text}\n",
    "        "
   ]
  },
  {
   "cell_type": "code",
   "execution_count": 7,
   "metadata": {
    "scrolled": true
   },
   "outputs": [
    {
     "name": "stdout",
     "output_type": "stream",
     "text": [
      "('sst2', 'ORIG')\n",
      "calculating BERTScores...\n",
      "TRAN vs. ORIG BERTScore 1.0\n",
      "calculating BLEURT Scores...\n"
     ]
    },
    {
     "name": "stderr",
     "output_type": "stream",
     "text": [
      " 50%|██████████████████████████████████████████                                          | 3/6 [00:00<00:00, 25.41it/s]"
     ]
    },
    {
     "name": "stdout",
     "output_type": "stream",
     "text": [
      "TRAN vs. ORIG BLEURT Score 1.013520868420601\n",
      "TRAN TTR_tok: 55.98%\n",
      "TRAN TTR_text: 56.65%\n",
      "getting token embeddings...\n"
     ]
    },
    {
     "name": "stderr",
     "output_type": "stream",
     "text": [
      "7it [00:00, 20.82it/s]                                                                                                 \n"
     ]
    },
    {
     "name": "stdout",
     "output_type": "stream",
     "text": [
      "Using n_components=102\n"
     ]
    },
    {
     "name": "stderr",
     "output_type": "stream",
     "text": [
      "  0%|▍                                                                                | 5/1020 [00:00<00:23, 43.48it/s]"
     ]
    },
    {
     "name": "stdout",
     "output_type": "stream",
     "text": [
      "calculating similarity matrix...\n"
     ]
    },
    {
     "name": "stderr",
     "output_type": "stream",
     "text": [
      "100%|█████████████████████████████████████████████████████████████████████████████| 1020/1020 [00:08<00:00, 113.92it/s]\n"
     ]
    },
    {
     "name": "stdout",
     "output_type": "stream",
     "text": [
      "TRAN Diversity: 93.58453771107413 (9.1750%)\n",
      "('sst2', 'ExpandContractions')\n",
      "calculating BERTScores...\n",
      "TRAN vs. ORIG BERTScore 1.0\n",
      "calculating BLEURT Scores...\n"
     ]
    },
    {
     "name": "stderr",
     "output_type": "stream",
     "text": [
      " 50%|██████████████████████████████████████████                                          | 3/6 [00:00<00:00, 25.20it/s]"
     ]
    },
    {
     "name": "stdout",
     "output_type": "stream",
     "text": [
      "TRAN vs. ORIG BLEURT Score 1.013520868420601\n",
      "TRAN TTR_tok: 55.98%\n",
      "TRAN TTR_text: 56.65%\n",
      "getting token embeddings...\n"
     ]
    },
    {
     "name": "stderr",
     "output_type": "stream",
     "text": [
      "7it [00:00, 23.47it/s]                                                                                                 \n"
     ]
    },
    {
     "name": "stdout",
     "output_type": "stream",
     "text": [
      "Using n_components=102\n"
     ]
    },
    {
     "name": "stderr",
     "output_type": "stream",
     "text": [
      "  1%|▊                                                                               | 11/1020 [00:00<00:21, 46.80it/s]"
     ]
    },
    {
     "name": "stdout",
     "output_type": "stream",
     "text": [
      "calculating similarity matrix...\n"
     ]
    },
    {
     "name": "stderr",
     "output_type": "stream",
     "text": [
      "100%|█████████████████████████████████████████████████████████████████████████████| 1020/1020 [00:08<00:00, 119.39it/s]\n"
     ]
    },
    {
     "name": "stdout",
     "output_type": "stream",
     "text": [
      "TRAN Diversity: 93.65619368975595 (9.1820%)\n",
      "('sst2', 'ContractContractions')\n",
      "calculating BERTScores...\n",
      "TRAN vs. ORIG BERTScore 0.9997100234031677\n",
      "calculating BLEURT Scores...\n"
     ]
    },
    {
     "name": "stderr",
     "output_type": "stream",
     "text": [
      " 50%|██████████████████████████████████████████                                          | 3/6 [00:00<00:00, 23.44it/s]"
     ]
    },
    {
     "name": "stdout",
     "output_type": "stream",
     "text": [
      "TRAN vs. ORIG BLEURT Score 1.0095042246580124\n",
      "TRAN TTR_tok: 55.65%\n",
      "TRAN TTR_text: 56.65%\n",
      "getting token embeddings...\n"
     ]
    },
    {
     "name": "stderr",
     "output_type": "stream",
     "text": [
      "7it [00:00, 20.54it/s]                                                                                                 \n"
     ]
    },
    {
     "name": "stdout",
     "output_type": "stream",
     "text": [
      "Using n_components=102\n"
     ]
    },
    {
     "name": "stderr",
     "output_type": "stream",
     "text": [
      "  0%|▍                                                                                | 5/1026 [00:00<00:22, 46.30it/s]"
     ]
    },
    {
     "name": "stdout",
     "output_type": "stream",
     "text": [
      "calculating similarity matrix...\n"
     ]
    },
    {
     "name": "stderr",
     "output_type": "stream",
     "text": [
      "100%|█████████████████████████████████████████████████████████████████████████████| 1026/1026 [00:08<00:00, 120.67it/s]\n"
     ]
    },
    {
     "name": "stdout",
     "output_type": "stream",
     "text": [
      "TRAN Diversity: 92.97280940746576 (9.0617%)\n",
      "('sst2', 'Emojify')\n",
      "calculating BERTScores...\n",
      "TRAN vs. ORIG BERTScore 0.94893479347229\n",
      "calculating BLEURT Scores...\n"
     ]
    },
    {
     "name": "stderr",
     "output_type": "stream",
     "text": [
      " 50%|██████████████████████████████████████████                                          | 3/6 [00:00<00:00, 25.20it/s]"
     ]
    },
    {
     "name": "stdout",
     "output_type": "stream",
     "text": [
      "TRAN vs. ORIG BLEURT Score 0.29765487886965275\n",
      "TRAN TTR_tok: 50.64%\n",
      "TRAN TTR_text: 59.36%\n",
      "getting token embeddings...\n"
     ]
    },
    {
     "name": "stderr",
     "output_type": "stream",
     "text": [
      "7it [00:00, 23.33it/s]                                                                                                 \n"
     ]
    },
    {
     "name": "stdout",
     "output_type": "stream",
     "text": [
      "Using n_components=101\n"
     ]
    },
    {
     "name": "stderr",
     "output_type": "stream",
     "text": [
      "  0%|▎                                                                                | 4/1015 [00:00<00:29, 34.48it/s]"
     ]
    },
    {
     "name": "stdout",
     "output_type": "stream",
     "text": [
      "calculating similarity matrix...\n"
     ]
    },
    {
     "name": "stderr",
     "output_type": "stream",
     "text": [
      "100%|█████████████████████████████████████████████████████████████████████████████| 1015/1015 [00:08<00:00, 118.10it/s]\n"
     ]
    },
    {
     "name": "stdout",
     "output_type": "stream",
     "text": [
      "TRAN Diversity: 99.48131651410164 (9.8011%)\n",
      "('sst2', 'AddPositiveEmoji')\n",
      "calculating BERTScores...\n",
      "TRAN vs. ORIG BERTScore 0.9213029742240906\n",
      "calculating BLEURT Scores...\n"
     ]
    },
    {
     "name": "stderr",
     "output_type": "stream",
     "text": [
      " 50%|██████████████████████████████████████████                                          | 3/6 [00:00<00:00, 23.62it/s]"
     ]
    },
    {
     "name": "stdout",
     "output_type": "stream",
     "text": [
      "TRAN vs. ORIG BLEURT Score 0.4561280116066337\n",
      "TRAN TTR_tok: 51.07%\n",
      "TRAN TTR_text: 60.38%\n",
      "getting token embeddings...\n"
     ]
    },
    {
     "name": "stderr",
     "output_type": "stream",
     "text": [
      "7it [00:00, 20.64it/s]                                                                                                 \n"
     ]
    },
    {
     "name": "stdout",
     "output_type": "stream",
     "text": [
      "Using n_components=112\n"
     ]
    },
    {
     "name": "stderr",
     "output_type": "stream",
     "text": [
      "  0%|▎                                                                                | 5/1120 [00:00<00:26, 42.37it/s]"
     ]
    },
    {
     "name": "stdout",
     "output_type": "stream",
     "text": [
      "calculating similarity matrix...\n"
     ]
    },
    {
     "name": "stderr",
     "output_type": "stream",
     "text": [
      "100%|█████████████████████████████████████████████████████████████████████████████| 1120/1120 [00:10<00:00, 104.01it/s]\n"
     ]
    },
    {
     "name": "stdout",
     "output_type": "stream",
     "text": [
      "TRAN Diversity: 77.90214597471504 (6.9555%)\n",
      "('sst2', 'AddNegativeEmoji')\n",
      "calculating BERTScores...\n",
      "TRAN vs. ORIG BERTScore 0.917137861251831\n",
      "calculating BLEURT Scores...\n"
     ]
    },
    {
     "name": "stderr",
     "output_type": "stream",
     "text": [
      " 50%|██████████████████████████████████████████                                          | 3/6 [00:00<00:00, 23.80it/s]"
     ]
    },
    {
     "name": "stdout",
     "output_type": "stream",
     "text": [
      "TRAN vs. ORIG BLEURT Score 0.4561280116066337\n",
      "TRAN TTR_tok: 51.07%\n",
      "TRAN TTR_text: 58.80%\n",
      "getting token embeddings...\n"
     ]
    },
    {
     "name": "stderr",
     "output_type": "stream",
     "text": [
      "7it [00:00, 21.74it/s]                                                                                                 \n"
     ]
    },
    {
     "name": "stdout",
     "output_type": "stream",
     "text": [
      "Using n_components=112\n"
     ]
    },
    {
     "name": "stderr",
     "output_type": "stream",
     "text": [
      "  1%|▋                                                                                | 9/1120 [00:00<00:25, 43.05it/s]"
     ]
    },
    {
     "name": "stdout",
     "output_type": "stream",
     "text": [
      "calculating similarity matrix...\n"
     ]
    },
    {
     "name": "stderr",
     "output_type": "stream",
     "text": [
      "100%|█████████████████████████████████████████████████████████████████████████████| 1120/1120 [00:10<00:00, 105.05it/s]\n"
     ]
    },
    {
     "name": "stdout",
     "output_type": "stream",
     "text": [
      "TRAN Diversity: 77.88981484918281 (6.9544%)\n",
      "('sst2', 'AddNeutralEmoji')\n",
      "calculating BERTScores...\n",
      "TRAN vs. ORIG BERTScore 0.900738537311554\n",
      "calculating BLEURT Scores...\n"
     ]
    },
    {
     "name": "stderr",
     "output_type": "stream",
     "text": [
      " 50%|██████████████████████████████████████████                                          | 3/6 [00:00<00:00, 23.62it/s]"
     ]
    },
    {
     "name": "stdout",
     "output_type": "stream",
     "text": [
      "TRAN vs. ORIG BLEURT Score 0.46128779485821725\n",
      "TRAN TTR_tok: 51.16%\n",
      "TRAN TTR_text: 61.01%\n",
      "getting token embeddings...\n"
     ]
    },
    {
     "name": "stderr",
     "output_type": "stream",
     "text": [
      "7it [00:00, 22.50it/s]                                                                                                 \n"
     ]
    },
    {
     "name": "stdout",
     "output_type": "stream",
     "text": [
      "Using n_components=112\n"
     ]
    },
    {
     "name": "stderr",
     "output_type": "stream",
     "text": [
      "  1%|▋                                                                               | 10/1120 [00:00<00:22, 48.92it/s]"
     ]
    },
    {
     "name": "stdout",
     "output_type": "stream",
     "text": [
      "calculating similarity matrix...\n"
     ]
    },
    {
     "name": "stderr",
     "output_type": "stream",
     "text": [
      "100%|█████████████████████████████████████████████████████████████████████████████| 1120/1120 [00:10<00:00, 104.90it/s]\n"
     ]
    },
    {
     "name": "stdout",
     "output_type": "stream",
     "text": [
      "TRAN Diversity: 78.25005687720666 (6.9866%)\n",
      "('sst2', 'Demojify')\n",
      "calculating BERTScores...\n",
      "TRAN vs. ORIG BERTScore 1.0\n",
      "calculating BLEURT Scores...\n"
     ]
    },
    {
     "name": "stderr",
     "output_type": "stream",
     "text": [
      " 50%|██████████████████████████████████████████                                          | 3/6 [00:00<00:00, 25.42it/s]"
     ]
    },
    {
     "name": "stdout",
     "output_type": "stream",
     "text": [
      "TRAN vs. ORIG BLEURT Score 1.013520868420601\n",
      "TRAN TTR_tok: 55.98%\n",
      "TRAN TTR_text: 56.65%\n",
      "getting token embeddings...\n"
     ]
    },
    {
     "name": "stderr",
     "output_type": "stream",
     "text": [
      "7it [00:00, 23.18it/s]                                                                                                 \n"
     ]
    },
    {
     "name": "stdout",
     "output_type": "stream",
     "text": [
      "Using n_components=102\n",
      "calculating similarity matrix...\n"
     ]
    },
    {
     "name": "stderr",
     "output_type": "stream",
     "text": [
      "100%|█████████████████████████████████████████████████████████████████████████████| 1020/1020 [00:08<00:00, 121.91it/s]\n"
     ]
    },
    {
     "name": "stdout",
     "output_type": "stream",
     "text": [
      "TRAN Diversity: 93.6089446886394 (9.1773%)\n",
      "('sst2', 'RemovePositiveEmoji')\n",
      "calculating BERTScores...\n",
      "TRAN vs. ORIG BERTScore 1.0\n",
      "calculating BLEURT Scores...\n"
     ]
    },
    {
     "name": "stderr",
     "output_type": "stream",
     "text": [
      " 50%|██████████████████████████████████████████                                          | 3/6 [00:00<00:00, 25.42it/s]"
     ]
    },
    {
     "name": "stdout",
     "output_type": "stream",
     "text": [
      "TRAN vs. ORIG BLEURT Score 1.013520868420601\n",
      "TRAN TTR_tok: 55.98%\n",
      "TRAN TTR_text: 56.65%\n",
      "getting token embeddings...\n"
     ]
    },
    {
     "name": "stderr",
     "output_type": "stream",
     "text": [
      "7it [00:00, 24.22it/s]                                                                                                 \n"
     ]
    },
    {
     "name": "stdout",
     "output_type": "stream",
     "text": [
      "Using n_components=102\n"
     ]
    },
    {
     "name": "stderr",
     "output_type": "stream",
     "text": [
      "  1%|▊                                                                               | 11/1020 [00:00<00:20, 49.16it/s]"
     ]
    },
    {
     "name": "stdout",
     "output_type": "stream",
     "text": [
      "calculating similarity matrix...\n"
     ]
    },
    {
     "name": "stderr",
     "output_type": "stream",
     "text": [
      "100%|█████████████████████████████████████████████████████████████████████████████| 1020/1020 [00:08<00:00, 118.63it/s]\n"
     ]
    },
    {
     "name": "stdout",
     "output_type": "stream",
     "text": [
      "TRAN Diversity: 93.66725246033508 (9.1831%)\n",
      "('sst2', 'RemoveNegativeEmoji')\n",
      "calculating BERTScores...\n",
      "TRAN vs. ORIG BERTScore 1.0\n",
      "calculating BLEURT Scores...\n"
     ]
    },
    {
     "name": "stderr",
     "output_type": "stream",
     "text": [
      " 50%|██████████████████████████████████████████                                          | 3/6 [00:00<00:00, 25.42it/s]"
     ]
    },
    {
     "name": "stdout",
     "output_type": "stream",
     "text": [
      "TRAN vs. ORIG BLEURT Score 1.013520868420601\n",
      "TRAN TTR_tok: 55.98%\n",
      "TRAN TTR_text: 56.65%\n",
      "getting token embeddings...\n"
     ]
    },
    {
     "name": "stderr",
     "output_type": "stream",
     "text": [
      "7it [00:00, 22.76it/s]                                                                                                 \n"
     ]
    },
    {
     "name": "stdout",
     "output_type": "stream",
     "text": [
      "Using n_components=102\n"
     ]
    },
    {
     "name": "stderr",
     "output_type": "stream",
     "text": [
      "  1%|▍                                                                                | 6/1020 [00:00<00:19, 52.63it/s]"
     ]
    },
    {
     "name": "stdout",
     "output_type": "stream",
     "text": [
      "calculating similarity matrix...\n"
     ]
    },
    {
     "name": "stderr",
     "output_type": "stream",
     "text": [
      "100%|█████████████████████████████████████████████████████████████████████████████| 1020/1020 [00:08<00:00, 120.62it/s]\n"
     ]
    },
    {
     "name": "stdout",
     "output_type": "stream",
     "text": [
      "TRAN Diversity: 93.66684711644328 (9.1830%)\n",
      "('sst2', 'RemoveNeutralEmoji')\n",
      "calculating BERTScores...\n",
      "TRAN vs. ORIG BERTScore 1.0\n",
      "calculating BLEURT Scores...\n"
     ]
    },
    {
     "name": "stderr",
     "output_type": "stream",
     "text": [
      " 50%|██████████████████████████████████████████                                          | 3/6 [00:00<00:00, 25.41it/s]"
     ]
    },
    {
     "name": "stdout",
     "output_type": "stream",
     "text": [
      "TRAN vs. ORIG BLEURT Score 1.013520868420601\n",
      "TRAN TTR_tok: 55.98%\n",
      "TRAN TTR_text: 56.65%\n",
      "getting token embeddings...\n"
     ]
    },
    {
     "name": "stderr",
     "output_type": "stream",
     "text": [
      "7it [00:00, 22.80it/s]                                                                                                 \n"
     ]
    },
    {
     "name": "stdout",
     "output_type": "stream",
     "text": [
      "Using n_components=102\n"
     ]
    },
    {
     "name": "stderr",
     "output_type": "stream",
     "text": [
      "  1%|▊                                                                               | 11/1020 [00:00<00:20, 50.27it/s]"
     ]
    },
    {
     "name": "stdout",
     "output_type": "stream",
     "text": [
      "calculating similarity matrix...\n"
     ]
    },
    {
     "name": "stderr",
     "output_type": "stream",
     "text": [
      "100%|█████████████████████████████████████████████████████████████████████████████| 1020/1020 [00:08<00:00, 120.85it/s]\n"
     ]
    },
    {
     "name": "stdout",
     "output_type": "stream",
     "text": [
      "TRAN Diversity: 93.69546011156781 (9.1858%)\n",
      "('sst2', 'ChangeLocation')\n",
      "calculating BERTScores...\n",
      "TRAN vs. ORIG BERTScore 0.9959122538566589\n",
      "calculating BLEURT Scores...\n"
     ]
    },
    {
     "name": "stderr",
     "output_type": "stream",
     "text": [
      " 50%|██████████████████████████████████████████                                          | 3/6 [00:00<00:00, 25.20it/s]"
     ]
    },
    {
     "name": "stdout",
     "output_type": "stream",
     "text": [
      "TRAN vs. ORIG BLEURT Score 0.9037058018147945\n",
      "TRAN TTR_tok: 56.32%\n",
      "TRAN TTR_text: 56.87%\n",
      "getting token embeddings...\n"
     ]
    },
    {
     "name": "stderr",
     "output_type": "stream",
     "text": [
      "7it [00:00, 24.47it/s]                                                                                                 \n"
     ]
    },
    {
     "name": "stdout",
     "output_type": "stream",
     "text": [
      "Using n_components=102\n"
     ]
    },
    {
     "name": "stderr",
     "output_type": "stream",
     "text": [
      "  0%|▍                                                                                | 5/1021 [00:00<00:22, 45.45it/s]"
     ]
    },
    {
     "name": "stdout",
     "output_type": "stream",
     "text": [
      "calculating similarity matrix...\n"
     ]
    },
    {
     "name": "stderr",
     "output_type": "stream",
     "text": [
      "100%|█████████████████████████████████████████████████████████████████████████████| 1021/1021 [00:08<00:00, 120.27it/s]\n"
     ]
    },
    {
     "name": "stdout",
     "output_type": "stream",
     "text": [
      "TRAN Diversity: 90.50525476271005 (8.8644%)\n",
      "('sst2', 'ChangeName')\n",
      "calculating BERTScores...\n",
      "TRAN vs. ORIG BERTScore 0.9929758310317993\n",
      "calculating BLEURT Scores...\n"
     ]
    },
    {
     "name": "stderr",
     "output_type": "stream",
     "text": [
      " 50%|██████████████████████████████████████████                                          | 3/6 [00:00<00:00, 25.63it/s]"
     ]
    },
    {
     "name": "stdout",
     "output_type": "stream",
     "text": [
      "TRAN vs. ORIG BLEURT Score 0.8721204206347466\n",
      "TRAN TTR_tok: 56.60%\n",
      "TRAN TTR_text: 57.01%\n",
      "getting token embeddings...\n"
     ]
    },
    {
     "name": "stderr",
     "output_type": "stream",
     "text": [
      "7it [00:00, 22.22it/s]                                                                                                 \n"
     ]
    },
    {
     "name": "stdout",
     "output_type": "stream",
     "text": [
      "Using n_components=103\n"
     ]
    },
    {
     "name": "stderr",
     "output_type": "stream",
     "text": [
      "  0%|▍                                                                                | 5/1030 [00:00<00:23, 44.25it/s]"
     ]
    },
    {
     "name": "stdout",
     "output_type": "stream",
     "text": [
      "calculating similarity matrix...\n"
     ]
    },
    {
     "name": "stderr",
     "output_type": "stream",
     "text": [
      "100%|█████████████████████████████████████████████████████████████████████████████| 1030/1030 [00:08<00:00, 119.31it/s]\n"
     ]
    },
    {
     "name": "stdout",
     "output_type": "stream",
     "text": [
      "TRAN Diversity: 90.13988304730171 (8.7514%)\n",
      "('sst2', 'InsertPositivePhrase')\n",
      "calculating BERTScores...\n",
      "TRAN vs. ORIG BERTScore 0.9323141574859619\n",
      "calculating BLEURT Scores...\n"
     ]
    },
    {
     "name": "stderr",
     "output_type": "stream",
     "text": [
      " 50%|██████████████████████████████████████████                                          | 3/6 [00:00<00:00, 22.21it/s]"
     ]
    },
    {
     "name": "stdout",
     "output_type": "stream",
     "text": [
      "TRAN vs. ORIG BLEURT Score -0.5006226711347699\n",
      "TRAN TTR_tok: 31.18%\n",
      "TRAN TTR_text: 29.90%\n",
      "getting token embeddings...\n"
     ]
    },
    {
     "name": "stderr",
     "output_type": "stream",
     "text": [
      "7it [00:00, 21.61it/s]                                                                                                 \n"
     ]
    },
    {
     "name": "stdout",
     "output_type": "stream",
     "text": [
      "Using n_components=185\n"
     ]
    },
    {
     "name": "stderr",
     "output_type": "stream",
     "text": [
      "  0%|▎                                                                                | 6/1854 [00:00<01:33, 19.82it/s]"
     ]
    },
    {
     "name": "stdout",
     "output_type": "stream",
     "text": [
      "calculating similarity matrix...\n"
     ]
    },
    {
     "name": "stderr",
     "output_type": "stream",
     "text": [
      "100%|██████████████████████████████████████████████████████████████████████████████| 1854/1854 [00:46<00:00, 39.99it/s]\n"
     ]
    },
    {
     "name": "stdout",
     "output_type": "stream",
     "text": [
      "TRAN Diversity: 133.8408114698556 (7.2190%)\n",
      "('sst2', 'InsertNegativePhrase')\n",
      "calculating BERTScores...\n",
      "TRAN vs. ORIG BERTScore 0.9288679361343384\n",
      "calculating BLEURT Scores...\n"
     ]
    },
    {
     "name": "stderr",
     "output_type": "stream",
     "text": [
      " 50%|██████████████████████████████████████████                                          | 3/6 [00:00<00:00, 21.90it/s]"
     ]
    },
    {
     "name": "stdout",
     "output_type": "stream",
     "text": [
      "TRAN vs. ORIG BLEURT Score -0.7828999656438828\n",
      "TRAN TTR_tok: 29.56%\n",
      "TRAN TTR_text: 28.25%\n",
      "getting token embeddings...\n"
     ]
    },
    {
     "name": "stderr",
     "output_type": "stream",
     "text": [
      "7it [00:00, 20.17it/s]                                                                                                 \n"
     ]
    },
    {
     "name": "stdout",
     "output_type": "stream",
     "text": [
      "Using n_components=195\n"
     ]
    },
    {
     "name": "stderr",
     "output_type": "stream",
     "text": [
      "  0%|                                                                                 | 2/1952 [00:00<02:42, 11.98it/s]"
     ]
    },
    {
     "name": "stdout",
     "output_type": "stream",
     "text": [
      "calculating similarity matrix...\n"
     ]
    },
    {
     "name": "stderr",
     "output_type": "stream",
     "text": [
      "100%|██████████████████████████████████████████████████████████████████████████████| 1952/1952 [00:49<00:00, 39.32it/s]\n"
     ]
    },
    {
     "name": "stdout",
     "output_type": "stream",
     "text": [
      "TRAN Diversity: 129.17391772686452 (6.6175%)\n",
      "('sst2', 'RandomInsertion')\n",
      "calculating BERTScores...\n",
      "TRAN vs. ORIG BERTScore 0.9558312892913818\n",
      "calculating BLEURT Scores...\n"
     ]
    },
    {
     "name": "stderr",
     "output_type": "stream",
     "text": [
      " 50%|██████████████████████████████████████████                                          | 3/6 [00:00<00:00, 23.44it/s]"
     ]
    },
    {
     "name": "stdout",
     "output_type": "stream",
     "text": [
      "TRAN vs. ORIG BLEURT Score 0.3105431744083762\n",
      "TRAN TTR_tok: 55.45%\n",
      "TRAN TTR_text: 57.55%\n",
      "getting token embeddings...\n"
     ]
    },
    {
     "name": "stderr",
     "output_type": "stream",
     "text": [
      "7it [00:00, 22.88it/s]                                                                                                 \n"
     ]
    },
    {
     "name": "stdout",
     "output_type": "stream",
     "text": [
      "Using n_components=117\n"
     ]
    },
    {
     "name": "stderr",
     "output_type": "stream",
     "text": [
      "  0%|▏                                                                                | 3/1174 [00:00<00:42, 27.52it/s]"
     ]
    },
    {
     "name": "stdout",
     "output_type": "stream",
     "text": [
      "calculating similarity matrix...\n"
     ]
    },
    {
     "name": "stderr",
     "output_type": "stream",
     "text": [
      "100%|██████████████████████████████████████████████████████████████████████████████| 1174/1174 [00:12<00:00, 92.99it/s]\n"
     ]
    },
    {
     "name": "stdout",
     "output_type": "stream",
     "text": [
      "TRAN Diversity: 87.7787479466121 (7.4769%)\n",
      "('sst2', 'AddPositiveLink')\n",
      "calculating BERTScores...\n",
      "TRAN vs. ORIG BERTScore 0.8910642266273499\n",
      "calculating BLEURT Scores...\n"
     ]
    },
    {
     "name": "stderr",
     "output_type": "stream",
     "text": [
      " 50%|██████████████████████████████████████████                                          | 3/6 [00:00<00:00, 19.22it/s]"
     ]
    },
    {
     "name": "stdout",
     "output_type": "stream",
     "text": [
      "TRAN vs. ORIG BLEURT Score -1.053560411632061\n",
      "TRAN TTR_tok: 28.53%\n",
      "TRAN TTR_text: 50.65%\n",
      "getting token embeddings...\n"
     ]
    },
    {
     "name": "stderr",
     "output_type": "stream",
     "text": [
      "7it [00:00, 17.81it/s]                                                                                                 \n"
     ]
    },
    {
     "name": "stdout",
     "output_type": "stream",
     "text": [
      "Using n_components=251\n"
     ]
    },
    {
     "name": "stderr",
     "output_type": "stream",
     "text": [
      "  0%|                                                                                 | 1/2513 [00:00<04:26,  9.43it/s]"
     ]
    },
    {
     "name": "stdout",
     "output_type": "stream",
     "text": [
      "calculating similarity matrix...\n"
     ]
    },
    {
     "name": "stderr",
     "output_type": "stream",
     "text": [
      "100%|██████████████████████████████████████████████████████████████████████████████| 2513/2513 [01:33<00:00, 26.91it/s]\n"
     ]
    },
    {
     "name": "stdout",
     "output_type": "stream",
     "text": [
      "TRAN Diversity: 83.51848053740639 (3.3235%)\n",
      "('sst2', 'AddNegativeLink')\n",
      "calculating BERTScores...\n",
      "TRAN vs. ORIG BERTScore 0.8912330865859985\n",
      "calculating BLEURT Scores...\n"
     ]
    },
    {
     "name": "stderr",
     "output_type": "stream",
     "text": [
      " 50%|██████████████████████████████████████████                                          | 3/6 [00:00<00:00, 18.86it/s]"
     ]
    },
    {
     "name": "stdout",
     "output_type": "stream",
     "text": [
      "TRAN vs. ORIG BLEURT Score -1.1133720073103905\n",
      "TRAN TTR_tok: 28.86%\n",
      "TRAN TTR_text: 50.57%\n",
      "getting token embeddings...\n"
     ]
    },
    {
     "name": "stderr",
     "output_type": "stream",
     "text": [
      "7it [00:00, 18.57it/s]                                                                                                 \n"
     ]
    },
    {
     "name": "stdout",
     "output_type": "stream",
     "text": [
      "Using n_components=253\n"
     ]
    },
    {
     "name": "stderr",
     "output_type": "stream",
     "text": [
      "  0%|                                                                                 | 2/2536 [00:00<03:54, 10.81it/s]"
     ]
    },
    {
     "name": "stdout",
     "output_type": "stream",
     "text": [
      "calculating similarity matrix...\n"
     ]
    },
    {
     "name": "stderr",
     "output_type": "stream",
     "text": [
      "100%|██████████████████████████████████████████████████████████████████████████████| 2536/2536 [01:33<00:00, 26.99it/s]\n"
     ]
    },
    {
     "name": "stdout",
     "output_type": "stream",
     "text": [
      "TRAN Diversity: 84.03362917066966 (3.3136%)\n",
      "('sst2', 'ImportLinkText')\n",
      "calculating BERTScores...\n",
      "TRAN vs. ORIG BERTScore 1.0\n",
      "calculating BLEURT Scores...\n"
     ]
    },
    {
     "name": "stderr",
     "output_type": "stream",
     "text": [
      " 50%|██████████████████████████████████████████                                          | 3/6 [00:00<00:00, 25.20it/s]"
     ]
    },
    {
     "name": "stdout",
     "output_type": "stream",
     "text": [
      "TRAN vs. ORIG BLEURT Score 1.013520868420601\n",
      "TRAN TTR_tok: 55.98%\n",
      "TRAN TTR_text: 56.65%\n",
      "getting token embeddings...\n"
     ]
    },
    {
     "name": "stderr",
     "output_type": "stream",
     "text": [
      "7it [00:00, 23.17it/s]                                                                                                 \n"
     ]
    },
    {
     "name": "stdout",
     "output_type": "stream",
     "text": [
      "Using n_components=102\n"
     ]
    },
    {
     "name": "stderr",
     "output_type": "stream",
     "text": [
      "  1%|▍                                                                                | 6/1020 [00:00<00:16, 60.00it/s]"
     ]
    },
    {
     "name": "stdout",
     "output_type": "stream",
     "text": [
      "calculating similarity matrix...\n"
     ]
    },
    {
     "name": "stderr",
     "output_type": "stream",
     "text": [
      "100%|█████████████████████████████████████████████████████████████████████████████| 1020/1020 [00:08<00:00, 121.94it/s]\n"
     ]
    },
    {
     "name": "stdout",
     "output_type": "stream",
     "text": [
      "TRAN Diversity: 93.68298545724068 (9.1846%)\n",
      "('sst2', 'AddNegation')\n",
      "calculating BERTScores...\n",
      "TRAN vs. ORIG BERTScore 0.9865055084228516\n",
      "calculating BLEURT Scores...\n"
     ]
    },
    {
     "name": "stderr",
     "output_type": "stream",
     "text": [
      " 50%|██████████████████████████████████████████                                          | 3/6 [00:00<00:00, 23.61it/s]"
     ]
    },
    {
     "name": "stdout",
     "output_type": "stream",
     "text": [
      "TRAN vs. ORIG BLEURT Score 0.7008880956098438\n",
      "TRAN TTR_tok: 52.32%\n",
      "TRAN TTR_text: 52.92%\n",
      "getting token embeddings...\n"
     ]
    },
    {
     "name": "stderr",
     "output_type": "stream",
     "text": [
      "7it [00:00, 21.14it/s]                                                                                                 \n"
     ]
    },
    {
     "name": "stdout",
     "output_type": "stream",
     "text": [
      "Using n_components=109\n"
     ]
    },
    {
     "name": "stderr",
     "output_type": "stream",
     "text": [
      "  0%|▎                                                                                | 5/1097 [00:00<00:22, 49.02it/s]"
     ]
    },
    {
     "name": "stdout",
     "output_type": "stream",
     "text": [
      "calculating similarity matrix...\n"
     ]
    },
    {
     "name": "stderr",
     "output_type": "stream",
     "text": [
      "100%|█████████████████████████████████████████████████████████████████████████████| 1097/1097 [00:10<00:00, 107.68it/s]\n"
     ]
    },
    {
     "name": "stdout",
     "output_type": "stream",
     "text": [
      "TRAN Diversity: 92.874753898636 (8.4662%)\n",
      "('sst2', 'RemoveNegation')\n",
      "calculating BERTScores...\n",
      "TRAN vs. ORIG BERTScore 0.9974359273910522\n",
      "calculating BLEURT Scores...\n"
     ]
    },
    {
     "name": "stderr",
     "output_type": "stream",
     "text": [
      " 50%|██████████████████████████████████████████                                          | 3/6 [00:00<00:00, 25.63it/s]"
     ]
    },
    {
     "name": "stdout",
     "output_type": "stream",
     "text": [
      "TRAN vs. ORIG BLEURT Score 0.958335644453764\n",
      "TRAN TTR_tok: 56.42%\n",
      "TRAN TTR_text: 56.77%\n",
      "getting token embeddings...\n"
     ]
    },
    {
     "name": "stderr",
     "output_type": "stream",
     "text": [
      "7it [00:00, 24.91it/s]                                                                                                 \n"
     ]
    },
    {
     "name": "stdout",
     "output_type": "stream",
     "text": [
      "Using n_components=100\n"
     ]
    },
    {
     "name": "stderr",
     "output_type": "stream",
     "text": [
      "  1%|█                                                                               | 13/1005 [00:00<00:18, 52.83it/s]"
     ]
    },
    {
     "name": "stdout",
     "output_type": "stream",
     "text": [
      "calculating similarity matrix...\n"
     ]
    },
    {
     "name": "stderr",
     "output_type": "stream",
     "text": [
      "100%|█████████████████████████████████████████████████████████████████████████████| 1005/1005 [00:08<00:00, 125.60it/s]\n"
     ]
    },
    {
     "name": "stdout",
     "output_type": "stream",
     "text": [
      "TRAN Diversity: 93.95370463049369 (9.3486%)\n",
      "('sst2', 'RandomCharDel')\n",
      "calculating BERTScores...\n",
      "TRAN vs. ORIG BERTScore 0.9468235969543457\n",
      "calculating BLEURT Scores...\n"
     ]
    },
    {
     "name": "stderr",
     "output_type": "stream",
     "text": [
      " 50%|██████████████████████████████████████████                                          | 3/6 [00:00<00:00, 23.80it/s]"
     ]
    },
    {
     "name": "stdout",
     "output_type": "stream",
     "text": [
      "TRAN vs. ORIG BLEURT Score -0.13841328646987677\n",
      "TRAN TTR_tok: 58.51%\n",
      "TRAN TTR_text: 60.02%\n",
      "getting token embeddings...\n"
     ]
    },
    {
     "name": "stderr",
     "output_type": "stream",
     "text": [
      "7it [00:00, 20.95it/s]                                                                                                 \n"
     ]
    },
    {
     "name": "stdout",
     "output_type": "stream",
     "text": [
      "Using n_components=109\n"
     ]
    },
    {
     "name": "stderr",
     "output_type": "stream",
     "text": [
      "  1%|▋                                                                               | 10/1099 [00:00<00:24, 44.29it/s]"
     ]
    },
    {
     "name": "stdout",
     "output_type": "stream",
     "text": [
      "calculating similarity matrix...\n"
     ]
    },
    {
     "name": "stderr",
     "output_type": "stream",
     "text": [
      "100%|█████████████████████████████████████████████████████████████████████████████| 1099/1099 [00:10<00:00, 109.07it/s]\n"
     ]
    },
    {
     "name": "stdout",
     "output_type": "stream",
     "text": [
      "TRAN Diversity: 85.47542830279704 (7.7776%)\n",
      "('sst2', 'RandomCharInsert')\n",
      "calculating BERTScores...\n",
      "TRAN vs. ORIG BERTScore 0.9287893176078796\n",
      "calculating BLEURT Scores...\n"
     ]
    },
    {
     "name": "stderr",
     "output_type": "stream",
     "text": [
      " 50%|██████████████████████████████████████████                                          | 3/6 [00:00<00:00, 23.62it/s]"
     ]
    },
    {
     "name": "stdout",
     "output_type": "stream",
     "text": [
      "TRAN vs. ORIG BLEURT Score -0.4103416407108307\n",
      "TRAN TTR_tok: 57.60%\n",
      "TRAN TTR_text: 59.33%\n",
      "getting token embeddings...\n"
     ]
    },
    {
     "name": "stderr",
     "output_type": "stream",
     "text": [
      "7it [00:00, 22.01it/s]                                                                                                 \n"
     ]
    },
    {
     "name": "stdout",
     "output_type": "stream",
     "text": [
      "Using n_components=121\n"
     ]
    },
    {
     "name": "stderr",
     "output_type": "stream",
     "text": [
      "  1%|▋                                                                               | 10/1210 [00:00<00:27, 42.99it/s]"
     ]
    },
    {
     "name": "stdout",
     "output_type": "stream",
     "text": [
      "calculating similarity matrix...\n"
     ]
    },
    {
     "name": "stderr",
     "output_type": "stream",
     "text": [
      "100%|██████████████████████████████████████████████████████████████████████████████| 1210/1210 [00:12<00:00, 93.24it/s]\n"
     ]
    },
    {
     "name": "stdout",
     "output_type": "stream",
     "text": [
      "TRAN Diversity: 78.35187203998632 (6.4754%)\n",
      "('sst2', 'RandomCharSubst')\n",
      "calculating BERTScores...\n",
      "TRAN vs. ORIG BERTScore 0.9317509531974792\n",
      "calculating BLEURT Scores...\n"
     ]
    },
    {
     "name": "stderr",
     "output_type": "stream",
     "text": [
      " 50%|██████████████████████████████████████████                                          | 3/6 [00:00<00:00, 23.26it/s]"
     ]
    },
    {
     "name": "stdout",
     "output_type": "stream",
     "text": [
      "TRAN vs. ORIG BLEURT Score -0.30039171244949103\n",
      "TRAN TTR_tok: 57.69%\n",
      "TRAN TTR_text: 60.00%\n",
      "getting token embeddings...\n"
     ]
    },
    {
     "name": "stderr",
     "output_type": "stream",
     "text": [
      "7it [00:00, 21.88it/s]                                                                                                 \n"
     ]
    },
    {
     "name": "stdout",
     "output_type": "stream",
     "text": [
      "Using n_components=118\n"
     ]
    },
    {
     "name": "stderr",
     "output_type": "stream",
     "text": [
      "  0%|▎                                                                                | 4/1184 [00:00<00:30, 38.84it/s]"
     ]
    },
    {
     "name": "stdout",
     "output_type": "stream",
     "text": [
      "calculating similarity matrix...\n"
     ]
    },
    {
     "name": "stderr",
     "output_type": "stream",
     "text": [
      "100%|██████████████████████████████████████████████████████████████████████████████| 1184/1184 [00:12<00:00, 95.99it/s]\n"
     ]
    },
    {
     "name": "stdout",
     "output_type": "stream",
     "text": [
      "TRAN Diversity: 81.38637410220673 (6.8738%)\n",
      "('sst2', 'RandomCharSwap')\n",
      "calculating BERTScores...\n",
      "TRAN vs. ORIG BERTScore 0.9303833246231079\n",
      "calculating BLEURT Scores...\n"
     ]
    },
    {
     "name": "stderr",
     "output_type": "stream",
     "text": [
      " 50%|██████████████████████████████████████████                                          | 3/6 [00:00<00:00, 25.42it/s]"
     ]
    },
    {
     "name": "stdout",
     "output_type": "stream",
     "text": [
      "TRAN vs. ORIG BLEURT Score -0.5000430899113417\n",
      "TRAN TTR_tok: 59.02%\n",
      "TRAN TTR_text: 60.84%\n",
      "getting token embeddings...\n"
     ]
    },
    {
     "name": "stderr",
     "output_type": "stream",
     "text": [
      "7it [00:00, 22.36it/s]                                                                                                 \n"
     ]
    },
    {
     "name": "stdout",
     "output_type": "stream",
     "text": [
      "Using n_components=115\n"
     ]
    },
    {
     "name": "stderr",
     "output_type": "stream",
     "text": [
      "  0%|▎                                                                                | 5/1159 [00:00<00:24, 48.08it/s]"
     ]
    },
    {
     "name": "stdout",
     "output_type": "stream",
     "text": [
      "calculating similarity matrix...\n"
     ]
    },
    {
     "name": "stderr",
     "output_type": "stream",
     "text": [
      "100%|██████████████████████████████████████████████████████████████████████████████| 1159/1159 [00:11<00:00, 99.98it/s]\n"
     ]
    },
    {
     "name": "stdout",
     "output_type": "stream",
     "text": [
      "TRAN Diversity: 80.81183685821884 (6.9725%)\n",
      "('sst2', 'RandomSwapQwerty')\n",
      "calculating BERTScores...\n",
      "TRAN vs. ORIG BERTScore 0.9446572661399841\n",
      "calculating BLEURT Scores...\n"
     ]
    },
    {
     "name": "stderr",
     "output_type": "stream",
     "text": [
      " 50%|██████████████████████████████████████████                                          | 3/6 [00:00<00:00, 23.79it/s]"
     ]
    },
    {
     "name": "stdout",
     "output_type": "stream",
     "text": [
      "TRAN vs. ORIG BLEURT Score -0.2153180219233036\n",
      "TRAN TTR_tok: 58.46%\n",
      "TRAN TTR_text: 58.78%\n",
      "getting token embeddings...\n"
     ]
    },
    {
     "name": "stderr",
     "output_type": "stream",
     "text": [
      "7it [00:00, 22.50it/s]                                                                                                 \n"
     ]
    },
    {
     "name": "stdout",
     "output_type": "stream",
     "text": [
      "Using n_components=114\n"
     ]
    },
    {
     "name": "stderr",
     "output_type": "stream",
     "text": [
      "  0%|▎                                                                                | 5/1146 [00:00<00:23, 48.08it/s]"
     ]
    },
    {
     "name": "stdout",
     "output_type": "stream",
     "text": [
      "calculating similarity matrix...\n"
     ]
    },
    {
     "name": "stderr",
     "output_type": "stream",
     "text": [
      "100%|█████████████████████████████████████████████████████████████████████████████| 1146/1146 [00:11<00:00, 101.63it/s]\n"
     ]
    },
    {
     "name": "stdout",
     "output_type": "stream",
     "text": [
      "TRAN Diversity: 79.8622387898854 (6.9688%)\n",
      "('sst2', 'ChangeNumber')\n",
      "calculating BERTScores...\n",
      "TRAN vs. ORIG BERTScore 0.9999079704284668\n",
      "calculating BLEURT Scores...\n"
     ]
    },
    {
     "name": "stderr",
     "output_type": "stream",
     "text": [
      " 50%|██████████████████████████████████████████                                          | 3/6 [00:00<00:00, 25.52it/s]"
     ]
    },
    {
     "name": "stdout",
     "output_type": "stream",
     "text": [
      "TRAN vs. ORIG BLEURT Score 1.0091822338104248\n",
      "TRAN TTR_tok: 55.98%\n",
      "TRAN TTR_text: 56.65%\n",
      "getting token embeddings...\n"
     ]
    },
    {
     "name": "stderr",
     "output_type": "stream",
     "text": [
      "7it [00:00, 23.44it/s]                                                                                                 \n"
     ]
    },
    {
     "name": "stdout",
     "output_type": "stream",
     "text": [
      "Using n_components=102\n"
     ]
    },
    {
     "name": "stderr",
     "output_type": "stream",
     "text": [
      "  1%|▍                                                                                | 6/1020 [00:00<00:18, 53.57it/s]"
     ]
    },
    {
     "name": "stdout",
     "output_type": "stream",
     "text": [
      "calculating similarity matrix...\n"
     ]
    },
    {
     "name": "stderr",
     "output_type": "stream",
     "text": [
      "100%|█████████████████████████████████████████████████████████████████████████████| 1020/1020 [00:08<00:00, 121.43it/s]\n"
     ]
    },
    {
     "name": "stdout",
     "output_type": "stream",
     "text": [
      "TRAN Diversity: 93.62476762358098 (9.1789%)\n",
      "('sst2', 'ChangeSynonym')\n",
      "calculating BERTScores...\n",
      "TRAN vs. ORIG BERTScore 0.9328269958496094\n",
      "calculating BLEURT Scores...\n"
     ]
    },
    {
     "name": "stderr",
     "output_type": "stream",
     "text": [
      " 50%|██████████████████████████████████████████                                          | 3/6 [00:00<00:00, 23.43it/s]"
     ]
    },
    {
     "name": "stdout",
     "output_type": "stream",
     "text": [
      "TRAN vs. ORIG BLEURT Score -0.19432251535356046\n",
      "TRAN TTR_tok: 58.19%\n",
      "TRAN TTR_text: 59.13%\n",
      "getting token embeddings...\n"
     ]
    },
    {
     "name": "stderr",
     "output_type": "stream",
     "text": [
      "7it [00:00, 21.02it/s]                                                                                                 \n"
     ]
    },
    {
     "name": "stdout",
     "output_type": "stream",
     "text": [
      "Using n_components=112\n"
     ]
    },
    {
     "name": "stderr",
     "output_type": "stream",
     "text": [
      "  0%|▎                                                                                | 5/1129 [00:00<00:29, 38.17it/s]"
     ]
    },
    {
     "name": "stdout",
     "output_type": "stream",
     "text": [
      "calculating similarity matrix...\n"
     ]
    },
    {
     "name": "stderr",
     "output_type": "stream",
     "text": [
      "100%|█████████████████████████████████████████████████████████████████████████████| 1129/1129 [00:10<00:00, 104.24it/s]\n"
     ]
    },
    {
     "name": "stdout",
     "output_type": "stream",
     "text": [
      "TRAN Diversity: 78.66529213055358 (6.9677%)\n",
      "('sst2', 'ChangeAntonym')\n",
      "calculating BERTScores...\n",
      "TRAN vs. ORIG BERTScore 0.9439494609832764\n",
      "calculating BLEURT Scores...\n"
     ]
    },
    {
     "name": "stderr",
     "output_type": "stream",
     "text": [
      " 50%|██████████████████████████████████████████                                          | 3/6 [00:00<00:00, 21.73it/s]"
     ]
    },
    {
     "name": "stdout",
     "output_type": "stream",
     "text": [
      "TRAN vs. ORIG BLEURT Score -0.18153294425457717\n",
      "TRAN TTR_tok: 53.68%\n",
      "TRAN TTR_text: 56.18%\n",
      "getting token embeddings...\n"
     ]
    },
    {
     "name": "stderr",
     "output_type": "stream",
     "text": [
      "7it [00:00, 20.35it/s]                                                                                                 \n"
     ]
    },
    {
     "name": "stdout",
     "output_type": "stream",
     "text": [
      "Using n_components=117\n"
     ]
    },
    {
     "name": "stderr",
     "output_type": "stream",
     "text": [
      "  0%|▎                                                                                | 4/1170 [00:00<00:38, 30.08it/s]"
     ]
    },
    {
     "name": "stdout",
     "output_type": "stream",
     "text": [
      "calculating similarity matrix...\n"
     ]
    },
    {
     "name": "stderr",
     "output_type": "stream",
     "text": [
      "100%|██████████████████████████████████████████████████████████████████████████████| 1170/1170 [00:12<00:00, 97.18it/s]\n"
     ]
    },
    {
     "name": "stdout",
     "output_type": "stream",
     "text": [
      "TRAN Diversity: 84.1518662333394 (7.1925%)\n",
      "('sst2', 'ChangeHyponym')\n",
      "calculating BERTScores...\n",
      "TRAN vs. ORIG BERTScore 0.9387704730033875\n",
      "calculating BLEURT Scores...\n"
     ]
    },
    {
     "name": "stderr",
     "output_type": "stream",
     "text": [
      " 50%|██████████████████████████████████████████                                          | 3/6 [00:00<00:00, 23.58it/s]"
     ]
    },
    {
     "name": "stdout",
     "output_type": "stream",
     "text": [
      "TRAN vs. ORIG BLEURT Score -0.323560182005167\n",
      "TRAN TTR_tok: 58.79%\n",
      "TRAN TTR_text: 58.78%\n",
      "getting token embeddings...\n"
     ]
    },
    {
     "name": "stderr",
     "output_type": "stream",
     "text": [
      "7it [00:00, 23.01it/s]                                                                                                 \n"
     ]
    },
    {
     "name": "stdout",
     "output_type": "stream",
     "text": [
      "Using n_components=118\n"
     ]
    },
    {
     "name": "stderr",
     "output_type": "stream",
     "text": [
      "  0%|▎                                                                                | 4/1189 [00:00<00:34, 34.78it/s]"
     ]
    },
    {
     "name": "stdout",
     "output_type": "stream",
     "text": [
      "calculating similarity matrix...\n"
     ]
    },
    {
     "name": "stderr",
     "output_type": "stream",
     "text": [
      "100%|██████████████████████████████████████████████████████████████████████████████| 1189/1189 [00:12<00:00, 95.26it/s]\n"
     ]
    },
    {
     "name": "stdout",
     "output_type": "stream",
     "text": [
      "TRAN Diversity: 84.72153869067277 (7.1254%)\n",
      "('sst2', 'ChangeHypernym')\n",
      "calculating BERTScores...\n",
      "TRAN vs. ORIG BERTScore 0.9358285665512085\n",
      "calculating BLEURT Scores...\n"
     ]
    },
    {
     "name": "stderr",
     "output_type": "stream",
     "text": [
      " 50%|██████████████████████████████████████████                                          | 3/6 [00:00<00:00, 25.41it/s]"
     ]
    },
    {
     "name": "stdout",
     "output_type": "stream",
     "text": [
      "TRAN vs. ORIG BLEURT Score -0.2814127765595913\n",
      "TRAN TTR_tok: 55.35%\n",
      "TRAN TTR_text: 54.53%\n",
      "getting token embeddings...\n"
     ]
    },
    {
     "name": "stderr",
     "output_type": "stream",
     "text": [
      "7it [00:00, 24.30it/s]                                                                                                 \n"
     ]
    },
    {
     "name": "stdout",
     "output_type": "stream",
     "text": [
      "Using n_components=104\n"
     ]
    },
    {
     "name": "stderr",
     "output_type": "stream",
     "text": [
      "  0%|▍                                                                                | 5/1046 [00:00<00:22, 45.87it/s]"
     ]
    },
    {
     "name": "stdout",
     "output_type": "stream",
     "text": [
      "calculating similarity matrix...\n"
     ]
    },
    {
     "name": "stderr",
     "output_type": "stream",
     "text": [
      "100%|█████████████████████████████████████████████████████████████████████████████| 1046/1046 [00:08<00:00, 116.66it/s]\n"
     ]
    },
    {
     "name": "stdout",
     "output_type": "stream",
     "text": [
      "TRAN Diversity: 81.47039537729123 (7.7888%)\n",
      "('sst2', 'WordDeletion')\n",
      "calculating BERTScores...\n",
      "TRAN vs. ORIG BERTScore 0.9441198706626892\n",
      "calculating BLEURT Scores...\n"
     ]
    },
    {
     "name": "stderr",
     "output_type": "stream",
     "text": [
      " 50%|██████████████████████████████████████████                                          | 3/6 [00:00<00:00, 29.11it/s]"
     ]
    },
    {
     "name": "stdout",
     "output_type": "stream",
     "text": [
      "TRAN vs. ORIG BLEURT Score 0.06459559869021177\n",
      "TRAN TTR_tok: 58.91%\n",
      "TRAN TTR_text: 59.57%\n",
      "getting token embeddings...\n"
     ]
    },
    {
     "name": "stderr",
     "output_type": "stream",
     "text": [
      "7it [00:00, 25.18it/s]                                                                                                 \n",
      "  0%|                                                                                          | 0/786 [00:00<?, ?it/s]"
     ]
    },
    {
     "name": "stdout",
     "output_type": "stream",
     "text": [
      "Using n_components=78\n",
      "calculating similarity matrix...\n"
     ]
    },
    {
     "name": "stderr",
     "output_type": "stream",
     "text": [
      "100%|███████████████████████████████████████████████████████████████████████████████| 786/786 [00:04<00:00, 177.06it/s]\n"
     ]
    },
    {
     "name": "stdout",
     "output_type": "stream",
     "text": [
      "TRAN Diversity: 89.43959886917943 (11.3791%)\n",
      "('sst2', 'HomoglyphSwap')\n",
      "calculating BERTScores...\n",
      "TRAN vs. ORIG BERTScore 0.7667348980903625\n",
      "calculating BLEURT Scores...\n"
     ]
    },
    {
     "name": "stderr",
     "output_type": "stream",
     "text": [
      " 50%|██████████████████████████████████████████                                          | 3/6 [00:00<00:00, 18.28it/s]"
     ]
    },
    {
     "name": "stdout",
     "output_type": "stream",
     "text": [
      "TRAN vs. ORIG BLEURT Score -1.5515996199846267\n",
      "TRAN TTR_tok: 25.65%\n",
      "TRAN TTR_text: 71.35%\n",
      "getting token embeddings...\n"
     ]
    },
    {
     "name": "stderr",
     "output_type": "stream",
     "text": [
      "7it [00:00, 16.60it/s]                                                                                                 \n"
     ]
    },
    {
     "name": "stdout",
     "output_type": "stream",
     "text": [
      "Using n_components=138\n"
     ]
    },
    {
     "name": "stderr",
     "output_type": "stream",
     "text": [
      "  0%|▏                                                                                | 4/1388 [00:00<00:42, 32.37it/s]"
     ]
    },
    {
     "name": "stdout",
     "output_type": "stream",
     "text": [
      "calculating similarity matrix...\n"
     ]
    },
    {
     "name": "stderr",
     "output_type": "stream",
     "text": [
      "100%|██████████████████████████████████████████████████████████████████████████████| 1388/1388 [00:18<00:00, 74.66it/s]\n"
     ]
    },
    {
     "name": "stdout",
     "output_type": "stream",
     "text": [
      "TRAN Diversity: 99.39335572643766 (7.1609%)\n",
      "('sst2', 'RandomSwap')\n",
      "calculating BERTScores...\n",
      "TRAN vs. ORIG BERTScore 0.9435201287269592\n",
      "calculating BLEURT Scores...\n"
     ]
    },
    {
     "name": "stderr",
     "output_type": "stream",
     "text": [
      " 50%|██████████████████████████████████████████                                          | 3/6 [00:00<00:00, 25.20it/s]"
     ]
    },
    {
     "name": "stdout",
     "output_type": "stream",
     "text": [
      "TRAN vs. ORIG BLEURT Score 0.2484715146943927\n",
      "TRAN TTR_tok: 55.98%\n",
      "TRAN TTR_text: 56.77%\n",
      "getting token embeddings...\n"
     ]
    },
    {
     "name": "stderr",
     "output_type": "stream",
     "text": [
      "7it [00:00, 22.35it/s]                                                                                                 \n"
     ]
    },
    {
     "name": "stdout",
     "output_type": "stream",
     "text": [
      "Using n_components=102\n"
     ]
    },
    {
     "name": "stderr",
     "output_type": "stream",
     "text": [
      "  0%|▍                                                                                | 5/1020 [00:00<00:22, 45.05it/s]"
     ]
    },
    {
     "name": "stdout",
     "output_type": "stream",
     "text": [
      "calculating similarity matrix...\n"
     ]
    },
    {
     "name": "stderr",
     "output_type": "stream",
     "text": [
      "100%|█████████████████████████████████████████████████████████████████████████████| 1020/1020 [00:08<00:00, 120.91it/s]\n"
     ]
    },
    {
     "name": "stdout",
     "output_type": "stream",
     "text": [
      "TRAN Diversity: 84.99889710799698 (8.3332%)\n",
      "('sst2', 'TextMix')\n",
      "calculating BERTScores...\n",
      "TRAN vs. ORIG BERTScore 0.8916091322898865\n",
      "calculating BLEURT Scores...\n"
     ]
    },
    {
     "name": "stderr",
     "output_type": "stream",
     "text": [
      "\r",
      "  0%|                                                                                            | 0/6 [00:00<?, ?it/s]"
     ]
    },
    {
     "name": "stdout",
     "output_type": "stream",
     "text": [
      "TRAN vs. ORIG BLEURT Score -1.1664927839115262\n",
      "TRAN TTR_tok: 24.49%\n",
      "TRAN TTR_text: 27.85%\n",
      "getting token embeddings...\n"
     ]
    },
    {
     "name": "stderr",
     "output_type": "stream",
     "text": [
      "7it [00:00, 15.57it/s]                                                                                                 \n"
     ]
    },
    {
     "name": "stdout",
     "output_type": "stream",
     "text": [
      "Using n_components=234\n"
     ]
    },
    {
     "name": "stderr",
     "output_type": "stream",
     "text": [
      "  0%|                                                                                 | 2/2340 [00:00<02:45, 14.08it/s]"
     ]
    },
    {
     "name": "stdout",
     "output_type": "stream",
     "text": [
      "calculating similarity matrix...\n"
     ]
    },
    {
     "name": "stderr",
     "output_type": "stream",
     "text": [
      "100%|██████████████████████████████████████████████████████████████████████████████| 2340/2340 [01:15<00:00, 31.07it/s]\n"
     ]
    },
    {
     "name": "stdout",
     "output_type": "stream",
     "text": [
      "TRAN Diversity: 81.68061422546396 (3.4906%)\n",
      "('sst2', 'SentMix')\n",
      "calculating BERTScores...\n",
      "TRAN vs. ORIG BERTScore 0.8899358510971069\n",
      "calculating BLEURT Scores...\n"
     ]
    },
    {
     "name": "stderr",
     "output_type": "stream",
     "text": [
      " 50%|██████████████████████████████████████████                                          | 3/6 [00:00<00:00, 22.21it/s]"
     ]
    },
    {
     "name": "stdout",
     "output_type": "stream",
     "text": [
      "TRAN vs. ORIG BLEURT Score -1.180325057581067\n",
      "TRAN TTR_tok: 24.49%\n",
      "TRAN TTR_text: 28.21%\n",
      "getting token embeddings...\n"
     ]
    },
    {
     "name": "stderr",
     "output_type": "stream",
     "text": [
      "7it [00:00, 19.66it/s]                                                                                                 \n"
     ]
    },
    {
     "name": "stdout",
     "output_type": "stream",
     "text": [
      "Using n_components=234\n"
     ]
    },
    {
     "name": "stderr",
     "output_type": "stream",
     "text": [
      "  0%|                                                                                 | 2/2340 [00:00<02:50, 13.70it/s]"
     ]
    },
    {
     "name": "stdout",
     "output_type": "stream",
     "text": [
      "calculating similarity matrix...\n"
     ]
    },
    {
     "name": "stderr",
     "output_type": "stream",
     "text": [
      "100%|██████████████████████████████████████████████████████████████████████████████| 2340/2340 [01:15<00:00, 30.90it/s]\n"
     ]
    },
    {
     "name": "stdout",
     "output_type": "stream",
     "text": [
      "TRAN Diversity: 83.3496962078697 (3.5620%)\n",
      "('sst2', 'WordMix')\n",
      "calculating BERTScores...\n",
      "TRAN vs. ORIG BERTScore 0.8416668772697449\n",
      "calculating BLEURT Scores...\n"
     ]
    },
    {
     "name": "stderr",
     "output_type": "stream",
     "text": [
      " 33%|████████████████████████████                                                        | 2/6 [00:00<00:00, 18.02it/s]"
     ]
    },
    {
     "name": "stdout",
     "output_type": "stream",
     "text": [
      "TRAN vs. ORIG BLEURT Score -1.46271109521389\n",
      "TRAN TTR_tok: 24.49%\n",
      "TRAN TTR_text: 28.07%\n",
      "getting token embeddings...\n"
     ]
    },
    {
     "name": "stderr",
     "output_type": "stream",
     "text": [
      "7it [00:00, 12.96it/s]                                                                                                 \n"
     ]
    },
    {
     "name": "stdout",
     "output_type": "stream",
     "text": [
      "Using n_components=234\n"
     ]
    },
    {
     "name": "stderr",
     "output_type": "stream",
     "text": [
      "  0%|                                                                                 | 2/2340 [00:00<02:42, 14.39it/s]"
     ]
    },
    {
     "name": "stdout",
     "output_type": "stream",
     "text": [
      "calculating similarity matrix...\n"
     ]
    },
    {
     "name": "stderr",
     "output_type": "stream",
     "text": [
      "100%|██████████████████████████████████████████████████████████████████████████████| 2340/2340 [01:14<00:00, 31.46it/s]\n"
     ]
    },
    {
     "name": "stdout",
     "output_type": "stream",
     "text": [
      "TRAN Diversity: 76.67079461774759 (3.2765%)\n",
      "('ag_news', 'ORIG')\n",
      "calculating BERTScores...\n",
      "TRAN vs. ORIG BERTScore 1.0\n",
      "calculating BLEURT Scores...\n"
     ]
    },
    {
     "name": "stderr",
     "output_type": "stream",
     "text": [
      " 33%|████████████████████████████                                                        | 2/6 [00:00<00:00, 15.66it/s]"
     ]
    },
    {
     "name": "stdout",
     "output_type": "stream",
     "text": [
      "TRAN vs. ORIG BLEURT Score 0.8809914445877075\n",
      "TRAN TTR_tok: 37.12%\n",
      "TRAN TTR_text: 43.71%\n",
      "getting token embeddings...\n"
     ]
    },
    {
     "name": "stderr",
     "output_type": "stream",
     "text": [
      "7it [00:00, 11.37it/s]                                                                                                 \n"
     ]
    },
    {
     "name": "stdout",
     "output_type": "stream",
     "text": [
      "Using n_components=504\n"
     ]
    },
    {
     "name": "stderr",
     "output_type": "stream",
     "text": [
      "\r",
      "  0%|                                                                                         | 0/5049 [00:00<?, ?it/s]"
     ]
    },
    {
     "name": "stdout",
     "output_type": "stream",
     "text": [
      "calculating similarity matrix...\n"
     ]
    },
    {
     "name": "stderr",
     "output_type": "stream",
     "text": [
      "100%|██████████████████████████████████████████████████████████████████████████████| 5049/5049 [10:49<00:00,  7.77it/s]\n"
     ]
    },
    {
     "name": "stdout",
     "output_type": "stream",
     "text": [
      "TRAN Diversity: 85.08892350175513 (1.6853%)\n",
      "('ag_news', 'ExpandContractions')\n",
      "calculating BERTScores...\n",
      "TRAN vs. ORIG BERTScore 0.9999322295188904\n",
      "calculating BLEURT Scores...\n"
     ]
    },
    {
     "name": "stderr",
     "output_type": "stream",
     "text": [
      " 33%|████████████████████████████                                                        | 2/6 [00:00<00:00, 15.75it/s]"
     ]
    },
    {
     "name": "stdout",
     "output_type": "stream",
     "text": [
      "TRAN vs. ORIG BLEURT Score 0.8783232855796814\n",
      "TRAN TTR_tok: 37.12%\n",
      "TRAN TTR_text: 43.66%\n",
      "getting token embeddings...\n"
     ]
    },
    {
     "name": "stderr",
     "output_type": "stream",
     "text": [
      "7it [00:00, 11.49it/s]                                                                                                 \n"
     ]
    },
    {
     "name": "stdout",
     "output_type": "stream",
     "text": [
      "Using n_components=504\n"
     ]
    },
    {
     "name": "stderr",
     "output_type": "stream",
     "text": [
      "\r",
      "  0%|                                                                                         | 0/5041 [00:00<?, ?it/s]"
     ]
    },
    {
     "name": "stdout",
     "output_type": "stream",
     "text": [
      "calculating similarity matrix...\n"
     ]
    },
    {
     "name": "stderr",
     "output_type": "stream",
     "text": [
      "100%|██████████████████████████████████████████████████████████████████████████████| 5041/5041 [10:45<00:00,  7.81it/s]\n"
     ]
    },
    {
     "name": "stdout",
     "output_type": "stream",
     "text": [
      "TRAN Diversity: 85.72616037087481 (1.7006%)\n",
      "('ag_news', 'ContractContractions')\n",
      "calculating BERTScores...\n",
      "TRAN vs. ORIG BERTScore 0.999907910823822\n",
      "calculating BLEURT Scores...\n"
     ]
    },
    {
     "name": "stderr",
     "output_type": "stream",
     "text": [
      " 33%|████████████████████████████                                                        | 2/6 [00:00<00:00, 15.74it/s]"
     ]
    },
    {
     "name": "stdout",
     "output_type": "stream",
     "text": [
      "TRAN vs. ORIG BLEURT Score 0.8737112438678741\n",
      "TRAN TTR_tok: 37.08%\n",
      "TRAN TTR_text: 43.80%\n",
      "getting token embeddings...\n"
     ]
    },
    {
     "name": "stderr",
     "output_type": "stream",
     "text": [
      "7it [00:00, 11.80it/s]                                                                                                 \n"
     ]
    },
    {
     "name": "stdout",
     "output_type": "stream",
     "text": [
      "Using n_components=505\n"
     ]
    },
    {
     "name": "stderr",
     "output_type": "stream",
     "text": [
      "\r",
      "  0%|                                                                                         | 0/5059 [00:00<?, ?it/s]"
     ]
    },
    {
     "name": "stdout",
     "output_type": "stream",
     "text": [
      "calculating similarity matrix...\n"
     ]
    },
    {
     "name": "stderr",
     "output_type": "stream",
     "text": [
      "100%|██████████████████████████████████████████████████████████████████████████████| 5059/5059 [10:49<00:00,  7.78it/s]\n"
     ]
    },
    {
     "name": "stdout",
     "output_type": "stream",
     "text": [
      "TRAN Diversity: 84.84431225129366 (1.6771%)\n",
      "('ag_news', 'Emojify')\n",
      "calculating BERTScores...\n",
      "TRAN vs. ORIG BERTScore 0.9405763745307922\n",
      "calculating BLEURT Scores...\n"
     ]
    },
    {
     "name": "stderr",
     "output_type": "stream",
     "text": [
      " 33%|████████████████████████████                                                        | 2/6 [00:00<00:00, 16.66it/s]"
     ]
    },
    {
     "name": "stdout",
     "output_type": "stream",
     "text": [
      "TRAN vs. ORIG BLEURT Score 0.048164280094206334\n",
      "TRAN TTR_tok: 34.82%\n",
      "TRAN TTR_text: 45.10%\n",
      "getting token embeddings...\n"
     ]
    },
    {
     "name": "stderr",
     "output_type": "stream",
     "text": [
      "7it [00:00, 12.39it/s]                                                                                                 \n"
     ]
    },
    {
     "name": "stdout",
     "output_type": "stream",
     "text": [
      "Using n_components=503\n"
     ]
    },
    {
     "name": "stderr",
     "output_type": "stream",
     "text": [
      "  0%|                                                                                 | 1/5032 [00:00<21:53,  3.83it/s]"
     ]
    },
    {
     "name": "stdout",
     "output_type": "stream",
     "text": [
      "calculating similarity matrix...\n"
     ]
    },
    {
     "name": "stderr",
     "output_type": "stream",
     "text": [
      "100%|██████████████████████████████████████████████████████████████████████████████| 5032/5032 [10:48<00:00,  7.76it/s]\n"
     ]
    },
    {
     "name": "stdout",
     "output_type": "stream",
     "text": [
      "TRAN Diversity: 87.38075673568144 (1.7365%)\n",
      "('ag_news', 'AddPositiveEmoji')\n",
      "calculating BERTScores...\n",
      "TRAN vs. ORIG BERTScore 0.980486273765564\n",
      "calculating BLEURT Scores...\n"
     ]
    },
    {
     "name": "stderr",
     "output_type": "stream",
     "text": [
      " 33%|████████████████████████████                                                        | 2/6 [00:00<00:00, 15.38it/s]"
     ]
    },
    {
     "name": "stdout",
     "output_type": "stream",
     "text": [
      "TRAN vs. ORIG BLEURT Score 0.8040476733446121\n",
      "TRAN TTR_tok: 36.41%\n",
      "TRAN TTR_text: 44.78%\n",
      "getting token embeddings...\n"
     ]
    },
    {
     "name": "stderr",
     "output_type": "stream",
     "text": [
      "7it [00:00, 12.10it/s]                                                                                                 \n"
     ]
    },
    {
     "name": "stdout",
     "output_type": "stream",
     "text": [
      "Using n_components=514\n"
     ]
    },
    {
     "name": "stderr",
     "output_type": "stream",
     "text": [
      "\r",
      "  0%|                                                                                         | 0/5149 [00:00<?, ?it/s]"
     ]
    },
    {
     "name": "stdout",
     "output_type": "stream",
     "text": [
      "calculating similarity matrix...\n"
     ]
    },
    {
     "name": "stderr",
     "output_type": "stream",
     "text": [
      "100%|██████████████████████████████████████████████████████████████████████████████| 5149/5149 [11:27<00:00,  7.49it/s]\n"
     ]
    },
    {
     "name": "stdout",
     "output_type": "stream",
     "text": [
      "TRAN Diversity: 81.64289439823705 (1.5856%)\n",
      "('ag_news', 'AddNegativeEmoji')\n",
      "calculating BERTScores...\n",
      "TRAN vs. ORIG BERTScore 0.9828864336013794\n",
      "calculating BLEURT Scores...\n"
     ]
    },
    {
     "name": "stderr",
     "output_type": "stream",
     "text": [
      " 33%|████████████████████████████                                                        | 2/6 [00:00<00:00, 15.80it/s]"
     ]
    },
    {
     "name": "stdout",
     "output_type": "stream",
     "text": [
      "TRAN vs. ORIG BLEURT Score 0.8040476733446121\n",
      "TRAN TTR_tok: 36.41%\n",
      "TRAN TTR_text: 44.44%\n",
      "getting token embeddings...\n"
     ]
    },
    {
     "name": "stderr",
     "output_type": "stream",
     "text": [
      "7it [00:00, 12.14it/s]                                                                                                 \n"
     ]
    },
    {
     "name": "stdout",
     "output_type": "stream",
     "text": [
      "Using n_components=514\n"
     ]
    },
    {
     "name": "stderr",
     "output_type": "stream",
     "text": [
      "\r",
      "  0%|                                                                                         | 0/5149 [00:00<?, ?it/s]"
     ]
    },
    {
     "name": "stdout",
     "output_type": "stream",
     "text": [
      "calculating similarity matrix...\n"
     ]
    },
    {
     "name": "stderr",
     "output_type": "stream",
     "text": [
      "100%|██████████████████████████████████████████████████████████████████████████████| 5149/5149 [11:28<00:00,  7.48it/s]\n"
     ]
    },
    {
     "name": "stdout",
     "output_type": "stream",
     "text": [
      "TRAN Diversity: 81.64302451497842 (1.5856%)\n",
      "('ag_news', 'AddNeutralEmoji')\n",
      "calculating BERTScores...\n",
      "TRAN vs. ORIG BERTScore 0.9756007194519043\n",
      "calculating BLEURT Scores...\n"
     ]
    },
    {
     "name": "stderr",
     "output_type": "stream",
     "text": [
      " 33%|████████████████████████████                                                        | 2/6 [00:00<00:00, 15.75it/s]"
     ]
    },
    {
     "name": "stdout",
     "output_type": "stream",
     "text": [
      "TRAN vs. ORIG BLEURT Score 0.8042079073190689\n",
      "TRAN TTR_tok: 36.43%\n",
      "TRAN TTR_text: 44.98%\n",
      "getting token embeddings...\n"
     ]
    },
    {
     "name": "stderr",
     "output_type": "stream",
     "text": [
      "7it [00:00, 11.97it/s]                                                                                                 \n"
     ]
    },
    {
     "name": "stdout",
     "output_type": "stream",
     "text": [
      "Using n_components=514\n"
     ]
    },
    {
     "name": "stderr",
     "output_type": "stream",
     "text": [
      "\r",
      "  0%|                                                                                         | 0/5149 [00:00<?, ?it/s]"
     ]
    },
    {
     "name": "stdout",
     "output_type": "stream",
     "text": [
      "calculating similarity matrix...\n"
     ]
    },
    {
     "name": "stderr",
     "output_type": "stream",
     "text": [
      "100%|██████████████████████████████████████████████████████████████████████████████| 5149/5149 [11:23<00:00,  7.54it/s]\n"
     ]
    },
    {
     "name": "stdout",
     "output_type": "stream",
     "text": [
      "TRAN Diversity: 81.80000174582413 (1.5887%)\n",
      "('ag_news', 'Demojify')\n",
      "calculating BERTScores...\n",
      "TRAN vs. ORIG BERTScore 1.0\n",
      "calculating BLEURT Scores...\n"
     ]
    },
    {
     "name": "stderr",
     "output_type": "stream",
     "text": [
      " 33%|████████████████████████████                                                        | 2/6 [00:00<00:00, 15.59it/s]"
     ]
    },
    {
     "name": "stdout",
     "output_type": "stream",
     "text": [
      "TRAN vs. ORIG BLEURT Score 0.8809914445877075\n",
      "TRAN TTR_tok: 37.12%\n",
      "TRAN TTR_text: 43.71%\n",
      "getting token embeddings...\n"
     ]
    },
    {
     "name": "stderr",
     "output_type": "stream",
     "text": [
      "7it [00:00, 11.27it/s]                                                                                                 \n"
     ]
    },
    {
     "name": "stdout",
     "output_type": "stream",
     "text": [
      "Using n_components=504\n"
     ]
    },
    {
     "name": "stderr",
     "output_type": "stream",
     "text": [
      "\r",
      "  0%|                                                                                         | 0/5049 [00:00<?, ?it/s]"
     ]
    },
    {
     "name": "stdout",
     "output_type": "stream",
     "text": [
      "calculating similarity matrix...\n"
     ]
    },
    {
     "name": "stderr",
     "output_type": "stream",
     "text": [
      "100%|██████████████████████████████████████████████████████████████████████████████| 5049/5049 [10:54<00:00,  7.71it/s]\n"
     ]
    },
    {
     "name": "stdout",
     "output_type": "stream",
     "text": [
      "TRAN Diversity: 85.088989742714 (1.6853%)\n",
      "('ag_news', 'RemovePositiveEmoji')\n",
      "calculating BERTScores...\n",
      "TRAN vs. ORIG BERTScore 1.0\n",
      "calculating BLEURT Scores...\n"
     ]
    },
    {
     "name": "stderr",
     "output_type": "stream",
     "text": [
      " 33%|████████████████████████████                                                        | 2/6 [00:00<00:00, 15.60it/s]"
     ]
    },
    {
     "name": "stdout",
     "output_type": "stream",
     "text": [
      "TRAN vs. ORIG BLEURT Score 0.8809914445877075\n",
      "TRAN TTR_tok: 37.12%\n",
      "TRAN TTR_text: 43.71%\n",
      "getting token embeddings...\n"
     ]
    },
    {
     "name": "stderr",
     "output_type": "stream",
     "text": [
      "7it [00:00, 11.51it/s]                                                                                                 \n"
     ]
    },
    {
     "name": "stdout",
     "output_type": "stream",
     "text": [
      "Using n_components=504\n"
     ]
    },
    {
     "name": "stderr",
     "output_type": "stream",
     "text": [
      "\r",
      "  0%|                                                                                         | 0/5049 [00:00<?, ?it/s]"
     ]
    },
    {
     "name": "stdout",
     "output_type": "stream",
     "text": [
      "calculating similarity matrix...\n"
     ]
    },
    {
     "name": "stderr",
     "output_type": "stream",
     "text": [
      "100%|██████████████████████████████████████████████████████████████████████████████| 5049/5049 [10:48<00:00,  7.79it/s]\n"
     ]
    },
    {
     "name": "stdout",
     "output_type": "stream",
     "text": [
      "TRAN Diversity: 85.08891322217195 (1.6853%)\n",
      "('ag_news', 'RemoveNegativeEmoji')\n",
      "calculating BERTScores...\n",
      "TRAN vs. ORIG BERTScore 1.0\n",
      "calculating BLEURT Scores...\n"
     ]
    },
    {
     "name": "stderr",
     "output_type": "stream",
     "text": [
      " 33%|████████████████████████████                                                        | 2/6 [00:00<00:00, 15.74it/s]"
     ]
    },
    {
     "name": "stdout",
     "output_type": "stream",
     "text": [
      "TRAN vs. ORIG BLEURT Score 0.8809914445877075\n",
      "TRAN TTR_tok: 37.12%\n",
      "TRAN TTR_text: 43.71%\n",
      "getting token embeddings...\n"
     ]
    },
    {
     "name": "stderr",
     "output_type": "stream",
     "text": [
      "7it [00:00, 11.55it/s]                                                                                                 \n"
     ]
    },
    {
     "name": "stdout",
     "output_type": "stream",
     "text": [
      "Using n_components=504\n"
     ]
    },
    {
     "name": "stderr",
     "output_type": "stream",
     "text": [
      "\r",
      "  0%|                                                                                         | 0/5049 [00:00<?, ?it/s]"
     ]
    },
    {
     "name": "stdout",
     "output_type": "stream",
     "text": [
      "calculating similarity matrix...\n"
     ]
    },
    {
     "name": "stderr",
     "output_type": "stream",
     "text": [
      "100%|██████████████████████████████████████████████████████████████████████████████| 5049/5049 [10:46<00:00,  7.81it/s]\n"
     ]
    },
    {
     "name": "stdout",
     "output_type": "stream",
     "text": [
      "TRAN Diversity: 85.08878484283326 (1.6853%)\n",
      "('ag_news', 'RemoveNeutralEmoji')\n",
      "calculating BERTScores...\n",
      "TRAN vs. ORIG BERTScore 1.0\n",
      "calculating BLEURT Scores...\n"
     ]
    },
    {
     "name": "stderr",
     "output_type": "stream",
     "text": [
      " 33%|████████████████████████████                                                        | 2/6 [00:00<00:00, 15.75it/s]"
     ]
    },
    {
     "name": "stdout",
     "output_type": "stream",
     "text": [
      "TRAN vs. ORIG BLEURT Score 0.8809914445877075\n",
      "TRAN TTR_tok: 37.12%\n",
      "TRAN TTR_text: 43.71%\n",
      "getting token embeddings...\n"
     ]
    },
    {
     "name": "stderr",
     "output_type": "stream",
     "text": [
      "7it [00:00, 11.89it/s]                                                                                                 \n"
     ]
    },
    {
     "name": "stdout",
     "output_type": "stream",
     "text": [
      "Using n_components=504\n"
     ]
    },
    {
     "name": "stderr",
     "output_type": "stream",
     "text": [
      "\r",
      "  0%|                                                                                         | 0/5049 [00:00<?, ?it/s]"
     ]
    },
    {
     "name": "stdout",
     "output_type": "stream",
     "text": [
      "calculating similarity matrix...\n"
     ]
    },
    {
     "name": "stderr",
     "output_type": "stream",
     "text": [
      "100%|██████████████████████████████████████████████████████████████████████████████| 5049/5049 [10:52<00:00,  7.73it/s]\n"
     ]
    },
    {
     "name": "stdout",
     "output_type": "stream",
     "text": [
      "TRAN Diversity: 85.08908646641683 (1.6853%)\n",
      "('ag_news', 'ChangeLocation')\n",
      "calculating BERTScores...\n",
      "TRAN vs. ORIG BERTScore 0.9630802869796753\n",
      "calculating BLEURT Scores...\n"
     ]
    },
    {
     "name": "stderr",
     "output_type": "stream",
     "text": [
      " 33%|████████████████████████████                                                        | 2/6 [00:00<00:00, 16.53it/s]"
     ]
    },
    {
     "name": "stdout",
     "output_type": "stream",
     "text": [
      "TRAN vs. ORIG BLEURT Score 0.003463907204568386\n",
      "TRAN TTR_tok: 39.65%\n",
      "TRAN TTR_text: 46.37%\n",
      "getting token embeddings...\n"
     ]
    },
    {
     "name": "stderr",
     "output_type": "stream",
     "text": [
      "7it [00:00, 12.59it/s]                                                                                                 \n"
     ]
    },
    {
     "name": "stdout",
     "output_type": "stream",
     "text": [
      "Using n_components=522\n"
     ]
    },
    {
     "name": "stderr",
     "output_type": "stream",
     "text": [
      "  0%|                                                                                 | 1/5221 [00:00<23:50,  3.65it/s]"
     ]
    },
    {
     "name": "stdout",
     "output_type": "stream",
     "text": [
      "calculating similarity matrix...\n"
     ]
    },
    {
     "name": "stderr",
     "output_type": "stream",
     "text": [
      "100%|██████████████████████████████████████████████████████████████████████████████| 5221/5221 [11:55<00:00,  7.30it/s]\n"
     ]
    },
    {
     "name": "stdout",
     "output_type": "stream",
     "text": [
      "TRAN Diversity: 78.05633024901579 (1.4950%)\n",
      "('ag_news', 'ChangeName')\n",
      "calculating BERTScores...\n",
      "TRAN vs. ORIG BERTScore 0.9581118822097778\n",
      "calculating BLEURT Scores...\n"
     ]
    },
    {
     "name": "stderr",
     "output_type": "stream",
     "text": [
      " 33%|████████████████████████████                                                        | 2/6 [00:00<00:00, 15.74it/s]"
     ]
    },
    {
     "name": "stdout",
     "output_type": "stream",
     "text": [
      "TRAN vs. ORIG BLEURT Score 0.04720521867275238\n",
      "TRAN TTR_tok: 40.99%\n",
      "TRAN TTR_text: 47.99%\n",
      "getting token embeddings...\n"
     ]
    },
    {
     "name": "stderr",
     "output_type": "stream",
     "text": [
      "7it [00:00, 11.56it/s]                                                                                                 \n"
     ]
    },
    {
     "name": "stdout",
     "output_type": "stream",
     "text": [
      "Using n_components=527\n"
     ]
    },
    {
     "name": "stderr",
     "output_type": "stream",
     "text": [
      "\r",
      "  0%|                                                                                         | 0/5272 [00:00<?, ?it/s]"
     ]
    },
    {
     "name": "stdout",
     "output_type": "stream",
     "text": [
      "calculating similarity matrix...\n"
     ]
    },
    {
     "name": "stderr",
     "output_type": "stream",
     "text": [
      "100%|██████████████████████████████████████████████████████████████████████████████| 5272/5272 [12:20<00:00,  7.12it/s]\n"
     ]
    },
    {
     "name": "stdout",
     "output_type": "stream",
     "text": [
      "TRAN Diversity: 77.25971104264737 (1.4655%)\n",
      "('ag_news', 'InsertPositivePhrase')\n",
      "calculating BERTScores...\n",
      "TRAN vs. ORIG BERTScore 0.9837526679039001\n",
      "calculating BLEURT Scores...\n"
     ]
    },
    {
     "name": "stderr",
     "output_type": "stream",
     "text": [
      " 33%|████████████████████████████                                                        | 2/6 [00:00<00:00, 15.42it/s]"
     ]
    },
    {
     "name": "stdout",
     "output_type": "stream",
     "text": [
      "TRAN vs. ORIG BLEURT Score 0.34976876236498355\n",
      "TRAN TTR_tok: 31.93%\n",
      "TRAN TTR_text: 37.09%\n",
      "getting token embeddings...\n"
     ]
    },
    {
     "name": "stderr",
     "output_type": "stream",
     "text": [
      "7it [00:00, 11.33it/s]                                                                                                 \n"
     ]
    },
    {
     "name": "stdout",
     "output_type": "stream",
     "text": [
      "Using n_components=588\n"
     ]
    },
    {
     "name": "stderr",
     "output_type": "stream",
     "text": [
      "\r",
      "  0%|                                                                                         | 0/5885 [00:00<?, ?it/s]"
     ]
    },
    {
     "name": "stdout",
     "output_type": "stream",
     "text": [
      "calculating similarity matrix...\n"
     ]
    },
    {
     "name": "stderr",
     "output_type": "stream",
     "text": [
      "100%|██████████████████████████████████████████████████████████████████████████████| 5885/5885 [16:38<00:00,  5.89it/s]\n"
     ]
    },
    {
     "name": "stdout",
     "output_type": "stream",
     "text": [
      "TRAN Diversity: 93.58013851153383 (1.5901%)\n",
      "('ag_news', 'InsertNegativePhrase')\n",
      "calculating BERTScores...\n",
      "TRAN vs. ORIG BERTScore 0.9815481305122375\n",
      "calculating BLEURT Scores...\n"
     ]
    },
    {
     "name": "stderr",
     "output_type": "stream",
     "text": [
      " 33%|████████████████████████████                                                        | 2/6 [00:00<00:00, 15.15it/s]"
     ]
    },
    {
     "name": "stdout",
     "output_type": "stream",
     "text": [
      "TRAN vs. ORIG BLEURT Score 0.27727632734924557\n",
      "TRAN TTR_tok: 31.29%\n",
      "TRAN TTR_text: 36.27%\n",
      "getting token embeddings...\n"
     ]
    },
    {
     "name": "stderr",
     "output_type": "stream",
     "text": [
      "7it [00:00, 11.95it/s]                                                                                                 \n"
     ]
    },
    {
     "name": "stdout",
     "output_type": "stream",
     "text": [
      "Using n_components=600\n"
     ]
    },
    {
     "name": "stderr",
     "output_type": "stream",
     "text": [
      "\r",
      "  0%|                                                                                         | 0/6008 [00:00<?, ?it/s]"
     ]
    },
    {
     "name": "stdout",
     "output_type": "stream",
     "text": [
      "calculating similarity matrix...\n"
     ]
    },
    {
     "name": "stderr",
     "output_type": "stream",
     "text": [
      "100%|██████████████████████████████████████████████████████████████████████████████| 6008/6008 [17:37<00:00,  5.68it/s]\n"
     ]
    },
    {
     "name": "stdout",
     "output_type": "stream",
     "text": [
      "TRAN Diversity: 96.49435004765476 (1.6061%)\n",
      "('ag_news', 'RandomInsertion')\n",
      "calculating BERTScores...\n",
      "TRAN vs. ORIG BERTScore 0.9874025583267212\n",
      "calculating BLEURT Scores...\n"
     ]
    },
    {
     "name": "stderr",
     "output_type": "stream",
     "text": [
      " 33%|████████████████████████████                                                        | 2/6 [00:00<00:00, 15.75it/s]"
     ]
    },
    {
     "name": "stdout",
     "output_type": "stream",
     "text": [
      "TRAN vs. ORIG BLEURT Score 0.664450554549694\n",
      "TRAN TTR_tok: 37.46%\n",
      "TRAN TTR_text: 44.12%\n",
      "getting token embeddings...\n"
     ]
    },
    {
     "name": "stderr",
     "output_type": "stream",
     "text": [
      "7it [00:00, 11.61it/s]                                                                                                 \n"
     ]
    },
    {
     "name": "stdout",
     "output_type": "stream",
     "text": [
      "Using n_components=519\n"
     ]
    },
    {
     "name": "stderr",
     "output_type": "stream",
     "text": [
      "\r",
      "  0%|                                                                                         | 0/5192 [00:00<?, ?it/s]"
     ]
    },
    {
     "name": "stdout",
     "output_type": "stream",
     "text": [
      "calculating similarity matrix...\n"
     ]
    },
    {
     "name": "stderr",
     "output_type": "stream",
     "text": [
      "100%|██████████████████████████████████████████████████████████████████████████████| 5192/5192 [11:45<00:00,  7.36it/s]\n"
     ]
    },
    {
     "name": "stdout",
     "output_type": "stream",
     "text": [
      "TRAN Diversity: 83.03288335262505 (1.5992%)\n",
      "('ag_news', 'AddPositiveLink')\n",
      "calculating BERTScores...\n",
      "TRAN vs. ORIG BERTScore 0.9642075896263123\n",
      "calculating BLEURT Scores...\n"
     ]
    },
    {
     "name": "stderr",
     "output_type": "stream",
     "text": [
      " 33%|████████████████████████████                                                        | 2/6 [00:00<00:00, 15.21it/s]"
     ]
    },
    {
     "name": "stdout",
     "output_type": "stream",
     "text": [
      "TRAN vs. ORIG BLEURT Score 0.2566068742796779\n",
      "TRAN TTR_tok: 30.59%\n",
      "TRAN TTR_text: 43.05%\n",
      "getting token embeddings...\n"
     ]
    },
    {
     "name": "stderr",
     "output_type": "stream",
     "text": [
      "7it [00:00, 11.30it/s]                                                                                                 \n"
     ]
    },
    {
     "name": "stdout",
     "output_type": "stream",
     "text": [
      "Using n_components=651\n"
     ]
    },
    {
     "name": "stderr",
     "output_type": "stream",
     "text": [
      "\r",
      "  0%|                                                                                         | 0/6518 [00:00<?, ?it/s]"
     ]
    },
    {
     "name": "stdout",
     "output_type": "stream",
     "text": [
      "calculating similarity matrix...\n"
     ]
    },
    {
     "name": "stderr",
     "output_type": "stream",
     "text": [
      "100%|██████████████████████████████████████████████████████████████████████████████| 6518/6518 [24:45<00:00,  4.39it/s]\n"
     ]
    },
    {
     "name": "stdout",
     "output_type": "stream",
     "text": [
      "TRAN Diversity: 94.63205586187237 (1.4519%)\n",
      "('ag_news', 'AddNegativeLink')\n",
      "calculating BERTScores...\n",
      "TRAN vs. ORIG BERTScore 0.9638649225234985\n",
      "calculating BLEURT Scores...\n"
     ]
    },
    {
     "name": "stderr",
     "output_type": "stream",
     "text": [
      " 33%|████████████████████████████                                                        | 2/6 [00:00<00:00, 15.27it/s]"
     ]
    },
    {
     "name": "stdout",
     "output_type": "stream",
     "text": [
      "TRAN vs. ORIG BLEURT Score 0.24676764965057374\n",
      "TRAN TTR_tok: 30.89%\n",
      "TRAN TTR_text: 43.02%\n",
      "getting token embeddings...\n"
     ]
    },
    {
     "name": "stderr",
     "output_type": "stream",
     "text": [
      "7it [00:00, 11.34it/s]                                                                                                 \n"
     ]
    },
    {
     "name": "stdout",
     "output_type": "stream",
     "text": [
      "Using n_components=657\n"
     ]
    },
    {
     "name": "stderr",
     "output_type": "stream",
     "text": [
      "\r",
      "  0%|                                                                                         | 0/6572 [00:00<?, ?it/s]"
     ]
    },
    {
     "name": "stdout",
     "output_type": "stream",
     "text": [
      "calculating similarity matrix...\n"
     ]
    },
    {
     "name": "stderr",
     "output_type": "stream",
     "text": [
      "100%|██████████████████████████████████████████████████████████████████████████████| 6572/6572 [25:35<00:00,  4.28it/s]\n"
     ]
    },
    {
     "name": "stdout",
     "output_type": "stream",
     "text": [
      "TRAN Diversity: 93.30098050419348 (1.4197%)\n",
      "('ag_news', 'ImportLinkText')\n",
      "calculating BERTScores...\n",
      "TRAN vs. ORIG BERTScore 1.0\n",
      "calculating BLEURT Scores...\n"
     ]
    },
    {
     "name": "stderr",
     "output_type": "stream",
     "text": [
      " 33%|████████████████████████████                                                        | 2/6 [00:00<00:00, 15.75it/s]"
     ]
    },
    {
     "name": "stdout",
     "output_type": "stream",
     "text": [
      "TRAN vs. ORIG BLEURT Score 0.8809914445877075\n",
      "TRAN TTR_tok: 37.12%\n",
      "TRAN TTR_text: 43.71%\n",
      "getting token embeddings...\n"
     ]
    },
    {
     "name": "stderr",
     "output_type": "stream",
     "text": [
      "7it [00:00, 11.45it/s]                                                                                                 \n"
     ]
    },
    {
     "name": "stdout",
     "output_type": "stream",
     "text": [
      "Using n_components=504\n"
     ]
    },
    {
     "name": "stderr",
     "output_type": "stream",
     "text": [
      "\r",
      "  0%|                                                                                         | 0/5049 [00:00<?, ?it/s]"
     ]
    },
    {
     "name": "stdout",
     "output_type": "stream",
     "text": [
      "calculating similarity matrix...\n"
     ]
    },
    {
     "name": "stderr",
     "output_type": "stream",
     "text": [
      "100%|██████████████████████████████████████████████████████████████████████████████| 5049/5049 [10:48<00:00,  7.79it/s]\n"
     ]
    },
    {
     "name": "stdout",
     "output_type": "stream",
     "text": [
      "TRAN Diversity: 85.0890204811855 (1.6853%)\n",
      "('ag_news', 'AddNegation')\n",
      "calculating BERTScores...\n",
      "TRAN vs. ORIG BERTScore 0.989859938621521\n",
      "calculating BLEURT Scores...\n"
     ]
    },
    {
     "name": "stderr",
     "output_type": "stream",
     "text": [
      " 33%|████████████████████████████                                                        | 2/6 [00:00<00:00, 16.25it/s]"
     ]
    },
    {
     "name": "stdout",
     "output_type": "stream",
     "text": [
      "TRAN vs. ORIG BLEURT Score 0.5112703014910221\n",
      "TRAN TTR_tok: 35.27%\n",
      "TRAN TTR_text: 41.73%\n",
      "getting token embeddings...\n"
     ]
    },
    {
     "name": "stderr",
     "output_type": "stream",
     "text": [
      "7it [00:00, 11.94it/s]                                                                                                 \n"
     ]
    },
    {
     "name": "stdout",
     "output_type": "stream",
     "text": [
      "Using n_components=529\n"
     ]
    },
    {
     "name": "stderr",
     "output_type": "stream",
     "text": [
      "\r",
      "  0%|                                                                                         | 0/5294 [00:00<?, ?it/s]"
     ]
    },
    {
     "name": "stdout",
     "output_type": "stream",
     "text": [
      "calculating similarity matrix...\n"
     ]
    },
    {
     "name": "stderr",
     "output_type": "stream",
     "text": [
      "100%|██████████████████████████████████████████████████████████████████████████████| 5294/5294 [12:24<00:00,  7.11it/s]\n"
     ]
    },
    {
     "name": "stdout",
     "output_type": "stream",
     "text": [
      "TRAN Diversity: 84.86579366144895 (1.6031%)\n",
      "('ag_news', 'RemoveNegation')\n",
      "calculating BERTScores...\n",
      "TRAN vs. ORIG BERTScore 0.9992507696151733\n",
      "calculating BLEURT Scores...\n"
     ]
    },
    {
     "name": "stderr",
     "output_type": "stream",
     "text": [
      " 33%|████████████████████████████                                                        | 2/6 [00:00<00:00, 15.75it/s]"
     ]
    },
    {
     "name": "stdout",
     "output_type": "stream",
     "text": [
      "TRAN vs. ORIG BLEURT Score 0.8427998232841492\n",
      "TRAN TTR_tok: 37.13%\n",
      "TRAN TTR_text: 43.73%\n",
      "getting token embeddings...\n"
     ]
    },
    {
     "name": "stderr",
     "output_type": "stream",
     "text": [
      "7it [00:00, 11.44it/s]                                                                                                 \n"
     ]
    },
    {
     "name": "stdout",
     "output_type": "stream",
     "text": [
      "Using n_components=503\n"
     ]
    },
    {
     "name": "stderr",
     "output_type": "stream",
     "text": [
      "\r",
      "  0%|                                                                                         | 0/5034 [00:00<?, ?it/s]"
     ]
    },
    {
     "name": "stdout",
     "output_type": "stream",
     "text": [
      "calculating similarity matrix...\n"
     ]
    },
    {
     "name": "stderr",
     "output_type": "stream",
     "text": [
      "100%|██████████████████████████████████████████████████████████████████████████████| 5034/5034 [10:45<00:00,  7.80it/s]\n"
     ]
    },
    {
     "name": "stdout",
     "output_type": "stream",
     "text": [
      "TRAN Diversity: 85.65285018578001 (1.7015%)\n",
      "('ag_news', 'RandomCharDel')\n",
      "calculating BERTScores...\n",
      "TRAN vs. ORIG BERTScore 0.9896296858787537\n",
      "calculating BLEURT Scores...\n"
     ]
    },
    {
     "name": "stderr",
     "output_type": "stream",
     "text": [
      " 33%|████████████████████████████                                                        | 2/6 [00:00<00:00, 15.62it/s]"
     ]
    },
    {
     "name": "stdout",
     "output_type": "stream",
     "text": [
      "TRAN vs. ORIG BLEURT Score 0.5714500696957111\n",
      "TRAN TTR_tok: 38.01%\n",
      "TRAN TTR_text: 44.85%\n",
      "getting token embeddings...\n"
     ]
    },
    {
     "name": "stderr",
     "output_type": "stream",
     "text": [
      "7it [00:00, 11.76it/s]                                                                                                 \n"
     ]
    },
    {
     "name": "stdout",
     "output_type": "stream",
     "text": [
      "Using n_components=513\n"
     ]
    },
    {
     "name": "stderr",
     "output_type": "stream",
     "text": [
      "\r",
      "  0%|                                                                                         | 0/5138 [00:00<?, ?it/s]"
     ]
    },
    {
     "name": "stdout",
     "output_type": "stream",
     "text": [
      "calculating similarity matrix...\n"
     ]
    },
    {
     "name": "stderr",
     "output_type": "stream",
     "text": [
      "100%|██████████████████████████████████████████████████████████████████████████████| 5138/5138 [11:27<00:00,  7.47it/s]\n"
     ]
    },
    {
     "name": "stdout",
     "output_type": "stream",
     "text": [
      "TRAN Diversity: 83.05001325800524 (1.6164%)\n",
      "('ag_news', 'RandomCharInsert')\n",
      "calculating BERTScores...\n",
      "TRAN vs. ORIG BERTScore 0.985090970993042\n",
      "calculating BLEURT Scores...\n"
     ]
    },
    {
     "name": "stderr",
     "output_type": "stream",
     "text": [
      " 33%|████████████████████████████                                                        | 2/6 [00:00<00:00, 15.74it/s]"
     ]
    },
    {
     "name": "stdout",
     "output_type": "stream",
     "text": [
      "TRAN vs. ORIG BLEURT Score 0.48463087555021045\n",
      "TRAN TTR_tok: 37.86%\n",
      "TRAN TTR_text: 44.75%\n",
      "getting token embeddings...\n"
     ]
    },
    {
     "name": "stderr",
     "output_type": "stream",
     "text": [
      "7it [00:00, 11.61it/s]                                                                                                 \n"
     ]
    },
    {
     "name": "stdout",
     "output_type": "stream",
     "text": [
      "Using n_components=525\n"
     ]
    },
    {
     "name": "stderr",
     "output_type": "stream",
     "text": [
      "\r",
      "  0%|                                                                                         | 0/5256 [00:00<?, ?it/s]"
     ]
    },
    {
     "name": "stdout",
     "output_type": "stream",
     "text": [
      "calculating similarity matrix...\n"
     ]
    },
    {
     "name": "stderr",
     "output_type": "stream",
     "text": [
      "100%|██████████████████████████████████████████████████████████████████████████████| 5256/5256 [12:05<00:00,  7.24it/s]\n"
     ]
    },
    {
     "name": "stdout",
     "output_type": "stream",
     "text": [
      "TRAN Diversity: 82.5907546765552 (1.5714%)\n",
      "('ag_news', 'RandomCharSubst')\n",
      "calculating BERTScores...\n",
      "TRAN vs. ORIG BERTScore 0.9843415021896362\n",
      "calculating BLEURT Scores...\n"
     ]
    },
    {
     "name": "stderr",
     "output_type": "stream",
     "text": [
      " 33%|████████████████████████████                                                        | 2/6 [00:00<00:00, 15.72it/s]"
     ]
    },
    {
     "name": "stdout",
     "output_type": "stream",
     "text": [
      "TRAN vs. ORIG BLEURT Score 0.4837501134723425\n",
      "TRAN TTR_tok: 37.79%\n",
      "TRAN TTR_text: 44.74%\n",
      "getting token embeddings...\n"
     ]
    },
    {
     "name": "stderr",
     "output_type": "stream",
     "text": [
      "7it [00:00, 11.96it/s]                                                                                                 \n"
     ]
    },
    {
     "name": "stdout",
     "output_type": "stream",
     "text": [
      "Using n_components=521\n"
     ]
    },
    {
     "name": "stderr",
     "output_type": "stream",
     "text": [
      "\r",
      "  0%|                                                                                         | 0/5216 [00:00<?, ?it/s]"
     ]
    },
    {
     "name": "stdout",
     "output_type": "stream",
     "text": [
      "calculating similarity matrix...\n"
     ]
    },
    {
     "name": "stderr",
     "output_type": "stream",
     "text": [
      "100%|██████████████████████████████████████████████████████████████████████████████| 5216/5216 [11:48<00:00,  7.37it/s]\n"
     ]
    },
    {
     "name": "stdout",
     "output_type": "stream",
     "text": [
      "TRAN Diversity: 81.80205566723812 (1.5683%)\n",
      "('ag_news', 'RandomCharSwap')\n",
      "calculating BERTScores...\n",
      "TRAN vs. ORIG BERTScore 0.9860624670982361\n",
      "calculating BLEURT Scores...\n"
     ]
    },
    {
     "name": "stderr",
     "output_type": "stream",
     "text": [
      " 33%|████████████████████████████                                                        | 2/6 [00:00<00:00, 15.75it/s]"
     ]
    },
    {
     "name": "stdout",
     "output_type": "stream",
     "text": [
      "TRAN vs. ORIG BLEURT Score 0.47180625703185797\n",
      "TRAN TTR_tok: 38.01%\n",
      "TRAN TTR_text: 45.19%\n",
      "getting token embeddings...\n"
     ]
    },
    {
     "name": "stderr",
     "output_type": "stream",
     "text": [
      "7it [00:00, 11.45it/s]                                                                                                 \n"
     ]
    },
    {
     "name": "stdout",
     "output_type": "stream",
     "text": [
      "Using n_components=520\n"
     ]
    },
    {
     "name": "stderr",
     "output_type": "stream",
     "text": [
      "\r",
      "  0%|                                                                                         | 0/5206 [00:00<?, ?it/s]"
     ]
    },
    {
     "name": "stdout",
     "output_type": "stream",
     "text": [
      "calculating similarity matrix...\n"
     ]
    },
    {
     "name": "stderr",
     "output_type": "stream",
     "text": [
      "100%|██████████████████████████████████████████████████████████████████████████████| 5206/5206 [11:46<00:00,  7.37it/s]\n"
     ]
    },
    {
     "name": "stdout",
     "output_type": "stream",
     "text": [
      "TRAN Diversity: 82.73916851357855 (1.5893%)\n",
      "('ag_news', 'RandomSwapQwerty')\n",
      "calculating BERTScores...\n",
      "TRAN vs. ORIG BERTScore 0.9891316294670105\n",
      "calculating BLEURT Scores...\n"
     ]
    },
    {
     "name": "stderr",
     "output_type": "stream",
     "text": [
      " 33%|████████████████████████████                                                        | 2/6 [00:00<00:00, 15.63it/s]"
     ]
    },
    {
     "name": "stdout",
     "output_type": "stream",
     "text": [
      "TRAN vs. ORIG BLEURT Score 0.5764271795749665\n",
      "TRAN TTR_tok: 37.93%\n",
      "TRAN TTR_text: 44.70%\n",
      "getting token embeddings...\n"
     ]
    },
    {
     "name": "stderr",
     "output_type": "stream",
     "text": [
      "7it [00:00, 12.17it/s]                                                                                                 \n"
     ]
    },
    {
     "name": "stdout",
     "output_type": "stream",
     "text": [
      "Using n_components=516\n"
     ]
    },
    {
     "name": "stderr",
     "output_type": "stream",
     "text": [
      "\r",
      "  0%|                                                                                         | 0/5165 [00:00<?, ?it/s]"
     ]
    },
    {
     "name": "stdout",
     "output_type": "stream",
     "text": [
      "calculating similarity matrix...\n"
     ]
    },
    {
     "name": "stderr",
     "output_type": "stream",
     "text": [
      "100%|██████████████████████████████████████████████████████████████████████████████| 5165/5165 [11:31<00:00,  7.47it/s]\n"
     ]
    },
    {
     "name": "stdout",
     "output_type": "stream",
     "text": [
      "TRAN Diversity: 82.66900637080792 (1.6006%)\n",
      "('ag_news', 'ChangeNumber')\n",
      "calculating BERTScores...\n",
      "TRAN vs. ORIG BERTScore 0.9989044070243835\n",
      "calculating BLEURT Scores...\n"
     ]
    },
    {
     "name": "stderr",
     "output_type": "stream",
     "text": [
      " 33%|████████████████████████████                                                        | 2/6 [00:00<00:00, 15.74it/s]"
     ]
    },
    {
     "name": "stdout",
     "output_type": "stream",
     "text": [
      "TRAN vs. ORIG BLEURT Score 0.8330857980251313\n",
      "TRAN TTR_tok: 37.00%\n",
      "TRAN TTR_text: 43.59%\n",
      "getting token embeddings...\n"
     ]
    },
    {
     "name": "stderr",
     "output_type": "stream",
     "text": [
      "7it [00:00, 11.96it/s]                                                                                                 \n"
     ]
    },
    {
     "name": "stdout",
     "output_type": "stream",
     "text": [
      "Using n_components=504\n"
     ]
    },
    {
     "name": "stderr",
     "output_type": "stream",
     "text": [
      "\r",
      "  0%|                                                                                         | 0/5049 [00:00<?, ?it/s]"
     ]
    },
    {
     "name": "stdout",
     "output_type": "stream",
     "text": [
      "calculating similarity matrix...\n"
     ]
    },
    {
     "name": "stderr",
     "output_type": "stream",
     "text": [
      "100%|██████████████████████████████████████████████████████████████████████████████| 5049/5049 [10:51<00:00,  7.75it/s]\n"
     ]
    },
    {
     "name": "stdout",
     "output_type": "stream",
     "text": [
      "TRAN Diversity: 85.7542147285798 (1.6984%)\n",
      "('ag_news', 'ChangeSynonym')\n",
      "calculating BERTScores...\n",
      "TRAN vs. ORIG BERTScore 0.9326927661895752\n",
      "calculating BLEURT Scores...\n"
     ]
    },
    {
     "name": "stderr",
     "output_type": "stream",
     "text": [
      " 33%|████████████████████████████                                                        | 2/6 [00:00<00:00, 15.74it/s]"
     ]
    },
    {
     "name": "stdout",
     "output_type": "stream",
     "text": [
      "TRAN vs. ORIG BLEURT Score -0.4706991375610232\n",
      "TRAN TTR_tok: 39.25%\n",
      "TRAN TTR_text: 45.65%\n",
      "getting token embeddings...\n"
     ]
    },
    {
     "name": "stderr",
     "output_type": "stream",
     "text": [
      "7it [00:00, 11.53it/s]                                                                                                 \n"
     ]
    },
    {
     "name": "stdout",
     "output_type": "stream",
     "text": [
      "Using n_components=547\n"
     ]
    },
    {
     "name": "stderr",
     "output_type": "stream",
     "text": [
      "\r",
      "  0%|                                                                                         | 0/5475 [00:00<?, ?it/s]"
     ]
    },
    {
     "name": "stdout",
     "output_type": "stream",
     "text": [
      "calculating similarity matrix...\n"
     ]
    },
    {
     "name": "stderr",
     "output_type": "stream",
     "text": [
      "100%|██████████████████████████████████████████████████████████████████████████████| 5475/5475 [13:35<00:00,  6.71it/s]\n"
     ]
    },
    {
     "name": "stdout",
     "output_type": "stream",
     "text": [
      "TRAN Diversity: 75.13747922892428 (1.3724%)\n",
      "('ag_news', 'ChangeAntonym')\n",
      "calculating BERTScores...\n",
      "TRAN vs. ORIG BERTScore 0.9448882341384888\n",
      "calculating BLEURT Scores...\n"
     ]
    },
    {
     "name": "stderr",
     "output_type": "stream",
     "text": [
      " 33%|████████████████████████████                                                        | 2/6 [00:00<00:00, 15.62it/s]"
     ]
    },
    {
     "name": "stdout",
     "output_type": "stream",
     "text": [
      "TRAN vs. ORIG BLEURT Score -0.3497014471888542\n",
      "TRAN TTR_tok: 35.43%\n",
      "TRAN TTR_text: 42.18%\n",
      "getting token embeddings...\n"
     ]
    },
    {
     "name": "stderr",
     "output_type": "stream",
     "text": [
      "7it [00:00, 11.62it/s]                                                                                                 \n"
     ]
    },
    {
     "name": "stdout",
     "output_type": "stream",
     "text": [
      "Using n_components=559\n"
     ]
    },
    {
     "name": "stderr",
     "output_type": "stream",
     "text": [
      "\r",
      "  0%|                                                                                         | 0/5597 [00:00<?, ?it/s]"
     ]
    },
    {
     "name": "stdout",
     "output_type": "stream",
     "text": [
      "calculating similarity matrix...\n"
     ]
    },
    {
     "name": "stderr",
     "output_type": "stream",
     "text": [
      "100%|██████████████████████████████████████████████████████████████████████████████| 5597/5597 [14:29<00:00,  6.44it/s]\n"
     ]
    },
    {
     "name": "stdout",
     "output_type": "stream",
     "text": [
      "TRAN Diversity: 77.32616619302277 (1.3816%)\n",
      "('ag_news', 'ChangeHyponym')\n",
      "calculating BERTScores...\n",
      "TRAN vs. ORIG BERTScore 0.9235422611236572\n",
      "calculating BLEURT Scores...\n"
     ]
    },
    {
     "name": "stderr",
     "output_type": "stream",
     "text": [
      " 33%|████████████████████████████                                                        | 2/6 [00:00<00:00, 15.27it/s]"
     ]
    },
    {
     "name": "stdout",
     "output_type": "stream",
     "text": [
      "TRAN vs. ORIG BLEURT Score -0.7683147749304772\n",
      "TRAN TTR_tok: 40.46%\n",
      "TRAN TTR_text: 47.64%\n",
      "getting token embeddings...\n"
     ]
    },
    {
     "name": "stderr",
     "output_type": "stream",
     "text": [
      "7it [00:00, 11.44it/s]                                                                                                 \n"
     ]
    },
    {
     "name": "stdout",
     "output_type": "stream",
     "text": [
      "Using n_components=583\n"
     ]
    },
    {
     "name": "stderr",
     "output_type": "stream",
     "text": [
      "\r",
      "  0%|                                                                                         | 0/5835 [00:00<?, ?it/s]"
     ]
    },
    {
     "name": "stdout",
     "output_type": "stream",
     "text": [
      "calculating similarity matrix...\n"
     ]
    },
    {
     "name": "stderr",
     "output_type": "stream",
     "text": [
      "100%|██████████████████████████████████████████████████████████████████████████████| 5835/5835 [16:19<00:00,  5.96it/s]\n"
     ]
    },
    {
     "name": "stdout",
     "output_type": "stream",
     "text": [
      "TRAN Diversity: 67.59059401127843 (1.1584%)\n",
      "('ag_news', 'ChangeHypernym')\n",
      "calculating BERTScores...\n",
      "TRAN vs. ORIG BERTScore 0.9184121489524841\n",
      "calculating BLEURT Scores...\n"
     ]
    },
    {
     "name": "stderr",
     "output_type": "stream",
     "text": [
      " 33%|████████████████████████████                                                        | 2/6 [00:00<00:00, 15.74it/s]"
     ]
    },
    {
     "name": "stdout",
     "output_type": "stream",
     "text": [
      "TRAN vs. ORIG BLEURT Score -0.6746750254929066\n",
      "TRAN TTR_tok: 35.60%\n",
      "TRAN TTR_text: 39.89%\n",
      "getting token embeddings...\n"
     ]
    },
    {
     "name": "stderr",
     "output_type": "stream",
     "text": [
      "7it [00:00, 12.17it/s]                                                                                                 \n"
     ]
    },
    {
     "name": "stdout",
     "output_type": "stream",
     "text": [
      "Using n_components=525\n"
     ]
    },
    {
     "name": "stderr",
     "output_type": "stream",
     "text": [
      "\r",
      "  0%|                                                                                         | 0/5253 [00:00<?, ?it/s]"
     ]
    },
    {
     "name": "stdout",
     "output_type": "stream",
     "text": [
      "calculating similarity matrix...\n"
     ]
    },
    {
     "name": "stderr",
     "output_type": "stream",
     "text": [
      "100%|██████████████████████████████████████████████████████████████████████████████| 5253/5253 [12:08<00:00,  7.21it/s]\n"
     ]
    },
    {
     "name": "stdout",
     "output_type": "stream",
     "text": [
      "TRAN Diversity: 72.21804407870677 (1.3748%)\n",
      "('ag_news', 'WordDeletion')\n",
      "calculating BERTScores...\n",
      "TRAN vs. ORIG BERTScore 0.9354487061500549\n",
      "calculating BLEURT Scores...\n"
     ]
    },
    {
     "name": "stderr",
     "output_type": "stream",
     "text": [
      "\r",
      "  0%|                                                                                            | 0/6 [00:00<?, ?it/s]"
     ]
    },
    {
     "name": "stdout",
     "output_type": "stream",
     "text": [
      "TRAN vs. ORIG BLEURT Score -0.2642938190698624\n",
      "TRAN TTR_tok: 41.87%\n",
      "TRAN TTR_text: 48.01%\n",
      "getting token embeddings...\n"
     ]
    },
    {
     "name": "stderr",
     "output_type": "stream",
     "text": [
      "7it [00:00, 16.32it/s]                                                                                                 \n"
     ]
    },
    {
     "name": "stdout",
     "output_type": "stream",
     "text": [
      "Using n_components=373\n"
     ]
    },
    {
     "name": "stderr",
     "output_type": "stream",
     "text": [
      "  0%|                                                                                 | 1/3738 [00:00<09:31,  6.53it/s]"
     ]
    },
    {
     "name": "stdout",
     "output_type": "stream",
     "text": [
      "calculating similarity matrix...\n"
     ]
    },
    {
     "name": "stderr",
     "output_type": "stream",
     "text": [
      "100%|██████████████████████████████████████████████████████████████████████████████| 3738/3738 [04:31<00:00, 13.78it/s]\n"
     ]
    },
    {
     "name": "stdout",
     "output_type": "stream",
     "text": [
      "TRAN Diversity: 77.02171920837483 (2.0605%)\n",
      "('ag_news', 'HomoglyphSwap')\n",
      "calculating BERTScores...\n",
      "TRAN vs. ORIG BERTScore 0.7511621117591858\n",
      "calculating BLEURT Scores...\n"
     ]
    },
    {
     "name": "stderr",
     "output_type": "stream",
     "text": [
      "\r",
      "  0%|                                                                                            | 0/6 [00:00<?, ?it/s]"
     ]
    },
    {
     "name": "stdout",
     "output_type": "stream",
     "text": [
      "TRAN vs. ORIG BLEURT Score -1.5538258266448974\n",
      "TRAN TTR_tok: 17.51%\n",
      "TRAN TTR_text: 62.49%\n",
      "getting token embeddings...\n"
     ]
    },
    {
     "name": "stderr",
     "output_type": "stream",
     "text": [
      "7it [00:00,  8.72it/s]                                                                                                 \n"
     ]
    },
    {
     "name": "stdout",
     "output_type": "stream",
     "text": [
      "Using n_components=723\n"
     ]
    },
    {
     "name": "stderr",
     "output_type": "stream",
     "text": [
      "\r",
      "  0%|                                                                                         | 0/7231 [00:00<?, ?it/s]"
     ]
    },
    {
     "name": "stdout",
     "output_type": "stream",
     "text": [
      "calculating similarity matrix...\n"
     ]
    },
    {
     "name": "stderr",
     "output_type": "stream",
     "text": [
      "100%|██████████████████████████████████████████████████████████████████████████████| 7231/7231 [34:50<00:00,  3.46it/s]\n"
     ]
    },
    {
     "name": "stdout",
     "output_type": "stream",
     "text": [
      "TRAN Diversity: 83.03311979872726 (1.1483%)\n",
      "('ag_news', 'RandomSwap')\n",
      "calculating BERTScores...\n",
      "TRAN vs. ORIG BERTScore 0.9782478213310242\n",
      "calculating BLEURT Scores...\n"
     ]
    },
    {
     "name": "stderr",
     "output_type": "stream",
     "text": [
      " 33%|████████████████████████████                                                        | 2/6 [00:00<00:00, 15.62it/s]"
     ]
    },
    {
     "name": "stdout",
     "output_type": "stream",
     "text": [
      "TRAN vs. ORIG BLEURT Score 0.5130396496877074\n",
      "TRAN TTR_tok: 37.12%\n",
      "TRAN TTR_text: 43.71%\n",
      "getting token embeddings...\n"
     ]
    },
    {
     "name": "stderr",
     "output_type": "stream",
     "text": [
      "7it [00:00, 11.30it/s]                                                                                                 \n"
     ]
    },
    {
     "name": "stdout",
     "output_type": "stream",
     "text": [
      "Using n_components=504\n"
     ]
    },
    {
     "name": "stderr",
     "output_type": "stream",
     "text": [
      "\r",
      "  0%|                                                                                         | 0/5049 [00:00<?, ?it/s]"
     ]
    },
    {
     "name": "stdout",
     "output_type": "stream",
     "text": [
      "calculating similarity matrix...\n"
     ]
    },
    {
     "name": "stderr",
     "output_type": "stream",
     "text": [
      "100%|██████████████████████████████████████████████████████████████████████████████| 5049/5049 [10:54<00:00,  7.72it/s]\n"
     ]
    },
    {
     "name": "stdout",
     "output_type": "stream",
     "text": [
      "TRAN Diversity: 82.05969903675239 (1.6253%)\n",
      "('ag_news', 'TextMix')\n",
      "calculating BERTScores...\n",
      "TRAN vs. ORIG BERTScore 0.9248245358467102\n",
      "calculating BLEURT Scores...\n"
     ]
    },
    {
     "name": "stderr",
     "output_type": "stream",
     "text": [
      "\r",
      "  0%|                                                                                            | 0/6 [00:00<?, ?it/s]"
     ]
    },
    {
     "name": "stdout",
     "output_type": "stream",
     "text": [
      "TRAN vs. ORIG BLEURT Score -0.3336798942834139\n",
      "TRAN TTR_tok: 17.95%\n",
      "TRAN TTR_text: 22.04%\n",
      "getting token embeddings...\n"
     ]
    },
    {
     "name": "stderr",
     "output_type": "stream",
     "text": [
      "7it [00:00,  7.28it/s]                                                                                                 \n"
     ]
    },
    {
     "name": "stdout",
     "output_type": "stream",
     "text": [
      "Using n_components=768\n"
     ]
    },
    {
     "name": "stderr",
     "output_type": "stream",
     "text": [
      "\r",
      "  0%|                                                                                        | 0/10439 [00:00<?, ?it/s]"
     ]
    },
    {
     "name": "stdout",
     "output_type": "stream",
     "text": [
      "calculating similarity matrix...\n"
     ]
    },
    {
     "name": "stderr",
     "output_type": "stream",
     "text": [
      "100%|██████████████████████████████████████████████████████████████████████████| 10439/10439 [1:19:52<00:00,  2.18it/s]\n"
     ]
    },
    {
     "name": "stdout",
     "output_type": "stream",
     "text": [
      "TRAN Diversity: 84.86163908220367 (0.8129%)\n",
      "('ag_news', 'SentMix')\n",
      "calculating BERTScores...\n",
      "TRAN vs. ORIG BERTScore 0.9210267663002014\n",
      "calculating BLEURT Scores...\n"
     ]
    },
    {
     "name": "stderr",
     "output_type": "stream",
     "text": [
      "\r",
      "  0%|                                                                                            | 0/6 [00:00<?, ?it/s]"
     ]
    },
    {
     "name": "stdout",
     "output_type": "stream",
     "text": [
      "TRAN vs. ORIG BLEURT Score -0.7147712047025562\n",
      "TRAN TTR_tok: 17.96%\n",
      "TRAN TTR_text: 22.02%\n",
      "getting token embeddings...\n"
     ]
    },
    {
     "name": "stderr",
     "output_type": "stream",
     "text": [
      "7it [00:00,  7.96it/s]                                                                                                 \n"
     ]
    },
    {
     "name": "stdout",
     "output_type": "stream",
     "text": [
      "Using n_components=768\n"
     ]
    },
    {
     "name": "stderr",
     "output_type": "stream",
     "text": [
      "\r",
      "  0%|                                                                                        | 0/10436 [00:00<?, ?it/s]"
     ]
    },
    {
     "name": "stdout",
     "output_type": "stream",
     "text": [
      "calculating similarity matrix...\n"
     ]
    },
    {
     "name": "stderr",
     "output_type": "stream",
     "text": [
      "100%|██████████████████████████████████████████████████████████████████████████| 10436/10436 [1:18:13<00:00,  2.22it/s]\n"
     ]
    },
    {
     "name": "stdout",
     "output_type": "stream",
     "text": [
      "TRAN Diversity: 86.92533402338458 (0.8329%)\n",
      "('ag_news', 'WordMix')\n",
      "calculating BERTScores...\n",
      "TRAN vs. ORIG BERTScore 0.8122491240501404\n",
      "calculating BLEURT Scores...\n"
     ]
    },
    {
     "name": "stderr",
     "output_type": "stream",
     "text": [
      "\r",
      "  0%|                                                                                            | 0/6 [00:00<?, ?it/s]"
     ]
    },
    {
     "name": "stdout",
     "output_type": "stream",
     "text": [
      "TRAN vs. ORIG BLEURT Score -1.3371777939796448\n",
      "TRAN TTR_tok: 17.96%\n",
      "TRAN TTR_text: 22.11%\n",
      "getting token embeddings...\n"
     ]
    },
    {
     "name": "stderr",
     "output_type": "stream",
     "text": [
      "7it [00:00,  8.76it/s]                                                                                                 \n"
     ]
    },
    {
     "name": "stdout",
     "output_type": "stream",
     "text": [
      "Using n_components=768\n"
     ]
    },
    {
     "name": "stderr",
     "output_type": "stream",
     "text": [
      "\r",
      "  0%|                                                                                        | 0/10437 [00:00<?, ?it/s]"
     ]
    },
    {
     "name": "stdout",
     "output_type": "stream",
     "text": [
      "calculating similarity matrix...\n"
     ]
    },
    {
     "name": "stderr",
     "output_type": "stream",
     "text": [
      "100%|██████████████████████████████████████████████████████████████████████████| 10437/10437 [1:18:36<00:00,  2.21it/s]\n"
     ]
    },
    {
     "name": "stdout",
     "output_type": "stream",
     "text": [
      "TRAN Diversity: 56.79759874888445 (0.5442%)\n"
     ]
    }
   ],
   "source": [
    "for key, value in data.items():\n",
    "\n",
    "    print(key)\n",
    "    \n",
    "    ORIG_text = data[(key[0], 'ORIG')]['text']\n",
    "    \n",
    "    # Naturalness | BERTScore\n",
    "    print('calculating BERTScores...')\n",
    "\n",
    "    scores = bertscore_metric._compute(value['text'], ORIG_text, lang=\"en\")\n",
    "    f1 = scores['f1'].mean().item()\n",
    "    print('TRAN vs. ORIG BERTScore', f1)\n",
    "    data[key]['BERTScore'] = f1\n",
    "\n",
    "    # Naturalness | BLEURT Scores\n",
    "    print('calculating BLEURT Scores...')\n",
    "\n",
    "    scores = bleurt_metric._compute(value['text'], ORIG_text)\n",
    "    score = np.array(scores['scores']).mean()\n",
    "    print('TRAN vs. ORIG BLEURT Score', score)\n",
    "    data[key]['BLEURT Score'] = score\n",
    "\n",
    "    # Diversity | TTR (lexical diversity) \n",
    "\n",
    "    # by input_ids (tokenizing replaces many words with [UNK] and reduces lexical diversity)\n",
    "    value_tok = tokenizer(value['text'], padding=True, truncation=True)\n",
    "    TTR_tok = get_ttr_by_ids(value_tok['input_ids'])\n",
    "    print('TRAN TTR_tok: {0:0.2f}%'.format(TTR_tok * 100))\n",
    "    data[key]['TTR_tok'] = TTR_tok\n",
    "\n",
    "    # by text\n",
    "    TTR_text = get_ttr_by_text(value['text'])\n",
    "    print('TRAN TTR_text: {0:0.2f}%'.format(TTR_text * 100))\n",
    "    data[key]['TTR_text'] = TTR_text\n",
    "\n",
    "    # Diversity | TextDiversity (semantic diversity)\n",
    "    TRAN_out = diversity_metric(value['text'])\n",
    "    print('TRAN Diversity: {0} ({1:0.4f}%)'.format(TRAN_out['diversity'], TRAN_out['diversity_normalized'] * 100))\n",
    "    data[key]['diversity'] = TRAN_out['diversity']\n",
    "    data[key]['diversity_normalized'] = TRAN_out['diversity_normalized']"
   ]
  },
  {
   "cell_type": "code",
   "execution_count": 10,
   "metadata": {},
   "outputs": [
    {
     "data": {
      "text/html": [
       "<div>\n",
       "<style scoped>\n",
       "    .dataframe tbody tr th:only-of-type {\n",
       "        vertical-align: middle;\n",
       "    }\n",
       "\n",
       "    .dataframe tbody tr th {\n",
       "        vertical-align: top;\n",
       "    }\n",
       "\n",
       "    .dataframe thead th {\n",
       "        text-align: right;\n",
       "    }\n",
       "</style>\n",
       "<table border=\"1\" class=\"dataframe\">\n",
       "  <thead>\n",
       "    <tr style=\"text-align: right;\">\n",
       "      <th></th>\n",
       "      <th>dataset</th>\n",
       "      <th>transform</th>\n",
       "      <th>BERTScore</th>\n",
       "      <th>BLEURT Score</th>\n",
       "      <th>TTR_tok</th>\n",
       "      <th>TTR_text</th>\n",
       "      <th>diversity</th>\n",
       "      <th>diversity_normalized</th>\n",
       "    </tr>\n",
       "  </thead>\n",
       "  <tbody>\n",
       "    <tr>\n",
       "      <th>0</th>\n",
       "      <td>sst2</td>\n",
       "      <td>ORIG</td>\n",
       "      <td>1</td>\n",
       "      <td>1.01352</td>\n",
       "      <td>0.559804</td>\n",
       "      <td>0.566549</td>\n",
       "      <td>93.5845</td>\n",
       "      <td>0.0917495</td>\n",
       "    </tr>\n",
       "    <tr>\n",
       "      <th>1</th>\n",
       "      <td>sst2</td>\n",
       "      <td>ExpandContractions</td>\n",
       "      <td>1</td>\n",
       "      <td>1.01352</td>\n",
       "      <td>0.559804</td>\n",
       "      <td>0.566549</td>\n",
       "      <td>93.6562</td>\n",
       "      <td>0.0918198</td>\n",
       "    </tr>\n",
       "    <tr>\n",
       "      <th>2</th>\n",
       "      <td>sst2</td>\n",
       "      <td>ContractContractions</td>\n",
       "      <td>0.99971</td>\n",
       "      <td>1.0095</td>\n",
       "      <td>0.55653</td>\n",
       "      <td>0.566549</td>\n",
       "      <td>92.9728</td>\n",
       "      <td>0.0906168</td>\n",
       "    </tr>\n",
       "    <tr>\n",
       "      <th>3</th>\n",
       "      <td>sst2</td>\n",
       "      <td>Emojify</td>\n",
       "      <td>0.948935</td>\n",
       "      <td>0.297655</td>\n",
       "      <td>0.506404</td>\n",
       "      <td>0.59364</td>\n",
       "      <td>99.4813</td>\n",
       "      <td>0.0980111</td>\n",
       "    </tr>\n",
       "    <tr>\n",
       "      <th>4</th>\n",
       "      <td>sst2</td>\n",
       "      <td>AddPositiveEmoji</td>\n",
       "      <td>0.921303</td>\n",
       "      <td>0.456128</td>\n",
       "      <td>0.510714</td>\n",
       "      <td>0.603793</td>\n",
       "      <td>77.9021</td>\n",
       "      <td>0.0695555</td>\n",
       "    </tr>\n",
       "    <tr>\n",
       "      <th>...</th>\n",
       "      <td>...</td>\n",
       "      <td>...</td>\n",
       "      <td>...</td>\n",
       "      <td>...</td>\n",
       "      <td>...</td>\n",
       "      <td>...</td>\n",
       "      <td>...</td>\n",
       "      <td>...</td>\n",
       "    </tr>\n",
       "    <tr>\n",
       "      <th>69</th>\n",
       "      <td>ag_news</td>\n",
       "      <td>HomoglyphSwap</td>\n",
       "      <td>0.751162</td>\n",
       "      <td>-1.55383</td>\n",
       "      <td>0.17508</td>\n",
       "      <td>0.624914</td>\n",
       "      <td>83.0331</td>\n",
       "      <td>0.0114829</td>\n",
       "    </tr>\n",
       "    <tr>\n",
       "      <th>70</th>\n",
       "      <td>ag_news</td>\n",
       "      <td>RandomSwap</td>\n",
       "      <td>0.978248</td>\n",
       "      <td>0.51304</td>\n",
       "      <td>0.371163</td>\n",
       "      <td>0.437095</td>\n",
       "      <td>82.0597</td>\n",
       "      <td>0.0162527</td>\n",
       "    </tr>\n",
       "    <tr>\n",
       "      <th>71</th>\n",
       "      <td>ag_news</td>\n",
       "      <td>TextMix</td>\n",
       "      <td>0.924825</td>\n",
       "      <td>-0.33368</td>\n",
       "      <td>0.179519</td>\n",
       "      <td>0.220412</td>\n",
       "      <td>84.8616</td>\n",
       "      <td>0.00812929</td>\n",
       "    </tr>\n",
       "    <tr>\n",
       "      <th>72</th>\n",
       "      <td>ag_news</td>\n",
       "      <td>SentMix</td>\n",
       "      <td>0.921027</td>\n",
       "      <td>-0.714771</td>\n",
       "      <td>0.179571</td>\n",
       "      <td>0.220186</td>\n",
       "      <td>86.9253</td>\n",
       "      <td>0.00832937</td>\n",
       "    </tr>\n",
       "    <tr>\n",
       "      <th>73</th>\n",
       "      <td>ag_news</td>\n",
       "      <td>WordMix</td>\n",
       "      <td>0.812249</td>\n",
       "      <td>-1.33718</td>\n",
       "      <td>0.179554</td>\n",
       "      <td>0.221103</td>\n",
       "      <td>56.7976</td>\n",
       "      <td>0.00544195</td>\n",
       "    </tr>\n",
       "  </tbody>\n",
       "</table>\n",
       "<p>74 rows × 8 columns</p>\n",
       "</div>"
      ],
      "text/plain": [
       "    dataset             transform BERTScore BLEURT Score   TTR_tok  TTR_text  \\\n",
       "0      sst2                  ORIG         1      1.01352  0.559804  0.566549   \n",
       "1      sst2    ExpandContractions         1      1.01352  0.559804  0.566549   \n",
       "2      sst2  ContractContractions   0.99971       1.0095   0.55653  0.566549   \n",
       "3      sst2               Emojify  0.948935     0.297655  0.506404   0.59364   \n",
       "4      sst2      AddPositiveEmoji  0.921303     0.456128  0.510714  0.603793   \n",
       "..      ...                   ...       ...          ...       ...       ...   \n",
       "69  ag_news         HomoglyphSwap  0.751162     -1.55383   0.17508  0.624914   \n",
       "70  ag_news            RandomSwap  0.978248      0.51304  0.371163  0.437095   \n",
       "71  ag_news               TextMix  0.924825     -0.33368  0.179519  0.220412   \n",
       "72  ag_news               SentMix  0.921027    -0.714771  0.179571  0.220186   \n",
       "73  ag_news               WordMix  0.812249     -1.33718  0.179554  0.221103   \n",
       "\n",
       "   diversity diversity_normalized  \n",
       "0    93.5845            0.0917495  \n",
       "1    93.6562            0.0918198  \n",
       "2    92.9728            0.0906168  \n",
       "3    99.4813            0.0980111  \n",
       "4    77.9021            0.0695555  \n",
       "..       ...                  ...  \n",
       "69   83.0331            0.0114829  \n",
       "70   82.0597            0.0162527  \n",
       "71   84.8616           0.00812929  \n",
       "72   86.9253           0.00832937  \n",
       "73   56.7976           0.00544195  \n",
       "\n",
       "[74 rows x 8 columns]"
      ]
     },
     "execution_count": 10,
     "metadata": {},
     "output_type": "execute_result"
    }
   ],
   "source": [
    "cols = ['BERTScore', 'BLEURT Score', 'TTR_tok', 'TTR_text', 'diversity', 'diversity_normalized']\n",
    "df = pd.DataFrame.from_dict(data).T[cols]\n",
    "df.reset_index(inplace=True)\n",
    "df.rename(columns={'level_0': 'dataset', 'level_1': 'transform'}, inplace=True)\n",
    "df"
   ]
  },
  {
   "cell_type": "code",
   "execution_count": 11,
   "metadata": {},
   "outputs": [],
   "source": [
    "df.to_clipboard(excel=True)"
   ]
  },
  {
   "cell_type": "code",
   "execution_count": 16,
   "metadata": {},
   "outputs": [],
   "source": [
    "new_y = [0]\n",
    "y = np.array([[0, 1]])"
   ]
  },
  {
   "cell_type": "code",
   "execution_count": 20,
   "metadata": {},
   "outputs": [],
   "source": [
    "y[:, new_y] += 1"
   ]
  },
  {
   "cell_type": "code",
   "execution_count": 23,
   "metadata": {},
   "outputs": [],
   "source": [
    "y = y / y.sum()"
   ]
  },
  {
   "cell_type": "markdown",
   "metadata": {},
   "source": [
    "# Dev Area"
   ]
  },
  {
   "cell_type": "markdown",
   "metadata": {},
   "source": [
    "## Naturalness Scores"
   ]
  },
  {
   "cell_type": "markdown",
   "metadata": {},
   "source": [
    "### BERTScore"
   ]
  },
  {
   "cell_type": "code",
   "execution_count": 330,
   "metadata": {},
   "outputs": [],
   "source": [
    "bertscore_metric = load_metric(\"bertscore\")\n",
    "\n",
    "n = 10000\n",
    "ORIG = ORIG_train_dataset['text'][:n]\n",
    "INV = INV_train_dataset['text'][:n]\n",
    "SIB = SIB_train_dataset['text'][:n]"
   ]
  },
  {
   "cell_type": "code",
   "execution_count": 331,
   "metadata": {},
   "outputs": [
    {
     "name": "stdout",
     "output_type": "stream",
     "text": [
      "precision tensor(1.)\n",
      "recall tensor(1.)\n",
      "f1 tensor(1.)\n"
     ]
    }
   ],
   "source": [
    "scores = bertscore_metric._compute(ORIG, ORIG, lang=\"en\")\n",
    "for key, value in list(scores.items())[:-1]:\n",
    "    print(key, value.mean())"
   ]
  },
  {
   "cell_type": "code",
   "execution_count": 332,
   "metadata": {},
   "outputs": [
    {
     "name": "stderr",
     "output_type": "stream",
     "text": [
      "Warning: Empty candidate sentence detected; setting precision to be 0.\n",
      "Warning: Empty candidate sentence detected; setting precision to be 0.\n"
     ]
    },
    {
     "name": "stdout",
     "output_type": "stream",
     "text": [
      "precision tensor(0.7802)\n",
      "recall tensor(0.8215)\n",
      "f1 tensor(0.7993)\n"
     ]
    }
   ],
   "source": [
    "scores = bertscore_metric._compute(INV, ORIG, lang=\"en\")\n",
    "for key, value in list(scores.items())[:-1]:\n",
    "    print(key, value.mean())"
   ]
  },
  {
   "cell_type": "code",
   "execution_count": 333,
   "metadata": {},
   "outputs": [
    {
     "name": "stdout",
     "output_type": "stream",
     "text": [
      "precision tensor(0.7920)\n",
      "recall tensor(0.8252)\n",
      "f1 tensor(0.8078)\n"
     ]
    }
   ],
   "source": [
    "scores = bertscore_metric._compute(SIB, ORIG, lang=\"en\")\n",
    "for key, value in list(scores.items())[:-1]:\n",
    "    print(key, value.mean())"
   ]
  },
  {
   "cell_type": "markdown",
   "metadata": {},
   "source": [
    "### BLEURT"
   ]
  },
  {
   "cell_type": "code",
   "execution_count": 289,
   "metadata": {},
   "outputs": [
    {
     "name": "stderr",
     "output_type": "stream",
     "text": [
      "Using default BLEURT-Base checkpoint for sequence maximum length 128. You can use a bigger model for better results with e.g.: datasets.load_metric('bleurt', 'bleurt-large-512').\n"
     ]
    },
    {
     "name": "stdout",
     "output_type": "stream",
     "text": [
      "INFO:tensorflow:Reading checkpoint C:\\Users\\Fabrice\\.cache\\huggingface\\metrics\\bleurt\\default\\downloads\\extracted\\0989b2f25cefa5363b32fb8de03c83fe189c82f971eabcd6248d372510de0c71\\bleurt-base-128.\n",
      "INFO:tensorflow:Config file found, reading.\n",
      "INFO:tensorflow:Will load checkpoint bert_custom\n",
      "INFO:tensorflow:Performs basic checks...\n",
      "INFO:tensorflow:... name:bert_custom\n",
      "INFO:tensorflow:... vocab_file:vocab.txt\n",
      "INFO:tensorflow:... bert_config_file:bert_config.json\n",
      "INFO:tensorflow:... do_lower_case:True\n",
      "INFO:tensorflow:... max_seq_length:128\n",
      "INFO:tensorflow:Creating BLEURT scorer.\n",
      "INFO:tensorflow:Loading model...\n",
      "INFO:tensorflow:BLEURT initialized.\n"
     ]
    }
   ],
   "source": [
    "bleurt_metric = load_metric(\"bleurt\")"
   ]
  },
  {
   "cell_type": "code",
   "execution_count": 290,
   "metadata": {},
   "outputs": [
    {
     "name": "stdout",
     "output_type": "stream",
     "text": [
      "score 1.0065633410215378\n"
     ]
    }
   ],
   "source": [
    "scores = bleurt_metric._compute(ORIG, ORIG)\n",
    "print('score', np.array(scores['scores']).mean())"
   ]
  },
  {
   "cell_type": "code",
   "execution_count": 291,
   "metadata": {},
   "outputs": [
    {
     "name": "stdout",
     "output_type": "stream",
     "text": [
      "score -1.563182808160782\n"
     ]
    }
   ],
   "source": [
    "scores = bleurt_metric._compute(INV, ORIG)\n",
    "print('score', np.array(scores['scores']).mean())"
   ]
  },
  {
   "cell_type": "code",
   "execution_count": 292,
   "metadata": {},
   "outputs": [
    {
     "name": "stdout",
     "output_type": "stream",
     "text": [
      "score -1.6391020435094834\n"
     ]
    }
   ],
   "source": [
    "scores = bleurt_metric._compute(SIB, ORIG)\n",
    "print('score', np.array(scores['scores']).mean())"
   ]
  },
  {
   "cell_type": "markdown",
   "metadata": {},
   "source": [
    "## Diversity"
   ]
  },
  {
   "cell_type": "markdown",
   "metadata": {},
   "source": [
    "### Lexical Diversity via Type-Token Ratio"
   ]
  },
  {
   "cell_type": "code",
   "execution_count": 324,
   "metadata": {},
   "outputs": [],
   "source": [
    "from nltk import word_tokenize\n",
    "\n",
    "def get_ttr_by_ids(input_ids):\n",
    "    '''\n",
    "    Type Token Ratio (TTR)\n",
    "    higher -> more diversity\n",
    "    '''\n",
    "    token_ids, counts = np.unique(input_ids, return_counts=True)\n",
    "    idx = np.isin(token_ids, [0, 101, 102], assume_unique=True, invert=True)\n",
    "    token_ids, counts = token_ids[idx], counts[idx]\n",
    "    ttr = len(token_ids) / counts.sum() * 100\n",
    "    return ttr\n",
    "\n",
    "def get_ttr_by_text(text):\n",
    "    '''\n",
    "    Type Token Ratio (TTR)\n",
    "    higher -> more diversity\n",
    "    '''\n",
    "    tokens = [word_tokenize(x) for x in text]\n",
    "    tokens = [item for sublist in tokens for item in sublist]\n",
    "    toks, tok_counts = np.unique(tokens, return_counts=True)\n",
    "    ttr = len(toks) / tok_counts.sum() * 100\n",
    "    return ttr"
   ]
  },
  {
   "cell_type": "code",
   "execution_count": 327,
   "metadata": {},
   "outputs": [
    {
     "name": "stdout",
     "output_type": "stream",
     "text": [
      "ORIG TTR: 1.68 %\n",
      "INV  TTR: 2.08 %\n",
      "SIB  TTR: 0.92 %\n"
     ]
    }
   ],
   "source": [
    "n = 60614\n",
    "print('ORIG TTR: {0:0.2f} %'.format(get_ttr_by_ids(ORIG_train_dataset_tok['input_ids'][:n])))\n",
    "print('INV  TTR: {0:0.2f} %'.format(get_ttr_by_ids(INV_train_dataset_tok['input_ids'][:n])))\n",
    "print('SIB  TTR: {0:0.2f} %'.format(get_ttr_by_ids(SIB_train_dataset_tok['input_ids'][:n])))"
   ]
  },
  {
   "cell_type": "code",
   "execution_count": 328,
   "metadata": {},
   "outputs": [
    {
     "name": "stdout",
     "output_type": "stream",
     "text": [
      "ORIG TTR: 2.58 %\n",
      "INV  TTR: 15.63 %\n",
      "SIB  TTR: 2.57 %\n"
     ]
    }
   ],
   "source": [
    "n = 60614\n",
    "print('ORIG TTR: {0:0.2f} %'.format(get_ttr_by_text(ORIG_train_dataset['text'][:n])))\n",
    "print('INV  TTR: {0:0.2f} %'.format(get_ttr_by_text(INV_train_dataset['text'][:n])))\n",
    "print('SIB  TTR: {0:0.2f} %'.format(get_ttr_by_text(SIB_train_dataset['text'][:n])))"
   ]
  },
  {
   "cell_type": "markdown",
   "metadata": {},
   "source": [
    "### Semantic Diversity via Similarity-Sensitive Entropy\n",
    "\n",
    "See [embedding_distance.colab](https://colab.research.google.com/drive/1lck-HH7fVY6Ml_XPnQh3ka9H42adZ7vp?usp=sharing) and [weighted species diverseity google sheet](https://docs.google.com/spreadsheets/d/1Qctv2zCMMH-9jSLzPtmmkY2X8eTky9EFOjFvJspb0tg/edit?usp=sharing)."
   ]
  },
  {
   "cell_type": "code",
   "execution_count": null,
   "metadata": {},
   "outputs": [],
   "source": []
  }
 ],
 "metadata": {
  "kernelspec": {
   "display_name": "Python 3",
   "language": "python",
   "name": "python3"
  },
  "language_info": {
   "codemirror_mode": {
    "name": "ipython",
    "version": 3
   },
   "file_extension": ".py",
   "mimetype": "text/x-python",
   "name": "python",
   "nbconvert_exporter": "python",
   "pygments_lexer": "ipython3",
   "version": "3.8.5"
  },
  "varInspector": {
   "cols": {
    "lenName": 16,
    "lenType": 16,
    "lenVar": 40
   },
   "kernels_config": {
    "python": {
     "delete_cmd_postfix": "",
     "delete_cmd_prefix": "del ",
     "library": "var_list.py",
     "varRefreshCmd": "print(var_dic_list())"
    },
    "r": {
     "delete_cmd_postfix": ") ",
     "delete_cmd_prefix": "rm(",
     "library": "var_list.r",
     "varRefreshCmd": "cat(var_dic_list()) "
    }
   },
   "types_to_exclude": [
    "module",
    "function",
    "builtin_function_or_method",
    "instance",
    "_Feature"
   ],
   "window_display": false
  }
 },
 "nbformat": 4,
 "nbformat_minor": 4
}
