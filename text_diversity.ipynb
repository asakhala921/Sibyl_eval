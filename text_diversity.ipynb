{
  "nbformat": 4,
  "nbformat_minor": 0,
  "metadata": {
    "colab": {
      "name": "text_diversity",
      "provenance": [],
      "collapsed_sections": []
    },
    "kernelspec": {
      "name": "python3",
      "display_name": "Python 3"
    },
    "widgets": {
      "application/vnd.jupyter.widget-state+json": {
        "1ba4656b90414248bc7ab9da4957e109": {
          "model_module": "@jupyter-widgets/controls",
          "model_name": "HBoxModel",
          "state": {
            "_view_name": "HBoxView",
            "_dom_classes": [],
            "_model_name": "HBoxModel",
            "_view_module": "@jupyter-widgets/controls",
            "_model_module_version": "1.5.0",
            "_view_count": null,
            "_view_module_version": "1.5.0",
            "box_style": "",
            "layout": "IPY_MODEL_974cd78a5ee74359a6731f8902cc068c",
            "_model_module": "@jupyter-widgets/controls",
            "children": [
              "IPY_MODEL_6b6e840a7c484620b57d92fba2a32abb",
              "IPY_MODEL_a5a0accc9f9241909c55e96edbbee78c"
            ]
          }
        },
        "974cd78a5ee74359a6731f8902cc068c": {
          "model_module": "@jupyter-widgets/base",
          "model_name": "LayoutModel",
          "state": {
            "_view_name": "LayoutView",
            "grid_template_rows": null,
            "right": null,
            "justify_content": null,
            "_view_module": "@jupyter-widgets/base",
            "overflow": null,
            "_model_module_version": "1.2.0",
            "_view_count": null,
            "flex_flow": null,
            "width": null,
            "min_width": null,
            "border": null,
            "align_items": null,
            "bottom": null,
            "_model_module": "@jupyter-widgets/base",
            "top": null,
            "grid_column": null,
            "overflow_y": null,
            "overflow_x": null,
            "grid_auto_flow": null,
            "grid_area": null,
            "grid_template_columns": null,
            "flex": null,
            "_model_name": "LayoutModel",
            "justify_items": null,
            "grid_row": null,
            "max_height": null,
            "align_content": null,
            "visibility": null,
            "align_self": null,
            "height": null,
            "min_height": null,
            "padding": null,
            "grid_auto_rows": null,
            "grid_gap": null,
            "max_width": null,
            "order": null,
            "_view_module_version": "1.2.0",
            "grid_template_areas": null,
            "object_position": null,
            "object_fit": null,
            "grid_auto_columns": null,
            "margin": null,
            "display": null,
            "left": null
          }
        },
        "6b6e840a7c484620b57d92fba2a32abb": {
          "model_module": "@jupyter-widgets/controls",
          "model_name": "FloatProgressModel",
          "state": {
            "_view_name": "ProgressView",
            "style": "IPY_MODEL_6b9c270dd79b4191831371df7e352d27",
            "_dom_classes": [],
            "description": "",
            "_model_name": "FloatProgressModel",
            "bar_style": "success",
            "max": 1,
            "_view_module": "@jupyter-widgets/controls",
            "_model_module_version": "1.5.0",
            "value": 1,
            "_view_count": null,
            "_view_module_version": "1.5.0",
            "orientation": "horizontal",
            "min": 0,
            "description_tooltip": null,
            "_model_module": "@jupyter-widgets/controls",
            "layout": "IPY_MODEL_e989f40134434c368d4ff884e1f8e811"
          }
        },
        "a5a0accc9f9241909c55e96edbbee78c": {
          "model_module": "@jupyter-widgets/controls",
          "model_name": "HTMLModel",
          "state": {
            "_view_name": "HTMLView",
            "style": "IPY_MODEL_354f1d95852f414d9ee3ad00e345be4c",
            "_dom_classes": [],
            "description": "",
            "_model_name": "HTMLModel",
            "placeholder": "​",
            "_view_module": "@jupyter-widgets/controls",
            "_model_module_version": "1.5.0",
            "value": " 1/0 [00:01&lt;00:00,  1.96s/it]",
            "_view_count": null,
            "_view_module_version": "1.5.0",
            "description_tooltip": null,
            "_model_module": "@jupyter-widgets/controls",
            "layout": "IPY_MODEL_c4af1513fa064b0081c3dc9c905fc3dc"
          }
        },
        "6b9c270dd79b4191831371df7e352d27": {
          "model_module": "@jupyter-widgets/controls",
          "model_name": "ProgressStyleModel",
          "state": {
            "_view_name": "StyleView",
            "_model_name": "ProgressStyleModel",
            "description_width": "initial",
            "_view_module": "@jupyter-widgets/base",
            "_model_module_version": "1.5.0",
            "_view_count": null,
            "_view_module_version": "1.2.0",
            "bar_color": null,
            "_model_module": "@jupyter-widgets/controls"
          }
        },
        "e989f40134434c368d4ff884e1f8e811": {
          "model_module": "@jupyter-widgets/base",
          "model_name": "LayoutModel",
          "state": {
            "_view_name": "LayoutView",
            "grid_template_rows": null,
            "right": null,
            "justify_content": null,
            "_view_module": "@jupyter-widgets/base",
            "overflow": null,
            "_model_module_version": "1.2.0",
            "_view_count": null,
            "flex_flow": null,
            "width": null,
            "min_width": null,
            "border": null,
            "align_items": null,
            "bottom": null,
            "_model_module": "@jupyter-widgets/base",
            "top": null,
            "grid_column": null,
            "overflow_y": null,
            "overflow_x": null,
            "grid_auto_flow": null,
            "grid_area": null,
            "grid_template_columns": null,
            "flex": null,
            "_model_name": "LayoutModel",
            "justify_items": null,
            "grid_row": null,
            "max_height": null,
            "align_content": null,
            "visibility": null,
            "align_self": null,
            "height": null,
            "min_height": null,
            "padding": null,
            "grid_auto_rows": null,
            "grid_gap": null,
            "max_width": null,
            "order": null,
            "_view_module_version": "1.2.0",
            "grid_template_areas": null,
            "object_position": null,
            "object_fit": null,
            "grid_auto_columns": null,
            "margin": null,
            "display": null,
            "left": null
          }
        },
        "354f1d95852f414d9ee3ad00e345be4c": {
          "model_module": "@jupyter-widgets/controls",
          "model_name": "DescriptionStyleModel",
          "state": {
            "_view_name": "StyleView",
            "_model_name": "DescriptionStyleModel",
            "description_width": "",
            "_view_module": "@jupyter-widgets/base",
            "_model_module_version": "1.5.0",
            "_view_count": null,
            "_view_module_version": "1.2.0",
            "_model_module": "@jupyter-widgets/controls"
          }
        },
        "c4af1513fa064b0081c3dc9c905fc3dc": {
          "model_module": "@jupyter-widgets/base",
          "model_name": "LayoutModel",
          "state": {
            "_view_name": "LayoutView",
            "grid_template_rows": null,
            "right": null,
            "justify_content": null,
            "_view_module": "@jupyter-widgets/base",
            "overflow": null,
            "_model_module_version": "1.2.0",
            "_view_count": null,
            "flex_flow": null,
            "width": null,
            "min_width": null,
            "border": null,
            "align_items": null,
            "bottom": null,
            "_model_module": "@jupyter-widgets/base",
            "top": null,
            "grid_column": null,
            "overflow_y": null,
            "overflow_x": null,
            "grid_auto_flow": null,
            "grid_area": null,
            "grid_template_columns": null,
            "flex": null,
            "_model_name": "LayoutModel",
            "justify_items": null,
            "grid_row": null,
            "max_height": null,
            "align_content": null,
            "visibility": null,
            "align_self": null,
            "height": null,
            "min_height": null,
            "padding": null,
            "grid_auto_rows": null,
            "grid_gap": null,
            "max_width": null,
            "order": null,
            "_view_module_version": "1.2.0",
            "grid_template_areas": null,
            "object_position": null,
            "object_fit": null,
            "grid_auto_columns": null,
            "margin": null,
            "display": null,
            "left": null
          }
        },
        "34982becaf024c24b35faa1bdd429613": {
          "model_module": "@jupyter-widgets/controls",
          "model_name": "HBoxModel",
          "state": {
            "_view_name": "HBoxView",
            "_dom_classes": [],
            "_model_name": "HBoxModel",
            "_view_module": "@jupyter-widgets/controls",
            "_model_module_version": "1.5.0",
            "_view_count": null,
            "_view_module_version": "1.5.0",
            "box_style": "",
            "layout": "IPY_MODEL_83f153432d45443685bb1e5e96c3db7b",
            "_model_module": "@jupyter-widgets/controls",
            "children": [
              "IPY_MODEL_f6d7660915964b899e9f30c874c45f9a",
              "IPY_MODEL_666151577ec44890abb61a7d993b8b78"
            ]
          }
        },
        "83f153432d45443685bb1e5e96c3db7b": {
          "model_module": "@jupyter-widgets/base",
          "model_name": "LayoutModel",
          "state": {
            "_view_name": "LayoutView",
            "grid_template_rows": null,
            "right": null,
            "justify_content": null,
            "_view_module": "@jupyter-widgets/base",
            "overflow": null,
            "_model_module_version": "1.2.0",
            "_view_count": null,
            "flex_flow": null,
            "width": null,
            "min_width": null,
            "border": null,
            "align_items": null,
            "bottom": null,
            "_model_module": "@jupyter-widgets/base",
            "top": null,
            "grid_column": null,
            "overflow_y": null,
            "overflow_x": null,
            "grid_auto_flow": null,
            "grid_area": null,
            "grid_template_columns": null,
            "flex": null,
            "_model_name": "LayoutModel",
            "justify_items": null,
            "grid_row": null,
            "max_height": null,
            "align_content": null,
            "visibility": null,
            "align_self": null,
            "height": null,
            "min_height": null,
            "padding": null,
            "grid_auto_rows": null,
            "grid_gap": null,
            "max_width": null,
            "order": null,
            "_view_module_version": "1.2.0",
            "grid_template_areas": null,
            "object_position": null,
            "object_fit": null,
            "grid_auto_columns": null,
            "margin": null,
            "display": null,
            "left": null
          }
        },
        "f6d7660915964b899e9f30c874c45f9a": {
          "model_module": "@jupyter-widgets/controls",
          "model_name": "FloatProgressModel",
          "state": {
            "_view_name": "ProgressView",
            "style": "IPY_MODEL_0f57ad5654a444c792c1491a480024d1",
            "_dom_classes": [],
            "description": "100%",
            "_model_name": "FloatProgressModel",
            "bar_style": "success",
            "max": 13,
            "_view_module": "@jupyter-widgets/controls",
            "_model_module_version": "1.5.0",
            "value": 13,
            "_view_count": null,
            "_view_module_version": "1.5.0",
            "orientation": "horizontal",
            "min": 0,
            "description_tooltip": null,
            "_model_module": "@jupyter-widgets/controls",
            "layout": "IPY_MODEL_e554522bd5e54da1a9f754505a747248"
          }
        },
        "666151577ec44890abb61a7d993b8b78": {
          "model_module": "@jupyter-widgets/controls",
          "model_name": "HTMLModel",
          "state": {
            "_view_name": "HTMLView",
            "style": "IPY_MODEL_b634113277aa48d6b4385166aa738852",
            "_dom_classes": [],
            "description": "",
            "_model_name": "HTMLModel",
            "placeholder": "​",
            "_view_module": "@jupyter-widgets/controls",
            "_model_module_version": "1.5.0",
            "value": " 13/13 [02:54&lt;00:00, 13.43s/it]",
            "_view_count": null,
            "_view_module_version": "1.5.0",
            "description_tooltip": null,
            "_model_module": "@jupyter-widgets/controls",
            "layout": "IPY_MODEL_2f2243dc922849da9e0af8583cde0c52"
          }
        },
        "0f57ad5654a444c792c1491a480024d1": {
          "model_module": "@jupyter-widgets/controls",
          "model_name": "ProgressStyleModel",
          "state": {
            "_view_name": "StyleView",
            "_model_name": "ProgressStyleModel",
            "description_width": "initial",
            "_view_module": "@jupyter-widgets/base",
            "_model_module_version": "1.5.0",
            "_view_count": null,
            "_view_module_version": "1.2.0",
            "bar_color": null,
            "_model_module": "@jupyter-widgets/controls"
          }
        },
        "e554522bd5e54da1a9f754505a747248": {
          "model_module": "@jupyter-widgets/base",
          "model_name": "LayoutModel",
          "state": {
            "_view_name": "LayoutView",
            "grid_template_rows": null,
            "right": null,
            "justify_content": null,
            "_view_module": "@jupyter-widgets/base",
            "overflow": null,
            "_model_module_version": "1.2.0",
            "_view_count": null,
            "flex_flow": null,
            "width": null,
            "min_width": null,
            "border": null,
            "align_items": null,
            "bottom": null,
            "_model_module": "@jupyter-widgets/base",
            "top": null,
            "grid_column": null,
            "overflow_y": null,
            "overflow_x": null,
            "grid_auto_flow": null,
            "grid_area": null,
            "grid_template_columns": null,
            "flex": null,
            "_model_name": "LayoutModel",
            "justify_items": null,
            "grid_row": null,
            "max_height": null,
            "align_content": null,
            "visibility": null,
            "align_self": null,
            "height": null,
            "min_height": null,
            "padding": null,
            "grid_auto_rows": null,
            "grid_gap": null,
            "max_width": null,
            "order": null,
            "_view_module_version": "1.2.0",
            "grid_template_areas": null,
            "object_position": null,
            "object_fit": null,
            "grid_auto_columns": null,
            "margin": null,
            "display": null,
            "left": null
          }
        },
        "b634113277aa48d6b4385166aa738852": {
          "model_module": "@jupyter-widgets/controls",
          "model_name": "DescriptionStyleModel",
          "state": {
            "_view_name": "StyleView",
            "_model_name": "DescriptionStyleModel",
            "description_width": "",
            "_view_module": "@jupyter-widgets/base",
            "_model_module_version": "1.5.0",
            "_view_count": null,
            "_view_module_version": "1.2.0",
            "_model_module": "@jupyter-widgets/controls"
          }
        },
        "2f2243dc922849da9e0af8583cde0c52": {
          "model_module": "@jupyter-widgets/base",
          "model_name": "LayoutModel",
          "state": {
            "_view_name": "LayoutView",
            "grid_template_rows": null,
            "right": null,
            "justify_content": null,
            "_view_module": "@jupyter-widgets/base",
            "overflow": null,
            "_model_module_version": "1.2.0",
            "_view_count": null,
            "flex_flow": null,
            "width": null,
            "min_width": null,
            "border": null,
            "align_items": null,
            "bottom": null,
            "_model_module": "@jupyter-widgets/base",
            "top": null,
            "grid_column": null,
            "overflow_y": null,
            "overflow_x": null,
            "grid_auto_flow": null,
            "grid_area": null,
            "grid_template_columns": null,
            "flex": null,
            "_model_name": "LayoutModel",
            "justify_items": null,
            "grid_row": null,
            "max_height": null,
            "align_content": null,
            "visibility": null,
            "align_self": null,
            "height": null,
            "min_height": null,
            "padding": null,
            "grid_auto_rows": null,
            "grid_gap": null,
            "max_width": null,
            "order": null,
            "_view_module_version": "1.2.0",
            "grid_template_areas": null,
            "object_position": null,
            "object_fit": null,
            "grid_auto_columns": null,
            "margin": null,
            "display": null,
            "left": null
          }
        }
      }
    },
    "accelerator": "GPU"
  },
  "cells": [
    {
      "cell_type": "markdown",
      "metadata": {
        "id": "9l2pPFIq0Fhb"
      },
      "source": [
        "# Text Diversity Metric based on Contextualized Word Embeddings"
      ]
    },
    {
      "cell_type": "code",
      "metadata": {
        "colab": {
          "base_uri": "https://localhost:8080/"
        },
        "id": "LLZkm4xv0P3g",
        "outputId": "d4010082-801f-44a3-fc59-5064c78097d8"
      },
      "source": [
        "!pip install transformers\r\n",
        "!pip install datasets"
      ],
      "execution_count": 3,
      "outputs": [
        {
          "output_type": "stream",
          "text": [
            "Collecting transformers\n",
            "\u001b[?25l  Downloading https://files.pythonhosted.org/packages/84/ea/634945faff8ad6984b98f7f3d98f6d83083a18af44e349744d90bde81f80/transformers-4.2.0-py3-none-any.whl (1.8MB)\n",
            "\u001b[K     |████████████████████████████████| 1.8MB 8.4MB/s \n",
            "\u001b[?25hRequirement already satisfied: requests in /usr/local/lib/python3.6/dist-packages (from transformers) (2.23.0)\n",
            "Requirement already satisfied: regex!=2019.12.17 in /usr/local/lib/python3.6/dist-packages (from transformers) (2019.12.20)\n",
            "Requirement already satisfied: dataclasses; python_version < \"3.7\" in /usr/local/lib/python3.6/dist-packages (from transformers) (0.8)\n",
            "Requirement already satisfied: importlib-metadata; python_version < \"3.8\" in /usr/local/lib/python3.6/dist-packages (from transformers) (3.3.0)\n",
            "Requirement already satisfied: packaging in /usr/local/lib/python3.6/dist-packages (from transformers) (20.8)\n",
            "Collecting tokenizers==0.9.4\n",
            "\u001b[?25l  Downloading https://files.pythonhosted.org/packages/0f/1c/e789a8b12e28be5bc1ce2156cf87cb522b379be9cadc7ad8091a4cc107c4/tokenizers-0.9.4-cp36-cp36m-manylinux2010_x86_64.whl (2.9MB)\n",
            "\u001b[K     |████████████████████████████████| 2.9MB 50.5MB/s \n",
            "\u001b[?25hRequirement already satisfied: filelock in /usr/local/lib/python3.6/dist-packages (from transformers) (3.0.12)\n",
            "Requirement already satisfied: tqdm>=4.27 in /usr/local/lib/python3.6/dist-packages (from transformers) (4.41.1)\n",
            "Requirement already satisfied: numpy in /usr/local/lib/python3.6/dist-packages (from transformers) (1.19.5)\n",
            "Collecting sacremoses\n",
            "\u001b[?25l  Downloading https://files.pythonhosted.org/packages/7d/34/09d19aff26edcc8eb2a01bed8e98f13a1537005d31e95233fd48216eed10/sacremoses-0.0.43.tar.gz (883kB)\n",
            "\u001b[K     |████████████████████████████████| 890kB 41.9MB/s \n",
            "\u001b[?25hRequirement already satisfied: chardet<4,>=3.0.2 in /usr/local/lib/python3.6/dist-packages (from requests->transformers) (3.0.4)\n",
            "Requirement already satisfied: urllib3!=1.25.0,!=1.25.1,<1.26,>=1.21.1 in /usr/local/lib/python3.6/dist-packages (from requests->transformers) (1.24.3)\n",
            "Requirement already satisfied: idna<3,>=2.5 in /usr/local/lib/python3.6/dist-packages (from requests->transformers) (2.10)\n",
            "Requirement already satisfied: certifi>=2017.4.17 in /usr/local/lib/python3.6/dist-packages (from requests->transformers) (2020.12.5)\n",
            "Requirement already satisfied: typing-extensions>=3.6.4; python_version < \"3.8\" in /usr/local/lib/python3.6/dist-packages (from importlib-metadata; python_version < \"3.8\"->transformers) (3.7.4.3)\n",
            "Requirement already satisfied: zipp>=0.5 in /usr/local/lib/python3.6/dist-packages (from importlib-metadata; python_version < \"3.8\"->transformers) (3.4.0)\n",
            "Requirement already satisfied: pyparsing>=2.0.2 in /usr/local/lib/python3.6/dist-packages (from packaging->transformers) (2.4.7)\n",
            "Requirement already satisfied: six in /usr/local/lib/python3.6/dist-packages (from sacremoses->transformers) (1.15.0)\n",
            "Requirement already satisfied: click in /usr/local/lib/python3.6/dist-packages (from sacremoses->transformers) (7.1.2)\n",
            "Requirement already satisfied: joblib in /usr/local/lib/python3.6/dist-packages (from sacremoses->transformers) (1.0.0)\n",
            "Building wheels for collected packages: sacremoses\n",
            "  Building wheel for sacremoses (setup.py) ... \u001b[?25l\u001b[?25hdone\n",
            "  Created wheel for sacremoses: filename=sacremoses-0.0.43-cp36-none-any.whl size=893261 sha256=bb2f2ed694b669724915782db9807c7481576b9cb770a9a4b5d54d01e2388ff0\n",
            "  Stored in directory: /root/.cache/pip/wheels/29/3c/fd/7ce5c3f0666dab31a50123635e6fb5e19ceb42ce38d4e58f45\n",
            "Successfully built sacremoses\n",
            "Installing collected packages: tokenizers, sacremoses, transformers\n",
            "Successfully installed sacremoses-0.0.43 tokenizers-0.9.4 transformers-4.2.0\n",
            "Collecting datasets\n",
            "\u001b[?25l  Downloading https://files.pythonhosted.org/packages/06/9b/d097f2238fc3c028495cf5f8c65378972b9f1b2cbb27f3c57c7219195aa9/datasets-1.2.1-py3-none-any.whl (159kB)\n",
            "\u001b[K     |████████████████████████████████| 163kB 8.2MB/s \n",
            "\u001b[?25hCollecting pyarrow>=0.17.1\n",
            "\u001b[?25l  Downloading https://files.pythonhosted.org/packages/d7/e1/27958a70848f8f7089bff8d6ebe42519daf01f976d28b481e1bfd52c8097/pyarrow-2.0.0-cp36-cp36m-manylinux2014_x86_64.whl (17.7MB)\n",
            "\u001b[K     |████████████████████████████████| 17.7MB 214kB/s \n",
            "\u001b[?25hRequirement already satisfied: tqdm<4.50.0,>=4.27 in /usr/local/lib/python3.6/dist-packages (from datasets) (4.41.1)\n",
            "Requirement already satisfied: multiprocess in /usr/local/lib/python3.6/dist-packages (from datasets) (0.70.11.1)\n",
            "Requirement already satisfied: dill in /usr/local/lib/python3.6/dist-packages (from datasets) (0.3.3)\n",
            "Requirement already satisfied: importlib-metadata; python_version < \"3.8\" in /usr/local/lib/python3.6/dist-packages (from datasets) (3.3.0)\n",
            "Requirement already satisfied: pandas in /usr/local/lib/python3.6/dist-packages (from datasets) (1.1.5)\n",
            "Collecting xxhash\n",
            "\u001b[?25l  Downloading https://files.pythonhosted.org/packages/f7/73/826b19f3594756cb1c6c23d2fbd8ca6a77a9cd3b650c9dec5acc85004c38/xxhash-2.0.0-cp36-cp36m-manylinux2010_x86_64.whl (242kB)\n",
            "\u001b[K     |████████████████████████████████| 245kB 50.1MB/s \n",
            "\u001b[?25hRequirement already satisfied: numpy>=1.17 in /usr/local/lib/python3.6/dist-packages (from datasets) (1.19.5)\n",
            "Requirement already satisfied: dataclasses; python_version < \"3.7\" in /usr/local/lib/python3.6/dist-packages (from datasets) (0.8)\n",
            "Requirement already satisfied: requests>=2.19.0 in /usr/local/lib/python3.6/dist-packages (from datasets) (2.23.0)\n",
            "Requirement already satisfied: zipp>=0.5 in /usr/local/lib/python3.6/dist-packages (from importlib-metadata; python_version < \"3.8\"->datasets) (3.4.0)\n",
            "Requirement already satisfied: typing-extensions>=3.6.4; python_version < \"3.8\" in /usr/local/lib/python3.6/dist-packages (from importlib-metadata; python_version < \"3.8\"->datasets) (3.7.4.3)\n",
            "Requirement already satisfied: python-dateutil>=2.7.3 in /usr/local/lib/python3.6/dist-packages (from pandas->datasets) (2.8.1)\n",
            "Requirement already satisfied: pytz>=2017.2 in /usr/local/lib/python3.6/dist-packages (from pandas->datasets) (2018.9)\n",
            "Requirement already satisfied: chardet<4,>=3.0.2 in /usr/local/lib/python3.6/dist-packages (from requests>=2.19.0->datasets) (3.0.4)\n",
            "Requirement already satisfied: certifi>=2017.4.17 in /usr/local/lib/python3.6/dist-packages (from requests>=2.19.0->datasets) (2020.12.5)\n",
            "Requirement already satisfied: idna<3,>=2.5 in /usr/local/lib/python3.6/dist-packages (from requests>=2.19.0->datasets) (2.10)\n",
            "Requirement already satisfied: urllib3!=1.25.0,!=1.25.1,<1.26,>=1.21.1 in /usr/local/lib/python3.6/dist-packages (from requests>=2.19.0->datasets) (1.24.3)\n",
            "Requirement already satisfied: six>=1.5 in /usr/local/lib/python3.6/dist-packages (from python-dateutil>=2.7.3->pandas->datasets) (1.15.0)\n",
            "Installing collected packages: pyarrow, xxhash, datasets\n",
            "  Found existing installation: pyarrow 0.14.1\n",
            "    Uninstalling pyarrow-0.14.1:\n",
            "      Successfully uninstalled pyarrow-0.14.1\n",
            "Successfully installed datasets-1.2.1 pyarrow-2.0.0 xxhash-2.0.0\n"
          ],
          "name": "stdout"
        }
      ]
    },
    {
      "cell_type": "code",
      "metadata": {
        "id": "z5y_DIkVL5E3"
      },
      "source": [
        "from transformers import AutoModel, AutoTokenizer\r\n",
        "from datasets import load_dataset\r\n",
        "from scipy import spatial\r\n",
        "from sklearn.decomposition import PCA\r\n",
        "import torch\r\n",
        "import numpy as np\r\n",
        "from tqdm.notebook import tqdm as tqdm\r\n",
        "import pprint\r\n",
        "\r\n",
        "np.set_printoptions(precision=2, suppress=True)\r\n",
        "pp = pprint.PrettyPrinter(width=120)"
      ],
      "execution_count": 45,
      "outputs": []
    },
    {
      "cell_type": "code",
      "metadata": {
        "id": "mV4MnX6iOpJe"
      },
      "source": [
        "def chunker(seq, size):\r\n",
        "    return (seq[pos:pos + size] for pos in range(0, len(seq), size))"
      ],
      "execution_count": 5,
      "outputs": []
    },
    {
      "cell_type": "code",
      "metadata": {
        "id": "BKP-9PS3abYK"
      },
      "source": [
        "class TextDiversity:\r\n",
        "    def __init__(self, MODEL_NAME=\"bert-base-uncased\", batch_size=16, use_gpu=True, verbose=False):\r\n",
        "        self.MODEL_NAME = MODEL_NAME\r\n",
        "        self.model = AutoModel.from_pretrained(MODEL_NAME)\r\n",
        "        self.tokenizer = AutoTokenizer.from_pretrained(MODEL_NAME)\r\n",
        "        self.undesirable_tokens = [\r\n",
        "            self.tokenizer.pad_token_id, \r\n",
        "            self.tokenizer.cls_token_id, \r\n",
        "            self.tokenizer.sep_token_id\r\n",
        "        ]\r\n",
        "        self.batch_size = batch_size\r\n",
        "        self.use_gpu = use_gpu\r\n",
        "        self.device = torch.device('cuda' if use_gpu and torch.cuda.is_available() else 'cpu')\r\n",
        "        self.verbose = verbose\r\n",
        "\r\n",
        "        self.model.to(self.device)\r\n",
        "    \r\n",
        "    def __call__(self, corpus, q=1, distance_fn=None, n_components=2, normalize=False):\r\n",
        "        \r\n",
        "        # get embeddings from model\r\n",
        "        inputs = self.tokenizer(corpus, return_tensors='pt', padding=True, truncation=True)\r\n",
        "        embeddings = self.get_embeddings(inputs)\r\n",
        "\r\n",
        "        idx = np.isin(inputs['input_ids'],  self.undesirable_tokens, assume_unique=True, invert=True).reshape(-1)\r\n",
        "        tok = np.array(self.tokenizer.convert_ids_to_tokens(inputs.input_ids.view(-1)))[idx]\r\n",
        "        boe = embeddings.view(-1, embeddings.shape[-1])[idx].detach().cpu()\r\n",
        "\r\n",
        "        # TODO: figure out how to handle BPE breakdown of single word into multiple token_ids (skews metric)\r\n",
        "        if len(boe) == 1:\r\n",
        "            return {'diversity': 1}\r\n",
        "\r\n",
        "        # compress embedding info\r\n",
        "        if type(n_components) == int and n_components > 0:\r\n",
        "            boe = PCA(n_components=n_components).fit_transform(boe)\r\n",
        "        \r\n",
        "        # diversity\r\n",
        "        p = np.full(boe.shape[0], 1/boe.shape[0])\r\n",
        "        Z = self.get_token_similarities(boe, distance_fn)\r\n",
        "        Zp = p @ Z\r\n",
        "        if q == 1:\r\n",
        "            D = 1 / np.prod(Zp ** p)\r\n",
        "            # H = -(p * np.log(Zp)).sum()\r\n",
        "            # D = np.exp(H)\r\n",
        "        elif q == np.inf:\r\n",
        "            D = 1 / Zp.max()\r\n",
        "        else:\r\n",
        "            D = ((p * Zp).sum() ** (q-1)) ** (1/(1-q))\r\n",
        "        \r\n",
        "        if normalize:\r\n",
        "            D /= len(tok)\r\n",
        "\r\n",
        "        if self.verbose:\r\n",
        "            ret = {\r\n",
        "                'diversity': D,\r\n",
        "                'frequencies': p,\r\n",
        "                'similarities': Z,\r\n",
        "                'effective_frequencies': Zp,\r\n",
        "                'entropy': np.log(D),\r\n",
        "                'tokens': tok,\r\n",
        "                'bag_of_embeddings': boe\r\n",
        "            } \r\n",
        "        else:\r\n",
        "            ret = {\r\n",
        "                'diversity': D\r\n",
        "            }    \r\n",
        "        \r\n",
        "        return ret\r\n",
        "\r\n",
        "    def encode(self, input_ids, attention_mask):\r\n",
        "        self.model.eval()\r\n",
        "        with torch.no_grad():\r\n",
        "            out = self.model(input_ids, attention_mask=attention_mask)\r\n",
        "        emb = out[0]\r\n",
        "        return emb\r\n",
        "\r\n",
        "    def get_embeddings(self, tokenized_inputs):\r\n",
        "        batches = zip(chunker(tokenized_inputs.input_ids, self.batch_size), \r\n",
        "                      chunker(tokenized_inputs.attention_mask, self.batch_size))\r\n",
        "        if self.verbose:\r\n",
        "            print('getting token embeddings...')\r\n",
        "            batches = tqdm(batches, total=int(len(tokenized_inputs.input_ids)/self.batch_size))\r\n",
        "        outputs = []\r\n",
        "        for input_ids, attention_mask in batches:\r\n",
        "          emb = self.encode(input_ids.to(self.device), \r\n",
        "                       attention_mask.to(self.device))\r\n",
        "          outputs.append(emb)\r\n",
        "        embeddings = torch.cat(outputs)\r\n",
        "        return embeddings\r\n",
        "\r\n",
        "    def get_token_similarities(self, boe, dist_fn=None):\r\n",
        "        if dist_fn is None:\r\n",
        "            dist_fn = spatial.distance.chebyshev  \r\n",
        "\r\n",
        "        num_embeddings = len(boe)\r\n",
        "\r\n",
        "        e_dists = np.ones((num_embeddings, num_embeddings))\r\n",
        "        iu = np.triu_indices(num_embeddings, k=1)\r\n",
        "        il = (iu[1], iu[0])\r\n",
        "\r\n",
        "        iterable = range(num_embeddings)\r\n",
        "        if self.verbose:\r\n",
        "            print('calculating similarity matrix...')\r\n",
        "            iterable = tqdm(iterable)\r\n",
        "\r\n",
        "        for e1 in iterable:\r\n",
        "            for e2 in range(1, num_embeddings - e1):\r\n",
        "                d = dist_fn(boe[e1], boe[e1 + e2])\r\n",
        "                scaled_d = np.exp(-d)\r\n",
        "                e_dists[e1][e1 + e2] = scaled_d        \r\n",
        "        e_dists[il] = e_dists[iu]\r\n",
        "        return e_dists"
      ],
      "execution_count": 80,
      "outputs": []
    },
    {
      "cell_type": "code",
      "metadata": {
        "id": "qI0eQHS-behZ"
      },
      "source": [
        "diversity_metric = TextDiversity(verbose=False)"
      ],
      "execution_count": 81,
      "outputs": []
    },
    {
      "cell_type": "code",
      "metadata": {
        "id": "uS-F3NSQocuJ",
        "colab": {
          "base_uri": "https://localhost:8080/"
        },
        "outputId": "afcf85bf-672c-40db-833c-c5933d995c22"
      },
      "source": [
        "corpus1 = [\r\n",
        "    'python is hard',\r\n",
        "    'pythons are snakes',\r\n",
        "    'jokes be funny'\r\n",
        "]\r\n",
        "\r\n",
        "corpus2 = [\r\n",
        "    'The celestial orb is red',\r\n",
        "    'The star is orange',\r\n",
        "    'The sun is yellow'\r\n",
        "]\r\n",
        "\r\n",
        "train = load_dataset('glue', 'sst2')['train']\r\n",
        "train.rename_column_('sentence', 'text')"
      ],
      "execution_count": 82,
      "outputs": [
        {
          "output_type": "stream",
          "text": [
            "Reusing dataset glue (/root/.cache/huggingface/datasets/glue/sst2/1.0.0/7c99657241149a24692c402a5c3f34d4c9f1df5ac2e4c3759fadea38f6cb29c4)\n"
          ],
          "name": "stderr"
        }
      ]
    },
    {
      "cell_type": "code",
      "metadata": {
        "colab": {
          "base_uri": "https://localhost:8080/"
        },
        "id": "cwmjr2eqCMzW",
        "outputId": "3e964ccb-129f-4e46-d69f-6af1ae090022"
      },
      "source": [
        "pp.pprint(corpus1)\r\n",
        "pp.pprint(diversity_metric(corpus1, q=1))\r\n",
        "\r\n",
        "print()\r\n",
        "\r\n",
        "pp.pprint(corpus2)\r\n",
        "pp.pprint(diversity_metric(corpus2, q=1))\r\n",
        "\r\n",
        "# n = np.random.randint(0, len(train['text']), 20)\r\n",
        "# corpus3 = np.array(train['text'])[n].tolist()\r\n",
        "# # pp.pprint(corpus3)\r\n",
        "# pp.pprint(diversity_metric(corpus3))"
      ],
      "execution_count": 90,
      "outputs": [
        {
          "output_type": "stream",
          "text": [
            "['python is hard', 'pythons are snakes', 'jokes be funny']\n",
            "{'diversity': 8.950229628578613}\n",
            "\n",
            "['The celestial orb is red', 'The star is orange', 'The sun is yellow']\n",
            "{'diversity': 6.502533921158242}\n"
          ],
          "name": "stdout"
        }
      ]
    },
    {
      "cell_type": "code",
      "metadata": {
        "id": "8UYtXK9VB9fQ"
      },
      "source": [
        "for _ in range(10):\r\n",
        "    i = np.random.randint(0, len(train['text']), 1)\r\n",
        "    corpus = np.array(train['text'])[i].tolist()\r\n",
        "    print(corpus[0])\r\n",
        "    print('diveristy:', diversity_metric(corpus))\r\n",
        "    print()"
      ],
      "execution_count": null,
      "outputs": []
    },
    {
      "cell_type": "code",
      "metadata": {
        "id": "sZGqnMafmm3o"
      },
      "source": [
        "max_dist = 0\r\n",
        "obj = ()\r\n",
        "for dist_fn in distance_fns:\r\n",
        "  for n_components in range(1, 11):\r\n",
        "    c1_div = round(metric(corpus1, dist_fn, n_components), 4)\r\n",
        "    c2_div = round(metric(corpus2, dist_fn, n_components), 4)\r\n",
        "    dist = round(c1_div - c2_div, 4)\r\n",
        "    if dist > max_dist:\r\n",
        "        max_dist = dist\r\n",
        "        obj = (dist_fn.__name__, n_components)\r\n",
        "    print(dist_fn.__name__, n_components, c1_div, c2_div, dist)\r\n",
        "print(max_dist, obj)"
      ],
      "execution_count": null,
      "outputs": []
    },
    {
      "cell_type": "markdown",
      "metadata": {
        "id": "7DkhTqIU1Mwj"
      },
      "source": [
        "# Development Area\r\n",
        "Non-object code"
      ]
    },
    {
      "cell_type": "code",
      "metadata": {
        "id": "PPV6A-BxLaj9"
      },
      "source": [
        "# Store the model we want to use\r\n",
        "MODEL_NAME = \"bert-base-uncased\"\r\n",
        "batch_size = 10\r\n",
        "\r\n",
        "# We need to create the model and tokenizer\r\n",
        "model = AutoModel.from_pretrained(MODEL_NAME)\r\n",
        "tokenizer = AutoTokenizer.from_pretrained(MODEL_NAME)\r\n",
        "\r\n",
        "undesirable_tokens = [\r\n",
        "            tokenizer.pad_token_id, \r\n",
        "            tokenizer.cls_token_id, \r\n",
        "            tokenizer.sep_token_id\r\n",
        "        ]"
      ],
      "execution_count": 43,
      "outputs": []
    },
    {
      "cell_type": "code",
      "metadata": {
        "colab": {
          "base_uri": "https://localhost:8080/",
          "height": 66,
          "referenced_widgets": [
            "1ba4656b90414248bc7ab9da4957e109",
            "974cd78a5ee74359a6731f8902cc068c",
            "6b6e840a7c484620b57d92fba2a32abb",
            "a5a0accc9f9241909c55e96edbbee78c",
            "6b9c270dd79b4191831371df7e352d27",
            "e989f40134434c368d4ff884e1f8e811",
            "354f1d95852f414d9ee3ad00e345be4c",
            "c4af1513fa064b0081c3dc9c905fc3dc"
          ]
        },
        "id": "x4eVqs-kmnp0",
        "outputId": "dc784327-f96b-4a78-8a25-9421d403150f"
      },
      "source": [
        "inputs = tokenizer(corpus2, return_tensors='pt', padding=True)\r\n",
        "embeddings = get_embeddings(inputs)"
      ],
      "execution_count": 61,
      "outputs": [
        {
          "output_type": "display_data",
          "data": {
            "application/vnd.jupyter.widget-view+json": {
              "model_id": "1ba4656b90414248bc7ab9da4957e109",
              "version_minor": 0,
              "version_major": 2
            },
            "text/plain": [
              "HBox(children=(FloatProgress(value=1.0, bar_style='info', max=1.0), HTML(value='')))"
            ]
          },
          "metadata": {
            "tags": []
          }
        },
        {
          "output_type": "stream",
          "text": [
            "\n"
          ],
          "name": "stdout"
        }
      ]
    },
    {
      "cell_type": "code",
      "metadata": {
        "id": "rUitU4GDJaaU"
      },
      "source": [
        "idx = np.isin(inputs['input_ids'], undesirable_tokens, assume_unique=True, invert=True).reshape(-1)\r\n",
        "tok = np.array(tokenizer.convert_ids_to_tokens(inputs.input_ids.view(-1)))[idx]\r\n",
        "boe = embeddings.view(-1, embeddings.shape[-1])[idx].detach()\r\n",
        "\r\n",
        "n_components = 2\r\n",
        "if type(n_components) == int and n_components > 0:\r\n",
        "    boe = PCA(n_components=n_components).fit_transform(boe)"
      ],
      "execution_count": 62,
      "outputs": []
    },
    {
      "cell_type": "code",
      "metadata": {
        "id": "O6ZKkKnXxGgj",
        "colab": {
          "base_uri": "https://localhost:8080/",
          "height": 66,
          "referenced_widgets": [
            "34982becaf024c24b35faa1bdd429613",
            "83f153432d45443685bb1e5e96c3db7b",
            "f6d7660915964b899e9f30c874c45f9a",
            "666151577ec44890abb61a7d993b8b78",
            "0f57ad5654a444c792c1491a480024d1",
            "e554522bd5e54da1a9f754505a747248",
            "b634113277aa48d6b4385166aa738852",
            "2f2243dc922849da9e0af8583cde0c52"
          ]
        },
        "outputId": "a5d3c09b-6851-477d-e314-919495f53a92"
      },
      "source": [
        "freq = np.full(boe.shape[0], 1/boe.shape[0])\r\n",
        "e_sim = get_token_similarities(boe)\r\n",
        "eff_e_sim = freq @ e_sim\r\n",
        "H = -(freq * np.log(eff_e_sim)).sum()\r\n",
        "diversity = np.exp(H)"
      ],
      "execution_count": 63,
      "outputs": [
        {
          "output_type": "display_data",
          "data": {
            "application/vnd.jupyter.widget-view+json": {
              "model_id": "34982becaf024c24b35faa1bdd429613",
              "version_minor": 0,
              "version_major": 2
            },
            "text/plain": [
              "HBox(children=(FloatProgress(value=0.0, max=13.0), HTML(value='')))"
            ]
          },
          "metadata": {
            "tags": []
          }
        },
        {
          "output_type": "stream",
          "text": [
            "\n"
          ],
          "name": "stdout"
        }
      ]
    },
    {
      "cell_type": "code",
      "metadata": {
        "colab": {
          "base_uri": "https://localhost:8080/"
        },
        "id": "HbcbJwJPsqa1",
        "outputId": "9fd739c3-1a15-45ba-fa1c-534fe29d424f"
      },
      "source": [
        "diversity, diversity/len(tok)"
      ],
      "execution_count": 64,
      "outputs": [
        {
          "output_type": "execute_result",
          "data": {
            "text/plain": [
              "(6.502530591271502, 0.5001946608670387)"
            ]
          },
          "metadata": {
            "tags": []
          },
          "execution_count": 64
        }
      ]
    },
    {
      "cell_type": "code",
      "metadata": {
        "colab": {
          "base_uri": "https://localhost:8080/"
        },
        "id": "dHcXIRifEpjJ",
        "outputId": "18af4779-2425-4f68-f36e-29003e86cc7e"
      },
      "source": [
        "tok.shape"
      ],
      "execution_count": 59,
      "outputs": [
        {
          "output_type": "execute_result",
          "data": {
            "text/plain": [
              "(10,)"
            ]
          },
          "metadata": {
            "tags": []
          },
          "execution_count": 59
        }
      ]
    },
    {
      "cell_type": "markdown",
      "metadata": {
        "id": "dpabxHLk1VHM"
      },
      "source": [
        "## Which distance gives good results?"
      ]
    },
    {
      "cell_type": "code",
      "metadata": {
        "colab": {
          "base_uri": "https://localhost:8080/"
        },
        "id": "dpx-v5qpOYBV",
        "outputId": "87a22314-2703-4ccd-aa39-fff1197449cc"
      },
      "source": [
        "from scipy.stats import wasserstein_distance\r\n",
        "from scipy import spatial\r\n",
        "\r\n",
        "distance_fns = [\r\n",
        "  spatial.distance.braycurtis,\r\n",
        "  spatial.distance.canberra,\r\n",
        "  spatial.distance.chebyshev,\r\n",
        "  spatial.distance.cityblock,\r\n",
        "  spatial.distance.correlation,\r\n",
        "  spatial.distance.cosine,\r\n",
        "  spatial.distance.euclidean,\r\n",
        "  spatial.distance.jensenshannon,\r\n",
        "  # spatial.distance.mahalanobis,\r\n",
        "  spatial.distance.minkowski,\r\n",
        "  # spatial.distance.seuclidean,\r\n",
        "  # spatial.distance.sqeuclidean,\r\n",
        "  # spatial.distance.wminkowski,\r\n",
        "  wasserstein_distance\r\n",
        "]\r\n",
        "\r\n",
        "print(corpus1, boe)\r\n",
        "for dist_fn in distance_fns:\r\n",
        "  print(dist_fn.__name__)\r\n",
        "  e_dists = get_token_similarities(boe, dist_fn)\r\n",
        "  print(e_dists)"
      ],
      "execution_count": null,
      "outputs": [
        {
          "output_type": "stream",
          "text": [
            "['I am a thug', 'You are a thug', 'We are thugs'] [[-3.28 -0.69]\n",
            " [-6.22 -3.05]\n",
            " [-0.51 -3.53]\n",
            " [ 4.93 -3.94]\n",
            " [ 0.44 10.1 ]\n",
            " [-6.98 -0.97]\n",
            " [-1.08 -2.59]\n",
            " [ 7.34 -2.64]\n",
            " [ 2.03  9.18]\n",
            " [-5.05  0.09]\n",
            " [ 8.38 -1.96]]\n",
            "braycurtis\n",
            "[[1.   0.67 0.5  0.16 0.31 0.72 0.59 0.18 0.21 0.75 0.19]\n",
            " [0.67 1.   0.63 0.23 0.21 0.85 0.65 0.13 0.14 0.74 0.11]\n",
            " [0.5  0.63 1.   0.61 0.11 0.47 0.82 0.51 0.12 0.4  0.46]\n",
            " [0.16 0.23 0.61 1.   0.2  0.12 0.49 0.82 0.27 0.03 0.75]\n",
            " [0.31 0.21 0.11 0.2  1.   0.31 0.17 0.28 0.89 0.35 0.31]\n",
            " [0.72 0.85 0.47 0.12 0.31 1.   0.52 0.02 0.23 0.79 0.02]\n",
            " [0.59 0.65 0.82 0.49 0.17 0.52 1.   0.48 0.14 0.46 0.43]\n",
            " [0.18 0.13 0.51 0.82 0.28 0.02 0.48 1.   0.34 0.04 0.92]\n",
            " [0.21 0.14 0.12 0.27 0.89 0.23 0.14 0.34 1.   0.27 0.37]\n",
            " [0.75 0.74 0.4  0.03 0.35 0.79 0.46 0.04 0.27 1.   0.05]\n",
            " [0.19 0.11 0.46 0.75 0.31 0.02 0.43 0.92 0.37 0.05 1.  ]]\n",
            "canberra\n",
            "[[1.   0.39 0.25 0.18 0.14 0.59 0.34 0.2  0.14 0.3  0.23]\n",
            " [0.39 1.   0.4  0.32 0.14 0.56 0.46 0.34 0.14 0.33 0.3 ]\n",
            " [0.25 0.4  1.   0.35 0.14 0.24 0.6  0.32 0.14 0.16 0.28]\n",
            " [0.18 0.32 0.35 1.   0.16 0.2  0.3  0.67 0.24 0.14 0.55]\n",
            " [0.14 0.14 0.14 0.16 1.   0.14 0.14 0.15 0.5  0.14 0.15]\n",
            " [0.59 0.56 0.24 0.2  0.14 1.   0.31 0.23 0.14 0.31 0.26]\n",
            " [0.34 0.46 0.6  0.3  0.14 0.31 1.   0.36 0.14 0.19 0.32]\n",
            " [0.2  0.34 0.32 0.67 0.15 0.23 0.36 1.   0.21 0.14 0.81]\n",
            " [0.14 0.14 0.14 0.24 0.5  0.14 0.14 0.21 1.   0.14 0.2 ]\n",
            " [0.3  0.33 0.16 0.14 0.14 0.31 0.19 0.14 0.14 1.   0.14]\n",
            " [0.23 0.3  0.28 0.55 0.15 0.26 0.32 0.81 0.2  0.14 1.  ]]\n",
            "chebyshev\n",
            "[[1.   0.05 0.06 0.   0.   0.02 0.11 0.   0.   0.17 0.  ]\n",
            " [0.05 1.   0.   0.   0.   0.13 0.01 0.   0.   0.04 0.  ]\n",
            " [0.06 0.   1.   0.   0.   0.   0.39 0.   0.   0.01 0.  ]\n",
            " [0.   0.   0.   1.   0.   0.   0.   0.09 0.   0.   0.03]\n",
            " [0.   0.   0.   0.   1.   0.   0.   0.   0.2  0.   0.  ]\n",
            " [0.02 0.13 0.   0.   0.   1.   0.   0.   0.   0.15 0.  ]\n",
            " [0.11 0.01 0.39 0.   0.   0.   1.   0.   0.   0.02 0.  ]\n",
            " [0.   0.   0.   0.09 0.   0.   0.   1.   0.   0.   0.36]\n",
            " [0.   0.   0.   0.   0.2  0.   0.   0.   1.   0.   0.  ]\n",
            " [0.17 0.04 0.01 0.   0.   0.15 0.02 0.   0.   1.   0.  ]\n",
            " [0.   0.   0.   0.03 0.   0.   0.   0.36 0.   0.   1.  ]]\n",
            "cityblock\n",
            "[[1.   0.01 0.   0.   0.   0.02 0.02 0.   0.   0.08 0.  ]\n",
            " [0.01 1.   0.   0.   0.   0.06 0.   0.   0.   0.01 0.  ]\n",
            " [0.   0.   1.   0.   0.   0.   0.22 0.   0.   0.   0.  ]\n",
            " [0.   0.   0.   1.   0.   0.   0.   0.02 0.   0.   0.  ]\n",
            " [0.   0.   0.   0.   1.   0.   0.   0.   0.08 0.   0.  ]\n",
            " [0.02 0.06 0.   0.   0.   1.   0.   0.   0.   0.05 0.  ]\n",
            " [0.02 0.   0.22 0.   0.   0.   1.   0.   0.   0.   0.  ]\n",
            " [0.   0.   0.   0.02 0.   0.   0.   1.   0.   0.   0.18]\n",
            " [0.   0.   0.   0.   0.08 0.   0.   0.   1.   0.   0.  ]\n",
            " [0.08 0.01 0.   0.   0.   0.05 0.   0.   0.   1.   0.  ]\n",
            " [0.   0.   0.   0.   0.   0.   0.   0.18 0.   0.   1.  ]]\n",
            "correlation\n",
            "[[1.   1.   0.14 0.14 1.   1.   0.14 0.14 1.   1.   0.14]\n",
            " [1.   1.   0.14 0.14 1.   1.   0.14 0.14 1.   1.   0.14]\n",
            " [0.14 0.14 1.   1.   0.14 0.14 1.   1.   0.14 0.14 1.  ]\n",
            " [0.14 0.14 1.   1.   0.14 0.14 1.   1.   0.14 0.14 1.  ]\n",
            " [1.   1.   0.14 0.14 1.   1.   0.14 0.14 1.   1.   0.14]\n",
            " [1.   1.   0.14 0.14 1.   1.   0.14 0.14 1.   1.   0.14]\n",
            " [0.14 0.14 1.   1.   0.14 0.14 1.   1.   0.14 0.14 1.  ]\n",
            " [0.14 0.14 1.   1.   0.14 0.14 1.   1.   0.14 0.14 1.  ]\n",
            " [1.   1.   0.14 0.14 1.   1.   0.14 0.14 1.   1.   0.14]\n",
            " [1.   1.   0.14 0.14 1.   1.   0.14 0.14 1.   1.   0.14]\n",
            " [0.14 0.14 1.   1.   0.14 0.14 1.   1.   0.14 0.14 1.  ]]\n",
            "cosine\n",
            "[[1.   0.97 0.52 0.19 0.29 1.   0.65 0.16 0.24 0.98 0.15]\n",
            " [0.97 1.   0.65 0.24 0.23 0.95 0.78 0.18 0.2  0.9  0.17]\n",
            " [0.52 0.65 1.   0.61 0.14 0.49 0.97 0.45 0.14 0.42 0.4 ]\n",
            " [0.19 0.24 0.61 1.   0.2  0.18 0.48 0.95 0.24 0.17 0.91]\n",
            " [0.29 0.23 0.14 0.2  1.   0.31 0.14 0.27 0.99 0.36 0.31]\n",
            " [1.   0.95 0.49 0.18 0.31 1.   0.61 0.15 0.26 0.99 0.14]\n",
            " [0.65 0.78 0.97 0.48 0.14 0.61 1.   0.35 0.14 0.53 0.31]\n",
            " [0.16 0.18 0.45 0.95 0.27 0.15 0.35 1.   0.32 0.14 0.99]\n",
            " [0.24 0.2  0.14 0.24 0.99 0.26 0.14 0.32 1.   0.3  0.36]\n",
            " [0.98 0.9  0.42 0.17 0.36 0.99 0.53 0.14 0.3  1.   0.14]\n",
            " [0.15 0.17 0.4  0.91 0.31 0.14 0.31 0.99 0.36 0.14 1.  ]]\n",
            "euclidean\n",
            "[[1.   0.02 0.02 0.   0.   0.02 0.05 0.   0.   0.14 0.  ]\n",
            " [0.02 1.   0.   0.   0.   0.11 0.01 0.   0.   0.04 0.  ]\n",
            " [0.02 0.   1.   0.   0.   0.   0.33 0.   0.   0.   0.  ]\n",
            " [0.   0.   0.   1.   0.   0.   0.   0.06 0.   0.   0.02]\n",
            " [0.   0.   0.   0.   1.   0.   0.   0.   0.16 0.   0.  ]\n",
            " [0.02 0.11 0.   0.   0.   1.   0.   0.   0.   0.11 0.  ]\n",
            " [0.05 0.01 0.33 0.   0.   0.   1.   0.   0.   0.01 0.  ]\n",
            " [0.   0.   0.   0.06 0.   0.   0.   1.   0.   0.   0.29]\n",
            " [0.   0.   0.   0.   0.16 0.   0.   0.   1.   0.   0.  ]\n",
            " [0.14 0.04 0.   0.   0.   0.11 0.01 0.   0.   1.   0.  ]\n",
            " [0.   0.   0.   0.02 0.   0.   0.   0.29 0.   0.   1.  ]]\n",
            "jensenshannon\n",
            "[[1.   0.88 0.59 0.   0.55 0.95 0.68 0.   0.62 0.   0.  ]\n",
            " [0.88 1.   0.67 0.   0.61 0.84 0.76 0.   0.7  0.   0.  ]\n",
            " [0.59 0.67 1.   0.   0.9  0.57 0.86 0.   0.95 0.   0.  ]\n",
            " [0.   0.   0.   0.   0.   0.   0.   0.   0.   0.   0.  ]\n",
            " [0.55 0.61 0.9  0.   1.   0.52 0.78 0.   0.85 0.   0.  ]\n",
            " [0.95 0.84 0.57 0.   0.52 1.   0.65 0.   0.6  0.   0.  ]\n",
            " [0.68 0.76 0.86 0.   0.78 0.65 1.   0.   0.91 0.   0.  ]\n",
            " [0.   0.   0.   0.   0.   0.   0.   0.   0.   0.   0.  ]\n",
            " [0.62 0.7  0.95 0.   0.85 0.6  0.91 0.   1.   0.   0.  ]\n",
            " [0.   0.   0.   0.   0.   0.   0.   0.   0.   0.   0.  ]\n",
            " [0.   0.   0.   0.   0.   0.   0.   0.   0.   0.   0.  ]]\n",
            "minkowski\n",
            "[[1.   0.02 0.02 0.   0.   0.02 0.05 0.   0.   0.14 0.  ]\n",
            " [0.02 1.   0.   0.   0.   0.11 0.01 0.   0.   0.04 0.  ]\n",
            " [0.02 0.   1.   0.   0.   0.   0.33 0.   0.   0.   0.  ]\n",
            " [0.   0.   0.   1.   0.   0.   0.   0.06 0.   0.   0.02]\n",
            " [0.   0.   0.   0.   1.   0.   0.   0.   0.16 0.   0.  ]\n",
            " [0.02 0.11 0.   0.   0.   1.   0.   0.   0.   0.11 0.  ]\n",
            " [0.05 0.01 0.33 0.   0.   0.   1.   0.   0.   0.01 0.  ]\n",
            " [0.   0.   0.   0.06 0.   0.   0.   1.   0.   0.   0.29]\n",
            " [0.   0.   0.   0.   0.16 0.   0.   0.   1.   0.   0.  ]\n",
            " [0.14 0.04 0.   0.   0.   0.11 0.01 0.   0.   1.   0.  ]\n",
            " [0.   0.   0.   0.02 0.   0.   0.   0.29 0.   0.   1.  ]]\n",
            "wasserstein_distance\n",
            "[[1.   0.07 0.81 0.04 0.   0.14 0.58 0.01 0.   0.28 0.01]\n",
            " [0.07 1.   0.07 0.01 0.   0.24 0.06 0.   0.   0.12 0.  ]\n",
            " [0.81 0.07 1.   0.05 0.   0.14 0.47 0.01 0.   0.35 0.01]\n",
            " [0.04 0.01 0.05 1.   0.01 0.01 0.03 0.16 0.01 0.05 0.07]\n",
            " [0.   0.   0.   0.01 1.   0.   0.   0.05 0.29 0.   0.13]\n",
            " [0.14 0.24 0.14 0.01 0.   1.   0.11 0.   0.   0.22 0.  ]\n",
            " [0.58 0.06 0.47 0.03 0.   0.11 1.   0.01 0.   0.16 0.01]\n",
            " [0.01 0.   0.01 0.16 0.05 0.   0.01 1.   0.04 0.01 0.42]\n",
            " [0.   0.   0.   0.01 0.29 0.   0.   0.04 1.   0.   0.09]\n",
            " [0.28 0.12 0.35 0.05 0.   0.22 0.16 0.01 0.   1.   0.  ]\n",
            " [0.01 0.   0.01 0.07 0.13 0.   0.01 0.42 0.09 0.   1.  ]]\n"
          ],
          "name": "stdout"
        }
      ]
    },
    {
      "cell_type": "code",
      "metadata": {
        "colab": {
          "base_uri": "https://localhost:8080/"
        },
        "id": "9fDUw8QwgXTI",
        "outputId": "ebfe03e5-b194-4c84-fd79-64dfeb8337a0"
      },
      "source": [
        "print(corpus2, boe)\r\n",
        "for dist_fn in distance_fns:\r\n",
        "  print(dist_fn.__name__)\r\n",
        "  e_dists = get_token_similarities(boe, dist_fn)\r\n",
        "  print(e_dists)"
      ],
      "execution_count": null,
      "outputs": [
        {
          "output_type": "stream",
          "text": [
            "['The sun is red', 'The sun is orange', 'The sun is yellow'] [[-4.47 -5.13]\n",
            " [ 9.65  0.36]\n",
            " [-1.67 -3.96]\n",
            " [-3.83  8.2 ]\n",
            " [-4.41 -5.21]\n",
            " [ 9.89  0.37]\n",
            " [-1.61 -3.52]\n",
            " [-3.38  8.65]\n",
            " [-4.38 -5.52]\n",
            " [ 9.64  0.16]\n",
            " [-1.59 -3.85]\n",
            " [-3.85  9.45]]\n",
            "braycurtis\n",
            "[[1.   0.14 0.77 0.29 0.99 0.14 0.74 0.27 0.98 0.15 0.76 0.3 ]\n",
            " [0.14 1.   0.26 0.23 0.14 0.99 0.26 0.25 0.15 0.99 0.26 0.24]\n",
            " [0.77 0.26 1.   0.23 0.77 0.26 0.95 0.23 0.76 0.27 0.98 0.24]\n",
            " [0.29 0.23 0.23 1.   0.29 0.23 0.25 0.96 0.27 0.22 0.23 0.95]\n",
            " [0.99 0.14 0.77 0.29 1.   0.15 0.74 0.27 0.98 0.15 0.76 0.3 ]\n",
            " [0.14 0.99 0.26 0.23 0.15 1.   0.26 0.25 0.15 0.98 0.26 0.24]\n",
            " [0.74 0.26 0.95 0.25 0.74 0.26 1.   0.25 0.73 0.27 0.97 0.26]\n",
            " [0.27 0.25 0.23 0.96 0.27 0.25 0.25 1.   0.25 0.24 0.23 0.95]\n",
            " [0.98 0.15 0.76 0.27 0.98 0.15 0.73 0.25 1.   0.16 0.75 0.28]\n",
            " [0.15 0.99 0.27 0.22 0.15 0.98 0.27 0.24 0.16 1.   0.27 0.23]\n",
            " [0.76 0.26 0.98 0.23 0.76 0.26 0.97 0.23 0.75 0.27 1.   0.24]\n",
            " [0.3  0.24 0.24 0.95 0.3  0.24 0.26 0.95 0.28 0.23 0.24 1.  ]]\n",
            "canberra\n",
            "[[1.   0.14 0.56 0.34 0.99 0.14 0.52 0.32 0.95 0.14 0.54 0.34]\n",
            " [0.14 1.   0.14 0.15 0.14 0.98 0.14 0.15 0.14 0.68 0.14 0.15]\n",
            " [0.56 0.14 1.   0.25 0.56 0.14 0.92 0.26 0.54 0.14 0.96 0.25]\n",
            " [0.34 0.15 0.25 1.   0.34 0.15 0.24 0.92 0.34 0.14 0.24 0.93]\n",
            " [0.99 0.14 0.56 0.34 1.   0.14 0.52 0.32 0.97 0.14 0.54 0.34]\n",
            " [0.14 0.98 0.14 0.15 0.14 1.   0.14 0.15 0.14 0.67 0.14 0.15]\n",
            " [0.52 0.14 0.92 0.24 0.52 0.14 1.   0.26 0.5  0.14 0.95 0.24]\n",
            " [0.32 0.15 0.26 0.92 0.32 0.15 0.26 1.   0.32 0.14 0.26 0.9 ]\n",
            " [0.95 0.14 0.54 0.34 0.97 0.14 0.5  0.32 1.   0.14 0.53 0.34]\n",
            " [0.14 0.68 0.14 0.14 0.14 0.67 0.14 0.14 0.14 1.   0.14 0.14]\n",
            " [0.54 0.14 0.96 0.24 0.54 0.14 0.95 0.26 0.53 0.14 1.   0.24]\n",
            " [0.34 0.15 0.25 0.93 0.34 0.15 0.24 0.9  0.34 0.14 0.24 1.  ]]\n",
            "chebyshev\n",
            "[[1.   0.   0.06 0.   0.93 0.   0.06 0.   0.68 0.   0.06 0.  ]\n",
            " [0.   1.   0.   0.   0.   0.79 0.   0.   0.   0.82 0.   0.  ]\n",
            " [0.06 0.   1.   0.   0.06 0.   0.64 0.   0.07 0.   0.9  0.  ]\n",
            " [0.   0.   0.   1.   0.   0.   0.   0.64 0.   0.   0.   0.29]\n",
            " [0.93 0.   0.06 0.   1.   0.   0.06 0.   0.73 0.   0.06 0.  ]\n",
            " [0.   0.79 0.   0.   0.   1.   0.   0.   0.   0.78 0.   0.  ]\n",
            " [0.06 0.   0.64 0.   0.06 0.   1.   0.   0.06 0.   0.72 0.  ]\n",
            " [0.   0.   0.   0.64 0.   0.   0.   1.   0.   0.   0.   0.45]\n",
            " [0.68 0.   0.07 0.   0.73 0.   0.06 0.   1.   0.   0.06 0.  ]\n",
            " [0.   0.82 0.   0.   0.   0.78 0.   0.   0.   1.   0.   0.  ]\n",
            " [0.06 0.   0.9  0.   0.06 0.   0.72 0.   0.06 0.   1.   0.  ]\n",
            " [0.   0.   0.   0.29 0.   0.   0.   0.45 0.   0.   0.   1.  ]]\n",
            "cityblock\n",
            "[[1.   0.   0.02 0.   0.87 0.   0.01 0.   0.62 0.   0.02 0.  ]\n",
            " [0.   1.   0.   0.   0.   0.78 0.   0.   0.   0.82 0.   0.  ]\n",
            " [0.02 0.   1.   0.   0.02 0.   0.6  0.   0.01 0.   0.83 0.  ]\n",
            " [0.   0.   0.   1.   0.   0.   0.   0.41 0.   0.   0.   0.28]\n",
            " [0.87 0.   0.02 0.   1.   0.   0.01 0.   0.71 0.   0.02 0.  ]\n",
            " [0.   0.78 0.   0.   0.   1.   0.   0.   0.   0.64 0.   0.  ]\n",
            " [0.01 0.   0.6  0.   0.01 0.   1.   0.   0.01 0.   0.71 0.  ]\n",
            " [0.   0.   0.   0.41 0.   0.   0.   1.   0.   0.   0.   0.28]\n",
            " [0.62 0.   0.01 0.   0.71 0.   0.01 0.   1.   0.   0.01 0.  ]\n",
            " [0.   0.82 0.   0.   0.   0.64 0.   0.   0.   1.   0.   0.  ]\n",
            " [0.02 0.   0.83 0.   0.02 0.   0.71 0.   0.01 0.   1.   0.  ]\n",
            " [0.   0.   0.   0.28 0.   0.   0.   0.28 0.   0.   0.   1.  ]]\n",
            "correlation\n",
            "[[1.   1.   1.   0.14 1.   1.   1.   0.14 1.   1.   1.   0.14]\n",
            " [1.   1.   1.   0.14 1.   1.   1.   0.14 1.   1.   1.   0.14]\n",
            " [1.   1.   1.   0.14 1.   1.   1.   0.14 1.   1.   1.   0.14]\n",
            " [0.14 0.14 0.14 1.   0.14 0.14 0.14 1.   0.14 0.14 0.14 1.  ]\n",
            " [1.   1.   1.   0.14 1.   1.   1.   0.14 1.   1.   1.   0.14]\n",
            " [1.   1.   1.   0.14 1.   1.   1.   0.14 1.   1.   1.   0.14]\n",
            " [1.   1.   1.   0.14 1.   1.   1.   0.14 1.   1.   1.   0.14]\n",
            " [0.14 0.14 0.14 1.   0.14 0.14 0.14 1.   0.14 0.14 0.14 1.  ]\n",
            " [1.   1.   1.   0.14 1.   1.   1.   0.14 1.   1.   1.   0.14]\n",
            " [1.   1.   1.   0.14 1.   1.   1.   0.14 1.   1.   1.   0.14]\n",
            " [1.   1.   1.   0.14 1.   1.   1.   0.14 1.   1.   1.   0.14]\n",
            " [0.14 0.14 0.14 1.   0.14 0.14 0.14 1.   0.14 0.14 0.14 1.  ]]\n",
            "cosine\n",
            "[[1.   0.19 0.95 0.25 1.   0.19 0.96 0.23 1.   0.19 0.95 0.23]\n",
            " [0.19 1.   0.24 0.25 0.19 1.   0.23 0.26 0.19 1.   0.24 0.26]\n",
            " [0.95 0.24 1.   0.19 0.96 0.24 1.   0.18 0.96 0.25 1.   0.18]\n",
            " [0.25 0.25 0.19 1.   0.24 0.25 0.19 1.   0.24 0.24 0.19 1.  ]\n",
            " [1.   0.19 0.96 0.24 1.   0.19 0.96 0.23 1.   0.19 0.95 0.23]\n",
            " [0.19 1.   0.24 0.25 0.19 1.   0.23 0.26 0.19 1.   0.24 0.26]\n",
            " [0.96 0.23 1.   0.19 0.96 0.23 1.   0.18 0.97 0.24 1.   0.19]\n",
            " [0.23 0.26 0.18 1.   0.23 0.26 0.18 1.   0.22 0.26 0.18 1.  ]\n",
            " [1.   0.19 0.96 0.24 1.   0.19 0.97 0.22 1.   0.2  0.96 0.23]\n",
            " [0.19 1.   0.25 0.24 0.19 1.   0.24 0.26 0.2  1.   0.25 0.26]\n",
            " [0.95 0.24 1.   0.19 0.95 0.24 1.   0.18 0.96 0.25 1.   0.18]\n",
            " [0.23 0.26 0.18 1.   0.23 0.26 0.19 1.   0.23 0.26 0.18 1.  ]]\n",
            "euclidean\n",
            "[[1.   0.   0.05 0.   0.91 0.   0.04 0.   0.67 0.   0.04 0.  ]\n",
            " [0.   1.   0.   0.   0.   0.79 0.   0.   0.   0.82 0.   0.  ]\n",
            " [0.05 0.   1.   0.   0.05 0.   0.64 0.   0.04 0.   0.88 0.  ]\n",
            " [0.   0.   0.   1.   0.   0.   0.   0.53 0.   0.   0.   0.29]\n",
            " [0.91 0.   0.05 0.   1.   0.   0.04 0.   0.73 0.   0.04 0.  ]\n",
            " [0.   0.79 0.   0.   0.   1.   0.   0.   0.   0.73 0.   0.  ]\n",
            " [0.04 0.   0.64 0.   0.04 0.   1.   0.   0.03 0.   0.72 0.  ]\n",
            " [0.   0.   0.   0.53 0.   0.   0.   1.   0.   0.   0.   0.39]\n",
            " [0.67 0.   0.04 0.   0.73 0.   0.03 0.   1.   0.   0.04 0.  ]\n",
            " [0.   0.82 0.   0.   0.   0.73 0.   0.   0.   1.   0.   0.  ]\n",
            " [0.04 0.   0.88 0.   0.04 0.   0.72 0.   0.04 0.   1.   0.  ]\n",
            " [0.   0.   0.   0.29 0.   0.   0.   0.39 0.   0.   0.   1.  ]]\n",
            "jensenshannon\n",
            "[[1.   0.66 0.88 0.   1.   0.66 0.9  0.   0.98 0.64 0.88 0.  ]\n",
            " [0.66 1.   0.59 0.   0.65 1.   0.6  0.   0.65 0.96 0.59 0.  ]\n",
            " [0.88 0.59 1.   0.   0.89 0.59 0.99 0.   0.9  0.57 1.   0.  ]\n",
            " [0.   0.   0.   0.   0.   0.   0.   0.   0.   0.   0.   0.  ]\n",
            " [1.   0.65 0.89 0.   1.   0.65 0.9  0.   0.99 0.64 0.89 0.  ]\n",
            " [0.66 1.   0.59 0.   0.65 1.   0.6  0.   0.65 0.96 0.59 0.  ]\n",
            " [0.9  0.6  0.99 0.   0.9  0.6  1.   0.   0.91 0.58 0.98 0.  ]\n",
            " [0.   0.   0.   0.   0.   0.   0.   0.   0.   0.   0.   0.  ]\n",
            " [0.98 0.65 0.9  0.   0.99 0.65 0.91 0.   1.   0.63 0.9  0.  ]\n",
            " [0.64 0.96 0.57 0.   0.64 0.96 0.58 0.   0.63 1.   0.57 0.  ]\n",
            " [0.88 0.59 1.   0.   0.89 0.59 0.98 0.   0.9  0.57 1.   0.  ]\n",
            " [0.   0.   0.   0.   0.   0.   0.   0.   0.   0.   0.   0.  ]]\n",
            "minkowski\n",
            "[[1.   0.   0.05 0.   0.91 0.   0.04 0.   0.67 0.   0.04 0.  ]\n",
            " [0.   1.   0.   0.   0.   0.79 0.   0.   0.   0.82 0.   0.  ]\n",
            " [0.05 0.   1.   0.   0.05 0.   0.64 0.   0.04 0.   0.88 0.  ]\n",
            " [0.   0.   0.   1.   0.   0.   0.   0.53 0.   0.   0.   0.29]\n",
            " [0.91 0.   0.05 0.   1.   0.   0.04 0.   0.73 0.   0.04 0.  ]\n",
            " [0.   0.79 0.   0.   0.   1.   0.   0.   0.   0.73 0.   0.  ]\n",
            " [0.04 0.   0.64 0.   0.04 0.   1.   0.   0.03 0.   0.72 0.  ]\n",
            " [0.   0.   0.   0.53 0.   0.   0.   1.   0.   0.   0.   0.39]\n",
            " [0.67 0.   0.04 0.   0.73 0.   0.03 0.   1.   0.   0.04 0.  ]\n",
            " [0.   0.82 0.   0.   0.   0.73 0.   0.   0.   1.   0.   0.  ]\n",
            " [0.04 0.   0.88 0.   0.04 0.   0.72 0.   0.04 0.   1.   0.  ]\n",
            " [0.   0.   0.   0.29 0.   0.   0.   0.39 0.   0.   0.   1.  ]]\n",
            "wasserstein_distance\n",
            "[[1.   0.   0.14 0.   0.93 0.   0.11 0.   0.79 0.   0.13 0.  ]\n",
            " [0.   1.   0.   0.06 0.   0.88 0.   0.09 0.   0.9  0.   0.11]\n",
            " [0.14 0.   1.   0.01 0.14 0.   0.78 0.   0.12 0.   0.91 0.  ]\n",
            " [0.   0.06 0.01 1.   0.   0.05 0.01 0.64 0.   0.07 0.01 0.53]\n",
            " [0.93 0.   0.14 0.   1.   0.   0.11 0.   0.85 0.   0.12 0.  ]\n",
            " [0.   0.88 0.   0.05 0.   1.   0.   0.08 0.   0.8  0.   0.1 ]\n",
            " [0.11 0.   0.78 0.01 0.11 0.   1.   0.01 0.09 0.   0.84 0.  ]\n",
            " [0.   0.09 0.   0.64 0.   0.08 0.01 1.   0.   0.1  0.   0.53]\n",
            " [0.79 0.   0.12 0.   0.85 0.   0.09 0.   1.   0.   0.11 0.  ]\n",
            " [0.   0.9  0.   0.07 0.   0.8  0.   0.1  0.   1.   0.   0.12]\n",
            " [0.13 0.   0.91 0.01 0.12 0.   0.84 0.   0.11 0.   1.   0.  ]\n",
            " [0.   0.11 0.   0.53 0.   0.1  0.   0.53 0.   0.12 0.   1.  ]]\n"
          ],
          "name": "stdout"
        }
      ]
    },
    {
      "cell_type": "markdown",
      "metadata": {
        "id": "dvjAOpcQ1gjH"
      },
      "source": [
        "## TFIDF weighting??"
      ]
    },
    {
      "cell_type": "code",
      "metadata": {
        "colab": {
          "base_uri": "https://localhost:8080/"
        },
        "id": "7tO4udzdQs_l",
        "outputId": "7115f8f5-28a2-43f4-ab7a-b6691d28339e"
      },
      "source": [
        "from sklearn.feature_extraction.text import TfidfVectorizer\r\n",
        "\r\n",
        "vectorizer = TfidfVectorizer(corpus1)\r\n",
        "tfidf = vectorizer.fit(corpus1)\r\n",
        "terms = vectorizer.get_feature_names()\r\n",
        "print(terms)"
      ],
      "execution_count": null,
      "outputs": [
        {
          "output_type": "stream",
          "text": [
            "['am', 'are', 'thug', 'thugs', 'we', 'you']\n"
          ],
          "name": "stdout"
        }
      ]
    },
    {
      "cell_type": "code",
      "metadata": {
        "id": "2fdynabIVOvv"
      },
      "source": [
        ""
      ],
      "execution_count": null,
      "outputs": []
    }
  ]
}