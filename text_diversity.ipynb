{
  "nbformat": 4,
  "nbformat_minor": 0,
  "metadata": {
    "colab": {
      "name": "text_diversity",
      "provenance": [],
      "collapsed_sections": []
    },
    "kernelspec": {
      "name": "python3",
      "display_name": "Python 3"
    },
    "widgets": {
      "application/vnd.jupyter.widget-state+json": {
        "61cf2c37b60f4d558828eca3b5f8e70b": {
          "model_module": "@jupyter-widgets/controls",
          "model_name": "HBoxModel",
          "state": {
            "_view_name": "HBoxView",
            "_dom_classes": [],
            "_model_name": "HBoxModel",
            "_view_module": "@jupyter-widgets/controls",
            "_model_module_version": "1.5.0",
            "_view_count": null,
            "_view_module_version": "1.5.0",
            "box_style": "",
            "layout": "IPY_MODEL_5f8655e5e1964a57bd42299809462974",
            "_model_module": "@jupyter-widgets/controls",
            "children": [
              "IPY_MODEL_75cf830f48e64142b7d7c87db887d558",
              "IPY_MODEL_7b54f51ec0c5494db69b65b3c8ee05fa"
            ]
          }
        },
        "5f8655e5e1964a57bd42299809462974": {
          "model_module": "@jupyter-widgets/base",
          "model_name": "LayoutModel",
          "state": {
            "_view_name": "LayoutView",
            "grid_template_rows": null,
            "right": null,
            "justify_content": null,
            "_view_module": "@jupyter-widgets/base",
            "overflow": null,
            "_model_module_version": "1.2.0",
            "_view_count": null,
            "flex_flow": null,
            "width": null,
            "min_width": null,
            "border": null,
            "align_items": null,
            "bottom": null,
            "_model_module": "@jupyter-widgets/base",
            "top": null,
            "grid_column": null,
            "overflow_y": null,
            "overflow_x": null,
            "grid_auto_flow": null,
            "grid_area": null,
            "grid_template_columns": null,
            "flex": null,
            "_model_name": "LayoutModel",
            "justify_items": null,
            "grid_row": null,
            "max_height": null,
            "align_content": null,
            "visibility": null,
            "align_self": null,
            "height": null,
            "min_height": null,
            "padding": null,
            "grid_auto_rows": null,
            "grid_gap": null,
            "max_width": null,
            "order": null,
            "_view_module_version": "1.2.0",
            "grid_template_areas": null,
            "object_position": null,
            "object_fit": null,
            "grid_auto_columns": null,
            "margin": null,
            "display": null,
            "left": null
          }
        },
        "75cf830f48e64142b7d7c87db887d558": {
          "model_module": "@jupyter-widgets/controls",
          "model_name": "FloatProgressModel",
          "state": {
            "_view_name": "ProgressView",
            "style": "IPY_MODEL_a2998e7415de4718a4cc1ad95d9da411",
            "_dom_classes": [],
            "description": "Downloading: 100%",
            "_model_name": "FloatProgressModel",
            "bar_style": "success",
            "max": 433,
            "_view_module": "@jupyter-widgets/controls",
            "_model_module_version": "1.5.0",
            "value": 433,
            "_view_count": null,
            "_view_module_version": "1.5.0",
            "orientation": "horizontal",
            "min": 0,
            "description_tooltip": null,
            "_model_module": "@jupyter-widgets/controls",
            "layout": "IPY_MODEL_6c857bde81dd4255b3e059caea2f5b3e"
          }
        },
        "7b54f51ec0c5494db69b65b3c8ee05fa": {
          "model_module": "@jupyter-widgets/controls",
          "model_name": "HTMLModel",
          "state": {
            "_view_name": "HTMLView",
            "style": "IPY_MODEL_c6cdd742c55d42fe9b3bc3543d5de84e",
            "_dom_classes": [],
            "description": "",
            "_model_name": "HTMLModel",
            "placeholder": "​",
            "_view_module": "@jupyter-widgets/controls",
            "_model_module_version": "1.5.0",
            "value": " 433/433 [00:07&lt;00:00, 57.8B/s]",
            "_view_count": null,
            "_view_module_version": "1.5.0",
            "description_tooltip": null,
            "_model_module": "@jupyter-widgets/controls",
            "layout": "IPY_MODEL_69d754ff7fb84a9e8c460ac1504bfd4c"
          }
        },
        "a2998e7415de4718a4cc1ad95d9da411": {
          "model_module": "@jupyter-widgets/controls",
          "model_name": "ProgressStyleModel",
          "state": {
            "_view_name": "StyleView",
            "_model_name": "ProgressStyleModel",
            "description_width": "initial",
            "_view_module": "@jupyter-widgets/base",
            "_model_module_version": "1.5.0",
            "_view_count": null,
            "_view_module_version": "1.2.0",
            "bar_color": null,
            "_model_module": "@jupyter-widgets/controls"
          }
        },
        "6c857bde81dd4255b3e059caea2f5b3e": {
          "model_module": "@jupyter-widgets/base",
          "model_name": "LayoutModel",
          "state": {
            "_view_name": "LayoutView",
            "grid_template_rows": null,
            "right": null,
            "justify_content": null,
            "_view_module": "@jupyter-widgets/base",
            "overflow": null,
            "_model_module_version": "1.2.0",
            "_view_count": null,
            "flex_flow": null,
            "width": null,
            "min_width": null,
            "border": null,
            "align_items": null,
            "bottom": null,
            "_model_module": "@jupyter-widgets/base",
            "top": null,
            "grid_column": null,
            "overflow_y": null,
            "overflow_x": null,
            "grid_auto_flow": null,
            "grid_area": null,
            "grid_template_columns": null,
            "flex": null,
            "_model_name": "LayoutModel",
            "justify_items": null,
            "grid_row": null,
            "max_height": null,
            "align_content": null,
            "visibility": null,
            "align_self": null,
            "height": null,
            "min_height": null,
            "padding": null,
            "grid_auto_rows": null,
            "grid_gap": null,
            "max_width": null,
            "order": null,
            "_view_module_version": "1.2.0",
            "grid_template_areas": null,
            "object_position": null,
            "object_fit": null,
            "grid_auto_columns": null,
            "margin": null,
            "display": null,
            "left": null
          }
        },
        "c6cdd742c55d42fe9b3bc3543d5de84e": {
          "model_module": "@jupyter-widgets/controls",
          "model_name": "DescriptionStyleModel",
          "state": {
            "_view_name": "StyleView",
            "_model_name": "DescriptionStyleModel",
            "description_width": "",
            "_view_module": "@jupyter-widgets/base",
            "_model_module_version": "1.5.0",
            "_view_count": null,
            "_view_module_version": "1.2.0",
            "_model_module": "@jupyter-widgets/controls"
          }
        },
        "69d754ff7fb84a9e8c460ac1504bfd4c": {
          "model_module": "@jupyter-widgets/base",
          "model_name": "LayoutModel",
          "state": {
            "_view_name": "LayoutView",
            "grid_template_rows": null,
            "right": null,
            "justify_content": null,
            "_view_module": "@jupyter-widgets/base",
            "overflow": null,
            "_model_module_version": "1.2.0",
            "_view_count": null,
            "flex_flow": null,
            "width": null,
            "min_width": null,
            "border": null,
            "align_items": null,
            "bottom": null,
            "_model_module": "@jupyter-widgets/base",
            "top": null,
            "grid_column": null,
            "overflow_y": null,
            "overflow_x": null,
            "grid_auto_flow": null,
            "grid_area": null,
            "grid_template_columns": null,
            "flex": null,
            "_model_name": "LayoutModel",
            "justify_items": null,
            "grid_row": null,
            "max_height": null,
            "align_content": null,
            "visibility": null,
            "align_self": null,
            "height": null,
            "min_height": null,
            "padding": null,
            "grid_auto_rows": null,
            "grid_gap": null,
            "max_width": null,
            "order": null,
            "_view_module_version": "1.2.0",
            "grid_template_areas": null,
            "object_position": null,
            "object_fit": null,
            "grid_auto_columns": null,
            "margin": null,
            "display": null,
            "left": null
          }
        },
        "de0bdc3e639a4dafad05b443a5d53d15": {
          "model_module": "@jupyter-widgets/controls",
          "model_name": "HBoxModel",
          "state": {
            "_view_name": "HBoxView",
            "_dom_classes": [],
            "_model_name": "HBoxModel",
            "_view_module": "@jupyter-widgets/controls",
            "_model_module_version": "1.5.0",
            "_view_count": null,
            "_view_module_version": "1.5.0",
            "box_style": "",
            "layout": "IPY_MODEL_377949c9bce6476ab87b81baeb1c8886",
            "_model_module": "@jupyter-widgets/controls",
            "children": [
              "IPY_MODEL_db55d59985d74d27aa553f306c6305a1",
              "IPY_MODEL_822a4111bd96426aa2efae77c2d9a4f3"
            ]
          }
        },
        "377949c9bce6476ab87b81baeb1c8886": {
          "model_module": "@jupyter-widgets/base",
          "model_name": "LayoutModel",
          "state": {
            "_view_name": "LayoutView",
            "grid_template_rows": null,
            "right": null,
            "justify_content": null,
            "_view_module": "@jupyter-widgets/base",
            "overflow": null,
            "_model_module_version": "1.2.0",
            "_view_count": null,
            "flex_flow": null,
            "width": null,
            "min_width": null,
            "border": null,
            "align_items": null,
            "bottom": null,
            "_model_module": "@jupyter-widgets/base",
            "top": null,
            "grid_column": null,
            "overflow_y": null,
            "overflow_x": null,
            "grid_auto_flow": null,
            "grid_area": null,
            "grid_template_columns": null,
            "flex": null,
            "_model_name": "LayoutModel",
            "justify_items": null,
            "grid_row": null,
            "max_height": null,
            "align_content": null,
            "visibility": null,
            "align_self": null,
            "height": null,
            "min_height": null,
            "padding": null,
            "grid_auto_rows": null,
            "grid_gap": null,
            "max_width": null,
            "order": null,
            "_view_module_version": "1.2.0",
            "grid_template_areas": null,
            "object_position": null,
            "object_fit": null,
            "grid_auto_columns": null,
            "margin": null,
            "display": null,
            "left": null
          }
        },
        "db55d59985d74d27aa553f306c6305a1": {
          "model_module": "@jupyter-widgets/controls",
          "model_name": "FloatProgressModel",
          "state": {
            "_view_name": "ProgressView",
            "style": "IPY_MODEL_a9014bac4a6d45359e08a1a1ef99c194",
            "_dom_classes": [],
            "description": "Downloading: 100%",
            "_model_name": "FloatProgressModel",
            "bar_style": "success",
            "max": 440473133,
            "_view_module": "@jupyter-widgets/controls",
            "_model_module_version": "1.5.0",
            "value": 440473133,
            "_view_count": null,
            "_view_module_version": "1.5.0",
            "orientation": "horizontal",
            "min": 0,
            "description_tooltip": null,
            "_model_module": "@jupyter-widgets/controls",
            "layout": "IPY_MODEL_27c6aad96c7542c289cd458633c27f89"
          }
        },
        "822a4111bd96426aa2efae77c2d9a4f3": {
          "model_module": "@jupyter-widgets/controls",
          "model_name": "HTMLModel",
          "state": {
            "_view_name": "HTMLView",
            "style": "IPY_MODEL_45a4c20faac048bf8d7c666b415c9875",
            "_dom_classes": [],
            "description": "",
            "_model_name": "HTMLModel",
            "placeholder": "​",
            "_view_module": "@jupyter-widgets/controls",
            "_model_module_version": "1.5.0",
            "value": " 440M/440M [00:05&lt;00:00, 77.6MB/s]",
            "_view_count": null,
            "_view_module_version": "1.5.0",
            "description_tooltip": null,
            "_model_module": "@jupyter-widgets/controls",
            "layout": "IPY_MODEL_8197c0187cb44bacbdc88d203b8ce69f"
          }
        },
        "a9014bac4a6d45359e08a1a1ef99c194": {
          "model_module": "@jupyter-widgets/controls",
          "model_name": "ProgressStyleModel",
          "state": {
            "_view_name": "StyleView",
            "_model_name": "ProgressStyleModel",
            "description_width": "initial",
            "_view_module": "@jupyter-widgets/base",
            "_model_module_version": "1.5.0",
            "_view_count": null,
            "_view_module_version": "1.2.0",
            "bar_color": null,
            "_model_module": "@jupyter-widgets/controls"
          }
        },
        "27c6aad96c7542c289cd458633c27f89": {
          "model_module": "@jupyter-widgets/base",
          "model_name": "LayoutModel",
          "state": {
            "_view_name": "LayoutView",
            "grid_template_rows": null,
            "right": null,
            "justify_content": null,
            "_view_module": "@jupyter-widgets/base",
            "overflow": null,
            "_model_module_version": "1.2.0",
            "_view_count": null,
            "flex_flow": null,
            "width": null,
            "min_width": null,
            "border": null,
            "align_items": null,
            "bottom": null,
            "_model_module": "@jupyter-widgets/base",
            "top": null,
            "grid_column": null,
            "overflow_y": null,
            "overflow_x": null,
            "grid_auto_flow": null,
            "grid_area": null,
            "grid_template_columns": null,
            "flex": null,
            "_model_name": "LayoutModel",
            "justify_items": null,
            "grid_row": null,
            "max_height": null,
            "align_content": null,
            "visibility": null,
            "align_self": null,
            "height": null,
            "min_height": null,
            "padding": null,
            "grid_auto_rows": null,
            "grid_gap": null,
            "max_width": null,
            "order": null,
            "_view_module_version": "1.2.0",
            "grid_template_areas": null,
            "object_position": null,
            "object_fit": null,
            "grid_auto_columns": null,
            "margin": null,
            "display": null,
            "left": null
          }
        },
        "45a4c20faac048bf8d7c666b415c9875": {
          "model_module": "@jupyter-widgets/controls",
          "model_name": "DescriptionStyleModel",
          "state": {
            "_view_name": "StyleView",
            "_model_name": "DescriptionStyleModel",
            "description_width": "",
            "_view_module": "@jupyter-widgets/base",
            "_model_module_version": "1.5.0",
            "_view_count": null,
            "_view_module_version": "1.2.0",
            "_model_module": "@jupyter-widgets/controls"
          }
        },
        "8197c0187cb44bacbdc88d203b8ce69f": {
          "model_module": "@jupyter-widgets/base",
          "model_name": "LayoutModel",
          "state": {
            "_view_name": "LayoutView",
            "grid_template_rows": null,
            "right": null,
            "justify_content": null,
            "_view_module": "@jupyter-widgets/base",
            "overflow": null,
            "_model_module_version": "1.2.0",
            "_view_count": null,
            "flex_flow": null,
            "width": null,
            "min_width": null,
            "border": null,
            "align_items": null,
            "bottom": null,
            "_model_module": "@jupyter-widgets/base",
            "top": null,
            "grid_column": null,
            "overflow_y": null,
            "overflow_x": null,
            "grid_auto_flow": null,
            "grid_area": null,
            "grid_template_columns": null,
            "flex": null,
            "_model_name": "LayoutModel",
            "justify_items": null,
            "grid_row": null,
            "max_height": null,
            "align_content": null,
            "visibility": null,
            "align_self": null,
            "height": null,
            "min_height": null,
            "padding": null,
            "grid_auto_rows": null,
            "grid_gap": null,
            "max_width": null,
            "order": null,
            "_view_module_version": "1.2.0",
            "grid_template_areas": null,
            "object_position": null,
            "object_fit": null,
            "grid_auto_columns": null,
            "margin": null,
            "display": null,
            "left": null
          }
        },
        "2c55acfe751b498cad49ea441306652d": {
          "model_module": "@jupyter-widgets/controls",
          "model_name": "HBoxModel",
          "state": {
            "_view_name": "HBoxView",
            "_dom_classes": [],
            "_model_name": "HBoxModel",
            "_view_module": "@jupyter-widgets/controls",
            "_model_module_version": "1.5.0",
            "_view_count": null,
            "_view_module_version": "1.5.0",
            "box_style": "",
            "layout": "IPY_MODEL_9552b4458cc14739bf79c0c537652927",
            "_model_module": "@jupyter-widgets/controls",
            "children": [
              "IPY_MODEL_b07f8c9bd155451bb85d0539b01afcb4",
              "IPY_MODEL_b968d61e49014377a141efe0ddff3211"
            ]
          }
        },
        "9552b4458cc14739bf79c0c537652927": {
          "model_module": "@jupyter-widgets/base",
          "model_name": "LayoutModel",
          "state": {
            "_view_name": "LayoutView",
            "grid_template_rows": null,
            "right": null,
            "justify_content": null,
            "_view_module": "@jupyter-widgets/base",
            "overflow": null,
            "_model_module_version": "1.2.0",
            "_view_count": null,
            "flex_flow": null,
            "width": null,
            "min_width": null,
            "border": null,
            "align_items": null,
            "bottom": null,
            "_model_module": "@jupyter-widgets/base",
            "top": null,
            "grid_column": null,
            "overflow_y": null,
            "overflow_x": null,
            "grid_auto_flow": null,
            "grid_area": null,
            "grid_template_columns": null,
            "flex": null,
            "_model_name": "LayoutModel",
            "justify_items": null,
            "grid_row": null,
            "max_height": null,
            "align_content": null,
            "visibility": null,
            "align_self": null,
            "height": null,
            "min_height": null,
            "padding": null,
            "grid_auto_rows": null,
            "grid_gap": null,
            "max_width": null,
            "order": null,
            "_view_module_version": "1.2.0",
            "grid_template_areas": null,
            "object_position": null,
            "object_fit": null,
            "grid_auto_columns": null,
            "margin": null,
            "display": null,
            "left": null
          }
        },
        "b07f8c9bd155451bb85d0539b01afcb4": {
          "model_module": "@jupyter-widgets/controls",
          "model_name": "FloatProgressModel",
          "state": {
            "_view_name": "ProgressView",
            "style": "IPY_MODEL_7c1b3475d02944d8a0291ffa3ba711ad",
            "_dom_classes": [],
            "description": "Downloading: 100%",
            "_model_name": "FloatProgressModel",
            "bar_style": "success",
            "max": 231508,
            "_view_module": "@jupyter-widgets/controls",
            "_model_module_version": "1.5.0",
            "value": 231508,
            "_view_count": null,
            "_view_module_version": "1.5.0",
            "orientation": "horizontal",
            "min": 0,
            "description_tooltip": null,
            "_model_module": "@jupyter-widgets/controls",
            "layout": "IPY_MODEL_ee1180d244f74d6a91413586567c23f8"
          }
        },
        "b968d61e49014377a141efe0ddff3211": {
          "model_module": "@jupyter-widgets/controls",
          "model_name": "HTMLModel",
          "state": {
            "_view_name": "HTMLView",
            "style": "IPY_MODEL_750976f6b228437a89cf08c887e8d33a",
            "_dom_classes": [],
            "description": "",
            "_model_name": "HTMLModel",
            "placeholder": "​",
            "_view_module": "@jupyter-widgets/controls",
            "_model_module_version": "1.5.0",
            "value": " 232k/232k [00:10&lt;00:00, 21.6kB/s]",
            "_view_count": null,
            "_view_module_version": "1.5.0",
            "description_tooltip": null,
            "_model_module": "@jupyter-widgets/controls",
            "layout": "IPY_MODEL_f775c4fdbf6c402597bc5e9fd15e9ce7"
          }
        },
        "7c1b3475d02944d8a0291ffa3ba711ad": {
          "model_module": "@jupyter-widgets/controls",
          "model_name": "ProgressStyleModel",
          "state": {
            "_view_name": "StyleView",
            "_model_name": "ProgressStyleModel",
            "description_width": "initial",
            "_view_module": "@jupyter-widgets/base",
            "_model_module_version": "1.5.0",
            "_view_count": null,
            "_view_module_version": "1.2.0",
            "bar_color": null,
            "_model_module": "@jupyter-widgets/controls"
          }
        },
        "ee1180d244f74d6a91413586567c23f8": {
          "model_module": "@jupyter-widgets/base",
          "model_name": "LayoutModel",
          "state": {
            "_view_name": "LayoutView",
            "grid_template_rows": null,
            "right": null,
            "justify_content": null,
            "_view_module": "@jupyter-widgets/base",
            "overflow": null,
            "_model_module_version": "1.2.0",
            "_view_count": null,
            "flex_flow": null,
            "width": null,
            "min_width": null,
            "border": null,
            "align_items": null,
            "bottom": null,
            "_model_module": "@jupyter-widgets/base",
            "top": null,
            "grid_column": null,
            "overflow_y": null,
            "overflow_x": null,
            "grid_auto_flow": null,
            "grid_area": null,
            "grid_template_columns": null,
            "flex": null,
            "_model_name": "LayoutModel",
            "justify_items": null,
            "grid_row": null,
            "max_height": null,
            "align_content": null,
            "visibility": null,
            "align_self": null,
            "height": null,
            "min_height": null,
            "padding": null,
            "grid_auto_rows": null,
            "grid_gap": null,
            "max_width": null,
            "order": null,
            "_view_module_version": "1.2.0",
            "grid_template_areas": null,
            "object_position": null,
            "object_fit": null,
            "grid_auto_columns": null,
            "margin": null,
            "display": null,
            "left": null
          }
        },
        "750976f6b228437a89cf08c887e8d33a": {
          "model_module": "@jupyter-widgets/controls",
          "model_name": "DescriptionStyleModel",
          "state": {
            "_view_name": "StyleView",
            "_model_name": "DescriptionStyleModel",
            "description_width": "",
            "_view_module": "@jupyter-widgets/base",
            "_model_module_version": "1.5.0",
            "_view_count": null,
            "_view_module_version": "1.2.0",
            "_model_module": "@jupyter-widgets/controls"
          }
        },
        "f775c4fdbf6c402597bc5e9fd15e9ce7": {
          "model_module": "@jupyter-widgets/base",
          "model_name": "LayoutModel",
          "state": {
            "_view_name": "LayoutView",
            "grid_template_rows": null,
            "right": null,
            "justify_content": null,
            "_view_module": "@jupyter-widgets/base",
            "overflow": null,
            "_model_module_version": "1.2.0",
            "_view_count": null,
            "flex_flow": null,
            "width": null,
            "min_width": null,
            "border": null,
            "align_items": null,
            "bottom": null,
            "_model_module": "@jupyter-widgets/base",
            "top": null,
            "grid_column": null,
            "overflow_y": null,
            "overflow_x": null,
            "grid_auto_flow": null,
            "grid_area": null,
            "grid_template_columns": null,
            "flex": null,
            "_model_name": "LayoutModel",
            "justify_items": null,
            "grid_row": null,
            "max_height": null,
            "align_content": null,
            "visibility": null,
            "align_self": null,
            "height": null,
            "min_height": null,
            "padding": null,
            "grid_auto_rows": null,
            "grid_gap": null,
            "max_width": null,
            "order": null,
            "_view_module_version": "1.2.0",
            "grid_template_areas": null,
            "object_position": null,
            "object_fit": null,
            "grid_auto_columns": null,
            "margin": null,
            "display": null,
            "left": null
          }
        },
        "4f31d69f3b16458cbe05449a963e6ff8": {
          "model_module": "@jupyter-widgets/controls",
          "model_name": "HBoxModel",
          "state": {
            "_view_name": "HBoxView",
            "_dom_classes": [],
            "_model_name": "HBoxModel",
            "_view_module": "@jupyter-widgets/controls",
            "_model_module_version": "1.5.0",
            "_view_count": null,
            "_view_module_version": "1.5.0",
            "box_style": "",
            "layout": "IPY_MODEL_0b22657a2205445aae984efb11e215d8",
            "_model_module": "@jupyter-widgets/controls",
            "children": [
              "IPY_MODEL_327db3e554a745e3bc44c7611c5281e2",
              "IPY_MODEL_27a383e4fb3d4defb7af85d7204d7a12"
            ]
          }
        },
        "0b22657a2205445aae984efb11e215d8": {
          "model_module": "@jupyter-widgets/base",
          "model_name": "LayoutModel",
          "state": {
            "_view_name": "LayoutView",
            "grid_template_rows": null,
            "right": null,
            "justify_content": null,
            "_view_module": "@jupyter-widgets/base",
            "overflow": null,
            "_model_module_version": "1.2.0",
            "_view_count": null,
            "flex_flow": null,
            "width": null,
            "min_width": null,
            "border": null,
            "align_items": null,
            "bottom": null,
            "_model_module": "@jupyter-widgets/base",
            "top": null,
            "grid_column": null,
            "overflow_y": null,
            "overflow_x": null,
            "grid_auto_flow": null,
            "grid_area": null,
            "grid_template_columns": null,
            "flex": null,
            "_model_name": "LayoutModel",
            "justify_items": null,
            "grid_row": null,
            "max_height": null,
            "align_content": null,
            "visibility": null,
            "align_self": null,
            "height": null,
            "min_height": null,
            "padding": null,
            "grid_auto_rows": null,
            "grid_gap": null,
            "max_width": null,
            "order": null,
            "_view_module_version": "1.2.0",
            "grid_template_areas": null,
            "object_position": null,
            "object_fit": null,
            "grid_auto_columns": null,
            "margin": null,
            "display": null,
            "left": null
          }
        },
        "327db3e554a745e3bc44c7611c5281e2": {
          "model_module": "@jupyter-widgets/controls",
          "model_name": "FloatProgressModel",
          "state": {
            "_view_name": "ProgressView",
            "style": "IPY_MODEL_65519a8ab72a4c15b5fcebdf02c16eaf",
            "_dom_classes": [],
            "description": "Downloading: 100%",
            "_model_name": "FloatProgressModel",
            "bar_style": "success",
            "max": 466062,
            "_view_module": "@jupyter-widgets/controls",
            "_model_module_version": "1.5.0",
            "value": 466062,
            "_view_count": null,
            "_view_module_version": "1.5.0",
            "orientation": "horizontal",
            "min": 0,
            "description_tooltip": null,
            "_model_module": "@jupyter-widgets/controls",
            "layout": "IPY_MODEL_deeb975b75f646e1a4a899dd0a6f2cd9"
          }
        },
        "27a383e4fb3d4defb7af85d7204d7a12": {
          "model_module": "@jupyter-widgets/controls",
          "model_name": "HTMLModel",
          "state": {
            "_view_name": "HTMLView",
            "style": "IPY_MODEL_62f9c5dc69b04f679ef23e79ca6cc7fe",
            "_dom_classes": [],
            "description": "",
            "_model_name": "HTMLModel",
            "placeholder": "​",
            "_view_module": "@jupyter-widgets/controls",
            "_model_module_version": "1.5.0",
            "value": " 466k/466k [00:10&lt;00:00, 43.8kB/s]",
            "_view_count": null,
            "_view_module_version": "1.5.0",
            "description_tooltip": null,
            "_model_module": "@jupyter-widgets/controls",
            "layout": "IPY_MODEL_1f8214d4879e4bcbb8286fb4831b88f4"
          }
        },
        "65519a8ab72a4c15b5fcebdf02c16eaf": {
          "model_module": "@jupyter-widgets/controls",
          "model_name": "ProgressStyleModel",
          "state": {
            "_view_name": "StyleView",
            "_model_name": "ProgressStyleModel",
            "description_width": "initial",
            "_view_module": "@jupyter-widgets/base",
            "_model_module_version": "1.5.0",
            "_view_count": null,
            "_view_module_version": "1.2.0",
            "bar_color": null,
            "_model_module": "@jupyter-widgets/controls"
          }
        },
        "deeb975b75f646e1a4a899dd0a6f2cd9": {
          "model_module": "@jupyter-widgets/base",
          "model_name": "LayoutModel",
          "state": {
            "_view_name": "LayoutView",
            "grid_template_rows": null,
            "right": null,
            "justify_content": null,
            "_view_module": "@jupyter-widgets/base",
            "overflow": null,
            "_model_module_version": "1.2.0",
            "_view_count": null,
            "flex_flow": null,
            "width": null,
            "min_width": null,
            "border": null,
            "align_items": null,
            "bottom": null,
            "_model_module": "@jupyter-widgets/base",
            "top": null,
            "grid_column": null,
            "overflow_y": null,
            "overflow_x": null,
            "grid_auto_flow": null,
            "grid_area": null,
            "grid_template_columns": null,
            "flex": null,
            "_model_name": "LayoutModel",
            "justify_items": null,
            "grid_row": null,
            "max_height": null,
            "align_content": null,
            "visibility": null,
            "align_self": null,
            "height": null,
            "min_height": null,
            "padding": null,
            "grid_auto_rows": null,
            "grid_gap": null,
            "max_width": null,
            "order": null,
            "_view_module_version": "1.2.0",
            "grid_template_areas": null,
            "object_position": null,
            "object_fit": null,
            "grid_auto_columns": null,
            "margin": null,
            "display": null,
            "left": null
          }
        },
        "62f9c5dc69b04f679ef23e79ca6cc7fe": {
          "model_module": "@jupyter-widgets/controls",
          "model_name": "DescriptionStyleModel",
          "state": {
            "_view_name": "StyleView",
            "_model_name": "DescriptionStyleModel",
            "description_width": "",
            "_view_module": "@jupyter-widgets/base",
            "_model_module_version": "1.5.0",
            "_view_count": null,
            "_view_module_version": "1.2.0",
            "_model_module": "@jupyter-widgets/controls"
          }
        },
        "1f8214d4879e4bcbb8286fb4831b88f4": {
          "model_module": "@jupyter-widgets/base",
          "model_name": "LayoutModel",
          "state": {
            "_view_name": "LayoutView",
            "grid_template_rows": null,
            "right": null,
            "justify_content": null,
            "_view_module": "@jupyter-widgets/base",
            "overflow": null,
            "_model_module_version": "1.2.0",
            "_view_count": null,
            "flex_flow": null,
            "width": null,
            "min_width": null,
            "border": null,
            "align_items": null,
            "bottom": null,
            "_model_module": "@jupyter-widgets/base",
            "top": null,
            "grid_column": null,
            "overflow_y": null,
            "overflow_x": null,
            "grid_auto_flow": null,
            "grid_area": null,
            "grid_template_columns": null,
            "flex": null,
            "_model_name": "LayoutModel",
            "justify_items": null,
            "grid_row": null,
            "max_height": null,
            "align_content": null,
            "visibility": null,
            "align_self": null,
            "height": null,
            "min_height": null,
            "padding": null,
            "grid_auto_rows": null,
            "grid_gap": null,
            "max_width": null,
            "order": null,
            "_view_module_version": "1.2.0",
            "grid_template_areas": null,
            "object_position": null,
            "object_fit": null,
            "grid_auto_columns": null,
            "margin": null,
            "display": null,
            "left": null
          }
        },
        "de6b98f7dd5146c28b2a71ec035222a9": {
          "model_module": "@jupyter-widgets/controls",
          "model_name": "HBoxModel",
          "state": {
            "_view_name": "HBoxView",
            "_dom_classes": [],
            "_model_name": "HBoxModel",
            "_view_module": "@jupyter-widgets/controls",
            "_model_module_version": "1.5.0",
            "_view_count": null,
            "_view_module_version": "1.5.0",
            "box_style": "",
            "layout": "IPY_MODEL_be7c5aa46d3f405ea00765da42aec8d5",
            "_model_module": "@jupyter-widgets/controls",
            "children": [
              "IPY_MODEL_4f9f4923d8504f38840359beee2beb0f",
              "IPY_MODEL_7b070ae54ff14d1993b3cad5bd2b44c7"
            ]
          }
        },
        "be7c5aa46d3f405ea00765da42aec8d5": {
          "model_module": "@jupyter-widgets/base",
          "model_name": "LayoutModel",
          "state": {
            "_view_name": "LayoutView",
            "grid_template_rows": null,
            "right": null,
            "justify_content": null,
            "_view_module": "@jupyter-widgets/base",
            "overflow": null,
            "_model_module_version": "1.2.0",
            "_view_count": null,
            "flex_flow": null,
            "width": null,
            "min_width": null,
            "border": null,
            "align_items": null,
            "bottom": null,
            "_model_module": "@jupyter-widgets/base",
            "top": null,
            "grid_column": null,
            "overflow_y": null,
            "overflow_x": null,
            "grid_auto_flow": null,
            "grid_area": null,
            "grid_template_columns": null,
            "flex": null,
            "_model_name": "LayoutModel",
            "justify_items": null,
            "grid_row": null,
            "max_height": null,
            "align_content": null,
            "visibility": null,
            "align_self": null,
            "height": null,
            "min_height": null,
            "padding": null,
            "grid_auto_rows": null,
            "grid_gap": null,
            "max_width": null,
            "order": null,
            "_view_module_version": "1.2.0",
            "grid_template_areas": null,
            "object_position": null,
            "object_fit": null,
            "grid_auto_columns": null,
            "margin": null,
            "display": null,
            "left": null
          }
        },
        "4f9f4923d8504f38840359beee2beb0f": {
          "model_module": "@jupyter-widgets/controls",
          "model_name": "FloatProgressModel",
          "state": {
            "_view_name": "ProgressView",
            "style": "IPY_MODEL_89a22b07564d4dd4b0a023fd9cc4beac",
            "_dom_classes": [],
            "description": "Downloading: ",
            "_model_name": "FloatProgressModel",
            "bar_style": "success",
            "max": 7826,
            "_view_module": "@jupyter-widgets/controls",
            "_model_module_version": "1.5.0",
            "value": 7826,
            "_view_count": null,
            "_view_module_version": "1.5.0",
            "orientation": "horizontal",
            "min": 0,
            "description_tooltip": null,
            "_model_module": "@jupyter-widgets/controls",
            "layout": "IPY_MODEL_081f68f6ae6f49689f2edc541df8ce80"
          }
        },
        "7b070ae54ff14d1993b3cad5bd2b44c7": {
          "model_module": "@jupyter-widgets/controls",
          "model_name": "HTMLModel",
          "state": {
            "_view_name": "HTMLView",
            "style": "IPY_MODEL_2ce3a004f9cf431292bc8376f296b67c",
            "_dom_classes": [],
            "description": "",
            "_model_name": "HTMLModel",
            "placeholder": "​",
            "_view_module": "@jupyter-widgets/controls",
            "_model_module_version": "1.5.0",
            "value": " 28.7k/? [00:00&lt;00:00, 202kB/s]",
            "_view_count": null,
            "_view_module_version": "1.5.0",
            "description_tooltip": null,
            "_model_module": "@jupyter-widgets/controls",
            "layout": "IPY_MODEL_b403ec83bfc9455bad29f0ea761c5ccb"
          }
        },
        "89a22b07564d4dd4b0a023fd9cc4beac": {
          "model_module": "@jupyter-widgets/controls",
          "model_name": "ProgressStyleModel",
          "state": {
            "_view_name": "StyleView",
            "_model_name": "ProgressStyleModel",
            "description_width": "initial",
            "_view_module": "@jupyter-widgets/base",
            "_model_module_version": "1.5.0",
            "_view_count": null,
            "_view_module_version": "1.2.0",
            "bar_color": null,
            "_model_module": "@jupyter-widgets/controls"
          }
        },
        "081f68f6ae6f49689f2edc541df8ce80": {
          "model_module": "@jupyter-widgets/base",
          "model_name": "LayoutModel",
          "state": {
            "_view_name": "LayoutView",
            "grid_template_rows": null,
            "right": null,
            "justify_content": null,
            "_view_module": "@jupyter-widgets/base",
            "overflow": null,
            "_model_module_version": "1.2.0",
            "_view_count": null,
            "flex_flow": null,
            "width": null,
            "min_width": null,
            "border": null,
            "align_items": null,
            "bottom": null,
            "_model_module": "@jupyter-widgets/base",
            "top": null,
            "grid_column": null,
            "overflow_y": null,
            "overflow_x": null,
            "grid_auto_flow": null,
            "grid_area": null,
            "grid_template_columns": null,
            "flex": null,
            "_model_name": "LayoutModel",
            "justify_items": null,
            "grid_row": null,
            "max_height": null,
            "align_content": null,
            "visibility": null,
            "align_self": null,
            "height": null,
            "min_height": null,
            "padding": null,
            "grid_auto_rows": null,
            "grid_gap": null,
            "max_width": null,
            "order": null,
            "_view_module_version": "1.2.0",
            "grid_template_areas": null,
            "object_position": null,
            "object_fit": null,
            "grid_auto_columns": null,
            "margin": null,
            "display": null,
            "left": null
          }
        },
        "2ce3a004f9cf431292bc8376f296b67c": {
          "model_module": "@jupyter-widgets/controls",
          "model_name": "DescriptionStyleModel",
          "state": {
            "_view_name": "StyleView",
            "_model_name": "DescriptionStyleModel",
            "description_width": "",
            "_view_module": "@jupyter-widgets/base",
            "_model_module_version": "1.5.0",
            "_view_count": null,
            "_view_module_version": "1.2.0",
            "_model_module": "@jupyter-widgets/controls"
          }
        },
        "b403ec83bfc9455bad29f0ea761c5ccb": {
          "model_module": "@jupyter-widgets/base",
          "model_name": "LayoutModel",
          "state": {
            "_view_name": "LayoutView",
            "grid_template_rows": null,
            "right": null,
            "justify_content": null,
            "_view_module": "@jupyter-widgets/base",
            "overflow": null,
            "_model_module_version": "1.2.0",
            "_view_count": null,
            "flex_flow": null,
            "width": null,
            "min_width": null,
            "border": null,
            "align_items": null,
            "bottom": null,
            "_model_module": "@jupyter-widgets/base",
            "top": null,
            "grid_column": null,
            "overflow_y": null,
            "overflow_x": null,
            "grid_auto_flow": null,
            "grid_area": null,
            "grid_template_columns": null,
            "flex": null,
            "_model_name": "LayoutModel",
            "justify_items": null,
            "grid_row": null,
            "max_height": null,
            "align_content": null,
            "visibility": null,
            "align_self": null,
            "height": null,
            "min_height": null,
            "padding": null,
            "grid_auto_rows": null,
            "grid_gap": null,
            "max_width": null,
            "order": null,
            "_view_module_version": "1.2.0",
            "grid_template_areas": null,
            "object_position": null,
            "object_fit": null,
            "grid_auto_columns": null,
            "margin": null,
            "display": null,
            "left": null
          }
        },
        "93067a912ebc4c4dbb0e5e5947d257c2": {
          "model_module": "@jupyter-widgets/controls",
          "model_name": "HBoxModel",
          "state": {
            "_view_name": "HBoxView",
            "_dom_classes": [],
            "_model_name": "HBoxModel",
            "_view_module": "@jupyter-widgets/controls",
            "_model_module_version": "1.5.0",
            "_view_count": null,
            "_view_module_version": "1.5.0",
            "box_style": "",
            "layout": "IPY_MODEL_cd54a43798354ce9877caea811efe79e",
            "_model_module": "@jupyter-widgets/controls",
            "children": [
              "IPY_MODEL_213a7a2c5989491697018f5f178054d8",
              "IPY_MODEL_78148cfb979344f0b794cd15593d759f"
            ]
          }
        },
        "cd54a43798354ce9877caea811efe79e": {
          "model_module": "@jupyter-widgets/base",
          "model_name": "LayoutModel",
          "state": {
            "_view_name": "LayoutView",
            "grid_template_rows": null,
            "right": null,
            "justify_content": null,
            "_view_module": "@jupyter-widgets/base",
            "overflow": null,
            "_model_module_version": "1.2.0",
            "_view_count": null,
            "flex_flow": null,
            "width": null,
            "min_width": null,
            "border": null,
            "align_items": null,
            "bottom": null,
            "_model_module": "@jupyter-widgets/base",
            "top": null,
            "grid_column": null,
            "overflow_y": null,
            "overflow_x": null,
            "grid_auto_flow": null,
            "grid_area": null,
            "grid_template_columns": null,
            "flex": null,
            "_model_name": "LayoutModel",
            "justify_items": null,
            "grid_row": null,
            "max_height": null,
            "align_content": null,
            "visibility": null,
            "align_self": null,
            "height": null,
            "min_height": null,
            "padding": null,
            "grid_auto_rows": null,
            "grid_gap": null,
            "max_width": null,
            "order": null,
            "_view_module_version": "1.2.0",
            "grid_template_areas": null,
            "object_position": null,
            "object_fit": null,
            "grid_auto_columns": null,
            "margin": null,
            "display": null,
            "left": null
          }
        },
        "213a7a2c5989491697018f5f178054d8": {
          "model_module": "@jupyter-widgets/controls",
          "model_name": "FloatProgressModel",
          "state": {
            "_view_name": "ProgressView",
            "style": "IPY_MODEL_d03793bdaf4a4a9e8cf240196c017ae1",
            "_dom_classes": [],
            "description": "Downloading: ",
            "_model_name": "FloatProgressModel",
            "bar_style": "success",
            "max": 4473,
            "_view_module": "@jupyter-widgets/controls",
            "_model_module_version": "1.5.0",
            "value": 4473,
            "_view_count": null,
            "_view_module_version": "1.5.0",
            "orientation": "horizontal",
            "min": 0,
            "description_tooltip": null,
            "_model_module": "@jupyter-widgets/controls",
            "layout": "IPY_MODEL_86910220441a438fad66ea8646c164c5"
          }
        },
        "78148cfb979344f0b794cd15593d759f": {
          "model_module": "@jupyter-widgets/controls",
          "model_name": "HTMLModel",
          "state": {
            "_view_name": "HTMLView",
            "style": "IPY_MODEL_c73a76d8d68e4d519ac2070ccae99947",
            "_dom_classes": [],
            "description": "",
            "_model_name": "HTMLModel",
            "placeholder": "​",
            "_view_module": "@jupyter-widgets/controls",
            "_model_module_version": "1.5.0",
            "value": " 28.7k/? [00:00&lt;00:00, 531kB/s]",
            "_view_count": null,
            "_view_module_version": "1.5.0",
            "description_tooltip": null,
            "_model_module": "@jupyter-widgets/controls",
            "layout": "IPY_MODEL_f802b57b74a9407cb359ec9576773cf3"
          }
        },
        "d03793bdaf4a4a9e8cf240196c017ae1": {
          "model_module": "@jupyter-widgets/controls",
          "model_name": "ProgressStyleModel",
          "state": {
            "_view_name": "StyleView",
            "_model_name": "ProgressStyleModel",
            "description_width": "initial",
            "_view_module": "@jupyter-widgets/base",
            "_model_module_version": "1.5.0",
            "_view_count": null,
            "_view_module_version": "1.2.0",
            "bar_color": null,
            "_model_module": "@jupyter-widgets/controls"
          }
        },
        "86910220441a438fad66ea8646c164c5": {
          "model_module": "@jupyter-widgets/base",
          "model_name": "LayoutModel",
          "state": {
            "_view_name": "LayoutView",
            "grid_template_rows": null,
            "right": null,
            "justify_content": null,
            "_view_module": "@jupyter-widgets/base",
            "overflow": null,
            "_model_module_version": "1.2.0",
            "_view_count": null,
            "flex_flow": null,
            "width": null,
            "min_width": null,
            "border": null,
            "align_items": null,
            "bottom": null,
            "_model_module": "@jupyter-widgets/base",
            "top": null,
            "grid_column": null,
            "overflow_y": null,
            "overflow_x": null,
            "grid_auto_flow": null,
            "grid_area": null,
            "grid_template_columns": null,
            "flex": null,
            "_model_name": "LayoutModel",
            "justify_items": null,
            "grid_row": null,
            "max_height": null,
            "align_content": null,
            "visibility": null,
            "align_self": null,
            "height": null,
            "min_height": null,
            "padding": null,
            "grid_auto_rows": null,
            "grid_gap": null,
            "max_width": null,
            "order": null,
            "_view_module_version": "1.2.0",
            "grid_template_areas": null,
            "object_position": null,
            "object_fit": null,
            "grid_auto_columns": null,
            "margin": null,
            "display": null,
            "left": null
          }
        },
        "c73a76d8d68e4d519ac2070ccae99947": {
          "model_module": "@jupyter-widgets/controls",
          "model_name": "DescriptionStyleModel",
          "state": {
            "_view_name": "StyleView",
            "_model_name": "DescriptionStyleModel",
            "description_width": "",
            "_view_module": "@jupyter-widgets/base",
            "_model_module_version": "1.5.0",
            "_view_count": null,
            "_view_module_version": "1.2.0",
            "_model_module": "@jupyter-widgets/controls"
          }
        },
        "f802b57b74a9407cb359ec9576773cf3": {
          "model_module": "@jupyter-widgets/base",
          "model_name": "LayoutModel",
          "state": {
            "_view_name": "LayoutView",
            "grid_template_rows": null,
            "right": null,
            "justify_content": null,
            "_view_module": "@jupyter-widgets/base",
            "overflow": null,
            "_model_module_version": "1.2.0",
            "_view_count": null,
            "flex_flow": null,
            "width": null,
            "min_width": null,
            "border": null,
            "align_items": null,
            "bottom": null,
            "_model_module": "@jupyter-widgets/base",
            "top": null,
            "grid_column": null,
            "overflow_y": null,
            "overflow_x": null,
            "grid_auto_flow": null,
            "grid_area": null,
            "grid_template_columns": null,
            "flex": null,
            "_model_name": "LayoutModel",
            "justify_items": null,
            "grid_row": null,
            "max_height": null,
            "align_content": null,
            "visibility": null,
            "align_self": null,
            "height": null,
            "min_height": null,
            "padding": null,
            "grid_auto_rows": null,
            "grid_gap": null,
            "max_width": null,
            "order": null,
            "_view_module_version": "1.2.0",
            "grid_template_areas": null,
            "object_position": null,
            "object_fit": null,
            "grid_auto_columns": null,
            "margin": null,
            "display": null,
            "left": null
          }
        },
        "09268fe9f6da4b58965e79500df7e2b4": {
          "model_module": "@jupyter-widgets/controls",
          "model_name": "HBoxModel",
          "state": {
            "_view_name": "HBoxView",
            "_dom_classes": [],
            "_model_name": "HBoxModel",
            "_view_module": "@jupyter-widgets/controls",
            "_model_module_version": "1.5.0",
            "_view_count": null,
            "_view_module_version": "1.5.0",
            "box_style": "",
            "layout": "IPY_MODEL_16a223d6199e450c99d05f04e02fc9e8",
            "_model_module": "@jupyter-widgets/controls",
            "children": [
              "IPY_MODEL_0318f32dc50940a3a2384e9a331b58a7",
              "IPY_MODEL_cf9f5bbce3d246e5abbefddfa274b25e"
            ]
          }
        },
        "16a223d6199e450c99d05f04e02fc9e8": {
          "model_module": "@jupyter-widgets/base",
          "model_name": "LayoutModel",
          "state": {
            "_view_name": "LayoutView",
            "grid_template_rows": null,
            "right": null,
            "justify_content": null,
            "_view_module": "@jupyter-widgets/base",
            "overflow": null,
            "_model_module_version": "1.2.0",
            "_view_count": null,
            "flex_flow": null,
            "width": null,
            "min_width": null,
            "border": null,
            "align_items": null,
            "bottom": null,
            "_model_module": "@jupyter-widgets/base",
            "top": null,
            "grid_column": null,
            "overflow_y": null,
            "overflow_x": null,
            "grid_auto_flow": null,
            "grid_area": null,
            "grid_template_columns": null,
            "flex": null,
            "_model_name": "LayoutModel",
            "justify_items": null,
            "grid_row": null,
            "max_height": null,
            "align_content": null,
            "visibility": null,
            "align_self": null,
            "height": null,
            "min_height": null,
            "padding": null,
            "grid_auto_rows": null,
            "grid_gap": null,
            "max_width": null,
            "order": null,
            "_view_module_version": "1.2.0",
            "grid_template_areas": null,
            "object_position": null,
            "object_fit": null,
            "grid_auto_columns": null,
            "margin": null,
            "display": null,
            "left": null
          }
        },
        "0318f32dc50940a3a2384e9a331b58a7": {
          "model_module": "@jupyter-widgets/controls",
          "model_name": "FloatProgressModel",
          "state": {
            "_view_name": "ProgressView",
            "style": "IPY_MODEL_dc5570667c3a41da9d064950ca823b3c",
            "_dom_classes": [],
            "description": "Downloading: 100%",
            "_model_name": "FloatProgressModel",
            "bar_style": "success",
            "max": 7439277,
            "_view_module": "@jupyter-widgets/controls",
            "_model_module_version": "1.5.0",
            "value": 7439277,
            "_view_count": null,
            "_view_module_version": "1.5.0",
            "orientation": "horizontal",
            "min": 0,
            "description_tooltip": null,
            "_model_module": "@jupyter-widgets/controls",
            "layout": "IPY_MODEL_50a16a89417f46109360a92e2dd5d53f"
          }
        },
        "cf9f5bbce3d246e5abbefddfa274b25e": {
          "model_module": "@jupyter-widgets/controls",
          "model_name": "HTMLModel",
          "state": {
            "_view_name": "HTMLView",
            "style": "IPY_MODEL_2658ca135f9d4b7cbf09b1f31b33eadb",
            "_dom_classes": [],
            "description": "",
            "_model_name": "HTMLModel",
            "placeholder": "​",
            "_view_module": "@jupyter-widgets/controls",
            "_model_module_version": "1.5.0",
            "value": " 7.44M/7.44M [00:00&lt;00:00, 8.34MB/s]",
            "_view_count": null,
            "_view_module_version": "1.5.0",
            "description_tooltip": null,
            "_model_module": "@jupyter-widgets/controls",
            "layout": "IPY_MODEL_bb7770b4982c467186b27731c2858c8b"
          }
        },
        "dc5570667c3a41da9d064950ca823b3c": {
          "model_module": "@jupyter-widgets/controls",
          "model_name": "ProgressStyleModel",
          "state": {
            "_view_name": "StyleView",
            "_model_name": "ProgressStyleModel",
            "description_width": "initial",
            "_view_module": "@jupyter-widgets/base",
            "_model_module_version": "1.5.0",
            "_view_count": null,
            "_view_module_version": "1.2.0",
            "bar_color": null,
            "_model_module": "@jupyter-widgets/controls"
          }
        },
        "50a16a89417f46109360a92e2dd5d53f": {
          "model_module": "@jupyter-widgets/base",
          "model_name": "LayoutModel",
          "state": {
            "_view_name": "LayoutView",
            "grid_template_rows": null,
            "right": null,
            "justify_content": null,
            "_view_module": "@jupyter-widgets/base",
            "overflow": null,
            "_model_module_version": "1.2.0",
            "_view_count": null,
            "flex_flow": null,
            "width": null,
            "min_width": null,
            "border": null,
            "align_items": null,
            "bottom": null,
            "_model_module": "@jupyter-widgets/base",
            "top": null,
            "grid_column": null,
            "overflow_y": null,
            "overflow_x": null,
            "grid_auto_flow": null,
            "grid_area": null,
            "grid_template_columns": null,
            "flex": null,
            "_model_name": "LayoutModel",
            "justify_items": null,
            "grid_row": null,
            "max_height": null,
            "align_content": null,
            "visibility": null,
            "align_self": null,
            "height": null,
            "min_height": null,
            "padding": null,
            "grid_auto_rows": null,
            "grid_gap": null,
            "max_width": null,
            "order": null,
            "_view_module_version": "1.2.0",
            "grid_template_areas": null,
            "object_position": null,
            "object_fit": null,
            "grid_auto_columns": null,
            "margin": null,
            "display": null,
            "left": null
          }
        },
        "2658ca135f9d4b7cbf09b1f31b33eadb": {
          "model_module": "@jupyter-widgets/controls",
          "model_name": "DescriptionStyleModel",
          "state": {
            "_view_name": "StyleView",
            "_model_name": "DescriptionStyleModel",
            "description_width": "",
            "_view_module": "@jupyter-widgets/base",
            "_model_module_version": "1.5.0",
            "_view_count": null,
            "_view_module_version": "1.2.0",
            "_model_module": "@jupyter-widgets/controls"
          }
        },
        "bb7770b4982c467186b27731c2858c8b": {
          "model_module": "@jupyter-widgets/base",
          "model_name": "LayoutModel",
          "state": {
            "_view_name": "LayoutView",
            "grid_template_rows": null,
            "right": null,
            "justify_content": null,
            "_view_module": "@jupyter-widgets/base",
            "overflow": null,
            "_model_module_version": "1.2.0",
            "_view_count": null,
            "flex_flow": null,
            "width": null,
            "min_width": null,
            "border": null,
            "align_items": null,
            "bottom": null,
            "_model_module": "@jupyter-widgets/base",
            "top": null,
            "grid_column": null,
            "overflow_y": null,
            "overflow_x": null,
            "grid_auto_flow": null,
            "grid_area": null,
            "grid_template_columns": null,
            "flex": null,
            "_model_name": "LayoutModel",
            "justify_items": null,
            "grid_row": null,
            "max_height": null,
            "align_content": null,
            "visibility": null,
            "align_self": null,
            "height": null,
            "min_height": null,
            "padding": null,
            "grid_auto_rows": null,
            "grid_gap": null,
            "max_width": null,
            "order": null,
            "_view_module_version": "1.2.0",
            "grid_template_areas": null,
            "object_position": null,
            "object_fit": null,
            "grid_auto_columns": null,
            "margin": null,
            "display": null,
            "left": null
          }
        },
        "37eeba634673471787168cb32c75d7ab": {
          "model_module": "@jupyter-widgets/controls",
          "model_name": "HBoxModel",
          "state": {
            "_view_name": "HBoxView",
            "_dom_classes": [],
            "_model_name": "HBoxModel",
            "_view_module": "@jupyter-widgets/controls",
            "_model_module_version": "1.5.0",
            "_view_count": null,
            "_view_module_version": "1.5.0",
            "box_style": "",
            "layout": "IPY_MODEL_d4d39fb03947421bb5d5ba7f2c9b39b7",
            "_model_module": "@jupyter-widgets/controls",
            "children": [
              "IPY_MODEL_335fdd63369644f9b83cfbe80762ef0c",
              "IPY_MODEL_d35877f8877045ff9ba04dc9ffb829ab"
            ]
          }
        },
        "d4d39fb03947421bb5d5ba7f2c9b39b7": {
          "model_module": "@jupyter-widgets/base",
          "model_name": "LayoutModel",
          "state": {
            "_view_name": "LayoutView",
            "grid_template_rows": null,
            "right": null,
            "justify_content": null,
            "_view_module": "@jupyter-widgets/base",
            "overflow": null,
            "_model_module_version": "1.2.0",
            "_view_count": null,
            "flex_flow": null,
            "width": null,
            "min_width": null,
            "border": null,
            "align_items": null,
            "bottom": null,
            "_model_module": "@jupyter-widgets/base",
            "top": null,
            "grid_column": null,
            "overflow_y": null,
            "overflow_x": null,
            "grid_auto_flow": null,
            "grid_area": null,
            "grid_template_columns": null,
            "flex": null,
            "_model_name": "LayoutModel",
            "justify_items": null,
            "grid_row": null,
            "max_height": null,
            "align_content": null,
            "visibility": null,
            "align_self": null,
            "height": null,
            "min_height": null,
            "padding": null,
            "grid_auto_rows": null,
            "grid_gap": null,
            "max_width": null,
            "order": null,
            "_view_module_version": "1.2.0",
            "grid_template_areas": null,
            "object_position": null,
            "object_fit": null,
            "grid_auto_columns": null,
            "margin": null,
            "display": null,
            "left": null
          }
        },
        "335fdd63369644f9b83cfbe80762ef0c": {
          "model_module": "@jupyter-widgets/controls",
          "model_name": "FloatProgressModel",
          "state": {
            "_view_name": "ProgressView",
            "style": "IPY_MODEL_1d0fe081ec2d4010b6151f60875a2397",
            "_dom_classes": [],
            "description": "",
            "_model_name": "FloatProgressModel",
            "bar_style": "info",
            "max": 1,
            "_view_module": "@jupyter-widgets/controls",
            "_model_module_version": "1.5.0",
            "value": 1,
            "_view_count": null,
            "_view_module_version": "1.5.0",
            "orientation": "horizontal",
            "min": 0,
            "description_tooltip": null,
            "_model_module": "@jupyter-widgets/controls",
            "layout": "IPY_MODEL_f12814719e094262ad59b13b30d316e7"
          }
        },
        "d35877f8877045ff9ba04dc9ffb829ab": {
          "model_module": "@jupyter-widgets/controls",
          "model_name": "HTMLModel",
          "state": {
            "_view_name": "HTMLView",
            "style": "IPY_MODEL_fdb631596bcc4b37a2a056684c4d7f96",
            "_dom_classes": [],
            "description": "",
            "_model_name": "HTMLModel",
            "placeholder": "​",
            "_view_module": "@jupyter-widgets/controls",
            "_model_module_version": "1.5.0",
            "value": " 67349/0 [00:02&lt;00:00, 111.50 examples/s]",
            "_view_count": null,
            "_view_module_version": "1.5.0",
            "description_tooltip": null,
            "_model_module": "@jupyter-widgets/controls",
            "layout": "IPY_MODEL_81b6a541bbbf4496b39f5a6fa736ad96"
          }
        },
        "1d0fe081ec2d4010b6151f60875a2397": {
          "model_module": "@jupyter-widgets/controls",
          "model_name": "ProgressStyleModel",
          "state": {
            "_view_name": "StyleView",
            "_model_name": "ProgressStyleModel",
            "description_width": "initial",
            "_view_module": "@jupyter-widgets/base",
            "_model_module_version": "1.5.0",
            "_view_count": null,
            "_view_module_version": "1.2.0",
            "bar_color": null,
            "_model_module": "@jupyter-widgets/controls"
          }
        },
        "f12814719e094262ad59b13b30d316e7": {
          "model_module": "@jupyter-widgets/base",
          "model_name": "LayoutModel",
          "state": {
            "_view_name": "LayoutView",
            "grid_template_rows": null,
            "right": null,
            "justify_content": null,
            "_view_module": "@jupyter-widgets/base",
            "overflow": null,
            "_model_module_version": "1.2.0",
            "_view_count": null,
            "flex_flow": null,
            "width": null,
            "min_width": null,
            "border": null,
            "align_items": null,
            "bottom": null,
            "_model_module": "@jupyter-widgets/base",
            "top": null,
            "grid_column": null,
            "overflow_y": null,
            "overflow_x": null,
            "grid_auto_flow": null,
            "grid_area": null,
            "grid_template_columns": null,
            "flex": null,
            "_model_name": "LayoutModel",
            "justify_items": null,
            "grid_row": null,
            "max_height": null,
            "align_content": null,
            "visibility": null,
            "align_self": null,
            "height": null,
            "min_height": null,
            "padding": null,
            "grid_auto_rows": null,
            "grid_gap": null,
            "max_width": null,
            "order": null,
            "_view_module_version": "1.2.0",
            "grid_template_areas": null,
            "object_position": null,
            "object_fit": null,
            "grid_auto_columns": null,
            "margin": null,
            "display": null,
            "left": null
          }
        },
        "fdb631596bcc4b37a2a056684c4d7f96": {
          "model_module": "@jupyter-widgets/controls",
          "model_name": "DescriptionStyleModel",
          "state": {
            "_view_name": "StyleView",
            "_model_name": "DescriptionStyleModel",
            "description_width": "",
            "_view_module": "@jupyter-widgets/base",
            "_model_module_version": "1.5.0",
            "_view_count": null,
            "_view_module_version": "1.2.0",
            "_model_module": "@jupyter-widgets/controls"
          }
        },
        "81b6a541bbbf4496b39f5a6fa736ad96": {
          "model_module": "@jupyter-widgets/base",
          "model_name": "LayoutModel",
          "state": {
            "_view_name": "LayoutView",
            "grid_template_rows": null,
            "right": null,
            "justify_content": null,
            "_view_module": "@jupyter-widgets/base",
            "overflow": null,
            "_model_module_version": "1.2.0",
            "_view_count": null,
            "flex_flow": null,
            "width": null,
            "min_width": null,
            "border": null,
            "align_items": null,
            "bottom": null,
            "_model_module": "@jupyter-widgets/base",
            "top": null,
            "grid_column": null,
            "overflow_y": null,
            "overflow_x": null,
            "grid_auto_flow": null,
            "grid_area": null,
            "grid_template_columns": null,
            "flex": null,
            "_model_name": "LayoutModel",
            "justify_items": null,
            "grid_row": null,
            "max_height": null,
            "align_content": null,
            "visibility": null,
            "align_self": null,
            "height": null,
            "min_height": null,
            "padding": null,
            "grid_auto_rows": null,
            "grid_gap": null,
            "max_width": null,
            "order": null,
            "_view_module_version": "1.2.0",
            "grid_template_areas": null,
            "object_position": null,
            "object_fit": null,
            "grid_auto_columns": null,
            "margin": null,
            "display": null,
            "left": null
          }
        },
        "0fb99fb48b3549b398f67710e4f55b13": {
          "model_module": "@jupyter-widgets/controls",
          "model_name": "HBoxModel",
          "state": {
            "_view_name": "HBoxView",
            "_dom_classes": [],
            "_model_name": "HBoxModel",
            "_view_module": "@jupyter-widgets/controls",
            "_model_module_version": "1.5.0",
            "_view_count": null,
            "_view_module_version": "1.5.0",
            "box_style": "",
            "layout": "IPY_MODEL_3d23b71743b54b8f8b5550e787febd2b",
            "_model_module": "@jupyter-widgets/controls",
            "children": [
              "IPY_MODEL_53bf636c937b4a1b972d65786a6a4c5d",
              "IPY_MODEL_c3e2eb10c6094e3183eba3c9a08bb9fc"
            ]
          }
        },
        "3d23b71743b54b8f8b5550e787febd2b": {
          "model_module": "@jupyter-widgets/base",
          "model_name": "LayoutModel",
          "state": {
            "_view_name": "LayoutView",
            "grid_template_rows": null,
            "right": null,
            "justify_content": null,
            "_view_module": "@jupyter-widgets/base",
            "overflow": null,
            "_model_module_version": "1.2.0",
            "_view_count": null,
            "flex_flow": null,
            "width": null,
            "min_width": null,
            "border": null,
            "align_items": null,
            "bottom": null,
            "_model_module": "@jupyter-widgets/base",
            "top": null,
            "grid_column": null,
            "overflow_y": null,
            "overflow_x": null,
            "grid_auto_flow": null,
            "grid_area": null,
            "grid_template_columns": null,
            "flex": null,
            "_model_name": "LayoutModel",
            "justify_items": null,
            "grid_row": null,
            "max_height": null,
            "align_content": null,
            "visibility": null,
            "align_self": null,
            "height": null,
            "min_height": null,
            "padding": null,
            "grid_auto_rows": null,
            "grid_gap": null,
            "max_width": null,
            "order": null,
            "_view_module_version": "1.2.0",
            "grid_template_areas": null,
            "object_position": null,
            "object_fit": null,
            "grid_auto_columns": null,
            "margin": null,
            "display": null,
            "left": null
          }
        },
        "53bf636c937b4a1b972d65786a6a4c5d": {
          "model_module": "@jupyter-widgets/controls",
          "model_name": "FloatProgressModel",
          "state": {
            "_view_name": "ProgressView",
            "style": "IPY_MODEL_dd40f60c0ddf47f3b7bde838abd41800",
            "_dom_classes": [],
            "description": "",
            "_model_name": "FloatProgressModel",
            "bar_style": "info",
            "max": 1,
            "_view_module": "@jupyter-widgets/controls",
            "_model_module_version": "1.5.0",
            "value": 1,
            "_view_count": null,
            "_view_module_version": "1.5.0",
            "orientation": "horizontal",
            "min": 0,
            "description_tooltip": null,
            "_model_module": "@jupyter-widgets/controls",
            "layout": "IPY_MODEL_dd82f82897444e5c8e795ef6494cea50"
          }
        },
        "c3e2eb10c6094e3183eba3c9a08bb9fc": {
          "model_module": "@jupyter-widgets/controls",
          "model_name": "HTMLModel",
          "state": {
            "_view_name": "HTMLView",
            "style": "IPY_MODEL_d1ed871ae64c4857846b173509d46d2d",
            "_dom_classes": [],
            "description": "",
            "_model_name": "HTMLModel",
            "placeholder": "​",
            "_view_module": "@jupyter-widgets/controls",
            "_model_module_version": "1.5.0",
            "value": " 872/0 [00:00&lt;00:00, 14310.83 examples/s]",
            "_view_count": null,
            "_view_module_version": "1.5.0",
            "description_tooltip": null,
            "_model_module": "@jupyter-widgets/controls",
            "layout": "IPY_MODEL_3976b60ff9894b16a47dd0062f632045"
          }
        },
        "dd40f60c0ddf47f3b7bde838abd41800": {
          "model_module": "@jupyter-widgets/controls",
          "model_name": "ProgressStyleModel",
          "state": {
            "_view_name": "StyleView",
            "_model_name": "ProgressStyleModel",
            "description_width": "initial",
            "_view_module": "@jupyter-widgets/base",
            "_model_module_version": "1.5.0",
            "_view_count": null,
            "_view_module_version": "1.2.0",
            "bar_color": null,
            "_model_module": "@jupyter-widgets/controls"
          }
        },
        "dd82f82897444e5c8e795ef6494cea50": {
          "model_module": "@jupyter-widgets/base",
          "model_name": "LayoutModel",
          "state": {
            "_view_name": "LayoutView",
            "grid_template_rows": null,
            "right": null,
            "justify_content": null,
            "_view_module": "@jupyter-widgets/base",
            "overflow": null,
            "_model_module_version": "1.2.0",
            "_view_count": null,
            "flex_flow": null,
            "width": null,
            "min_width": null,
            "border": null,
            "align_items": null,
            "bottom": null,
            "_model_module": "@jupyter-widgets/base",
            "top": null,
            "grid_column": null,
            "overflow_y": null,
            "overflow_x": null,
            "grid_auto_flow": null,
            "grid_area": null,
            "grid_template_columns": null,
            "flex": null,
            "_model_name": "LayoutModel",
            "justify_items": null,
            "grid_row": null,
            "max_height": null,
            "align_content": null,
            "visibility": null,
            "align_self": null,
            "height": null,
            "min_height": null,
            "padding": null,
            "grid_auto_rows": null,
            "grid_gap": null,
            "max_width": null,
            "order": null,
            "_view_module_version": "1.2.0",
            "grid_template_areas": null,
            "object_position": null,
            "object_fit": null,
            "grid_auto_columns": null,
            "margin": null,
            "display": null,
            "left": null
          }
        },
        "d1ed871ae64c4857846b173509d46d2d": {
          "model_module": "@jupyter-widgets/controls",
          "model_name": "DescriptionStyleModel",
          "state": {
            "_view_name": "StyleView",
            "_model_name": "DescriptionStyleModel",
            "description_width": "",
            "_view_module": "@jupyter-widgets/base",
            "_model_module_version": "1.5.0",
            "_view_count": null,
            "_view_module_version": "1.2.0",
            "_model_module": "@jupyter-widgets/controls"
          }
        },
        "3976b60ff9894b16a47dd0062f632045": {
          "model_module": "@jupyter-widgets/base",
          "model_name": "LayoutModel",
          "state": {
            "_view_name": "LayoutView",
            "grid_template_rows": null,
            "right": null,
            "justify_content": null,
            "_view_module": "@jupyter-widgets/base",
            "overflow": null,
            "_model_module_version": "1.2.0",
            "_view_count": null,
            "flex_flow": null,
            "width": null,
            "min_width": null,
            "border": null,
            "align_items": null,
            "bottom": null,
            "_model_module": "@jupyter-widgets/base",
            "top": null,
            "grid_column": null,
            "overflow_y": null,
            "overflow_x": null,
            "grid_auto_flow": null,
            "grid_area": null,
            "grid_template_columns": null,
            "flex": null,
            "_model_name": "LayoutModel",
            "justify_items": null,
            "grid_row": null,
            "max_height": null,
            "align_content": null,
            "visibility": null,
            "align_self": null,
            "height": null,
            "min_height": null,
            "padding": null,
            "grid_auto_rows": null,
            "grid_gap": null,
            "max_width": null,
            "order": null,
            "_view_module_version": "1.2.0",
            "grid_template_areas": null,
            "object_position": null,
            "object_fit": null,
            "grid_auto_columns": null,
            "margin": null,
            "display": null,
            "left": null
          }
        },
        "4b2fd9aea2654b7993743de64131f32f": {
          "model_module": "@jupyter-widgets/controls",
          "model_name": "HBoxModel",
          "state": {
            "_view_name": "HBoxView",
            "_dom_classes": [],
            "_model_name": "HBoxModel",
            "_view_module": "@jupyter-widgets/controls",
            "_model_module_version": "1.5.0",
            "_view_count": null,
            "_view_module_version": "1.5.0",
            "box_style": "",
            "layout": "IPY_MODEL_3b90d0437a6f481280ed55525571188f",
            "_model_module": "@jupyter-widgets/controls",
            "children": [
              "IPY_MODEL_551067a8db5d49809335fdb1bd5f3296",
              "IPY_MODEL_b00402a0cf874b2bae3957ad1ad96889"
            ]
          }
        },
        "3b90d0437a6f481280ed55525571188f": {
          "model_module": "@jupyter-widgets/base",
          "model_name": "LayoutModel",
          "state": {
            "_view_name": "LayoutView",
            "grid_template_rows": null,
            "right": null,
            "justify_content": null,
            "_view_module": "@jupyter-widgets/base",
            "overflow": null,
            "_model_module_version": "1.2.0",
            "_view_count": null,
            "flex_flow": null,
            "width": null,
            "min_width": null,
            "border": null,
            "align_items": null,
            "bottom": null,
            "_model_module": "@jupyter-widgets/base",
            "top": null,
            "grid_column": null,
            "overflow_y": null,
            "overflow_x": null,
            "grid_auto_flow": null,
            "grid_area": null,
            "grid_template_columns": null,
            "flex": null,
            "_model_name": "LayoutModel",
            "justify_items": null,
            "grid_row": null,
            "max_height": null,
            "align_content": null,
            "visibility": null,
            "align_self": null,
            "height": null,
            "min_height": null,
            "padding": null,
            "grid_auto_rows": null,
            "grid_gap": null,
            "max_width": null,
            "order": null,
            "_view_module_version": "1.2.0",
            "grid_template_areas": null,
            "object_position": null,
            "object_fit": null,
            "grid_auto_columns": null,
            "margin": null,
            "display": null,
            "left": null
          }
        },
        "551067a8db5d49809335fdb1bd5f3296": {
          "model_module": "@jupyter-widgets/controls",
          "model_name": "FloatProgressModel",
          "state": {
            "_view_name": "ProgressView",
            "style": "IPY_MODEL_c108336a1ea44873b8ad0432250ba4c5",
            "_dom_classes": [],
            "description": "",
            "_model_name": "FloatProgressModel",
            "bar_style": "info",
            "max": 1,
            "_view_module": "@jupyter-widgets/controls",
            "_model_module_version": "1.5.0",
            "value": 1,
            "_view_count": null,
            "_view_module_version": "1.5.0",
            "orientation": "horizontal",
            "min": 0,
            "description_tooltip": null,
            "_model_module": "@jupyter-widgets/controls",
            "layout": "IPY_MODEL_9faa613b31974d19b905eeccd6bdd7fd"
          }
        },
        "b00402a0cf874b2bae3957ad1ad96889": {
          "model_module": "@jupyter-widgets/controls",
          "model_name": "HTMLModel",
          "state": {
            "_view_name": "HTMLView",
            "style": "IPY_MODEL_a86af4b318494592af26ace194064c90",
            "_dom_classes": [],
            "description": "",
            "_model_name": "HTMLModel",
            "placeholder": "​",
            "_view_module": "@jupyter-widgets/controls",
            "_model_module_version": "1.5.0",
            "value": " 1821/0 [00:00&lt;00:00, 20267.39 examples/s]",
            "_view_count": null,
            "_view_module_version": "1.5.0",
            "description_tooltip": null,
            "_model_module": "@jupyter-widgets/controls",
            "layout": "IPY_MODEL_272975003c9949379cb990bbdb065990"
          }
        },
        "c108336a1ea44873b8ad0432250ba4c5": {
          "model_module": "@jupyter-widgets/controls",
          "model_name": "ProgressStyleModel",
          "state": {
            "_view_name": "StyleView",
            "_model_name": "ProgressStyleModel",
            "description_width": "initial",
            "_view_module": "@jupyter-widgets/base",
            "_model_module_version": "1.5.0",
            "_view_count": null,
            "_view_module_version": "1.2.0",
            "bar_color": null,
            "_model_module": "@jupyter-widgets/controls"
          }
        },
        "9faa613b31974d19b905eeccd6bdd7fd": {
          "model_module": "@jupyter-widgets/base",
          "model_name": "LayoutModel",
          "state": {
            "_view_name": "LayoutView",
            "grid_template_rows": null,
            "right": null,
            "justify_content": null,
            "_view_module": "@jupyter-widgets/base",
            "overflow": null,
            "_model_module_version": "1.2.0",
            "_view_count": null,
            "flex_flow": null,
            "width": null,
            "min_width": null,
            "border": null,
            "align_items": null,
            "bottom": null,
            "_model_module": "@jupyter-widgets/base",
            "top": null,
            "grid_column": null,
            "overflow_y": null,
            "overflow_x": null,
            "grid_auto_flow": null,
            "grid_area": null,
            "grid_template_columns": null,
            "flex": null,
            "_model_name": "LayoutModel",
            "justify_items": null,
            "grid_row": null,
            "max_height": null,
            "align_content": null,
            "visibility": null,
            "align_self": null,
            "height": null,
            "min_height": null,
            "padding": null,
            "grid_auto_rows": null,
            "grid_gap": null,
            "max_width": null,
            "order": null,
            "_view_module_version": "1.2.0",
            "grid_template_areas": null,
            "object_position": null,
            "object_fit": null,
            "grid_auto_columns": null,
            "margin": null,
            "display": null,
            "left": null
          }
        },
        "a86af4b318494592af26ace194064c90": {
          "model_module": "@jupyter-widgets/controls",
          "model_name": "DescriptionStyleModel",
          "state": {
            "_view_name": "StyleView",
            "_model_name": "DescriptionStyleModel",
            "description_width": "",
            "_view_module": "@jupyter-widgets/base",
            "_model_module_version": "1.5.0",
            "_view_count": null,
            "_view_module_version": "1.2.0",
            "_model_module": "@jupyter-widgets/controls"
          }
        },
        "272975003c9949379cb990bbdb065990": {
          "model_module": "@jupyter-widgets/base",
          "model_name": "LayoutModel",
          "state": {
            "_view_name": "LayoutView",
            "grid_template_rows": null,
            "right": null,
            "justify_content": null,
            "_view_module": "@jupyter-widgets/base",
            "overflow": null,
            "_model_module_version": "1.2.0",
            "_view_count": null,
            "flex_flow": null,
            "width": null,
            "min_width": null,
            "border": null,
            "align_items": null,
            "bottom": null,
            "_model_module": "@jupyter-widgets/base",
            "top": null,
            "grid_column": null,
            "overflow_y": null,
            "overflow_x": null,
            "grid_auto_flow": null,
            "grid_area": null,
            "grid_template_columns": null,
            "flex": null,
            "_model_name": "LayoutModel",
            "justify_items": null,
            "grid_row": null,
            "max_height": null,
            "align_content": null,
            "visibility": null,
            "align_self": null,
            "height": null,
            "min_height": null,
            "padding": null,
            "grid_auto_rows": null,
            "grid_gap": null,
            "max_width": null,
            "order": null,
            "_view_module_version": "1.2.0",
            "grid_template_areas": null,
            "object_position": null,
            "object_fit": null,
            "grid_auto_columns": null,
            "margin": null,
            "display": null,
            "left": null
          }
        },
        "1ba4656b90414248bc7ab9da4957e109": {
          "model_module": "@jupyter-widgets/controls",
          "model_name": "HBoxModel",
          "state": {
            "_view_name": "HBoxView",
            "_dom_classes": [],
            "_model_name": "HBoxModel",
            "_view_module": "@jupyter-widgets/controls",
            "_model_module_version": "1.5.0",
            "_view_count": null,
            "_view_module_version": "1.5.0",
            "box_style": "",
            "layout": "IPY_MODEL_974cd78a5ee74359a6731f8902cc068c",
            "_model_module": "@jupyter-widgets/controls",
            "children": [
              "IPY_MODEL_6b6e840a7c484620b57d92fba2a32abb",
              "IPY_MODEL_a5a0accc9f9241909c55e96edbbee78c"
            ]
          }
        },
        "974cd78a5ee74359a6731f8902cc068c": {
          "model_module": "@jupyter-widgets/base",
          "model_name": "LayoutModel",
          "state": {
            "_view_name": "LayoutView",
            "grid_template_rows": null,
            "right": null,
            "justify_content": null,
            "_view_module": "@jupyter-widgets/base",
            "overflow": null,
            "_model_module_version": "1.2.0",
            "_view_count": null,
            "flex_flow": null,
            "width": null,
            "min_width": null,
            "border": null,
            "align_items": null,
            "bottom": null,
            "_model_module": "@jupyter-widgets/base",
            "top": null,
            "grid_column": null,
            "overflow_y": null,
            "overflow_x": null,
            "grid_auto_flow": null,
            "grid_area": null,
            "grid_template_columns": null,
            "flex": null,
            "_model_name": "LayoutModel",
            "justify_items": null,
            "grid_row": null,
            "max_height": null,
            "align_content": null,
            "visibility": null,
            "align_self": null,
            "height": null,
            "min_height": null,
            "padding": null,
            "grid_auto_rows": null,
            "grid_gap": null,
            "max_width": null,
            "order": null,
            "_view_module_version": "1.2.0",
            "grid_template_areas": null,
            "object_position": null,
            "object_fit": null,
            "grid_auto_columns": null,
            "margin": null,
            "display": null,
            "left": null
          }
        },
        "6b6e840a7c484620b57d92fba2a32abb": {
          "model_module": "@jupyter-widgets/controls",
          "model_name": "FloatProgressModel",
          "state": {
            "_view_name": "ProgressView",
            "style": "IPY_MODEL_6b9c270dd79b4191831371df7e352d27",
            "_dom_classes": [],
            "description": "",
            "_model_name": "FloatProgressModel",
            "bar_style": "success",
            "max": 1,
            "_view_module": "@jupyter-widgets/controls",
            "_model_module_version": "1.5.0",
            "value": 1,
            "_view_count": null,
            "_view_module_version": "1.5.0",
            "orientation": "horizontal",
            "min": 0,
            "description_tooltip": null,
            "_model_module": "@jupyter-widgets/controls",
            "layout": "IPY_MODEL_e989f40134434c368d4ff884e1f8e811"
          }
        },
        "a5a0accc9f9241909c55e96edbbee78c": {
          "model_module": "@jupyter-widgets/controls",
          "model_name": "HTMLModel",
          "state": {
            "_view_name": "HTMLView",
            "style": "IPY_MODEL_354f1d95852f414d9ee3ad00e345be4c",
            "_dom_classes": [],
            "description": "",
            "_model_name": "HTMLModel",
            "placeholder": "​",
            "_view_module": "@jupyter-widgets/controls",
            "_model_module_version": "1.5.0",
            "value": " 1/0 [00:01&lt;00:00,  1.96s/it]",
            "_view_count": null,
            "_view_module_version": "1.5.0",
            "description_tooltip": null,
            "_model_module": "@jupyter-widgets/controls",
            "layout": "IPY_MODEL_c4af1513fa064b0081c3dc9c905fc3dc"
          }
        },
        "6b9c270dd79b4191831371df7e352d27": {
          "model_module": "@jupyter-widgets/controls",
          "model_name": "ProgressStyleModel",
          "state": {
            "_view_name": "StyleView",
            "_model_name": "ProgressStyleModel",
            "description_width": "initial",
            "_view_module": "@jupyter-widgets/base",
            "_model_module_version": "1.5.0",
            "_view_count": null,
            "_view_module_version": "1.2.0",
            "bar_color": null,
            "_model_module": "@jupyter-widgets/controls"
          }
        },
        "e989f40134434c368d4ff884e1f8e811": {
          "model_module": "@jupyter-widgets/base",
          "model_name": "LayoutModel",
          "state": {
            "_view_name": "LayoutView",
            "grid_template_rows": null,
            "right": null,
            "justify_content": null,
            "_view_module": "@jupyter-widgets/base",
            "overflow": null,
            "_model_module_version": "1.2.0",
            "_view_count": null,
            "flex_flow": null,
            "width": null,
            "min_width": null,
            "border": null,
            "align_items": null,
            "bottom": null,
            "_model_module": "@jupyter-widgets/base",
            "top": null,
            "grid_column": null,
            "overflow_y": null,
            "overflow_x": null,
            "grid_auto_flow": null,
            "grid_area": null,
            "grid_template_columns": null,
            "flex": null,
            "_model_name": "LayoutModel",
            "justify_items": null,
            "grid_row": null,
            "max_height": null,
            "align_content": null,
            "visibility": null,
            "align_self": null,
            "height": null,
            "min_height": null,
            "padding": null,
            "grid_auto_rows": null,
            "grid_gap": null,
            "max_width": null,
            "order": null,
            "_view_module_version": "1.2.0",
            "grid_template_areas": null,
            "object_position": null,
            "object_fit": null,
            "grid_auto_columns": null,
            "margin": null,
            "display": null,
            "left": null
          }
        },
        "354f1d95852f414d9ee3ad00e345be4c": {
          "model_module": "@jupyter-widgets/controls",
          "model_name": "DescriptionStyleModel",
          "state": {
            "_view_name": "StyleView",
            "_model_name": "DescriptionStyleModel",
            "description_width": "",
            "_view_module": "@jupyter-widgets/base",
            "_model_module_version": "1.5.0",
            "_view_count": null,
            "_view_module_version": "1.2.0",
            "_model_module": "@jupyter-widgets/controls"
          }
        },
        "c4af1513fa064b0081c3dc9c905fc3dc": {
          "model_module": "@jupyter-widgets/base",
          "model_name": "LayoutModel",
          "state": {
            "_view_name": "LayoutView",
            "grid_template_rows": null,
            "right": null,
            "justify_content": null,
            "_view_module": "@jupyter-widgets/base",
            "overflow": null,
            "_model_module_version": "1.2.0",
            "_view_count": null,
            "flex_flow": null,
            "width": null,
            "min_width": null,
            "border": null,
            "align_items": null,
            "bottom": null,
            "_model_module": "@jupyter-widgets/base",
            "top": null,
            "grid_column": null,
            "overflow_y": null,
            "overflow_x": null,
            "grid_auto_flow": null,
            "grid_area": null,
            "grid_template_columns": null,
            "flex": null,
            "_model_name": "LayoutModel",
            "justify_items": null,
            "grid_row": null,
            "max_height": null,
            "align_content": null,
            "visibility": null,
            "align_self": null,
            "height": null,
            "min_height": null,
            "padding": null,
            "grid_auto_rows": null,
            "grid_gap": null,
            "max_width": null,
            "order": null,
            "_view_module_version": "1.2.0",
            "grid_template_areas": null,
            "object_position": null,
            "object_fit": null,
            "grid_auto_columns": null,
            "margin": null,
            "display": null,
            "left": null
          }
        },
        "34982becaf024c24b35faa1bdd429613": {
          "model_module": "@jupyter-widgets/controls",
          "model_name": "HBoxModel",
          "state": {
            "_view_name": "HBoxView",
            "_dom_classes": [],
            "_model_name": "HBoxModel",
            "_view_module": "@jupyter-widgets/controls",
            "_model_module_version": "1.5.0",
            "_view_count": null,
            "_view_module_version": "1.5.0",
            "box_style": "",
            "layout": "IPY_MODEL_83f153432d45443685bb1e5e96c3db7b",
            "_model_module": "@jupyter-widgets/controls",
            "children": [
              "IPY_MODEL_f6d7660915964b899e9f30c874c45f9a",
              "IPY_MODEL_666151577ec44890abb61a7d993b8b78"
            ]
          }
        },
        "83f153432d45443685bb1e5e96c3db7b": {
          "model_module": "@jupyter-widgets/base",
          "model_name": "LayoutModel",
          "state": {
            "_view_name": "LayoutView",
            "grid_template_rows": null,
            "right": null,
            "justify_content": null,
            "_view_module": "@jupyter-widgets/base",
            "overflow": null,
            "_model_module_version": "1.2.0",
            "_view_count": null,
            "flex_flow": null,
            "width": null,
            "min_width": null,
            "border": null,
            "align_items": null,
            "bottom": null,
            "_model_module": "@jupyter-widgets/base",
            "top": null,
            "grid_column": null,
            "overflow_y": null,
            "overflow_x": null,
            "grid_auto_flow": null,
            "grid_area": null,
            "grid_template_columns": null,
            "flex": null,
            "_model_name": "LayoutModel",
            "justify_items": null,
            "grid_row": null,
            "max_height": null,
            "align_content": null,
            "visibility": null,
            "align_self": null,
            "height": null,
            "min_height": null,
            "padding": null,
            "grid_auto_rows": null,
            "grid_gap": null,
            "max_width": null,
            "order": null,
            "_view_module_version": "1.2.0",
            "grid_template_areas": null,
            "object_position": null,
            "object_fit": null,
            "grid_auto_columns": null,
            "margin": null,
            "display": null,
            "left": null
          }
        },
        "f6d7660915964b899e9f30c874c45f9a": {
          "model_module": "@jupyter-widgets/controls",
          "model_name": "FloatProgressModel",
          "state": {
            "_view_name": "ProgressView",
            "style": "IPY_MODEL_0f57ad5654a444c792c1491a480024d1",
            "_dom_classes": [],
            "description": "100%",
            "_model_name": "FloatProgressModel",
            "bar_style": "success",
            "max": 13,
            "_view_module": "@jupyter-widgets/controls",
            "_model_module_version": "1.5.0",
            "value": 13,
            "_view_count": null,
            "_view_module_version": "1.5.0",
            "orientation": "horizontal",
            "min": 0,
            "description_tooltip": null,
            "_model_module": "@jupyter-widgets/controls",
            "layout": "IPY_MODEL_e554522bd5e54da1a9f754505a747248"
          }
        },
        "666151577ec44890abb61a7d993b8b78": {
          "model_module": "@jupyter-widgets/controls",
          "model_name": "HTMLModel",
          "state": {
            "_view_name": "HTMLView",
            "style": "IPY_MODEL_b634113277aa48d6b4385166aa738852",
            "_dom_classes": [],
            "description": "",
            "_model_name": "HTMLModel",
            "placeholder": "​",
            "_view_module": "@jupyter-widgets/controls",
            "_model_module_version": "1.5.0",
            "value": " 13/13 [02:54&lt;00:00, 13.43s/it]",
            "_view_count": null,
            "_view_module_version": "1.5.0",
            "description_tooltip": null,
            "_model_module": "@jupyter-widgets/controls",
            "layout": "IPY_MODEL_2f2243dc922849da9e0af8583cde0c52"
          }
        },
        "0f57ad5654a444c792c1491a480024d1": {
          "model_module": "@jupyter-widgets/controls",
          "model_name": "ProgressStyleModel",
          "state": {
            "_view_name": "StyleView",
            "_model_name": "ProgressStyleModel",
            "description_width": "initial",
            "_view_module": "@jupyter-widgets/base",
            "_model_module_version": "1.5.0",
            "_view_count": null,
            "_view_module_version": "1.2.0",
            "bar_color": null,
            "_model_module": "@jupyter-widgets/controls"
          }
        },
        "e554522bd5e54da1a9f754505a747248": {
          "model_module": "@jupyter-widgets/base",
          "model_name": "LayoutModel",
          "state": {
            "_view_name": "LayoutView",
            "grid_template_rows": null,
            "right": null,
            "justify_content": null,
            "_view_module": "@jupyter-widgets/base",
            "overflow": null,
            "_model_module_version": "1.2.0",
            "_view_count": null,
            "flex_flow": null,
            "width": null,
            "min_width": null,
            "border": null,
            "align_items": null,
            "bottom": null,
            "_model_module": "@jupyter-widgets/base",
            "top": null,
            "grid_column": null,
            "overflow_y": null,
            "overflow_x": null,
            "grid_auto_flow": null,
            "grid_area": null,
            "grid_template_columns": null,
            "flex": null,
            "_model_name": "LayoutModel",
            "justify_items": null,
            "grid_row": null,
            "max_height": null,
            "align_content": null,
            "visibility": null,
            "align_self": null,
            "height": null,
            "min_height": null,
            "padding": null,
            "grid_auto_rows": null,
            "grid_gap": null,
            "max_width": null,
            "order": null,
            "_view_module_version": "1.2.0",
            "grid_template_areas": null,
            "object_position": null,
            "object_fit": null,
            "grid_auto_columns": null,
            "margin": null,
            "display": null,
            "left": null
          }
        },
        "b634113277aa48d6b4385166aa738852": {
          "model_module": "@jupyter-widgets/controls",
          "model_name": "DescriptionStyleModel",
          "state": {
            "_view_name": "StyleView",
            "_model_name": "DescriptionStyleModel",
            "description_width": "",
            "_view_module": "@jupyter-widgets/base",
            "_model_module_version": "1.5.0",
            "_view_count": null,
            "_view_module_version": "1.2.0",
            "_model_module": "@jupyter-widgets/controls"
          }
        },
        "2f2243dc922849da9e0af8583cde0c52": {
          "model_module": "@jupyter-widgets/base",
          "model_name": "LayoutModel",
          "state": {
            "_view_name": "LayoutView",
            "grid_template_rows": null,
            "right": null,
            "justify_content": null,
            "_view_module": "@jupyter-widgets/base",
            "overflow": null,
            "_model_module_version": "1.2.0",
            "_view_count": null,
            "flex_flow": null,
            "width": null,
            "min_width": null,
            "border": null,
            "align_items": null,
            "bottom": null,
            "_model_module": "@jupyter-widgets/base",
            "top": null,
            "grid_column": null,
            "overflow_y": null,
            "overflow_x": null,
            "grid_auto_flow": null,
            "grid_area": null,
            "grid_template_columns": null,
            "flex": null,
            "_model_name": "LayoutModel",
            "justify_items": null,
            "grid_row": null,
            "max_height": null,
            "align_content": null,
            "visibility": null,
            "align_self": null,
            "height": null,
            "min_height": null,
            "padding": null,
            "grid_auto_rows": null,
            "grid_gap": null,
            "max_width": null,
            "order": null,
            "_view_module_version": "1.2.0",
            "grid_template_areas": null,
            "object_position": null,
            "object_fit": null,
            "grid_auto_columns": null,
            "margin": null,
            "display": null,
            "left": null
          }
        }
      }
    },
    "accelerator": "GPU"
  },
  "cells": [
    {
      "cell_type": "markdown",
      "metadata": {
        "id": "9l2pPFIq0Fhb"
      },
      "source": [
        "# Text Diversity Metric based on Contextualized Word Embeddings\r\n",
        "\r\n",
        "Helpful resources:\r\n",
        "1. [Measuring the diversity of a single community](http://www.loujost.com/Statistics%20and%20Physics/Diversity%20and%20Similarity/Diversity%20of%20a%20single%20community.htm)\r\n",
        "2. [Diversity analysis: a fresh approach](http://www.loujost.com/Statistics%20and%20Physics/Diversity%20and%20Similarity/SampleChapter.pdf)\r\n",
        "3. [Entropy and diversity](http://www.loujost.com/Statistics%20and%20Physics/Diversity%20and%20Similarity/JostEntropy%20AndDiversity.pdf)\r\n",
        "4. [Measuring diversity: the importance of species similarity](https://esajournals.onlinelibrary.wiley.com/doi/pdf/10.1890/10-2402.1?casa_token=mbrErMtraXsAAAAA:Ltv-lIElB2OEFqouF8Y0p4B9MsF4NVAeGhB5xZ0Q50Hv4DQwYoyC7Sz37Wv-XnAiMP2xHxnkvp2LCA)***"
      ]
    },
    {
      "cell_type": "code",
      "metadata": {
        "colab": {
          "base_uri": "https://localhost:8080/"
        },
        "id": "LLZkm4xv0P3g",
        "outputId": "3169976d-c5c8-4322-c126-5d245d16bc34"
      },
      "source": [
        "!pip install transformers\r\n",
        "!pip install datasets"
      ],
      "execution_count": null,
      "outputs": [
        {
          "output_type": "stream",
          "text": [
            "Collecting transformers\n",
            "\u001b[?25l  Downloading https://files.pythonhosted.org/packages/cd/40/866cbfac4601e0f74c7303d533a9c5d4a53858bd402e08e3e294dd271f25/transformers-4.2.1-py3-none-any.whl (1.8MB)\n",
            "\r\u001b[K     |▏                               | 10kB 22.1MB/s eta 0:00:01\r\u001b[K     |▍                               | 20kB 29.0MB/s eta 0:00:01\r\u001b[K     |▋                               | 30kB 24.2MB/s eta 0:00:01\r\u001b[K     |▊                               | 40kB 28.1MB/s eta 0:00:01\r\u001b[K     |█                               | 51kB 25.9MB/s eta 0:00:01\r\u001b[K     |█▏                              | 61kB 17.9MB/s eta 0:00:01\r\u001b[K     |█▎                              | 71kB 17.3MB/s eta 0:00:01\r\u001b[K     |█▌                              | 81kB 18.6MB/s eta 0:00:01\r\u001b[K     |█▊                              | 92kB 17.3MB/s eta 0:00:01\r\u001b[K     |█▉                              | 102kB 17.3MB/s eta 0:00:01\r\u001b[K     |██                              | 112kB 17.3MB/s eta 0:00:01\r\u001b[K     |██▎                             | 122kB 17.3MB/s eta 0:00:01\r\u001b[K     |██▍                             | 133kB 17.3MB/s eta 0:00:01\r\u001b[K     |██▋                             | 143kB 17.3MB/s eta 0:00:01\r\u001b[K     |██▉                             | 153kB 17.3MB/s eta 0:00:01\r\u001b[K     |███                             | 163kB 17.3MB/s eta 0:00:01\r\u001b[K     |███▏                            | 174kB 17.3MB/s eta 0:00:01\r\u001b[K     |███▍                            | 184kB 17.3MB/s eta 0:00:01\r\u001b[K     |███▌                            | 194kB 17.3MB/s eta 0:00:01\r\u001b[K     |███▊                            | 204kB 17.3MB/s eta 0:00:01\r\u001b[K     |████                            | 215kB 17.3MB/s eta 0:00:01\r\u001b[K     |████                            | 225kB 17.3MB/s eta 0:00:01\r\u001b[K     |████▎                           | 235kB 17.3MB/s eta 0:00:01\r\u001b[K     |████▌                           | 245kB 17.3MB/s eta 0:00:01\r\u001b[K     |████▋                           | 256kB 17.3MB/s eta 0:00:01\r\u001b[K     |████▉                           | 266kB 17.3MB/s eta 0:00:01\r\u001b[K     |█████                           | 276kB 17.3MB/s eta 0:00:01\r\u001b[K     |█████▏                          | 286kB 17.3MB/s eta 0:00:01\r\u001b[K     |█████▍                          | 296kB 17.3MB/s eta 0:00:01\r\u001b[K     |█████▋                          | 307kB 17.3MB/s eta 0:00:01\r\u001b[K     |█████▊                          | 317kB 17.3MB/s eta 0:00:01\r\u001b[K     |██████                          | 327kB 17.3MB/s eta 0:00:01\r\u001b[K     |██████▏                         | 337kB 17.3MB/s eta 0:00:01\r\u001b[K     |██████▎                         | 348kB 17.3MB/s eta 0:00:01\r\u001b[K     |██████▌                         | 358kB 17.3MB/s eta 0:00:01\r\u001b[K     |██████▊                         | 368kB 17.3MB/s eta 0:00:01\r\u001b[K     |██████▉                         | 378kB 17.3MB/s eta 0:00:01\r\u001b[K     |███████                         | 389kB 17.3MB/s eta 0:00:01\r\u001b[K     |███████▎                        | 399kB 17.3MB/s eta 0:00:01\r\u001b[K     |███████▍                        | 409kB 17.3MB/s eta 0:00:01\r\u001b[K     |███████▋                        | 419kB 17.3MB/s eta 0:00:01\r\u001b[K     |███████▉                        | 430kB 17.3MB/s eta 0:00:01\r\u001b[K     |████████                        | 440kB 17.3MB/s eta 0:00:01\r\u001b[K     |████████▏                       | 450kB 17.3MB/s eta 0:00:01\r\u001b[K     |████████▍                       | 460kB 17.3MB/s eta 0:00:01\r\u001b[K     |████████▌                       | 471kB 17.3MB/s eta 0:00:01\r\u001b[K     |████████▊                       | 481kB 17.3MB/s eta 0:00:01\r\u001b[K     |█████████                       | 491kB 17.3MB/s eta 0:00:01\r\u001b[K     |█████████                       | 501kB 17.3MB/s eta 0:00:01\r\u001b[K     |█████████▎                      | 512kB 17.3MB/s eta 0:00:01\r\u001b[K     |█████████▌                      | 522kB 17.3MB/s eta 0:00:01\r\u001b[K     |█████████▋                      | 532kB 17.3MB/s eta 0:00:01\r\u001b[K     |█████████▉                      | 542kB 17.3MB/s eta 0:00:01\r\u001b[K     |██████████                      | 552kB 17.3MB/s eta 0:00:01\r\u001b[K     |██████████▏                     | 563kB 17.3MB/s eta 0:00:01\r\u001b[K     |██████████▍                     | 573kB 17.3MB/s eta 0:00:01\r\u001b[K     |██████████▋                     | 583kB 17.3MB/s eta 0:00:01\r\u001b[K     |██████████▊                     | 593kB 17.3MB/s eta 0:00:01\r\u001b[K     |███████████                     | 604kB 17.3MB/s eta 0:00:01\r\u001b[K     |███████████▏                    | 614kB 17.3MB/s eta 0:00:01\r\u001b[K     |███████████▎                    | 624kB 17.3MB/s eta 0:00:01\r\u001b[K     |███████████▌                    | 634kB 17.3MB/s eta 0:00:01\r\u001b[K     |███████████▊                    | 645kB 17.3MB/s eta 0:00:01\r\u001b[K     |███████████▉                    | 655kB 17.3MB/s eta 0:00:01\r\u001b[K     |████████████                    | 665kB 17.3MB/s eta 0:00:01\r\u001b[K     |████████████▎                   | 675kB 17.3MB/s eta 0:00:01\r\u001b[K     |████████████▍                   | 686kB 17.3MB/s eta 0:00:01\r\u001b[K     |████████████▋                   | 696kB 17.3MB/s eta 0:00:01\r\u001b[K     |████████████▉                   | 706kB 17.3MB/s eta 0:00:01\r\u001b[K     |█████████████                   | 716kB 17.3MB/s eta 0:00:01\r\u001b[K     |█████████████▏                  | 727kB 17.3MB/s eta 0:00:01\r\u001b[K     |█████████████▍                  | 737kB 17.3MB/s eta 0:00:01\r\u001b[K     |█████████████▌                  | 747kB 17.3MB/s eta 0:00:01\r\u001b[K     |█████████████▊                  | 757kB 17.3MB/s eta 0:00:01\r\u001b[K     |██████████████                  | 768kB 17.3MB/s eta 0:00:01\r\u001b[K     |██████████████                  | 778kB 17.3MB/s eta 0:00:01\r\u001b[K     |██████████████▎                 | 788kB 17.3MB/s eta 0:00:01\r\u001b[K     |██████████████▌                 | 798kB 17.3MB/s eta 0:00:01\r\u001b[K     |██████████████▋                 | 808kB 17.3MB/s eta 0:00:01\r\u001b[K     |██████████████▉                 | 819kB 17.3MB/s eta 0:00:01\r\u001b[K     |███████████████                 | 829kB 17.3MB/s eta 0:00:01\r\u001b[K     |███████████████▏                | 839kB 17.3MB/s eta 0:00:01\r\u001b[K     |███████████████▍                | 849kB 17.3MB/s eta 0:00:01\r\u001b[K     |███████████████▋                | 860kB 17.3MB/s eta 0:00:01\r\u001b[K     |███████████████▊                | 870kB 17.3MB/s eta 0:00:01\r\u001b[K     |████████████████                | 880kB 17.3MB/s eta 0:00:01\r\u001b[K     |████████████████▏               | 890kB 17.3MB/s eta 0:00:01\r\u001b[K     |████████████████▎               | 901kB 17.3MB/s eta 0:00:01\r\u001b[K     |████████████████▌               | 911kB 17.3MB/s eta 0:00:01\r\u001b[K     |████████████████▊               | 921kB 17.3MB/s eta 0:00:01\r\u001b[K     |████████████████▉               | 931kB 17.3MB/s eta 0:00:01\r\u001b[K     |█████████████████               | 942kB 17.3MB/s eta 0:00:01\r\u001b[K     |█████████████████▎              | 952kB 17.3MB/s eta 0:00:01\r\u001b[K     |█████████████████▍              | 962kB 17.3MB/s eta 0:00:01\r\u001b[K     |█████████████████▋              | 972kB 17.3MB/s eta 0:00:01\r\u001b[K     |█████████████████▉              | 983kB 17.3MB/s eta 0:00:01\r\u001b[K     |██████████████████              | 993kB 17.3MB/s eta 0:00:01\r\u001b[K     |██████████████████▏             | 1.0MB 17.3MB/s eta 0:00:01\r\u001b[K     |██████████████████▍             | 1.0MB 17.3MB/s eta 0:00:01\r\u001b[K     |██████████████████▌             | 1.0MB 17.3MB/s eta 0:00:01\r\u001b[K     |██████████████████▊             | 1.0MB 17.3MB/s eta 0:00:01\r\u001b[K     |███████████████████             | 1.0MB 17.3MB/s eta 0:00:01\r\u001b[K     |███████████████████             | 1.1MB 17.3MB/s eta 0:00:01\r\u001b[K     |███████████████████▎            | 1.1MB 17.3MB/s eta 0:00:01\r\u001b[K     |███████████████████▌            | 1.1MB 17.3MB/s eta 0:00:01\r\u001b[K     |███████████████████▋            | 1.1MB 17.3MB/s eta 0:00:01\r\u001b[K     |███████████████████▉            | 1.1MB 17.3MB/s eta 0:00:01\r\u001b[K     |████████████████████            | 1.1MB 17.3MB/s eta 0:00:01\r\u001b[K     |████████████████████▏           | 1.1MB 17.3MB/s eta 0:00:01\r\u001b[K     |████████████████████▍           | 1.1MB 17.3MB/s eta 0:00:01\r\u001b[K     |████████████████████▋           | 1.1MB 17.3MB/s eta 0:00:01\r\u001b[K     |████████████████████▊           | 1.1MB 17.3MB/s eta 0:00:01\r\u001b[K     |█████████████████████           | 1.2MB 17.3MB/s eta 0:00:01\r\u001b[K     |█████████████████████▏          | 1.2MB 17.3MB/s eta 0:00:01\r\u001b[K     |█████████████████████▎          | 1.2MB 17.3MB/s eta 0:00:01\r\u001b[K     |█████████████████████▌          | 1.2MB 17.3MB/s eta 0:00:01\r\u001b[K     |█████████████████████▊          | 1.2MB 17.3MB/s eta 0:00:01\r\u001b[K     |█████████████████████▉          | 1.2MB 17.3MB/s eta 0:00:01\r\u001b[K     |██████████████████████          | 1.2MB 17.3MB/s eta 0:00:01\r\u001b[K     |██████████████████████▎         | 1.2MB 17.3MB/s eta 0:00:01\r\u001b[K     |██████████████████████▍         | 1.2MB 17.3MB/s eta 0:00:01\r\u001b[K     |██████████████████████▋         | 1.2MB 17.3MB/s eta 0:00:01\r\u001b[K     |██████████████████████▉         | 1.3MB 17.3MB/s eta 0:00:01\r\u001b[K     |███████████████████████         | 1.3MB 17.3MB/s eta 0:00:01\r\u001b[K     |███████████████████████▏        | 1.3MB 17.3MB/s eta 0:00:01\r\u001b[K     |███████████████████████▍        | 1.3MB 17.3MB/s eta 0:00:01\r\u001b[K     |███████████████████████▋        | 1.3MB 17.3MB/s eta 0:00:01\r\u001b[K     |███████████████████████▊        | 1.3MB 17.3MB/s eta 0:00:01\r\u001b[K     |████████████████████████        | 1.3MB 17.3MB/s eta 0:00:01\r\u001b[K     |████████████████████████▏       | 1.3MB 17.3MB/s eta 0:00:01\r\u001b[K     |████████████████████████▎       | 1.3MB 17.3MB/s eta 0:00:01\r\u001b[K     |████████████████████████▌       | 1.4MB 17.3MB/s eta 0:00:01\r\u001b[K     |████████████████████████▊       | 1.4MB 17.3MB/s eta 0:00:01\r\u001b[K     |████████████████████████▉       | 1.4MB 17.3MB/s eta 0:00:01\r\u001b[K     |█████████████████████████       | 1.4MB 17.3MB/s eta 0:00:01\r\u001b[K     |█████████████████████████▎      | 1.4MB 17.3MB/s eta 0:00:01\r\u001b[K     |█████████████████████████▍      | 1.4MB 17.3MB/s eta 0:00:01\r\u001b[K     |█████████████████████████▋      | 1.4MB 17.3MB/s eta 0:00:01\r\u001b[K     |█████████████████████████▉      | 1.4MB 17.3MB/s eta 0:00:01\r\u001b[K     |██████████████████████████      | 1.4MB 17.3MB/s eta 0:00:01\r\u001b[K     |██████████████████████████▏     | 1.4MB 17.3MB/s eta 0:00:01\r\u001b[K     |██████████████████████████▍     | 1.5MB 17.3MB/s eta 0:00:01\r\u001b[K     |██████████████████████████▌     | 1.5MB 17.3MB/s eta 0:00:01\r\u001b[K     |██████████████████████████▊     | 1.5MB 17.3MB/s eta 0:00:01\r\u001b[K     |███████████████████████████     | 1.5MB 17.3MB/s eta 0:00:01\r\u001b[K     |███████████████████████████     | 1.5MB 17.3MB/s eta 0:00:01\r\u001b[K     |███████████████████████████▎    | 1.5MB 17.3MB/s eta 0:00:01\r\u001b[K     |███████████████████████████▌    | 1.5MB 17.3MB/s eta 0:00:01\r\u001b[K     |███████████████████████████▋    | 1.5MB 17.3MB/s eta 0:00:01\r\u001b[K     |███████████████████████████▉    | 1.5MB 17.3MB/s eta 0:00:01\r\u001b[K     |████████████████████████████    | 1.5MB 17.3MB/s eta 0:00:01\r\u001b[K     |████████████████████████████▏   | 1.6MB 17.3MB/s eta 0:00:01\r\u001b[K     |████████████████████████████▍   | 1.6MB 17.3MB/s eta 0:00:01\r\u001b[K     |████████████████████████████▋   | 1.6MB 17.3MB/s eta 0:00:01\r\u001b[K     |████████████████████████████▊   | 1.6MB 17.3MB/s eta 0:00:01\r\u001b[K     |█████████████████████████████   | 1.6MB 17.3MB/s eta 0:00:01\r\u001b[K     |█████████████████████████████▏  | 1.6MB 17.3MB/s eta 0:00:01\r\u001b[K     |█████████████████████████████▎  | 1.6MB 17.3MB/s eta 0:00:01\r\u001b[K     |█████████████████████████████▌  | 1.6MB 17.3MB/s eta 0:00:01\r\u001b[K     |█████████████████████████████▊  | 1.6MB 17.3MB/s eta 0:00:01\r\u001b[K     |█████████████████████████████▉  | 1.6MB 17.3MB/s eta 0:00:01\r\u001b[K     |██████████████████████████████  | 1.7MB 17.3MB/s eta 0:00:01\r\u001b[K     |██████████████████████████████▎ | 1.7MB 17.3MB/s eta 0:00:01\r\u001b[K     |██████████████████████████████▍ | 1.7MB 17.3MB/s eta 0:00:01\r\u001b[K     |██████████████████████████████▋ | 1.7MB 17.3MB/s eta 0:00:01\r\u001b[K     |██████████████████████████████▉ | 1.7MB 17.3MB/s eta 0:00:01\r\u001b[K     |███████████████████████████████ | 1.7MB 17.3MB/s eta 0:00:01\r\u001b[K     |███████████████████████████████▏| 1.7MB 17.3MB/s eta 0:00:01\r\u001b[K     |███████████████████████████████▍| 1.7MB 17.3MB/s eta 0:00:01\r\u001b[K     |███████████████████████████████▌| 1.7MB 17.3MB/s eta 0:00:01\r\u001b[K     |███████████████████████████████▊| 1.8MB 17.3MB/s eta 0:00:01\r\u001b[K     |████████████████████████████████| 1.8MB 17.3MB/s eta 0:00:01\r\u001b[K     |████████████████████████████████| 1.8MB 17.3MB/s \n",
            "\u001b[?25hRequirement already satisfied: regex!=2019.12.17 in /usr/local/lib/python3.6/dist-packages (from transformers) (2019.12.20)\n",
            "Collecting tokenizers==0.9.4\n",
            "\u001b[?25l  Downloading https://files.pythonhosted.org/packages/0f/1c/e789a8b12e28be5bc1ce2156cf87cb522b379be9cadc7ad8091a4cc107c4/tokenizers-0.9.4-cp36-cp36m-manylinux2010_x86_64.whl (2.9MB)\n",
            "\u001b[K     |████████████████████████████████| 2.9MB 49.3MB/s \n",
            "\u001b[?25hRequirement already satisfied: packaging in /usr/local/lib/python3.6/dist-packages (from transformers) (20.8)\n",
            "Requirement already satisfied: importlib-metadata; python_version < \"3.8\" in /usr/local/lib/python3.6/dist-packages (from transformers) (3.3.0)\n",
            "Requirement already satisfied: tqdm>=4.27 in /usr/local/lib/python3.6/dist-packages (from transformers) (4.41.1)\n",
            "Requirement already satisfied: numpy in /usr/local/lib/python3.6/dist-packages (from transformers) (1.19.5)\n",
            "Requirement already satisfied: filelock in /usr/local/lib/python3.6/dist-packages (from transformers) (3.0.12)\n",
            "Requirement already satisfied: dataclasses; python_version < \"3.7\" in /usr/local/lib/python3.6/dist-packages (from transformers) (0.8)\n",
            "Requirement already satisfied: requests in /usr/local/lib/python3.6/dist-packages (from transformers) (2.23.0)\n",
            "Collecting sacremoses\n",
            "\u001b[?25l  Downloading https://files.pythonhosted.org/packages/7d/34/09d19aff26edcc8eb2a01bed8e98f13a1537005d31e95233fd48216eed10/sacremoses-0.0.43.tar.gz (883kB)\n",
            "\u001b[K     |████████████████████████████████| 890kB 50.5MB/s \n",
            "\u001b[?25hRequirement already satisfied: pyparsing>=2.0.2 in /usr/local/lib/python3.6/dist-packages (from packaging->transformers) (2.4.7)\n",
            "Requirement already satisfied: typing-extensions>=3.6.4; python_version < \"3.8\" in /usr/local/lib/python3.6/dist-packages (from importlib-metadata; python_version < \"3.8\"->transformers) (3.7.4.3)\n",
            "Requirement already satisfied: zipp>=0.5 in /usr/local/lib/python3.6/dist-packages (from importlib-metadata; python_version < \"3.8\"->transformers) (3.4.0)\n",
            "Requirement already satisfied: certifi>=2017.4.17 in /usr/local/lib/python3.6/dist-packages (from requests->transformers) (2020.12.5)\n",
            "Requirement already satisfied: chardet<4,>=3.0.2 in /usr/local/lib/python3.6/dist-packages (from requests->transformers) (3.0.4)\n",
            "Requirement already satisfied: idna<3,>=2.5 in /usr/local/lib/python3.6/dist-packages (from requests->transformers) (2.10)\n",
            "Requirement already satisfied: urllib3!=1.25.0,!=1.25.1,<1.26,>=1.21.1 in /usr/local/lib/python3.6/dist-packages (from requests->transformers) (1.24.3)\n",
            "Requirement already satisfied: six in /usr/local/lib/python3.6/dist-packages (from sacremoses->transformers) (1.15.0)\n",
            "Requirement already satisfied: click in /usr/local/lib/python3.6/dist-packages (from sacremoses->transformers) (7.1.2)\n",
            "Requirement already satisfied: joblib in /usr/local/lib/python3.6/dist-packages (from sacremoses->transformers) (1.0.0)\n",
            "Building wheels for collected packages: sacremoses\n",
            "  Building wheel for sacremoses (setup.py) ... \u001b[?25l\u001b[?25hdone\n",
            "  Created wheel for sacremoses: filename=sacremoses-0.0.43-cp36-none-any.whl size=893261 sha256=ee97c3ddd6331f664e27f2179f0803e09acd51c60a7e2adf9120d84eb87bd13a\n",
            "  Stored in directory: /root/.cache/pip/wheels/29/3c/fd/7ce5c3f0666dab31a50123635e6fb5e19ceb42ce38d4e58f45\n",
            "Successfully built sacremoses\n",
            "Installing collected packages: tokenizers, sacremoses, transformers\n",
            "Successfully installed sacremoses-0.0.43 tokenizers-0.9.4 transformers-4.2.1\n",
            "Collecting datasets\n",
            "\u001b[?25l  Downloading https://files.pythonhosted.org/packages/06/9b/d097f2238fc3c028495cf5f8c65378972b9f1b2cbb27f3c57c7219195aa9/datasets-1.2.1-py3-none-any.whl (159kB)\n",
            "\u001b[K     |████████████████████████████████| 163kB 22.9MB/s \n",
            "\u001b[?25hRequirement already satisfied: dataclasses; python_version < \"3.7\" in /usr/local/lib/python3.6/dist-packages (from datasets) (0.8)\n",
            "Requirement already satisfied: importlib-metadata; python_version < \"3.8\" in /usr/local/lib/python3.6/dist-packages (from datasets) (3.3.0)\n",
            "Requirement already satisfied: numpy>=1.17 in /usr/local/lib/python3.6/dist-packages (from datasets) (1.19.5)\n",
            "Requirement already satisfied: multiprocess in /usr/local/lib/python3.6/dist-packages (from datasets) (0.70.11.1)\n",
            "Requirement already satisfied: dill in /usr/local/lib/python3.6/dist-packages (from datasets) (0.3.3)\n",
            "Collecting pyarrow>=0.17.1\n",
            "\u001b[?25l  Downloading https://files.pythonhosted.org/packages/d7/e1/27958a70848f8f7089bff8d6ebe42519daf01f976d28b481e1bfd52c8097/pyarrow-2.0.0-cp36-cp36m-manylinux2014_x86_64.whl (17.7MB)\n",
            "\u001b[K     |████████████████████████████████| 17.7MB 210kB/s \n",
            "\u001b[?25hCollecting xxhash\n",
            "\u001b[?25l  Downloading https://files.pythonhosted.org/packages/f7/73/826b19f3594756cb1c6c23d2fbd8ca6a77a9cd3b650c9dec5acc85004c38/xxhash-2.0.0-cp36-cp36m-manylinux2010_x86_64.whl (242kB)\n",
            "\u001b[K     |████████████████████████████████| 245kB 58.4MB/s \n",
            "\u001b[?25hRequirement already satisfied: pandas in /usr/local/lib/python3.6/dist-packages (from datasets) (1.1.5)\n",
            "Requirement already satisfied: requests>=2.19.0 in /usr/local/lib/python3.6/dist-packages (from datasets) (2.23.0)\n",
            "Requirement already satisfied: tqdm<4.50.0,>=4.27 in /usr/local/lib/python3.6/dist-packages (from datasets) (4.41.1)\n",
            "Requirement already satisfied: zipp>=0.5 in /usr/local/lib/python3.6/dist-packages (from importlib-metadata; python_version < \"3.8\"->datasets) (3.4.0)\n",
            "Requirement already satisfied: typing-extensions>=3.6.4; python_version < \"3.8\" in /usr/local/lib/python3.6/dist-packages (from importlib-metadata; python_version < \"3.8\"->datasets) (3.7.4.3)\n",
            "Requirement already satisfied: python-dateutil>=2.7.3 in /usr/local/lib/python3.6/dist-packages (from pandas->datasets) (2.8.1)\n",
            "Requirement already satisfied: pytz>=2017.2 in /usr/local/lib/python3.6/dist-packages (from pandas->datasets) (2018.9)\n",
            "Requirement already satisfied: urllib3!=1.25.0,!=1.25.1,<1.26,>=1.21.1 in /usr/local/lib/python3.6/dist-packages (from requests>=2.19.0->datasets) (1.24.3)\n",
            "Requirement already satisfied: idna<3,>=2.5 in /usr/local/lib/python3.6/dist-packages (from requests>=2.19.0->datasets) (2.10)\n",
            "Requirement already satisfied: certifi>=2017.4.17 in /usr/local/lib/python3.6/dist-packages (from requests>=2.19.0->datasets) (2020.12.5)\n",
            "Requirement already satisfied: chardet<4,>=3.0.2 in /usr/local/lib/python3.6/dist-packages (from requests>=2.19.0->datasets) (3.0.4)\n",
            "Requirement already satisfied: six>=1.5 in /usr/local/lib/python3.6/dist-packages (from python-dateutil>=2.7.3->pandas->datasets) (1.15.0)\n",
            "Installing collected packages: pyarrow, xxhash, datasets\n",
            "  Found existing installation: pyarrow 0.14.1\n",
            "    Uninstalling pyarrow-0.14.1:\n",
            "      Successfully uninstalled pyarrow-0.14.1\n",
            "Successfully installed datasets-1.2.1 pyarrow-2.0.0 xxhash-2.0.0\n"
          ],
          "name": "stdout"
        }
      ]
    },
    {
      "cell_type": "code",
      "metadata": {
        "id": "z5y_DIkVL5E3"
      },
      "source": [
        "from transformers import AutoModel, AutoTokenizer\r\n",
        "from datasets import load_dataset\r\n",
        "from sklearn.decomposition import PCA\r\n",
        "from scipy import spatial\r\n",
        "import torch\r\n",
        "import numpy as np\r\n",
        "from tqdm.notebook import tqdm as tqdm\r\n",
        "import pprint\r\n",
        "\r\n",
        "import seaborn as sns \r\n",
        "import matplotlib.pyplot as plt\r\n",
        "\r\n",
        "sns.set(\"paper\", rc={\"font.size\":20,\r\n",
        "                     \"axes.titlesize\":25,\r\n",
        "                     \"axes.labelsize\":20,\r\n",
        "                     \"lines.linewidth\":2,\r\n",
        "                     \"lines.markersize\":5,\r\n",
        "                     \"xtick.labelsize\":14,\r\n",
        "                     \"ytick.labelsize\":14}) \r\n",
        "\r\n",
        "sns.set_style(\"white\")\r\n",
        "plt.rc(\"axes\", labelweight=\"normal\")\r\n",
        "\r\n",
        "np.set_printoptions(precision=2, suppress=True)\r\n",
        "pp = pprint.PrettyPrinter(width=120)"
      ],
      "execution_count": null,
      "outputs": []
    },
    {
      "cell_type": "code",
      "metadata": {
        "id": "mV4MnX6iOpJe"
      },
      "source": [
        "def chunker(seq, size):\r\n",
        "    return (seq[pos:pos + size] for pos in range(0, len(seq), size))"
      ],
      "execution_count": null,
      "outputs": []
    },
    {
      "cell_type": "code",
      "metadata": {
        "id": "BKP-9PS3abYK"
      },
      "source": [
        "class TextDiversity:\r\n",
        "    def __init__(self, \r\n",
        "                 MODEL_NAME=\"bert-base-uncased\", \r\n",
        "                 batch_size=16, \r\n",
        "                 use_gpu=True, \r\n",
        "                 verbose=False):\r\n",
        "        self.MODEL_NAME = MODEL_NAME\r\n",
        "        self.model = AutoModel.from_pretrained(MODEL_NAME)\r\n",
        "        self.tokenizer = AutoTokenizer.from_pretrained(MODEL_NAME)\r\n",
        "        self.undesirable_tokens = [\r\n",
        "            self.tokenizer.pad_token_id, \r\n",
        "            self.tokenizer.cls_token_id, \r\n",
        "            self.tokenizer.sep_token_id\r\n",
        "        ]\r\n",
        "        self.batch_size = batch_size\r\n",
        "        self.use_gpu = use_gpu\r\n",
        "        self.device = torch.device('cuda' if use_gpu and torch.cuda.is_available() else 'cpu')\r\n",
        "        self.verbose = verbose\r\n",
        "\r\n",
        "        self.tokens = None\r\n",
        "        self.token_similarities = None\r\n",
        "        self.bag_of_embeddings = None\r\n",
        "\r\n",
        "        # move model to device\r\n",
        "        self.model.to(self.device)\r\n",
        "    \r\n",
        "    def __call__(self, \r\n",
        "                 corpus, \r\n",
        "                 q=1, \r\n",
        "                 distance_fn=None, \r\n",
        "                 n_components=2, \r\n",
        "                 normalize=False, \r\n",
        "                 ignore_similarities=False):\r\n",
        "        \r\n",
        "        # get bag_of_embeddings (boe) from model + tokens\r\n",
        "        boe, tok = self.get_embeddings(corpus, n_components)\r\n",
        "\r\n",
        "        # get similarity matrix (Z)\r\n",
        "        Z = self.get_token_similarities(boe, distance_fn)\r\n",
        "        \r\n",
        "        # get diversity\r\n",
        "        num_tok = len(tok)\r\n",
        "        p = np.full(num_tok, 1/num_tok)\r\n",
        "        D = self.get_diversity(p, Z, q, normalize, ignore_similarities)\r\n",
        "\r\n",
        "        if self.verbose:\r\n",
        "            ret = {\r\n",
        "                'diversity': D,\r\n",
        "                'entropy': np.log(D),\r\n",
        "                'tokens': self.tokens,\r\n",
        "                'token_similarities': self.token_similarities,\r\n",
        "                'bag_of_embeddings': self.bag_of_embeddings\r\n",
        "            } \r\n",
        "        else:\r\n",
        "            ret = {\r\n",
        "                'diversity': D\r\n",
        "            }    \r\n",
        "        \r\n",
        "        return ret\r\n",
        "\r\n",
        "    def encode(self, input_ids, attention_mask):\r\n",
        "        self.model.eval()\r\n",
        "        with torch.no_grad():\r\n",
        "            out = self.model(input_ids, attention_mask=attention_mask)\r\n",
        "        emb = out[0]\r\n",
        "        return emb\r\n",
        "\r\n",
        "    def get_embeddings(self, corpus, n_components=2):\r\n",
        "        # TODO: figure out how to handle BPE breakdown\r\n",
        "        #       of single word into multiple token_ids\r\n",
        "        inputs = self.tokenizer(corpus, return_tensors='pt', padding=True, truncation=True)\r\n",
        "        batches = zip(chunker(inputs.input_ids, self.batch_size), \r\n",
        "                      chunker(inputs.attention_mask, self.batch_size))\r\n",
        "        if self.verbose:\r\n",
        "            print('getting token embeddings...')\r\n",
        "            batches = tqdm(batches, total=int(len(inputs.input_ids)/self.batch_size))\r\n",
        "        outputs = []\r\n",
        "        for input_ids, attention_mask in batches:\r\n",
        "          emb = self.encode(input_ids.to(self.device), \r\n",
        "                       attention_mask.to(self.device))\r\n",
        "          outputs.append(emb)\r\n",
        "        embeddings = torch.cat(outputs)\r\n",
        "\r\n",
        "        idx = np.isin(inputs['input_ids'],  self.undesirable_tokens, assume_unique=True, invert=True).reshape(-1)\r\n",
        "        tok = np.array(self.tokenizer.convert_ids_to_tokens(inputs.input_ids.view(-1)))[idx]\r\n",
        "        boe = embeddings.view(-1, embeddings.shape[-1])[idx].detach().cpu()\r\n",
        "\r\n",
        "        # compress embedding to speed up similarity matrix computation\r\n",
        "        if type(n_components) == int and n_components > 0 and len(boe) > 1:\r\n",
        "            boe = PCA(n_components=n_components).fit_transform(boe)\r\n",
        "\r\n",
        "        self.tokens = tok\r\n",
        "        self.bag_of_embeddings = boe\r\n",
        "\r\n",
        "        return boe, tok\r\n",
        "\r\n",
        "    def get_token_similarities(self, boe, dist_fn=None):\r\n",
        "        if dist_fn is None:\r\n",
        "            dist_fn = spatial.distance.chebyshev  \r\n",
        "\r\n",
        "        num_embeddings = len(boe)\r\n",
        "\r\n",
        "        tok_sims = np.ones((num_embeddings, num_embeddings))\r\n",
        "        iu = np.triu_indices(num_embeddings, k=1)\r\n",
        "        il = (iu[1], iu[0])\r\n",
        "\r\n",
        "        iterable = range(num_embeddings)\r\n",
        "        if self.verbose:\r\n",
        "            print('calculating similarity matrix...')\r\n",
        "            iterable = tqdm(iterable)\r\n",
        "\r\n",
        "        for e1 in iterable:\r\n",
        "            for e2 in range(1, num_embeddings - e1):\r\n",
        "                d = dist_fn(boe[e1], boe[e1 + e2])\r\n",
        "                scaled_d = np.exp(-d)\r\n",
        "                tok_sims[e1][e1 + e2] = scaled_d        \r\n",
        "        tok_sims[il] = tok_sims[iu]\r\n",
        "\r\n",
        "        self.token_similarities = tok_sims\r\n",
        "\r\n",
        "        return tok_sims    \r\n",
        "\r\n",
        "    def get_diversity(self, p, Z, q=1, normalize=False, ignore_similarities=False):\r\n",
        "        if ignore_similarities:\r\n",
        "            Z = np.eye(len(Z))\r\n",
        "        Zp =  Z @ p\r\n",
        "        if q == 1:\r\n",
        "            D = 1 / np.prod(Zp ** p)\r\n",
        "        elif q == np.inf:\r\n",
        "            D = 1 / Zp.max()\r\n",
        "        else:\r\n",
        "            D = (p * Zp ** (q-1)).sum() ** (1/(1-q))\r\n",
        "        if normalize:\r\n",
        "            D /= len(p)\r\n",
        "        return D    \r\n",
        "\r\n",
        "    def get_diversity_profile(self, \r\n",
        "                              corpus, \r\n",
        "                              distance_fn=None, \r\n",
        "                              n_components=2, \r\n",
        "                              normalize=False, \r\n",
        "                              ignore_similarities=False, \r\n",
        "                              range=None):\r\n",
        "        # get bag_of_embeddings (boe) from model + tokens\r\n",
        "        boe, tok = self.get_embeddings(corpus, n_components)\r\n",
        "\r\n",
        "        # get similarity matrix (Z)\r\n",
        "        Z = self.get_token_similarities(boe, distance_fn)\r\n",
        "\r\n",
        "        # plot diversity profile\r\n",
        "        num_tok = len(tok)\r\n",
        "        p = np.full(num_tok, 1/num_tok)\r\n",
        "        \r\n",
        "        if range is None:\r\n",
        "            range = np.arange(0, 101)\r\n",
        "        Ds = []\r\n",
        "        for q in range:\r\n",
        "            D = self.get_diversity(p, Z, q, normalize)\r\n",
        "            Ds.append(D)\r\n",
        "        ax = sns.lineplot(x=range, y=Ds)  \r\n",
        "        ax.set(xlabel=\"Sensitivity Parameter, $q$\", \r\n",
        "               ylabel=\"Diversity $^qD(\\mathbf{p})$\" if ignore_similarities else \"Diversity $^qD^{\\mathbf{Z}}(\\mathbf{p})$\", \r\n",
        "               title=\"Corpus Diversity Profile\")\r\n",
        "        plt.show()"
      ],
      "execution_count": null,
      "outputs": []
    },
    {
      "cell_type": "code",
      "metadata": {
        "id": "qI0eQHS-behZ",
        "colab": {
          "base_uri": "https://localhost:8080/",
          "height": 214,
          "referenced_widgets": [
            "61cf2c37b60f4d558828eca3b5f8e70b",
            "5f8655e5e1964a57bd42299809462974",
            "75cf830f48e64142b7d7c87db887d558",
            "7b54f51ec0c5494db69b65b3c8ee05fa",
            "a2998e7415de4718a4cc1ad95d9da411",
            "6c857bde81dd4255b3e059caea2f5b3e",
            "c6cdd742c55d42fe9b3bc3543d5de84e",
            "69d754ff7fb84a9e8c460ac1504bfd4c",
            "de0bdc3e639a4dafad05b443a5d53d15",
            "377949c9bce6476ab87b81baeb1c8886",
            "db55d59985d74d27aa553f306c6305a1",
            "822a4111bd96426aa2efae77c2d9a4f3",
            "a9014bac4a6d45359e08a1a1ef99c194",
            "27c6aad96c7542c289cd458633c27f89",
            "45a4c20faac048bf8d7c666b415c9875",
            "8197c0187cb44bacbdc88d203b8ce69f",
            "2c55acfe751b498cad49ea441306652d",
            "9552b4458cc14739bf79c0c537652927",
            "b07f8c9bd155451bb85d0539b01afcb4",
            "b968d61e49014377a141efe0ddff3211",
            "7c1b3475d02944d8a0291ffa3ba711ad",
            "ee1180d244f74d6a91413586567c23f8",
            "750976f6b228437a89cf08c887e8d33a",
            "f775c4fdbf6c402597bc5e9fd15e9ce7",
            "4f31d69f3b16458cbe05449a963e6ff8",
            "0b22657a2205445aae984efb11e215d8",
            "327db3e554a745e3bc44c7611c5281e2",
            "27a383e4fb3d4defb7af85d7204d7a12",
            "65519a8ab72a4c15b5fcebdf02c16eaf",
            "deeb975b75f646e1a4a899dd0a6f2cd9",
            "62f9c5dc69b04f679ef23e79ca6cc7fe",
            "1f8214d4879e4bcbb8286fb4831b88f4"
          ]
        },
        "outputId": "676a5742-b67f-4abe-cff9-0309399dcf4e"
      },
      "source": [
        "diversity_metric = TextDiversity(verbose=False)"
      ],
      "execution_count": null,
      "outputs": [
        {
          "output_type": "display_data",
          "data": {
            "application/vnd.jupyter.widget-view+json": {
              "model_id": "61cf2c37b60f4d558828eca3b5f8e70b",
              "version_minor": 0,
              "version_major": 2
            },
            "text/plain": [
              "HBox(children=(FloatProgress(value=0.0, description='Downloading', max=433.0, style=ProgressStyle(description_…"
            ]
          },
          "metadata": {
            "tags": []
          }
        },
        {
          "output_type": "stream",
          "text": [
            "\n"
          ],
          "name": "stdout"
        },
        {
          "output_type": "display_data",
          "data": {
            "application/vnd.jupyter.widget-view+json": {
              "model_id": "de0bdc3e639a4dafad05b443a5d53d15",
              "version_minor": 0,
              "version_major": 2
            },
            "text/plain": [
              "HBox(children=(FloatProgress(value=0.0, description='Downloading', max=440473133.0, style=ProgressStyle(descri…"
            ]
          },
          "metadata": {
            "tags": []
          }
        },
        {
          "output_type": "stream",
          "text": [
            "\n"
          ],
          "name": "stdout"
        },
        {
          "output_type": "display_data",
          "data": {
            "application/vnd.jupyter.widget-view+json": {
              "model_id": "2c55acfe751b498cad49ea441306652d",
              "version_minor": 0,
              "version_major": 2
            },
            "text/plain": [
              "HBox(children=(FloatProgress(value=0.0, description='Downloading', max=231508.0, style=ProgressStyle(descripti…"
            ]
          },
          "metadata": {
            "tags": []
          }
        },
        {
          "output_type": "stream",
          "text": [
            "\n"
          ],
          "name": "stdout"
        },
        {
          "output_type": "display_data",
          "data": {
            "application/vnd.jupyter.widget-view+json": {
              "model_id": "4f31d69f3b16458cbe05449a963e6ff8",
              "version_minor": 0,
              "version_major": 2
            },
            "text/plain": [
              "HBox(children=(FloatProgress(value=0.0, description='Downloading', max=466062.0, style=ProgressStyle(descripti…"
            ]
          },
          "metadata": {
            "tags": []
          }
        },
        {
          "output_type": "stream",
          "text": [
            "\n"
          ],
          "name": "stdout"
        }
      ]
    },
    {
      "cell_type": "code",
      "metadata": {
        "id": "uS-F3NSQocuJ",
        "colab": {
          "base_uri": "https://localhost:8080/",
          "height": 219,
          "referenced_widgets": [
            "de6b98f7dd5146c28b2a71ec035222a9",
            "be7c5aa46d3f405ea00765da42aec8d5",
            "4f9f4923d8504f38840359beee2beb0f",
            "7b070ae54ff14d1993b3cad5bd2b44c7",
            "89a22b07564d4dd4b0a023fd9cc4beac",
            "081f68f6ae6f49689f2edc541df8ce80",
            "2ce3a004f9cf431292bc8376f296b67c",
            "b403ec83bfc9455bad29f0ea761c5ccb",
            "93067a912ebc4c4dbb0e5e5947d257c2",
            "cd54a43798354ce9877caea811efe79e",
            "213a7a2c5989491697018f5f178054d8",
            "78148cfb979344f0b794cd15593d759f",
            "d03793bdaf4a4a9e8cf240196c017ae1",
            "86910220441a438fad66ea8646c164c5",
            "c73a76d8d68e4d519ac2070ccae99947",
            "f802b57b74a9407cb359ec9576773cf3",
            "09268fe9f6da4b58965e79500df7e2b4",
            "16a223d6199e450c99d05f04e02fc9e8",
            "0318f32dc50940a3a2384e9a331b58a7",
            "cf9f5bbce3d246e5abbefddfa274b25e",
            "dc5570667c3a41da9d064950ca823b3c",
            "50a16a89417f46109360a92e2dd5d53f",
            "2658ca135f9d4b7cbf09b1f31b33eadb",
            "bb7770b4982c467186b27731c2858c8b",
            "37eeba634673471787168cb32c75d7ab",
            "d4d39fb03947421bb5d5ba7f2c9b39b7",
            "335fdd63369644f9b83cfbe80762ef0c",
            "d35877f8877045ff9ba04dc9ffb829ab",
            "1d0fe081ec2d4010b6151f60875a2397",
            "f12814719e094262ad59b13b30d316e7",
            "fdb631596bcc4b37a2a056684c4d7f96",
            "81b6a541bbbf4496b39f5a6fa736ad96",
            "0fb99fb48b3549b398f67710e4f55b13",
            "3d23b71743b54b8f8b5550e787febd2b",
            "53bf636c937b4a1b972d65786a6a4c5d",
            "c3e2eb10c6094e3183eba3c9a08bb9fc",
            "dd40f60c0ddf47f3b7bde838abd41800",
            "dd82f82897444e5c8e795ef6494cea50",
            "d1ed871ae64c4857846b173509d46d2d",
            "3976b60ff9894b16a47dd0062f632045",
            "4b2fd9aea2654b7993743de64131f32f",
            "3b90d0437a6f481280ed55525571188f",
            "551067a8db5d49809335fdb1bd5f3296",
            "b00402a0cf874b2bae3957ad1ad96889",
            "c108336a1ea44873b8ad0432250ba4c5",
            "9faa613b31974d19b905eeccd6bdd7fd",
            "a86af4b318494592af26ace194064c90",
            "272975003c9949379cb990bbdb065990"
          ]
        },
        "outputId": "7a2ad30d-5ef4-46e1-ca11-a7646a186c5b"
      },
      "source": [
        "corpus1 = [\r\n",
        "    'python is hard',\r\n",
        "    'a python slithering',\r\n",
        "    'jokes be funny'\r\n",
        "]\r\n",
        "\r\n",
        "corpus2 = [\r\n",
        "    'The celestial orb is red',\r\n",
        "    'The star is orange',\r\n",
        "    'The sun is yellow'\r\n",
        "]\r\n",
        "\r\n",
        "train = load_dataset('glue', 'sst2')['train']\r\n",
        "train.rename_column_('sentence', 'text')"
      ],
      "execution_count": null,
      "outputs": [
        {
          "output_type": "display_data",
          "data": {
            "application/vnd.jupyter.widget-view+json": {
              "model_id": "de6b98f7dd5146c28b2a71ec035222a9",
              "version_minor": 0,
              "version_major": 2
            },
            "text/plain": [
              "HBox(children=(FloatProgress(value=0.0, description='Downloading', max=7826.0, style=ProgressStyle(description…"
            ]
          },
          "metadata": {
            "tags": []
          }
        },
        {
          "output_type": "stream",
          "text": [
            "\n"
          ],
          "name": "stdout"
        },
        {
          "output_type": "display_data",
          "data": {
            "application/vnd.jupyter.widget-view+json": {
              "model_id": "93067a912ebc4c4dbb0e5e5947d257c2",
              "version_minor": 0,
              "version_major": 2
            },
            "text/plain": [
              "HBox(children=(FloatProgress(value=0.0, description='Downloading', max=4473.0, style=ProgressStyle(description…"
            ]
          },
          "metadata": {
            "tags": []
          }
        },
        {
          "output_type": "stream",
          "text": [
            "\n",
            "Downloading and preparing dataset glue/sst2 (download: 7.09 MiB, generated: 4.81 MiB, post-processed: Unknown size, total: 11.90 MiB) to /root/.cache/huggingface/datasets/glue/sst2/1.0.0/7c99657241149a24692c402a5c3f34d4c9f1df5ac2e4c3759fadea38f6cb29c4...\n"
          ],
          "name": "stdout"
        },
        {
          "output_type": "display_data",
          "data": {
            "application/vnd.jupyter.widget-view+json": {
              "model_id": "09268fe9f6da4b58965e79500df7e2b4",
              "version_minor": 0,
              "version_major": 2
            },
            "text/plain": [
              "HBox(children=(FloatProgress(value=0.0, description='Downloading', max=7439277.0, style=ProgressStyle(descript…"
            ]
          },
          "metadata": {
            "tags": []
          }
        },
        {
          "output_type": "stream",
          "text": [
            "\n"
          ],
          "name": "stdout"
        },
        {
          "output_type": "display_data",
          "data": {
            "application/vnd.jupyter.widget-view+json": {
              "model_id": "37eeba634673471787168cb32c75d7ab",
              "version_minor": 0,
              "version_major": 2
            },
            "text/plain": [
              "HBox(children=(FloatProgress(value=1.0, bar_style='info', max=1.0), HTML(value='')))"
            ]
          },
          "metadata": {
            "tags": []
          }
        },
        {
          "output_type": "stream",
          "text": [
            "\r"
          ],
          "name": "stdout"
        },
        {
          "output_type": "display_data",
          "data": {
            "application/vnd.jupyter.widget-view+json": {
              "model_id": "0fb99fb48b3549b398f67710e4f55b13",
              "version_minor": 0,
              "version_major": 2
            },
            "text/plain": [
              "HBox(children=(FloatProgress(value=1.0, bar_style='info', max=1.0), HTML(value='')))"
            ]
          },
          "metadata": {
            "tags": []
          }
        },
        {
          "output_type": "stream",
          "text": [
            "\r"
          ],
          "name": "stdout"
        },
        {
          "output_type": "display_data",
          "data": {
            "application/vnd.jupyter.widget-view+json": {
              "model_id": "4b2fd9aea2654b7993743de64131f32f",
              "version_minor": 0,
              "version_major": 2
            },
            "text/plain": [
              "HBox(children=(FloatProgress(value=1.0, bar_style='info', max=1.0), HTML(value='')))"
            ]
          },
          "metadata": {
            "tags": []
          }
        },
        {
          "output_type": "stream",
          "text": [
            "\rDataset glue downloaded and prepared to /root/.cache/huggingface/datasets/glue/sst2/1.0.0/7c99657241149a24692c402a5c3f34d4c9f1df5ac2e4c3759fadea38f6cb29c4. Subsequent calls will reuse this data.\n"
          ],
          "name": "stdout"
        }
      ]
    },
    {
      "cell_type": "code",
      "metadata": {
        "colab": {
          "base_uri": "https://localhost:8080/",
          "height": 323
        },
        "id": "_ncZxvjKgUuH",
        "outputId": "807b823a-0395-4d03-9933-3296a3dfadc5"
      },
      "source": [
        "diversity_metric.get_diversity_profile(corpus2)"
      ],
      "execution_count": null,
      "outputs": [
        {
          "output_type": "display_data",
          "data": {
            "image/png": "[encoded data removed]",
            "text/plain": [
              "<Figure size 432x288 with 1 Axes>"
            ]
          },
          "metadata": {
            "tags": []
          }
        }
      ]
    },
    {
      "cell_type": "code",
      "metadata": {
        "colab": {
          "base_uri": "https://localhost:8080/"
        },
        "id": "cwmjr2eqCMzW",
        "outputId": "6bd08dbe-758f-4bc6-facc-4ca4d47b7976"
      },
      "source": [
        "pp.pprint(corpus1)\r\n",
        "pp.pprint(diversity_metric(corpus1, q=1))\r\n",
        "\r\n",
        "print()\r\n",
        "\r\n",
        "pp.pprint(corpus2)\r\n",
        "pp.pprint(diversity_metric(corpus2, q=1))\r\n",
        "\r\n",
        "# n = np.random.randint(0, len(train['text']), 20)\r\n",
        "# corpus3 = np.array(train['text'])[n].tolist()\r\n",
        "# # pp.pprint(corpus3)\r\n",
        "# pp.pprint(diversity_metric(corpus3))"
      ],
      "execution_count": null,
      "outputs": [
        {
          "output_type": "stream",
          "text": [
            "['python is hard', 'a python slithering', 'jokes be funny']\n",
            "{'diversity': 7.950970518643307}\n",
            "\n",
            "['The celestial orb is red', 'The star is orange', 'The sun is yellow']\n",
            "{'diversity': 6.502533921158239}\n"
          ],
          "name": "stdout"
        }
      ]
    },
    {
      "cell_type": "code",
      "metadata": {
        "id": "8UYtXK9VB9fQ"
      },
      "source": [
        "for _ in range(10):\r\n",
        "    i = np.random.randint(0, len(train['text']), 1)\r\n",
        "    corpus = np.array(train['text'])[i].tolist()\r\n",
        "    print(corpus[0])\r\n",
        "    print('diveristy:', diversity_metric(corpus))\r\n",
        "    print()"
      ],
      "execution_count": null,
      "outputs": []
    },
    {
      "cell_type": "code",
      "metadata": {
        "id": "sZGqnMafmm3o"
      },
      "source": [
        "max_dist = 0\r\n",
        "obj = ()\r\n",
        "for dist_fn in distance_fns:\r\n",
        "  for n_components in range(1, 11):\r\n",
        "    c1_div = round(metric(corpus1, dist_fn, n_components), 4)\r\n",
        "    c2_div = round(metric(corpus2, dist_fn, n_components), 4)\r\n",
        "    dist = round(c1_div - c2_div, 4)\r\n",
        "    if dist > max_dist:\r\n",
        "        max_dist = dist\r\n",
        "        obj = (dist_fn.__name__, n_components)\r\n",
        "    print(dist_fn.__name__, n_components, c1_div, c2_div, dist)\r\n",
        "print(max_dist, obj)"
      ],
      "execution_count": null,
      "outputs": []
    },
    {
      "cell_type": "markdown",
      "metadata": {
        "id": "7DkhTqIU1Mwj"
      },
      "source": [
        "# Development Area\r\n",
        "Non-object code"
      ]
    },
    {
      "cell_type": "code",
      "metadata": {
        "id": "PPV6A-BxLaj9"
      },
      "source": [
        "# Store the model we want to use\r\n",
        "MODEL_NAME = \"bert-base-uncased\"\r\n",
        "batch_size = 10\r\n",
        "\r\n",
        "# We need to create the model and tokenizer\r\n",
        "model = AutoModel.from_pretrained(MODEL_NAME)\r\n",
        "tokenizer = AutoTokenizer.from_pretrained(MODEL_NAME)\r\n",
        "\r\n",
        "undesirable_tokens = [\r\n",
        "            tokenizer.pad_token_id, \r\n",
        "            tokenizer.cls_token_id, \r\n",
        "            tokenizer.sep_token_id\r\n",
        "        ]"
      ],
      "execution_count": null,
      "outputs": []
    },
    {
      "cell_type": "code",
      "metadata": {
        "colab": {
          "base_uri": "https://localhost:8080/",
          "height": 66,
          "referenced_widgets": [
            "1ba4656b90414248bc7ab9da4957e109",
            "974cd78a5ee74359a6731f8902cc068c",
            "6b6e840a7c484620b57d92fba2a32abb",
            "a5a0accc9f9241909c55e96edbbee78c",
            "6b9c270dd79b4191831371df7e352d27",
            "e989f40134434c368d4ff884e1f8e811",
            "354f1d95852f414d9ee3ad00e345be4c",
            "c4af1513fa064b0081c3dc9c905fc3dc"
          ]
        },
        "id": "x4eVqs-kmnp0",
        "outputId": "dc784327-f96b-4a78-8a25-9421d403150f"
      },
      "source": [
        "inputs = tokenizer(corpus2, return_tensors='pt', padding=True)\r\n",
        "embeddings = get_embeddings(inputs)"
      ],
      "execution_count": null,
      "outputs": [
        {
          "output_type": "display_data",
          "data": {
            "application/vnd.jupyter.widget-view+json": {
              "model_id": "1ba4656b90414248bc7ab9da4957e109",
              "version_minor": 0,
              "version_major": 2
            },
            "text/plain": [
              "HBox(children=(FloatProgress(value=1.0, bar_style='info', max=1.0), HTML(value='')))"
            ]
          },
          "metadata": {
            "tags": []
          }
        },
        {
          "output_type": "stream",
          "text": [
            "\n"
          ],
          "name": "stdout"
        }
      ]
    },
    {
      "cell_type": "code",
      "metadata": {
        "id": "rUitU4GDJaaU"
      },
      "source": [
        "idx = np.isin(inputs['input_ids'], undesirable_tokens, assume_unique=True, invert=True).reshape(-1)\r\n",
        "tok = np.array(tokenizer.convert_ids_to_tokens(inputs.input_ids.view(-1)))[idx]\r\n",
        "boe = embeddings.view(-1, embeddings.shape[-1])[idx].detach()\r\n",
        "\r\n",
        "n_components = 2\r\n",
        "if type(n_components) == int and n_components > 0:\r\n",
        "    boe = PCA(n_components=n_components).fit_transform(boe)"
      ],
      "execution_count": null,
      "outputs": []
    },
    {
      "cell_type": "code",
      "metadata": {
        "id": "O6ZKkKnXxGgj",
        "colab": {
          "base_uri": "https://localhost:8080/",
          "height": 66,
          "referenced_widgets": [
            "34982becaf024c24b35faa1bdd429613",
            "83f153432d45443685bb1e5e96c3db7b",
            "f6d7660915964b899e9f30c874c45f9a",
            "666151577ec44890abb61a7d993b8b78",
            "0f57ad5654a444c792c1491a480024d1",
            "e554522bd5e54da1a9f754505a747248",
            "b634113277aa48d6b4385166aa738852",
            "2f2243dc922849da9e0af8583cde0c52"
          ]
        },
        "outputId": "a5d3c09b-6851-477d-e314-919495f53a92"
      },
      "source": [
        "freq = np.full(boe.shape[0], 1/boe.shape[0])\r\n",
        "e_sim = get_token_similarities(boe)\r\n",
        "eff_e_sim = freq @ e_sim\r\n",
        "H = -(freq * np.log(eff_e_sim)).sum()\r\n",
        "diversity = np.exp(H)"
      ],
      "execution_count": null,
      "outputs": [
        {
          "output_type": "display_data",
          "data": {
            "application/vnd.jupyter.widget-view+json": {
              "model_id": "34982becaf024c24b35faa1bdd429613",
              "version_minor": 0,
              "version_major": 2
            },
            "text/plain": [
              "HBox(children=(FloatProgress(value=0.0, max=13.0), HTML(value='')))"
            ]
          },
          "metadata": {
            "tags": []
          }
        },
        {
          "output_type": "stream",
          "text": [
            "\n"
          ],
          "name": "stdout"
        }
      ]
    },
    {
      "cell_type": "code",
      "metadata": {
        "colab": {
          "base_uri": "https://localhost:8080/"
        },
        "id": "HbcbJwJPsqa1",
        "outputId": "9fd739c3-1a15-45ba-fa1c-534fe29d424f"
      },
      "source": [
        "diversity, diversity/len(tok)"
      ],
      "execution_count": null,
      "outputs": [
        {
          "output_type": "execute_result",
          "data": {
            "text/plain": [
              "(6.502530591271502, 0.5001946608670387)"
            ]
          },
          "metadata": {
            "tags": []
          },
          "execution_count": 64
        }
      ]
    },
    {
      "cell_type": "code",
      "metadata": {
        "colab": {
          "base_uri": "https://localhost:8080/"
        },
        "id": "dHcXIRifEpjJ",
        "outputId": "18af4779-2425-4f68-f36e-29003e86cc7e"
      },
      "source": [
        "tok.shape"
      ],
      "execution_count": null,
      "outputs": [
        {
          "output_type": "execute_result",
          "data": {
            "text/plain": [
              "(10,)"
            ]
          },
          "metadata": {
            "tags": []
          },
          "execution_count": 59
        }
      ]
    },
    {
      "cell_type": "markdown",
      "metadata": {
        "id": "dpabxHLk1VHM"
      },
      "source": [
        "## Which distance gives good results?"
      ]
    },
    {
      "cell_type": "code",
      "metadata": {
        "colab": {
          "base_uri": "https://localhost:8080/"
        },
        "id": "dpx-v5qpOYBV",
        "outputId": "87a22314-2703-4ccd-aa39-fff1197449cc"
      },
      "source": [
        "from scipy.stats import wasserstein_distance\r\n",
        "from scipy import spatial\r\n",
        "\r\n",
        "distance_fns = [\r\n",
        "  spatial.distance.braycurtis,\r\n",
        "  spatial.distance.canberra,\r\n",
        "  spatial.distance.chebyshev,\r\n",
        "  spatial.distance.cityblock,\r\n",
        "  spatial.distance.correlation,\r\n",
        "  spatial.distance.cosine,\r\n",
        "  spatial.distance.euclidean,\r\n",
        "  spatial.distance.jensenshannon,\r\n",
        "  # spatial.distance.mahalanobis,\r\n",
        "  spatial.distance.minkowski,\r\n",
        "  # spatial.distance.seuclidean,\r\n",
        "  # spatial.distance.sqeuclidean,\r\n",
        "  # spatial.distance.wminkowski,\r\n",
        "  wasserstein_distance\r\n",
        "]\r\n",
        "\r\n",
        "print(corpus1, boe)\r\n",
        "for dist_fn in distance_fns:\r\n",
        "  print(dist_fn.__name__)\r\n",
        "  e_dists = get_token_similarities(boe, dist_fn)\r\n",
        "  print(e_dists)"
      ],
      "execution_count": null,
      "outputs": [
        {
          "output_type": "stream",
          "text": [
            "['I am a thug', 'You are a thug', 'We are thugs'] [[-3.28 -0.69]\n",
            " [-6.22 -3.05]\n",
            " [-0.51 -3.53]\n",
            " [ 4.93 -3.94]\n",
            " [ 0.44 10.1 ]\n",
            " [-6.98 -0.97]\n",
            " [-1.08 -2.59]\n",
            " [ 7.34 -2.64]\n",
            " [ 2.03  9.18]\n",
            " [-5.05  0.09]\n",
            " [ 8.38 -1.96]]\n",
            "braycurtis\n",
            "[[1.   0.67 0.5  0.16 0.31 0.72 0.59 0.18 0.21 0.75 0.19]\n",
            " [0.67 1.   0.63 0.23 0.21 0.85 0.65 0.13 0.14 0.74 0.11]\n",
            " [0.5  0.63 1.   0.61 0.11 0.47 0.82 0.51 0.12 0.4  0.46]\n",
            " [0.16 0.23 0.61 1.   0.2  0.12 0.49 0.82 0.27 0.03 0.75]\n",
            " [0.31 0.21 0.11 0.2  1.   0.31 0.17 0.28 0.89 0.35 0.31]\n",
            " [0.72 0.85 0.47 0.12 0.31 1.   0.52 0.02 0.23 0.79 0.02]\n",
            " [0.59 0.65 0.82 0.49 0.17 0.52 1.   0.48 0.14 0.46 0.43]\n",
            " [0.18 0.13 0.51 0.82 0.28 0.02 0.48 1.   0.34 0.04 0.92]\n",
            " [0.21 0.14 0.12 0.27 0.89 0.23 0.14 0.34 1.   0.27 0.37]\n",
            " [0.75 0.74 0.4  0.03 0.35 0.79 0.46 0.04 0.27 1.   0.05]\n",
            " [0.19 0.11 0.46 0.75 0.31 0.02 0.43 0.92 0.37 0.05 1.  ]]\n",
            "canberra\n",
            "[[1.   0.39 0.25 0.18 0.14 0.59 0.34 0.2  0.14 0.3  0.23]\n",
            " [0.39 1.   0.4  0.32 0.14 0.56 0.46 0.34 0.14 0.33 0.3 ]\n",
            " [0.25 0.4  1.   0.35 0.14 0.24 0.6  0.32 0.14 0.16 0.28]\n",
            " [0.18 0.32 0.35 1.   0.16 0.2  0.3  0.67 0.24 0.14 0.55]\n",
            " [0.14 0.14 0.14 0.16 1.   0.14 0.14 0.15 0.5  0.14 0.15]\n",
            " [0.59 0.56 0.24 0.2  0.14 1.   0.31 0.23 0.14 0.31 0.26]\n",
            " [0.34 0.46 0.6  0.3  0.14 0.31 1.   0.36 0.14 0.19 0.32]\n",
            " [0.2  0.34 0.32 0.67 0.15 0.23 0.36 1.   0.21 0.14 0.81]\n",
            " [0.14 0.14 0.14 0.24 0.5  0.14 0.14 0.21 1.   0.14 0.2 ]\n",
            " [0.3  0.33 0.16 0.14 0.14 0.31 0.19 0.14 0.14 1.   0.14]\n",
            " [0.23 0.3  0.28 0.55 0.15 0.26 0.32 0.81 0.2  0.14 1.  ]]\n",
            "chebyshev\n",
            "[[1.   0.05 0.06 0.   0.   0.02 0.11 0.   0.   0.17 0.  ]\n",
            " [0.05 1.   0.   0.   0.   0.13 0.01 0.   0.   0.04 0.  ]\n",
            " [0.06 0.   1.   0.   0.   0.   0.39 0.   0.   0.01 0.  ]\n",
            " [0.   0.   0.   1.   0.   0.   0.   0.09 0.   0.   0.03]\n",
            " [0.   0.   0.   0.   1.   0.   0.   0.   0.2  0.   0.  ]\n",
            " [0.02 0.13 0.   0.   0.   1.   0.   0.   0.   0.15 0.  ]\n",
            " [0.11 0.01 0.39 0.   0.   0.   1.   0.   0.   0.02 0.  ]\n",
            " [0.   0.   0.   0.09 0.   0.   0.   1.   0.   0.   0.36]\n",
            " [0.   0.   0.   0.   0.2  0.   0.   0.   1.   0.   0.  ]\n",
            " [0.17 0.04 0.01 0.   0.   0.15 0.02 0.   0.   1.   0.  ]\n",
            " [0.   0.   0.   0.03 0.   0.   0.   0.36 0.   0.   1.  ]]\n",
            "cityblock\n",
            "[[1.   0.01 0.   0.   0.   0.02 0.02 0.   0.   0.08 0.  ]\n",
            " [0.01 1.   0.   0.   0.   0.06 0.   0.   0.   0.01 0.  ]\n",
            " [0.   0.   1.   0.   0.   0.   0.22 0.   0.   0.   0.  ]\n",
            " [0.   0.   0.   1.   0.   0.   0.   0.02 0.   0.   0.  ]\n",
            " [0.   0.   0.   0.   1.   0.   0.   0.   0.08 0.   0.  ]\n",
            " [0.02 0.06 0.   0.   0.   1.   0.   0.   0.   0.05 0.  ]\n",
            " [0.02 0.   0.22 0.   0.   0.   1.   0.   0.   0.   0.  ]\n",
            " [0.   0.   0.   0.02 0.   0.   0.   1.   0.   0.   0.18]\n",
            " [0.   0.   0.   0.   0.08 0.   0.   0.   1.   0.   0.  ]\n",
            " [0.08 0.01 0.   0.   0.   0.05 0.   0.   0.   1.   0.  ]\n",
            " [0.   0.   0.   0.   0.   0.   0.   0.18 0.   0.   1.  ]]\n",
            "correlation\n",
            "[[1.   1.   0.14 0.14 1.   1.   0.14 0.14 1.   1.   0.14]\n",
            " [1.   1.   0.14 0.14 1.   1.   0.14 0.14 1.   1.   0.14]\n",
            " [0.14 0.14 1.   1.   0.14 0.14 1.   1.   0.14 0.14 1.  ]\n",
            " [0.14 0.14 1.   1.   0.14 0.14 1.   1.   0.14 0.14 1.  ]\n",
            " [1.   1.   0.14 0.14 1.   1.   0.14 0.14 1.   1.   0.14]\n",
            " [1.   1.   0.14 0.14 1.   1.   0.14 0.14 1.   1.   0.14]\n",
            " [0.14 0.14 1.   1.   0.14 0.14 1.   1.   0.14 0.14 1.  ]\n",
            " [0.14 0.14 1.   1.   0.14 0.14 1.   1.   0.14 0.14 1.  ]\n",
            " [1.   1.   0.14 0.14 1.   1.   0.14 0.14 1.   1.   0.14]\n",
            " [1.   1.   0.14 0.14 1.   1.   0.14 0.14 1.   1.   0.14]\n",
            " [0.14 0.14 1.   1.   0.14 0.14 1.   1.   0.14 0.14 1.  ]]\n",
            "cosine\n",
            "[[1.   0.97 0.52 0.19 0.29 1.   0.65 0.16 0.24 0.98 0.15]\n",
            " [0.97 1.   0.65 0.24 0.23 0.95 0.78 0.18 0.2  0.9  0.17]\n",
            " [0.52 0.65 1.   0.61 0.14 0.49 0.97 0.45 0.14 0.42 0.4 ]\n",
            " [0.19 0.24 0.61 1.   0.2  0.18 0.48 0.95 0.24 0.17 0.91]\n",
            " [0.29 0.23 0.14 0.2  1.   0.31 0.14 0.27 0.99 0.36 0.31]\n",
            " [1.   0.95 0.49 0.18 0.31 1.   0.61 0.15 0.26 0.99 0.14]\n",
            " [0.65 0.78 0.97 0.48 0.14 0.61 1.   0.35 0.14 0.53 0.31]\n",
            " [0.16 0.18 0.45 0.95 0.27 0.15 0.35 1.   0.32 0.14 0.99]\n",
            " [0.24 0.2  0.14 0.24 0.99 0.26 0.14 0.32 1.   0.3  0.36]\n",
            " [0.98 0.9  0.42 0.17 0.36 0.99 0.53 0.14 0.3  1.   0.14]\n",
            " [0.15 0.17 0.4  0.91 0.31 0.14 0.31 0.99 0.36 0.14 1.  ]]\n",
            "euclidean\n",
            "[[1.   0.02 0.02 0.   0.   0.02 0.05 0.   0.   0.14 0.  ]\n",
            " [0.02 1.   0.   0.   0.   0.11 0.01 0.   0.   0.04 0.  ]\n",
            " [0.02 0.   1.   0.   0.   0.   0.33 0.   0.   0.   0.  ]\n",
            " [0.   0.   0.   1.   0.   0.   0.   0.06 0.   0.   0.02]\n",
            " [0.   0.   0.   0.   1.   0.   0.   0.   0.16 0.   0.  ]\n",
            " [0.02 0.11 0.   0.   0.   1.   0.   0.   0.   0.11 0.  ]\n",
            " [0.05 0.01 0.33 0.   0.   0.   1.   0.   0.   0.01 0.  ]\n",
            " [0.   0.   0.   0.06 0.   0.   0.   1.   0.   0.   0.29]\n",
            " [0.   0.   0.   0.   0.16 0.   0.   0.   1.   0.   0.  ]\n",
            " [0.14 0.04 0.   0.   0.   0.11 0.01 0.   0.   1.   0.  ]\n",
            " [0.   0.   0.   0.02 0.   0.   0.   0.29 0.   0.   1.  ]]\n",
            "jensenshannon\n",
            "[[1.   0.88 0.59 0.   0.55 0.95 0.68 0.   0.62 0.   0.  ]\n",
            " [0.88 1.   0.67 0.   0.61 0.84 0.76 0.   0.7  0.   0.  ]\n",
            " [0.59 0.67 1.   0.   0.9  0.57 0.86 0.   0.95 0.   0.  ]\n",
            " [0.   0.   0.   0.   0.   0.   0.   0.   0.   0.   0.  ]\n",
            " [0.55 0.61 0.9  0.   1.   0.52 0.78 0.   0.85 0.   0.  ]\n",
            " [0.95 0.84 0.57 0.   0.52 1.   0.65 0.   0.6  0.   0.  ]\n",
            " [0.68 0.76 0.86 0.   0.78 0.65 1.   0.   0.91 0.   0.  ]\n",
            " [0.   0.   0.   0.   0.   0.   0.   0.   0.   0.   0.  ]\n",
            " [0.62 0.7  0.95 0.   0.85 0.6  0.91 0.   1.   0.   0.  ]\n",
            " [0.   0.   0.   0.   0.   0.   0.   0.   0.   0.   0.  ]\n",
            " [0.   0.   0.   0.   0.   0.   0.   0.   0.   0.   0.  ]]\n",
            "minkowski\n",
            "[[1.   0.02 0.02 0.   0.   0.02 0.05 0.   0.   0.14 0.  ]\n",
            " [0.02 1.   0.   0.   0.   0.11 0.01 0.   0.   0.04 0.  ]\n",
            " [0.02 0.   1.   0.   0.   0.   0.33 0.   0.   0.   0.  ]\n",
            " [0.   0.   0.   1.   0.   0.   0.   0.06 0.   0.   0.02]\n",
            " [0.   0.   0.   0.   1.   0.   0.   0.   0.16 0.   0.  ]\n",
            " [0.02 0.11 0.   0.   0.   1.   0.   0.   0.   0.11 0.  ]\n",
            " [0.05 0.01 0.33 0.   0.   0.   1.   0.   0.   0.01 0.  ]\n",
            " [0.   0.   0.   0.06 0.   0.   0.   1.   0.   0.   0.29]\n",
            " [0.   0.   0.   0.   0.16 0.   0.   0.   1.   0.   0.  ]\n",
            " [0.14 0.04 0.   0.   0.   0.11 0.01 0.   0.   1.   0.  ]\n",
            " [0.   0.   0.   0.02 0.   0.   0.   0.29 0.   0.   1.  ]]\n",
            "wasserstein_distance\n",
            "[[1.   0.07 0.81 0.04 0.   0.14 0.58 0.01 0.   0.28 0.01]\n",
            " [0.07 1.   0.07 0.01 0.   0.24 0.06 0.   0.   0.12 0.  ]\n",
            " [0.81 0.07 1.   0.05 0.   0.14 0.47 0.01 0.   0.35 0.01]\n",
            " [0.04 0.01 0.05 1.   0.01 0.01 0.03 0.16 0.01 0.05 0.07]\n",
            " [0.   0.   0.   0.01 1.   0.   0.   0.05 0.29 0.   0.13]\n",
            " [0.14 0.24 0.14 0.01 0.   1.   0.11 0.   0.   0.22 0.  ]\n",
            " [0.58 0.06 0.47 0.03 0.   0.11 1.   0.01 0.   0.16 0.01]\n",
            " [0.01 0.   0.01 0.16 0.05 0.   0.01 1.   0.04 0.01 0.42]\n",
            " [0.   0.   0.   0.01 0.29 0.   0.   0.04 1.   0.   0.09]\n",
            " [0.28 0.12 0.35 0.05 0.   0.22 0.16 0.01 0.   1.   0.  ]\n",
            " [0.01 0.   0.01 0.07 0.13 0.   0.01 0.42 0.09 0.   1.  ]]\n"
          ],
          "name": "stdout"
        }
      ]
    },
    {
      "cell_type": "code",
      "metadata": {
        "colab": {
          "base_uri": "https://localhost:8080/"
        },
        "id": "9fDUw8QwgXTI",
        "outputId": "ebfe03e5-b194-4c84-fd79-64dfeb8337a0"
      },
      "source": [
        "print(corpus2, boe)\r\n",
        "for dist_fn in distance_fns:\r\n",
        "  print(dist_fn.__name__)\r\n",
        "  e_dists = get_token_similarities(boe, dist_fn)\r\n",
        "  print(e_dists)"
      ],
      "execution_count": null,
      "outputs": [
        {
          "output_type": "stream",
          "text": [
            "['The sun is red', 'The sun is orange', 'The sun is yellow'] [[-4.47 -5.13]\n",
            " [ 9.65  0.36]\n",
            " [-1.67 -3.96]\n",
            " [-3.83  8.2 ]\n",
            " [-4.41 -5.21]\n",
            " [ 9.89  0.37]\n",
            " [-1.61 -3.52]\n",
            " [-3.38  8.65]\n",
            " [-4.38 -5.52]\n",
            " [ 9.64  0.16]\n",
            " [-1.59 -3.85]\n",
            " [-3.85  9.45]]\n",
            "braycurtis\n",
            "[[1.   0.14 0.77 0.29 0.99 0.14 0.74 0.27 0.98 0.15 0.76 0.3 ]\n",
            " [0.14 1.   0.26 0.23 0.14 0.99 0.26 0.25 0.15 0.99 0.26 0.24]\n",
            " [0.77 0.26 1.   0.23 0.77 0.26 0.95 0.23 0.76 0.27 0.98 0.24]\n",
            " [0.29 0.23 0.23 1.   0.29 0.23 0.25 0.96 0.27 0.22 0.23 0.95]\n",
            " [0.99 0.14 0.77 0.29 1.   0.15 0.74 0.27 0.98 0.15 0.76 0.3 ]\n",
            " [0.14 0.99 0.26 0.23 0.15 1.   0.26 0.25 0.15 0.98 0.26 0.24]\n",
            " [0.74 0.26 0.95 0.25 0.74 0.26 1.   0.25 0.73 0.27 0.97 0.26]\n",
            " [0.27 0.25 0.23 0.96 0.27 0.25 0.25 1.   0.25 0.24 0.23 0.95]\n",
            " [0.98 0.15 0.76 0.27 0.98 0.15 0.73 0.25 1.   0.16 0.75 0.28]\n",
            " [0.15 0.99 0.27 0.22 0.15 0.98 0.27 0.24 0.16 1.   0.27 0.23]\n",
            " [0.76 0.26 0.98 0.23 0.76 0.26 0.97 0.23 0.75 0.27 1.   0.24]\n",
            " [0.3  0.24 0.24 0.95 0.3  0.24 0.26 0.95 0.28 0.23 0.24 1.  ]]\n",
            "canberra\n",
            "[[1.   0.14 0.56 0.34 0.99 0.14 0.52 0.32 0.95 0.14 0.54 0.34]\n",
            " [0.14 1.   0.14 0.15 0.14 0.98 0.14 0.15 0.14 0.68 0.14 0.15]\n",
            " [0.56 0.14 1.   0.25 0.56 0.14 0.92 0.26 0.54 0.14 0.96 0.25]\n",
            " [0.34 0.15 0.25 1.   0.34 0.15 0.24 0.92 0.34 0.14 0.24 0.93]\n",
            " [0.99 0.14 0.56 0.34 1.   0.14 0.52 0.32 0.97 0.14 0.54 0.34]\n",
            " [0.14 0.98 0.14 0.15 0.14 1.   0.14 0.15 0.14 0.67 0.14 0.15]\n",
            " [0.52 0.14 0.92 0.24 0.52 0.14 1.   0.26 0.5  0.14 0.95 0.24]\n",
            " [0.32 0.15 0.26 0.92 0.32 0.15 0.26 1.   0.32 0.14 0.26 0.9 ]\n",
            " [0.95 0.14 0.54 0.34 0.97 0.14 0.5  0.32 1.   0.14 0.53 0.34]\n",
            " [0.14 0.68 0.14 0.14 0.14 0.67 0.14 0.14 0.14 1.   0.14 0.14]\n",
            " [0.54 0.14 0.96 0.24 0.54 0.14 0.95 0.26 0.53 0.14 1.   0.24]\n",
            " [0.34 0.15 0.25 0.93 0.34 0.15 0.24 0.9  0.34 0.14 0.24 1.  ]]\n",
            "chebyshev\n",
            "[[1.   0.   0.06 0.   0.93 0.   0.06 0.   0.68 0.   0.06 0.  ]\n",
            " [0.   1.   0.   0.   0.   0.79 0.   0.   0.   0.82 0.   0.  ]\n",
            " [0.06 0.   1.   0.   0.06 0.   0.64 0.   0.07 0.   0.9  0.  ]\n",
            " [0.   0.   0.   1.   0.   0.   0.   0.64 0.   0.   0.   0.29]\n",
            " [0.93 0.   0.06 0.   1.   0.   0.06 0.   0.73 0.   0.06 0.  ]\n",
            " [0.   0.79 0.   0.   0.   1.   0.   0.   0.   0.78 0.   0.  ]\n",
            " [0.06 0.   0.64 0.   0.06 0.   1.   0.   0.06 0.   0.72 0.  ]\n",
            " [0.   0.   0.   0.64 0.   0.   0.   1.   0.   0.   0.   0.45]\n",
            " [0.68 0.   0.07 0.   0.73 0.   0.06 0.   1.   0.   0.06 0.  ]\n",
            " [0.   0.82 0.   0.   0.   0.78 0.   0.   0.   1.   0.   0.  ]\n",
            " [0.06 0.   0.9  0.   0.06 0.   0.72 0.   0.06 0.   1.   0.  ]\n",
            " [0.   0.   0.   0.29 0.   0.   0.   0.45 0.   0.   0.   1.  ]]\n",
            "cityblock\n",
            "[[1.   0.   0.02 0.   0.87 0.   0.01 0.   0.62 0.   0.02 0.  ]\n",
            " [0.   1.   0.   0.   0.   0.78 0.   0.   0.   0.82 0.   0.  ]\n",
            " [0.02 0.   1.   0.   0.02 0.   0.6  0.   0.01 0.   0.83 0.  ]\n",
            " [0.   0.   0.   1.   0.   0.   0.   0.41 0.   0.   0.   0.28]\n",
            " [0.87 0.   0.02 0.   1.   0.   0.01 0.   0.71 0.   0.02 0.  ]\n",
            " [0.   0.78 0.   0.   0.   1.   0.   0.   0.   0.64 0.   0.  ]\n",
            " [0.01 0.   0.6  0.   0.01 0.   1.   0.   0.01 0.   0.71 0.  ]\n",
            " [0.   0.   0.   0.41 0.   0.   0.   1.   0.   0.   0.   0.28]\n",
            " [0.62 0.   0.01 0.   0.71 0.   0.01 0.   1.   0.   0.01 0.  ]\n",
            " [0.   0.82 0.   0.   0.   0.64 0.   0.   0.   1.   0.   0.  ]\n",
            " [0.02 0.   0.83 0.   0.02 0.   0.71 0.   0.01 0.   1.   0.  ]\n",
            " [0.   0.   0.   0.28 0.   0.   0.   0.28 0.   0.   0.   1.  ]]\n",
            "correlation\n",
            "[[1.   1.   1.   0.14 1.   1.   1.   0.14 1.   1.   1.   0.14]\n",
            " [1.   1.   1.   0.14 1.   1.   1.   0.14 1.   1.   1.   0.14]\n",
            " [1.   1.   1.   0.14 1.   1.   1.   0.14 1.   1.   1.   0.14]\n",
            " [0.14 0.14 0.14 1.   0.14 0.14 0.14 1.   0.14 0.14 0.14 1.  ]\n",
            " [1.   1.   1.   0.14 1.   1.   1.   0.14 1.   1.   1.   0.14]\n",
            " [1.   1.   1.   0.14 1.   1.   1.   0.14 1.   1.   1.   0.14]\n",
            " [1.   1.   1.   0.14 1.   1.   1.   0.14 1.   1.   1.   0.14]\n",
            " [0.14 0.14 0.14 1.   0.14 0.14 0.14 1.   0.14 0.14 0.14 1.  ]\n",
            " [1.   1.   1.   0.14 1.   1.   1.   0.14 1.   1.   1.   0.14]\n",
            " [1.   1.   1.   0.14 1.   1.   1.   0.14 1.   1.   1.   0.14]\n",
            " [1.   1.   1.   0.14 1.   1.   1.   0.14 1.   1.   1.   0.14]\n",
            " [0.14 0.14 0.14 1.   0.14 0.14 0.14 1.   0.14 0.14 0.14 1.  ]]\n",
            "cosine\n",
            "[[1.   0.19 0.95 0.25 1.   0.19 0.96 0.23 1.   0.19 0.95 0.23]\n",
            " [0.19 1.   0.24 0.25 0.19 1.   0.23 0.26 0.19 1.   0.24 0.26]\n",
            " [0.95 0.24 1.   0.19 0.96 0.24 1.   0.18 0.96 0.25 1.   0.18]\n",
            " [0.25 0.25 0.19 1.   0.24 0.25 0.19 1.   0.24 0.24 0.19 1.  ]\n",
            " [1.   0.19 0.96 0.24 1.   0.19 0.96 0.23 1.   0.19 0.95 0.23]\n",
            " [0.19 1.   0.24 0.25 0.19 1.   0.23 0.26 0.19 1.   0.24 0.26]\n",
            " [0.96 0.23 1.   0.19 0.96 0.23 1.   0.18 0.97 0.24 1.   0.19]\n",
            " [0.23 0.26 0.18 1.   0.23 0.26 0.18 1.   0.22 0.26 0.18 1.  ]\n",
            " [1.   0.19 0.96 0.24 1.   0.19 0.97 0.22 1.   0.2  0.96 0.23]\n",
            " [0.19 1.   0.25 0.24 0.19 1.   0.24 0.26 0.2  1.   0.25 0.26]\n",
            " [0.95 0.24 1.   0.19 0.95 0.24 1.   0.18 0.96 0.25 1.   0.18]\n",
            " [0.23 0.26 0.18 1.   0.23 0.26 0.19 1.   0.23 0.26 0.18 1.  ]]\n",
            "euclidean\n",
            "[[1.   0.   0.05 0.   0.91 0.   0.04 0.   0.67 0.   0.04 0.  ]\n",
            " [0.   1.   0.   0.   0.   0.79 0.   0.   0.   0.82 0.   0.  ]\n",
            " [0.05 0.   1.   0.   0.05 0.   0.64 0.   0.04 0.   0.88 0.  ]\n",
            " [0.   0.   0.   1.   0.   0.   0.   0.53 0.   0.   0.   0.29]\n",
            " [0.91 0.   0.05 0.   1.   0.   0.04 0.   0.73 0.   0.04 0.  ]\n",
            " [0.   0.79 0.   0.   0.   1.   0.   0.   0.   0.73 0.   0.  ]\n",
            " [0.04 0.   0.64 0.   0.04 0.   1.   0.   0.03 0.   0.72 0.  ]\n",
            " [0.   0.   0.   0.53 0.   0.   0.   1.   0.   0.   0.   0.39]\n",
            " [0.67 0.   0.04 0.   0.73 0.   0.03 0.   1.   0.   0.04 0.  ]\n",
            " [0.   0.82 0.   0.   0.   0.73 0.   0.   0.   1.   0.   0.  ]\n",
            " [0.04 0.   0.88 0.   0.04 0.   0.72 0.   0.04 0.   1.   0.  ]\n",
            " [0.   0.   0.   0.29 0.   0.   0.   0.39 0.   0.   0.   1.  ]]\n",
            "jensenshannon\n",
            "[[1.   0.66 0.88 0.   1.   0.66 0.9  0.   0.98 0.64 0.88 0.  ]\n",
            " [0.66 1.   0.59 0.   0.65 1.   0.6  0.   0.65 0.96 0.59 0.  ]\n",
            " [0.88 0.59 1.   0.   0.89 0.59 0.99 0.   0.9  0.57 1.   0.  ]\n",
            " [0.   0.   0.   0.   0.   0.   0.   0.   0.   0.   0.   0.  ]\n",
            " [1.   0.65 0.89 0.   1.   0.65 0.9  0.   0.99 0.64 0.89 0.  ]\n",
            " [0.66 1.   0.59 0.   0.65 1.   0.6  0.   0.65 0.96 0.59 0.  ]\n",
            " [0.9  0.6  0.99 0.   0.9  0.6  1.   0.   0.91 0.58 0.98 0.  ]\n",
            " [0.   0.   0.   0.   0.   0.   0.   0.   0.   0.   0.   0.  ]\n",
            " [0.98 0.65 0.9  0.   0.99 0.65 0.91 0.   1.   0.63 0.9  0.  ]\n",
            " [0.64 0.96 0.57 0.   0.64 0.96 0.58 0.   0.63 1.   0.57 0.  ]\n",
            " [0.88 0.59 1.   0.   0.89 0.59 0.98 0.   0.9  0.57 1.   0.  ]\n",
            " [0.   0.   0.   0.   0.   0.   0.   0.   0.   0.   0.   0.  ]]\n",
            "minkowski\n",
            "[[1.   0.   0.05 0.   0.91 0.   0.04 0.   0.67 0.   0.04 0.  ]\n",
            " [0.   1.   0.   0.   0.   0.79 0.   0.   0.   0.82 0.   0.  ]\n",
            " [0.05 0.   1.   0.   0.05 0.   0.64 0.   0.04 0.   0.88 0.  ]\n",
            " [0.   0.   0.   1.   0.   0.   0.   0.53 0.   0.   0.   0.29]\n",
            " [0.91 0.   0.05 0.   1.   0.   0.04 0.   0.73 0.   0.04 0.  ]\n",
            " [0.   0.79 0.   0.   0.   1.   0.   0.   0.   0.73 0.   0.  ]\n",
            " [0.04 0.   0.64 0.   0.04 0.   1.   0.   0.03 0.   0.72 0.  ]\n",
            " [0.   0.   0.   0.53 0.   0.   0.   1.   0.   0.   0.   0.39]\n",
            " [0.67 0.   0.04 0.   0.73 0.   0.03 0.   1.   0.   0.04 0.  ]\n",
            " [0.   0.82 0.   0.   0.   0.73 0.   0.   0.   1.   0.   0.  ]\n",
            " [0.04 0.   0.88 0.   0.04 0.   0.72 0.   0.04 0.   1.   0.  ]\n",
            " [0.   0.   0.   0.29 0.   0.   0.   0.39 0.   0.   0.   1.  ]]\n",
            "wasserstein_distance\n",
            "[[1.   0.   0.14 0.   0.93 0.   0.11 0.   0.79 0.   0.13 0.  ]\n",
            " [0.   1.   0.   0.06 0.   0.88 0.   0.09 0.   0.9  0.   0.11]\n",
            " [0.14 0.   1.   0.01 0.14 0.   0.78 0.   0.12 0.   0.91 0.  ]\n",
            " [0.   0.06 0.01 1.   0.   0.05 0.01 0.64 0.   0.07 0.01 0.53]\n",
            " [0.93 0.   0.14 0.   1.   0.   0.11 0.   0.85 0.   0.12 0.  ]\n",
            " [0.   0.88 0.   0.05 0.   1.   0.   0.08 0.   0.8  0.   0.1 ]\n",
            " [0.11 0.   0.78 0.01 0.11 0.   1.   0.01 0.09 0.   0.84 0.  ]\n",
            " [0.   0.09 0.   0.64 0.   0.08 0.01 1.   0.   0.1  0.   0.53]\n",
            " [0.79 0.   0.12 0.   0.85 0.   0.09 0.   1.   0.   0.11 0.  ]\n",
            " [0.   0.9  0.   0.07 0.   0.8  0.   0.1  0.   1.   0.   0.12]\n",
            " [0.13 0.   0.91 0.01 0.12 0.   0.84 0.   0.11 0.   1.   0.  ]\n",
            " [0.   0.11 0.   0.53 0.   0.1  0.   0.53 0.   0.12 0.   1.  ]]\n"
          ],
          "name": "stdout"
        }
      ]
    },
    {
      "cell_type": "markdown",
      "metadata": {
        "id": "dvjAOpcQ1gjH"
      },
      "source": [
        "## TFIDF weighting??"
      ]
    },
    {
      "cell_type": "code",
      "metadata": {
        "colab": {
          "base_uri": "https://localhost:8080/"
        },
        "id": "7tO4udzdQs_l",
        "outputId": "7115f8f5-28a2-43f4-ab7a-b6691d28339e"
      },
      "source": [
        "from sklearn.feature_extraction.text import TfidfVectorizer\r\n",
        "\r\n",
        "vectorizer = TfidfVectorizer(corpus1)\r\n",
        "tfidf = vectorizer.fit(corpus1)\r\n",
        "terms = vectorizer.get_feature_names()\r\n",
        "print(terms)"
      ],
      "execution_count": null,
      "outputs": [
        {
          "output_type": "stream",
          "text": [
            "['am', 'are', 'thug', 'thugs', 'we', 'you']\n"
          ],
          "name": "stdout"
        }
      ]
    },
    {
      "cell_type": "code",
      "metadata": {
        "id": "2fdynabIVOvv"
      },
      "source": [
        "n = '00000010100101000001111010011100'"
      ],
      "execution_count": null,
      "outputs": []
    },
    {
      "cell_type": "code",
      "metadata": {
        "colab": {
          "base_uri": "https://localhost:8080/",
          "height": 35
        },
        "id": "ih9q0w-i7BZm",
        "outputId": "98009bb8-5c74-4e3c-97d5-182b097df7ce"
      },
      "source": [
        "n[::-1]"
      ],
      "execution_count": null,
      "outputs": [
        {
          "output_type": "execute_result",
          "data": {
            "application/vnd.google.colaboratory.intrinsic+json": {
              "type": "string"
            },
            "text/plain": [
              "'00111001011110000010100101000000'"
            ]
          },
          "metadata": {
            "tags": []
          },
          "execution_count": 13
        }
      ]
    },
    {
      "cell_type": "code",
      "metadata": {
        "colab": {
          "base_uri": "https://localhost:8080/"
        },
        "id": "V0EhMoLI4Jg3",
        "outputId": "8465a75c-604c-4a9e-f2b5-f80a2a641a9a"
      },
      "source": [
        "int(n[::-1],2)"
      ],
      "execution_count": null,
      "outputs": [
        {
          "output_type": "execute_result",
          "data": {
            "text/plain": [
              "964176192"
            ]
          },
          "metadata": {
            "tags": []
          },
          "execution_count": 14
        }
      ]
    },
    {
      "cell_type": "code",
      "metadata": {
        "colab": {
          "base_uri": "https://localhost:8080/"
        },
        "id": "nQ3hSqY5TeNZ",
        "outputId": "3f599031-f11d-41d5-ef69-80b31b9cbb1b"
      },
      "source": [
        ""
      ],
      "execution_count": null,
      "outputs": [
        {
          "output_type": "execute_result",
          "data": {
            "text/plain": [
              "3221225471"
            ]
          },
          "metadata": {
            "tags": []
          },
          "execution_count": 7
        }
      ]
    },
    {
      "cell_type": "code",
      "metadata": {
        "id": "2yAghznY3cPs"
      },
      "source": [
        ""
      ],
      "execution_count": null,
      "outputs": []
    }
  ]
}