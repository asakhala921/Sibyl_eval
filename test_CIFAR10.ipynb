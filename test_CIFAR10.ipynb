{
 "cells": [
  {
   "cell_type": "code",
   "execution_count": 1,
   "metadata": {},
   "outputs": [],
   "source": [
    "%reload_ext autoreload\n",
    "%autoreload 2"
   ]
  },
  {
   "cell_type": "code",
   "execution_count": 1,
   "metadata": {},
   "outputs": [],
   "source": [
    "import torch\n",
    "import numpy as np\n",
    "import pandas as pd\n",
    "import seaborn as sns\n",
    "import matplotlib.pyplot as plt\n",
    "\n",
    "from tqdm.notebook import tqdm"
   ]
  },
  {
   "cell_type": "code",
   "execution_count": 2,
   "metadata": {},
   "outputs": [],
   "source": [
    "sns.set_context(\"paper\")"
   ]
  },
  {
   "cell_type": "code",
   "execution_count": 3,
   "metadata": {},
   "outputs": [],
   "source": [
    "device = torch.device(\"cuda\" if torch.cuda.is_available() else \"cpu\")"
   ]
  },
  {
   "cell_type": "code",
   "execution_count": 4,
   "metadata": {},
   "outputs": [],
   "source": [
    "def get_acc(y_true, y_pred):\n",
    "    total = y_true.size(0)\n",
    "    correct = (y_pred == y_true).sum().item()\n",
    "    return correct / total\n",
    "\n",
    "def get_acc_at_k(y_true, y_pred, k=2):\n",
    "    y_true = torch.tensor(y_true) if type(y_true) != torch.Tensor else y_true\n",
    "    y_pred = torch.tensor(y_pred) if type(y_pred) != torch.Tensor else y_pred\n",
    "    total = len(y_true)\n",
    "    y_weights, y_idx = torch.topk(y_true, k=k, dim=-1)\n",
    "    out_weights, out_idx = torch.topk(y_pred, k=k, dim=-1)\n",
    "    correct = torch.sum(torch.eq(y_idx, out_idx) * y_weights)\n",
    "    acc = correct / total\n",
    "    return acc.item()"
   ]
  },
  {
   "cell_type": "code",
   "execution_count": 3,
   "metadata": {},
   "outputs": [],
   "source": [
    "def show_values_on_bars(axs, values, y_height_addon=0):\n",
    "    def _show_on_single_plot(ax):        \n",
    "        for p, v in zip(ax.patches, values):\n",
    "            _x = p.get_x() + p.get_width() / 2\n",
    "            _y = p.get_y() + p.get_height() + y_height_addon\n",
    "            if type(v) != str:\n",
    "                value = (\"+\" if v > 0 else \"\") + '{:.0f}%'.format(v)\n",
    "            else:\n",
    "                value = v\n",
    "            ax.text(_x, _y, value, ha=\"center\", size='small') \n",
    "\n",
    "    if isinstance(axs, np.ndarray):\n",
    "        for idx, ax in np.ndenumerate(axs):\n",
    "            _show_on_single_plot(ax)\n",
    "    else:\n",
    "        _show_on_single_plot(axs)"
   ]
  },
  {
   "cell_type": "markdown",
   "metadata": {},
   "source": [
    "# Images"
   ]
  },
  {
   "cell_type": "code",
   "execution_count": 6,
   "metadata": {},
   "outputs": [],
   "source": [
    "import torch\n",
    "import torchvision\n",
    "import torchvision.transforms as transforms\n",
    "\n",
    "from RandAugment import RandAugment\n",
    "from transformations.image.mixtures import mixup2, cutmix2, tile\n",
    "\n",
    "import matplotlib.pyplot as plt"
   ]
  },
  {
   "cell_type": "code",
   "execution_count": 7,
   "metadata": {},
   "outputs": [],
   "source": [
    "def get_logits(model, X, batch_size=8):\n",
    "    model.eval()\n",
    "    out = []\n",
    "    for pos in range(0, len(X), batch_size):\n",
    "        X_ = X[pos:pos + batch_size] \n",
    "        logits = model(X_)\n",
    "        out.append(logits)\n",
    "    return torch.cat(out).cpu()"
   ]
  },
  {
   "cell_type": "code",
   "execution_count": 8,
   "metadata": {},
   "outputs": [],
   "source": [
    "def get_dataloader(config):\n",
    "\n",
    "    test_transform = transforms.Compose([\n",
    "        transforms.ToTensor()\n",
    "    ])\n",
    "    \n",
    "    if config['use_basicaug']:\n",
    "        test_transform.transforms.insert(0, transforms.RandomHorizontalFlip())\n",
    "        test_transform.transforms.insert(0, transforms.RandomCrop(32, padding=4))\n",
    "\n",
    "    if config['use_randaug']:\n",
    "        n = config['randaug_n']\n",
    "        m = config['randaug_m']\n",
    "        test_transform.transforms.insert(0, RandAugment(n=2, m=3))\n",
    "\n",
    "    if config['dataset'] == 'CIFAR10':\n",
    "        dataset_dir = 'C:/data/CIFAR10'\n",
    "        _MEAN, _STD = (0.4914, 0.4822, 0.4465), (0.2023, 0.1994, 0.2010)\n",
    "        test_transform.transforms.insert(\n",
    "            len(test_transform.transforms), transforms.Normalize(_MEAN, _STD))\n",
    "        test_dataset = torchvision.datasets.CIFAR10(\n",
    "            dataset_dir, train=False, transform=test_transform, download=True)\n",
    "    elif config['dataset'] == 'MNIST':\n",
    "        dataset_dir = 'C:/data/MNIST'\n",
    "        _MEAN, _STD = (0.1307,), (0.3081,)\n",
    "        test_transform.transforms.insert(\n",
    "            len(test_transform.transforms), transforms.Normalize(_MEAN, _STD))\n",
    "        test_dataset = torchvision.datasets.MNIST(\n",
    "            dataset_dir, train=False, transform=test_transform, download=True)\n",
    "    else:\n",
    "        raise InputError(\"dataset not supported...\")\n",
    "\n",
    "    collator = torch.utils.data.dataloader.default_collate\n",
    "    \n",
    "    if config['use_mixup2']:\n",
    "        collator = mixup2.Mixup2Collator(\n",
    "            alpha=config['alpha'],  \n",
    "            target_pairs=config['target_pairs'], \n",
    "            target_prob=config['target_prob'], \n",
    "            num_classes=config['n_classes']\n",
    "        )\n",
    "    if config['use_cutmix2']:\n",
    "        collator = cutmix2.CutMix2Collator(\n",
    "            alpha=config['alpha'],  \n",
    "            target_pairs=config['target_pairs'], \n",
    "            target_prob=config['target_prob'], \n",
    "            resize_prob=config['resize_prob'], \n",
    "            num_classes=config['n_classes']\n",
    "        )\n",
    "    if config['use_tile']:\n",
    "        collator = tile.TileCollator(\n",
    "            num_tiles=config['num_tiles'],  \n",
    "            target_pairs=config['target_pairs'], \n",
    "            target_prob=config['target_prob'], \n",
    "            num_classes=config['n_classes']\n",
    "        )\n",
    "                \n",
    "    dataloader = torch.utils.data.DataLoader(\n",
    "        test_dataset,\n",
    "        batch_size=config['batch_size'],\n",
    "        num_workers=config['num_workers'],\n",
    "        collate_fn=collator,\n",
    "        shuffle=True,\n",
    "        pin_memory=True,\n",
    "        drop_last=False,\n",
    "    )\n",
    "    return dataloader"
   ]
  },
  {
   "cell_type": "code",
   "execution_count": 9,
   "metadata": {},
   "outputs": [],
   "source": [
    "# print(torch.hub.list(\"chenyaofo/pytorch-cifar-models\", force_reload=True))"
   ]
  },
  {
   "cell_type": "code",
   "execution_count": 10,
   "metadata": {
    "scrolled": true
   },
   "outputs": [
    {
     "name": "stderr",
     "output_type": "stream",
     "text": [
      "Using cache found in C:\\Users\\Fabrice/.cache\\torch\\hub\\chenyaofo_pytorch-cifar-models_master\n"
     ]
    },
    {
     "name": "stdout",
     "output_type": "stream",
     "text": [
      "Files already downloaded and verified\n"
     ]
    },
    {
     "data": {
      "application/vnd.jupyter.widget-view+json": {
       "model_id": "824d0ae04f3d416482f36f7087463244",
       "version_major": 2,
       "version_minor": 0
      },
      "text/plain": [
       "HBox(children=(FloatProgress(value=0.0), HTML(value='')))"
      ]
     },
     "metadata": {},
     "output_type": "display_data"
    },
    {
     "name": "stdout",
     "output_type": "stream",
     "text": [
      "\n",
      "{'MODEL_NAME': 'cifar10_shufflenetv2_x2_0', 'dataset': 'CIFAR10', 'trans': 'Cutmix', 'test_acc': 0.5339350276440382}\n"
     ]
    },
    {
     "name": "stderr",
     "output_type": "stream",
     "text": [
      "Using cache found in C:\\Users\\Fabrice/.cache\\torch\\hub\\chenyaofo_pytorch-cifar-models_master\n"
     ]
    },
    {
     "name": "stdout",
     "output_type": "stream",
     "text": [
      "Files already downloaded and verified\n"
     ]
    },
    {
     "data": {
      "application/vnd.jupyter.widget-view+json": {
       "model_id": "0c8a9ae6d324489e92f21e7683254f4c",
       "version_major": 2,
       "version_minor": 0
      },
      "text/plain": [
       "HBox(children=(FloatProgress(value=0.0), HTML(value='')))"
      ]
     },
     "metadata": {},
     "output_type": "display_data"
    },
    {
     "name": "stdout",
     "output_type": "stream",
     "text": [
      "\n",
      "{'MODEL_NAME': 'cifar10_resnet56', 'dataset': 'CIFAR10', 'trans': 'Cutmix', 'test_acc': 0.5414444274455309}\n"
     ]
    },
    {
     "name": "stderr",
     "output_type": "stream",
     "text": [
      "Using cache found in C:\\Users\\Fabrice/.cache\\torch\\hub\\chenyaofo_pytorch-cifar-models_master\n"
     ]
    },
    {
     "name": "stdout",
     "output_type": "stream",
     "text": [
      "Files already downloaded and verified\n"
     ]
    },
    {
     "data": {
      "application/vnd.jupyter.widget-view+json": {
       "model_id": "399650e7fb854856be2a0f0924e5e36f",
       "version_major": 2,
       "version_minor": 0
      },
      "text/plain": [
       "HBox(children=(FloatProgress(value=0.0), HTML(value='')))"
      ]
     },
     "metadata": {},
     "output_type": "display_data"
    },
    {
     "name": "stdout",
     "output_type": "stream",
     "text": [
      "\n",
      "{'MODEL_NAME': 'cifar10_mobilenetv2_x1_0', 'dataset': 'CIFAR10', 'trans': 'Cutmix', 'test_acc': 0.5272044353187084}\n"
     ]
    }
   ],
   "source": [
    "num_suites = 100\n",
    "num_tests = 100\n",
    "\n",
    "datasets = [\"CIFAR10\"]\n",
    "tranforms = ['Cutmix'] # ['ORIG', 'INV', 'Mixup2', 'Cutmix', 'Cutmix2', 'Tile']\n",
    "MODEL_NAMES = [ \n",
    "    'cifar10_shufflenetv2_x2_0',\n",
    "    'cifar10_resnet56',\n",
    "    'cifar10_mobilenetv2_x1_0',\n",
    "]\n",
    "\n",
    "results = []\n",
    "for MODEL_NAME in MODEL_NAMES:\n",
    "    \n",
    "    model = torch.hub.load(\"chenyaofo/pytorch-cifar-models\", MODEL_NAME, pretrained=True).to(device)\n",
    "    model.eval()\n",
    "    \n",
    "    for d in datasets:\n",
    "                        \n",
    "        for t in tranforms:\n",
    "            \n",
    "            config = {\n",
    "                'dataset': d,\n",
    "                'batch_size': num_tests,\n",
    "                'num_workers': 2,\n",
    "                'use_basicaug': t == 'INV' and d == 'MNIST',\n",
    "                'use_randaug': t == 'INV' and d != 'MNIST',\n",
    "                'use_mixup2': t == 'Mixup2',\n",
    "                'use_cutmix2': 'Cutmix' in t,\n",
    "                'use_tile': t == 'Tile',\n",
    "                'randaug_n': 2,\n",
    "                'randaug_m': 3,\n",
    "                'alpha': 1.0,\n",
    "                'target_pairs': [],\n",
    "                'target_prob': 1.0,\n",
    "                'resize_prob': 1.0 if t == 'Cutmix2' else 0,\n",
    "                'n_classes': 10,\n",
    "                'num_tiles': 4,\n",
    "            }\n",
    "            \n",
    "            dataloader = get_dataloader(config)\n",
    "            is_soft_label = False\n",
    "            if t not in ['ORIG', 'INV']:\n",
    "                is_soft_label = True\n",
    "            \n",
    "            accs = []\n",
    "            for _ in tqdm(range(num_suites)):\n",
    "\n",
    "                    X, y_true = next(iter(dataloader))\n",
    "\n",
    "                    logits = get_logits(model, X.to(device), batch_size=8)\n",
    "                    \n",
    "                    if is_soft_label:\n",
    "                        acc = get_acc_at_k(y_true, logits, k=2)\n",
    "                    else:\n",
    "                        soft_m = torch.softmax(logits, dim=1)\n",
    "                        y_pred = torch.argmax(soft_m, dim=1)\n",
    "                        acc = get_acc(y_true, y_pred)\n",
    "                        \n",
    "                    # print(acc)\n",
    "\n",
    "                    accs.append(acc)\n",
    "\n",
    "            test_acc = sum(accs) / len(accs)\n",
    "\n",
    "            out = {\n",
    "                \"MODEL_NAME\": MODEL_NAME,\n",
    "                \"dataset\": d,\n",
    "                'trans': t,\n",
    "                \"test_acc\": test_acc\n",
    "            }\n",
    "\n",
    "            print(out)\n",
    "            results.append(out)\n",
    "        \n",
    "df = pd.DataFrame(results)"
   ]
  },
  {
   "cell_type": "code",
   "execution_count": 11,
   "metadata": {},
   "outputs": [
    {
     "data": {
      "text/html": [
       "<div>\n",
       "<style scoped>\n",
       "    .dataframe tbody tr th:only-of-type {\n",
       "        vertical-align: middle;\n",
       "    }\n",
       "\n",
       "    .dataframe tbody tr th {\n",
       "        vertical-align: top;\n",
       "    }\n",
       "\n",
       "    .dataframe thead th {\n",
       "        text-align: right;\n",
       "    }\n",
       "</style>\n",
       "<table border=\"1\" class=\"dataframe\">\n",
       "  <thead>\n",
       "    <tr style=\"text-align: right;\">\n",
       "      <th></th>\n",
       "      <th>MODEL_NAME</th>\n",
       "      <th>dataset</th>\n",
       "      <th>trans</th>\n",
       "      <th>test_acc</th>\n",
       "    </tr>\n",
       "  </thead>\n",
       "  <tbody>\n",
       "    <tr>\n",
       "      <th>0</th>\n",
       "      <td>cifar10_shufflenetv2_x2_0</td>\n",
       "      <td>CIFAR10</td>\n",
       "      <td>Cutmix</td>\n",
       "      <td>0.533935</td>\n",
       "    </tr>\n",
       "    <tr>\n",
       "      <th>1</th>\n",
       "      <td>cifar10_resnet56</td>\n",
       "      <td>CIFAR10</td>\n",
       "      <td>Cutmix</td>\n",
       "      <td>0.541444</td>\n",
       "    </tr>\n",
       "    <tr>\n",
       "      <th>2</th>\n",
       "      <td>cifar10_mobilenetv2_x1_0</td>\n",
       "      <td>CIFAR10</td>\n",
       "      <td>Cutmix</td>\n",
       "      <td>0.527204</td>\n",
       "    </tr>\n",
       "  </tbody>\n",
       "</table>\n",
       "</div>"
      ],
      "text/plain": [
       "                  MODEL_NAME  dataset   trans  test_acc\n",
       "0  cifar10_shufflenetv2_x2_0  CIFAR10  Cutmix  0.533935\n",
       "1           cifar10_resnet56  CIFAR10  Cutmix  0.541444\n",
       "2   cifar10_mobilenetv2_x1_0  CIFAR10  Cutmix  0.527204"
      ]
     },
     "execution_count": 11,
     "metadata": {},
     "output_type": "execute_result"
    }
   ],
   "source": [
    "df"
   ]
  },
  {
   "cell_type": "code",
   "execution_count": 12,
   "metadata": {},
   "outputs": [],
   "source": [
    "df.to_clipboard(excel=True)"
   ]
  },
  {
   "cell_type": "code",
   "execution_count": 11,
   "metadata": {},
   "outputs": [],
   "source": [
    "df.to_csv('test_models_cifar10_results.csv')"
   ]
  },
  {
   "cell_type": "code",
   "execution_count": null,
   "metadata": {},
   "outputs": [],
   "source": []
  },
  {
   "cell_type": "code",
   "execution_count": 4,
   "metadata": {},
   "outputs": [
    {
     "name": "stdout",
     "output_type": "stream",
     "text": [
      "0.94375\n"
     ]
    },
    {
     "data": {
      "image/png": "[encoded data removed]",
      "text/plain": [
       "<Figure size 432x288 with 1 Axes>"
      ]
     },
     "metadata": {
      "needs_background": "light"
     },
     "output_type": "display_data"
    }
   ],
   "source": [
    "for d in ['CIFAR10']: \n",
    "    \n",
    "    df = pd.read_csv('test_models_cifar10_results.csv')\n",
    "    \n",
    "    ds = (df['dataset']==d)\n",
    "    \n",
    "    df = df[ds]\n",
    "    \n",
    "    ORIG_acc = df[(df['trans']=='ORIG')]['test_acc'].iloc[0]\n",
    "    print(ORIG_acc)\n",
    "    df['improv'] = (df['test_acc'] - ORIG_acc) * 100\n",
    "    \n",
    "    g = sns.barplot(data=df[df.dataset.str.contains(d)], x='trans', y='test_acc', palette='Spectral')\n",
    "    g.set_xlabel('Transformation Pipeline $TP$')\n",
    "    g.set_ylabel('Accuracy')\n",
    "    g.set_ylim((0.3, 1.00))\n",
    "    # g.set_xticklabels(g.get_xticklabels(),rotation=45)\n",
    "    g.set_title('Test Accuracy | ' +  d)\n",
    "    values = df.improv.tolist()\n",
    "    values[0] = \"\"\n",
    "    show_values_on_bars(g, values, 0.075)\n",
    "    g.figure.savefig('imgs/test_acc_' + d)\n",
    "    plt.show()"
   ]
  },
  {
   "cell_type": "markdown",
   "metadata": {},
   "source": [
    "# Text"
   ]
  },
  {
   "cell_type": "code",
   "execution_count": null,
   "metadata": {},
   "outputs": [],
   "source": [
    "from transformers import AutoTokenizer, AutoModelForSequenceClassification\n",
    "from utils import *"
   ]
  },
  {
   "cell_type": "code",
   "execution_count": 52,
   "metadata": {},
   "outputs": [],
   "source": [
    "class CustomModelWrapper:\n",
    "    def __init__(self, model, tokenizer, batch_size=4):\n",
    "        self.model = model\n",
    "        self.tokenizer = tokenizer\n",
    "        self.device = next(self.model.parameters()).device\n",
    "        self.batch_size = batch_size\n",
    "\n",
    "    def __call__(self, text_input_list):\n",
    "        out = []\n",
    "        i = 0\n",
    "        while i < len(text_input_list):\n",
    "            batch = text_input_list[i : i + self.batch_size]\n",
    "            encoding = self.tokenizer(batch, padding=True, truncation=True, max_length=250, return_tensors='pt')\n",
    "            outputs = self.model(encoding['input_ids'].to(self.device), attention_mask=encoding['attention_mask'].to(self.device))\n",
    "            # preds = torch.nn.functional.softmax(outputs.logits, dim=1).detach().cpu()\n",
    "            out.append(outputs.logits.detach().cpu())\n",
    "            i += self.batch_size\n",
    "        out = torch.cat(out)\n",
    "        return out"
   ]
  },
  {
   "cell_type": "code",
   "execution_count": 5,
   "metadata": {},
   "outputs": [
    {
     "name": "stdout",
     "output_type": "stream",
     "text": [
      "MODEL_NAME: textattack/bert-base-uncased-SST-2, dataset: SST2-ORIG, is_soft_label: False\n",
      "{'MODEL_NAME': 'textattack/bert-base-uncased-SST-2', 'dataset': 'SST2-ORIG', 'test_acc': 0.9871999999999994}\n",
      "MODEL_NAME: textattack/bert-base-uncased-SST-2, dataset: SST2-INV, is_soft_label: False\n",
      "{'MODEL_NAME': 'textattack/bert-base-uncased-SST-2', 'dataset': 'SST2-INV', 'test_acc': 0.7443000000000005}\n",
      "MODEL_NAME: textattack/bert-base-uncased-SST-2, dataset: SST2-SIB, is_soft_label: True\n",
      "{'MODEL_NAME': 'textattack/bert-base-uncased-SST-2', 'dataset': 'SST2-SIB', 'test_acc': 0.7052740745272483}\n",
      "MODEL_NAME: textattack/bert-base-uncased-SST-2, dataset: SST2-INVSIB, is_soft_label: True\n",
      "{'MODEL_NAME': 'textattack/bert-base-uncased-SST-2', 'dataset': 'SST2-INVSIB', 'test_acc': 0.7184545924036227}\n",
      "MODEL_NAME: textattack/bert-base-uncased-SST-2, dataset: SST2-TextMix, is_soft_label: True\n",
      "{'MODEL_NAME': 'textattack/bert-base-uncased-SST-2', 'dataset': 'SST2-TextMix', 'test_acc': 0.8232}\n",
      "MODEL_NAME: textattack/bert-base-uncased-SST-2, dataset: SST2-SentMix, is_soft_label: True\n",
      "{'MODEL_NAME': 'textattack/bert-base-uncased-SST-2', 'dataset': 'SST2-SentMix', 'test_acc': 0.8133999999999999}\n",
      "MODEL_NAME: textattack/bert-base-uncased-SST-2, dataset: SST2-WordMix, is_soft_label: True\n",
      "{'MODEL_NAME': 'textattack/bert-base-uncased-SST-2', 'dataset': 'SST2-WordMix', 'test_acc': 0.7411999999999999}\n"
     ]
    },
    {
     "data": {
      "application/vnd.jupyter.widget-view+json": {
       "model_id": "5db84b95b5f6418ca22ae170a1ced919",
       "version_major": 2,
       "version_minor": 0
      },
      "text/plain": [
       "HBox(children=(FloatProgress(value=0.0, description='Downloading', max=525.0, style=ProgressStyle(description_…"
      ]
     },
     "metadata": {},
     "output_type": "display_data"
    },
    {
     "name": "stdout",
     "output_type": "stream",
     "text": [
      "\n"
     ]
    },
    {
     "data": {
      "application/vnd.jupyter.widget-view+json": {
       "model_id": "9080f25dab6e4c6a8d18d5ec068b0fbc",
       "version_major": 2,
       "version_minor": 0
      },
      "text/plain": [
       "HBox(children=(FloatProgress(value=0.0, description='Downloading', max=898822.0, style=ProgressStyle(descripti…"
      ]
     },
     "metadata": {},
     "output_type": "display_data"
    },
    {
     "name": "stdout",
     "output_type": "stream",
     "text": [
      "\n"
     ]
    },
    {
     "data": {
      "application/vnd.jupyter.widget-view+json": {
       "model_id": "863e3ed7bffd45958b1cd54c80eadd27",
       "version_major": 2,
       "version_minor": 0
      },
      "text/plain": [
       "HBox(children=(FloatProgress(value=0.0, description='Downloading', max=456318.0, style=ProgressStyle(descripti…"
      ]
     },
     "metadata": {},
     "output_type": "display_data"
    },
    {
     "name": "stdout",
     "output_type": "stream",
     "text": [
      "\n"
     ]
    },
    {
     "data": {
      "application/vnd.jupyter.widget-view+json": {
       "model_id": "d83c3513568c4167b941483d77ca046a",
       "version_major": 2,
       "version_minor": 0
      },
      "text/plain": [
       "HBox(children=(FloatProgress(value=0.0, description='Downloading', max=150.0, style=ProgressStyle(description_…"
      ]
     },
     "metadata": {},
     "output_type": "display_data"
    },
    {
     "name": "stdout",
     "output_type": "stream",
     "text": [
      "\n"
     ]
    },
    {
     "data": {
      "application/vnd.jupyter.widget-view+json": {
       "model_id": "b08bdab5e78841eeaf1edda45e907b23",
       "version_major": 2,
       "version_minor": 0
      },
      "text/plain": [
       "HBox(children=(FloatProgress(value=0.0, description='Downloading', max=25.0, style=ProgressStyle(description_w…"
      ]
     },
     "metadata": {},
     "output_type": "display_data"
    },
    {
     "name": "stdout",
     "output_type": "stream",
     "text": [
      "\n"
     ]
    },
    {
     "data": {
      "application/vnd.jupyter.widget-view+json": {
       "model_id": "86dbfecf2434438ca091825317d079ff",
       "version_major": 2,
       "version_minor": 0
      },
      "text/plain": [
       "HBox(children=(FloatProgress(value=0.0, description='Downloading', max=501003010.0, style=ProgressStyle(descri…"
      ]
     },
     "metadata": {},
     "output_type": "display_data"
    },
    {
     "name": "stdout",
     "output_type": "stream",
     "text": [
      "\n"
     ]
    },
    {
     "name": "stderr",
     "output_type": "stream",
     "text": [
      "Some weights of the model checkpoint at textattack/roberta-base-SST-2 were not used when initializing RobertaForSequenceClassification: ['roberta.pooler.dense.weight', 'roberta.pooler.dense.bias']\n",
      "- This IS expected if you are initializing RobertaForSequenceClassification from the checkpoint of a model trained on another task or with another architecture (e.g. initializing a BertForSequenceClassification model from a BertForPreTraining model).\n",
      "- This IS NOT expected if you are initializing RobertaForSequenceClassification from the checkpoint of a model that you expect to be exactly identical (initializing a BertForSequenceClassification model from a BertForSequenceClassification model).\n"
     ]
    },
    {
     "name": "stdout",
     "output_type": "stream",
     "text": [
      "MODEL_NAME: textattack/roberta-base-SST-2, dataset: SST2-ORIG, is_soft_label: False\n",
      "{'MODEL_NAME': 'textattack/roberta-base-SST-2', 'dataset': 'SST2-ORIG', 'test_acc': 0.9625999999999998}\n",
      "MODEL_NAME: textattack/roberta-base-SST-2, dataset: SST2-INV, is_soft_label: False\n",
      "{'MODEL_NAME': 'textattack/roberta-base-SST-2', 'dataset': 'SST2-INV', 'test_acc': 0.7603}\n",
      "MODEL_NAME: textattack/roberta-base-SST-2, dataset: SST2-SIB, is_soft_label: True\n",
      "{'MODEL_NAME': 'textattack/roberta-base-SST-2', 'dataset': 'SST2-SIB', 'test_acc': 0.6835538111180094}\n",
      "MODEL_NAME: textattack/roberta-base-SST-2, dataset: SST2-INVSIB, is_soft_label: True\n",
      "{'MODEL_NAME': 'textattack/roberta-base-SST-2', 'dataset': 'SST2-INVSIB', 'test_acc': 0.7172590575584402}\n",
      "MODEL_NAME: textattack/roberta-base-SST-2, dataset: SST2-TextMix, is_soft_label: True\n",
      "{'MODEL_NAME': 'textattack/roberta-base-SST-2', 'dataset': 'SST2-TextMix', 'test_acc': 0.8348000000000002}\n",
      "MODEL_NAME: textattack/roberta-base-SST-2, dataset: SST2-SentMix, is_soft_label: True\n",
      "{'MODEL_NAME': 'textattack/roberta-base-SST-2', 'dataset': 'SST2-SentMix', 'test_acc': 0.8379000000000005}\n",
      "MODEL_NAME: textattack/roberta-base-SST-2, dataset: SST2-WordMix, is_soft_label: True\n",
      "{'MODEL_NAME': 'textattack/roberta-base-SST-2', 'dataset': 'SST2-WordMix', 'test_acc': 0.7451999999999995}\n",
      "MODEL_NAME: textattack/bert-base-uncased-ag-news, dataset: AG_NEWS-ORIG, is_soft_label: False\n",
      "{'MODEL_NAME': 'textattack/bert-base-uncased-ag-news', 'dataset': 'AG_NEWS-ORIG', 'test_acc': 0.9966999999999999}\n",
      "MODEL_NAME: textattack/bert-base-uncased-ag-news, dataset: AG_NEWS-INV, is_soft_label: False\n",
      "{'MODEL_NAME': 'textattack/bert-base-uncased-ag-news', 'dataset': 'AG_NEWS-INV', 'test_acc': 0.8707000000000003}\n",
      "MODEL_NAME: textattack/bert-base-uncased-ag-news, dataset: AG_NEWS-SIB, is_soft_label: True\n",
      "{'MODEL_NAME': 'textattack/bert-base-uncased-ag-news', 'dataset': 'AG_NEWS-SIB', 'test_acc': 0.6263205652793788}\n",
      "MODEL_NAME: textattack/bert-base-uncased-ag-news, dataset: AG_NEWS-INVSIB, is_soft_label: True\n",
      "{'MODEL_NAME': 'textattack/bert-base-uncased-ag-news', 'dataset': 'AG_NEWS-INVSIB', 'test_acc': 0.7476135029318455}\n",
      "MODEL_NAME: textattack/bert-base-uncased-ag-news, dataset: AG_NEWS-TextMix, is_soft_label: True\n",
      "{'MODEL_NAME': 'textattack/bert-base-uncased-ag-news', 'dataset': 'AG_NEWS-TextMix', 'test_acc': 0.6350003955604787}\n",
      "MODEL_NAME: textattack/bert-base-uncased-ag-news, dataset: AG_NEWS-SentMix, is_soft_label: True\n",
      "{'MODEL_NAME': 'textattack/bert-base-uncased-ag-news', 'dataset': 'AG_NEWS-SentMix', 'test_acc': 0.4823382956552988}\n",
      "MODEL_NAME: textattack/bert-base-uncased-ag-news, dataset: AG_NEWS-WordMix, is_soft_label: True\n",
      "{'MODEL_NAME': 'textattack/bert-base-uncased-ag-news', 'dataset': 'AG_NEWS-WordMix', 'test_acc': 0.6024598559873575}\n"
     ]
    },
    {
     "data": {
      "application/vnd.jupyter.widget-view+json": {
       "model_id": "fc3c2cc3e37e4d6a96fa2921ea2c7de4",
       "version_major": 2,
       "version_minor": 0
      },
      "text/plain": [
       "HBox(children=(FloatProgress(value=0.0, description='Downloading', max=754.0, style=ProgressStyle(description_…"
      ]
     },
     "metadata": {},
     "output_type": "display_data"
    },
    {
     "name": "stdout",
     "output_type": "stream",
     "text": [
      "\n"
     ]
    },
    {
     "data": {
      "application/vnd.jupyter.widget-view+json": {
       "model_id": "a9e4299cb545473caf22565af81da05d",
       "version_major": 2,
       "version_minor": 0
      },
      "text/plain": [
       "HBox(children=(FloatProgress(value=0.0, description='Downloading', max=798293.0, style=ProgressStyle(descripti…"
      ]
     },
     "metadata": {},
     "output_type": "display_data"
    },
    {
     "name": "stdout",
     "output_type": "stream",
     "text": [
      "\n"
     ]
    },
    {
     "data": {
      "application/vnd.jupyter.widget-view+json": {
       "model_id": "f5fd90a8e92c49dbb14bfd584dd77de5",
       "version_major": 2,
       "version_minor": 0
      },
      "text/plain": [
       "HBox(children=(FloatProgress(value=0.0, description='Downloading', max=456356.0, style=ProgressStyle(descripti…"
      ]
     },
     "metadata": {},
     "output_type": "display_data"
    },
    {
     "name": "stdout",
     "output_type": "stream",
     "text": [
      "\n"
     ]
    },
    {
     "data": {
      "application/vnd.jupyter.widget-view+json": {
       "model_id": "01ad8c4ec4734319b4168ccc56d7ca8f",
       "version_major": 2,
       "version_minor": 0
      },
      "text/plain": [
       "HBox(children=(FloatProgress(value=0.0, description='Downloading', max=239.0, style=ProgressStyle(description_…"
      ]
     },
     "metadata": {},
     "output_type": "display_data"
    },
    {
     "name": "stdout",
     "output_type": "stream",
     "text": [
      "\n"
     ]
    },
    {
     "data": {
      "application/vnd.jupyter.widget-view+json": {
       "model_id": "d32d7694d7b44915a7bc256c8322585a",
       "version_major": 2,
       "version_minor": 0
      },
      "text/plain": [
       "HBox(children=(FloatProgress(value=0.0, description='Downloading', max=25.0, style=ProgressStyle(description_w…"
      ]
     },
     "metadata": {},
     "output_type": "display_data"
    },
    {
     "name": "stdout",
     "output_type": "stream",
     "text": [
      "\n"
     ]
    },
    {
     "data": {
      "application/vnd.jupyter.widget-view+json": {
       "model_id": "17cef22e646c4c6fbdfb5bee2fe1f30b",
       "version_major": 2,
       "version_minor": 0
      },
      "text/plain": [
       "HBox(children=(FloatProgress(value=0.0, description='Downloading', max=501009162.0, style=ProgressStyle(descri…"
      ]
     },
     "metadata": {},
     "output_type": "display_data"
    },
    {
     "name": "stdout",
     "output_type": "stream",
     "text": [
      "\n"
     ]
    },
    {
     "name": "stderr",
     "output_type": "stream",
     "text": [
      "Some weights of the model checkpoint at textattack/roberta-base-ag-news were not used when initializing RobertaForSequenceClassification: ['roberta.pooler.dense.weight', 'roberta.pooler.dense.bias']\n",
      "- This IS expected if you are initializing RobertaForSequenceClassification from the checkpoint of a model trained on another task or with another architecture (e.g. initializing a BertForSequenceClassification model from a BertForPreTraining model).\n",
      "- This IS NOT expected if you are initializing RobertaForSequenceClassification from the checkpoint of a model that you expect to be exactly identical (initializing a BertForSequenceClassification model from a BertForSequenceClassification model).\n"
     ]
    },
    {
     "name": "stdout",
     "output_type": "stream",
     "text": [
      "MODEL_NAME: textattack/roberta-base-ag-news, dataset: AG_NEWS-ORIG, is_soft_label: False\n",
      "{'MODEL_NAME': 'textattack/roberta-base-ag-news', 'dataset': 'AG_NEWS-ORIG', 'test_acc': 0.985799999999999}\n",
      "MODEL_NAME: textattack/roberta-base-ag-news, dataset: AG_NEWS-INV, is_soft_label: False\n",
      "{'MODEL_NAME': 'textattack/roberta-base-ag-news', 'dataset': 'AG_NEWS-INV', 'test_acc': 0.8363999999999998}\n",
      "MODEL_NAME: textattack/roberta-base-ag-news, dataset: AG_NEWS-SIB, is_soft_label: True\n",
      "{'MODEL_NAME': 'textattack/roberta-base-ag-news', 'dataset': 'AG_NEWS-SIB', 'test_acc': 0.6100767345357251}\n",
      "MODEL_NAME: textattack/roberta-base-ag-news, dataset: AG_NEWS-INVSIB, is_soft_label: True\n",
      "{'MODEL_NAME': 'textattack/roberta-base-ag-news', 'dataset': 'AG_NEWS-INVSIB', 'test_acc': 0.6975635848964127}\n",
      "MODEL_NAME: textattack/roberta-base-ag-news, dataset: AG_NEWS-TextMix, is_soft_label: True\n",
      "{'MODEL_NAME': 'textattack/roberta-base-ag-news', 'dataset': 'AG_NEWS-TextMix', 'test_acc': 0.6133232601808546}\n",
      "MODEL_NAME: textattack/roberta-base-ag-news, dataset: AG_NEWS-SentMix, is_soft_label: True\n",
      "{'MODEL_NAME': 'textattack/roberta-base-ag-news', 'dataset': 'AG_NEWS-SentMix', 'test_acc': 0.47063869278065484}\n",
      "MODEL_NAME: textattack/roberta-base-ag-news, dataset: AG_NEWS-WordMix, is_soft_label: True\n",
      "{'MODEL_NAME': 'textattack/roberta-base-ag-news', 'dataset': 'AG_NEWS-WordMix', 'test_acc': 0.5504593993039856}\n"
     ]
    }
   ],
   "source": [
    "num_suites = 100\n",
    "num_tests = 100\n",
    "\n",
    "datasets = [('AG_NEWS', 'ag-news'), ('SST2', 'SST-2')]\n",
    "tranforms = ['ORIG', 'INV', 'SIB', 'INVSIB', 'TextMix', 'SentMix', 'WordMix']\n",
    "MODEL_NAMES = [\n",
    "    \"textattack/bert-base-uncased-SST-2\",\n",
    "    \"textattack/roberta-base-SST-2\",\n",
    "    \"textattack/bert-base-uncased-ag-news\",\n",
    "    \"textattack/roberta-base-ag-news\",\n",
    "]\n",
    "\n",
    "results = []\n",
    "for MODEL_NAME in MODEL_NAMES:\n",
    "    \n",
    "    tokenizer = AutoTokenizer.from_pretrained(MODEL_NAME)\n",
    "    model = AutoModelForSequenceClassification.from_pretrained(MODEL_NAME).to(device)\n",
    "\n",
    "    mw = CustomModelWrapper(model, tokenizer)\n",
    "    \n",
    "    for d, d_ in datasets:\n",
    "        \n",
    "        if d_ not in MODEL_NAME:\n",
    "            continue\n",
    "        \n",
    "        for t in tranforms:\n",
    "            \n",
    "            text = npy_load(\"./assets/\" + d + \"/\" + t + \"/text.npy\")\n",
    "            label = npy_load(\"./assets/\" + d + \"/\" + t + \"/label.npy\")\n",
    "            is_soft_label = False\n",
    "            if len(label.shape) > 1:\n",
    "                is_soft_label = True\n",
    "                                \n",
    "            # print(\"MODEL_NAME: {}, dataset: {}-{}, is_soft_label: {}\".format(MODEL_NAME, d, t, is_soft_label))\n",
    "            \n",
    "            accs = []\n",
    "            for i in range(num_suites):\n",
    "                \n",
    "                idx = np.random.choice(np.arange(len(text)), num_tests, replace=False)\n",
    "                text_sample = text[idx]\n",
    "                label_sample = label[idx]\n",
    "                               \n",
    "                logits = mw([str(x) for x in text_sample])\n",
    "                y_true = torch.tensor(label_sample)\n",
    "                \n",
    "                if is_soft_label:\n",
    "                    acc = get_acc_at_k(y_true, logits, k=2)\n",
    "                else:\n",
    "                    soft_m = torch.softmax(logits, dim=1)\n",
    "                    y_pred = torch.argmax(soft_m, dim=1)\n",
    "                    acc = get_acc(y_true, y_pred)\n",
    "                    \n",
    "                accs.append(acc)\n",
    "                \n",
    "            test_acc = sum(accs) / len(accs)\n",
    "                \n",
    "            out = {\n",
    "                \"MODEL_NAME\": MODEL_NAME,\n",
    "                \"dataset\": d + \"-\" + t,\n",
    "                \"test_acc\": test_acc\n",
    "            }\n",
    "            \n",
    "            print(out)\n",
    "            results.append(out)\n",
    "            \n",
    "df = pd.DataFrame(results)"
   ]
  },
  {
   "cell_type": "code",
   "execution_count": 6,
   "metadata": {},
   "outputs": [
    {
     "data": {
      "text/html": [
       "<div>\n",
       "<style scoped>\n",
       "    .dataframe tbody tr th:only-of-type {\n",
       "        vertical-align: middle;\n",
       "    }\n",
       "\n",
       "    .dataframe tbody tr th {\n",
       "        vertical-align: top;\n",
       "    }\n",
       "\n",
       "    .dataframe thead th {\n",
       "        text-align: right;\n",
       "    }\n",
       "</style>\n",
       "<table border=\"1\" class=\"dataframe\">\n",
       "  <thead>\n",
       "    <tr style=\"text-align: right;\">\n",
       "      <th></th>\n",
       "      <th>MODEL_NAME</th>\n",
       "      <th>dataset</th>\n",
       "      <th>test_acc</th>\n",
       "    </tr>\n",
       "  </thead>\n",
       "  <tbody>\n",
       "    <tr>\n",
       "      <th>0</th>\n",
       "      <td>textattack/bert-base-uncased-SST-2</td>\n",
       "      <td>SST2-ORIG</td>\n",
       "      <td>0.987200</td>\n",
       "    </tr>\n",
       "    <tr>\n",
       "      <th>1</th>\n",
       "      <td>textattack/bert-base-uncased-SST-2</td>\n",
       "      <td>SST2-INV</td>\n",
       "      <td>0.744300</td>\n",
       "    </tr>\n",
       "    <tr>\n",
       "      <th>2</th>\n",
       "      <td>textattack/bert-base-uncased-SST-2</td>\n",
       "      <td>SST2-SIB</td>\n",
       "      <td>0.705274</td>\n",
       "    </tr>\n",
       "    <tr>\n",
       "      <th>3</th>\n",
       "      <td>textattack/bert-base-uncased-SST-2</td>\n",
       "      <td>SST2-INVSIB</td>\n",
       "      <td>0.718455</td>\n",
       "    </tr>\n",
       "    <tr>\n",
       "      <th>4</th>\n",
       "      <td>textattack/bert-base-uncased-SST-2</td>\n",
       "      <td>SST2-TextMix</td>\n",
       "      <td>0.823200</td>\n",
       "    </tr>\n",
       "    <tr>\n",
       "      <th>5</th>\n",
       "      <td>textattack/bert-base-uncased-SST-2</td>\n",
       "      <td>SST2-SentMix</td>\n",
       "      <td>0.813400</td>\n",
       "    </tr>\n",
       "    <tr>\n",
       "      <th>6</th>\n",
       "      <td>textattack/bert-base-uncased-SST-2</td>\n",
       "      <td>SST2-WordMix</td>\n",
       "      <td>0.741200</td>\n",
       "    </tr>\n",
       "    <tr>\n",
       "      <th>7</th>\n",
       "      <td>textattack/roberta-base-SST-2</td>\n",
       "      <td>SST2-ORIG</td>\n",
       "      <td>0.962600</td>\n",
       "    </tr>\n",
       "    <tr>\n",
       "      <th>8</th>\n",
       "      <td>textattack/roberta-base-SST-2</td>\n",
       "      <td>SST2-INV</td>\n",
       "      <td>0.760300</td>\n",
       "    </tr>\n",
       "    <tr>\n",
       "      <th>9</th>\n",
       "      <td>textattack/roberta-base-SST-2</td>\n",
       "      <td>SST2-SIB</td>\n",
       "      <td>0.683554</td>\n",
       "    </tr>\n",
       "    <tr>\n",
       "      <th>10</th>\n",
       "      <td>textattack/roberta-base-SST-2</td>\n",
       "      <td>SST2-INVSIB</td>\n",
       "      <td>0.717259</td>\n",
       "    </tr>\n",
       "    <tr>\n",
       "      <th>11</th>\n",
       "      <td>textattack/roberta-base-SST-2</td>\n",
       "      <td>SST2-TextMix</td>\n",
       "      <td>0.834800</td>\n",
       "    </tr>\n",
       "    <tr>\n",
       "      <th>12</th>\n",
       "      <td>textattack/roberta-base-SST-2</td>\n",
       "      <td>SST2-SentMix</td>\n",
       "      <td>0.837900</td>\n",
       "    </tr>\n",
       "    <tr>\n",
       "      <th>13</th>\n",
       "      <td>textattack/roberta-base-SST-2</td>\n",
       "      <td>SST2-WordMix</td>\n",
       "      <td>0.745200</td>\n",
       "    </tr>\n",
       "    <tr>\n",
       "      <th>14</th>\n",
       "      <td>textattack/bert-base-uncased-ag-news</td>\n",
       "      <td>AG_NEWS-ORIG</td>\n",
       "      <td>0.996700</td>\n",
       "    </tr>\n",
       "    <tr>\n",
       "      <th>15</th>\n",
       "      <td>textattack/bert-base-uncased-ag-news</td>\n",
       "      <td>AG_NEWS-INV</td>\n",
       "      <td>0.870700</td>\n",
       "    </tr>\n",
       "    <tr>\n",
       "      <th>16</th>\n",
       "      <td>textattack/bert-base-uncased-ag-news</td>\n",
       "      <td>AG_NEWS-SIB</td>\n",
       "      <td>0.626321</td>\n",
       "    </tr>\n",
       "    <tr>\n",
       "      <th>17</th>\n",
       "      <td>textattack/bert-base-uncased-ag-news</td>\n",
       "      <td>AG_NEWS-INVSIB</td>\n",
       "      <td>0.747614</td>\n",
       "    </tr>\n",
       "    <tr>\n",
       "      <th>18</th>\n",
       "      <td>textattack/bert-base-uncased-ag-news</td>\n",
       "      <td>AG_NEWS-TextMix</td>\n",
       "      <td>0.635000</td>\n",
       "    </tr>\n",
       "    <tr>\n",
       "      <th>19</th>\n",
       "      <td>textattack/bert-base-uncased-ag-news</td>\n",
       "      <td>AG_NEWS-SentMix</td>\n",
       "      <td>0.482338</td>\n",
       "    </tr>\n",
       "    <tr>\n",
       "      <th>20</th>\n",
       "      <td>textattack/bert-base-uncased-ag-news</td>\n",
       "      <td>AG_NEWS-WordMix</td>\n",
       "      <td>0.602460</td>\n",
       "    </tr>\n",
       "    <tr>\n",
       "      <th>21</th>\n",
       "      <td>textattack/roberta-base-ag-news</td>\n",
       "      <td>AG_NEWS-ORIG</td>\n",
       "      <td>0.985800</td>\n",
       "    </tr>\n",
       "    <tr>\n",
       "      <th>22</th>\n",
       "      <td>textattack/roberta-base-ag-news</td>\n",
       "      <td>AG_NEWS-INV</td>\n",
       "      <td>0.836400</td>\n",
       "    </tr>\n",
       "    <tr>\n",
       "      <th>23</th>\n",
       "      <td>textattack/roberta-base-ag-news</td>\n",
       "      <td>AG_NEWS-SIB</td>\n",
       "      <td>0.610077</td>\n",
       "    </tr>\n",
       "    <tr>\n",
       "      <th>24</th>\n",
       "      <td>textattack/roberta-base-ag-news</td>\n",
       "      <td>AG_NEWS-INVSIB</td>\n",
       "      <td>0.697564</td>\n",
       "    </tr>\n",
       "    <tr>\n",
       "      <th>25</th>\n",
       "      <td>textattack/roberta-base-ag-news</td>\n",
       "      <td>AG_NEWS-TextMix</td>\n",
       "      <td>0.613323</td>\n",
       "    </tr>\n",
       "    <tr>\n",
       "      <th>26</th>\n",
       "      <td>textattack/roberta-base-ag-news</td>\n",
       "      <td>AG_NEWS-SentMix</td>\n",
       "      <td>0.470639</td>\n",
       "    </tr>\n",
       "    <tr>\n",
       "      <th>27</th>\n",
       "      <td>textattack/roberta-base-ag-news</td>\n",
       "      <td>AG_NEWS-WordMix</td>\n",
       "      <td>0.550459</td>\n",
       "    </tr>\n",
       "  </tbody>\n",
       "</table>\n",
       "</div>"
      ],
      "text/plain": [
       "                              MODEL_NAME          dataset  test_acc\n",
       "0     textattack/bert-base-uncased-SST-2        SST2-ORIG  0.987200\n",
       "1     textattack/bert-base-uncased-SST-2         SST2-INV  0.744300\n",
       "2     textattack/bert-base-uncased-SST-2         SST2-SIB  0.705274\n",
       "3     textattack/bert-base-uncased-SST-2      SST2-INVSIB  0.718455\n",
       "4     textattack/bert-base-uncased-SST-2     SST2-TextMix  0.823200\n",
       "5     textattack/bert-base-uncased-SST-2     SST2-SentMix  0.813400\n",
       "6     textattack/bert-base-uncased-SST-2     SST2-WordMix  0.741200\n",
       "7          textattack/roberta-base-SST-2        SST2-ORIG  0.962600\n",
       "8          textattack/roberta-base-SST-2         SST2-INV  0.760300\n",
       "9          textattack/roberta-base-SST-2         SST2-SIB  0.683554\n",
       "10         textattack/roberta-base-SST-2      SST2-INVSIB  0.717259\n",
       "11         textattack/roberta-base-SST-2     SST2-TextMix  0.834800\n",
       "12         textattack/roberta-base-SST-2     SST2-SentMix  0.837900\n",
       "13         textattack/roberta-base-SST-2     SST2-WordMix  0.745200\n",
       "14  textattack/bert-base-uncased-ag-news     AG_NEWS-ORIG  0.996700\n",
       "15  textattack/bert-base-uncased-ag-news      AG_NEWS-INV  0.870700\n",
       "16  textattack/bert-base-uncased-ag-news      AG_NEWS-SIB  0.626321\n",
       "17  textattack/bert-base-uncased-ag-news   AG_NEWS-INVSIB  0.747614\n",
       "18  textattack/bert-base-uncased-ag-news  AG_NEWS-TextMix  0.635000\n",
       "19  textattack/bert-base-uncased-ag-news  AG_NEWS-SentMix  0.482338\n",
       "20  textattack/bert-base-uncased-ag-news  AG_NEWS-WordMix  0.602460\n",
       "21       textattack/roberta-base-ag-news     AG_NEWS-ORIG  0.985800\n",
       "22       textattack/roberta-base-ag-news      AG_NEWS-INV  0.836400\n",
       "23       textattack/roberta-base-ag-news      AG_NEWS-SIB  0.610077\n",
       "24       textattack/roberta-base-ag-news   AG_NEWS-INVSIB  0.697564\n",
       "25       textattack/roberta-base-ag-news  AG_NEWS-TextMix  0.613323\n",
       "26       textattack/roberta-base-ag-news  AG_NEWS-SentMix  0.470639\n",
       "27       textattack/roberta-base-ag-news  AG_NEWS-WordMix  0.550459"
      ]
     },
     "execution_count": 6,
     "metadata": {},
     "output_type": "execute_result"
    }
   ],
   "source": [
    "df"
   ]
  },
  {
   "cell_type": "code",
   "execution_count": 7,
   "metadata": {},
   "outputs": [],
   "source": [
    "df.to_csv('test_models_results.csv')"
   ]
  },
  {
   "cell_type": "code",
   "execution_count": null,
   "metadata": {},
   "outputs": [],
   "source": [
    "for m in ['BERT', 'RoBERTa']:\n",
    "\n",
    "    for d in ['SST2', 'AG_NEWS']: \n",
    "\n",
    "        df = pd.read_csv('test_models_results.csv')\n",
    "\n",
    "        df['trans'] = df['dataset'].str.split(\"-\").map(lambda x: x[-1])\n",
    "        df['dataset'] = df['dataset'].str.split(\"-\").map(lambda x: x[0])\n",
    "\n",
    "        ds = (df['dataset']==d)\n",
    "        ms = (df['MODEL_NAME'].str.contains(m.lower()+'-'))\n",
    "\n",
    "        df = df[ds & ms]\n",
    "\n",
    "        ORIG_acc = df[(df['trans']=='ORIG')]['test_acc'].iloc[0]\n",
    "        print(ORIG_acc)\n",
    "        df['improv'] = df['test_acc'] - ORIG_acc\n",
    "\n",
    "        g = sns.barplot(data=df[df.dataset.str.contains(d)], x='trans', y='test_acc', palette='Spectral')\n",
    "        g.set_xlabel('Transformation Pipeline $TP$')\n",
    "        g.set_ylabel('Accuracy')\n",
    "        g.set_ylim((0.3, 1.05))\n",
    "        g.set_title('Test Accuracy for ' +  d + ' | ' + m)\n",
    "        values = df.improv.tolist()\n",
    "        values[0] = \"\"\n",
    "        show_values_on_bars(g, values)\n",
    "        g.figure.savefig('imgs/test_acc_' + d)\n",
    "        plt.show()"
   ]
  },
  {
   "cell_type": "code",
   "execution_count": 1,
   "metadata": {},
   "outputs": [],
   "source": [
    "import seaborn as sns"
   ]
  },
  {
   "cell_type": "code",
   "execution_count": 2,
   "metadata": {},
   "outputs": [],
   "source": [
    "sns.set_context(\"paper\")"
   ]
  },
  {
   "cell_type": "code",
   "execution_count": 55,
   "metadata": {},
   "outputs": [
    {
     "data": {
      "text/html": [
       "<div>\n",
       "<style scoped>\n",
       "    .dataframe tbody tr th:only-of-type {\n",
       "        vertical-align: middle;\n",
       "    }\n",
       "\n",
       "    .dataframe tbody tr th {\n",
       "        vertical-align: top;\n",
       "    }\n",
       "\n",
       "    .dataframe thead th {\n",
       "        text-align: right;\n",
       "    }\n",
       "</style>\n",
       "<table border=\"1\" class=\"dataframe\">\n",
       "  <thead>\n",
       "    <tr style=\"text-align: right;\">\n",
       "      <th></th>\n",
       "      <th>Unnamed: 0</th>\n",
       "      <th>MODEL_NAME</th>\n",
       "      <th>dataset</th>\n",
       "      <th>tran</th>\n",
       "      <th>test_acc</th>\n",
       "      <th>tester_type</th>\n",
       "      <th>Unnamed: 6</th>\n",
       "      <th>Unnamed: 7</th>\n",
       "      <th>Unnamed: 8</th>\n",
       "      <th>Unnamed: 9</th>\n",
       "      <th>improv</th>\n",
       "    </tr>\n",
       "  </thead>\n",
       "  <tbody>\n",
       "    <tr>\n",
       "      <th>14</th>\n",
       "      <td>14</td>\n",
       "      <td>textattack/bert-base-uncased-ag-news</td>\n",
       "      <td>AG_NEWS</td>\n",
       "      <td>ORIG</td>\n",
       "      <td>1.00</td>\n",
       "      <td>model</td>\n",
       "      <td>NaN</td>\n",
       "      <td>NaN</td>\n",
       "      <td>NaN</td>\n",
       "      <td>NaN</td>\n",
       "      <td>0.0</td>\n",
       "    </tr>\n",
       "    <tr>\n",
       "      <th>15</th>\n",
       "      <td>15</td>\n",
       "      <td>textattack/bert-base-uncased-ag-news</td>\n",
       "      <td>AG_NEWS</td>\n",
       "      <td>INV</td>\n",
       "      <td>0.87</td>\n",
       "      <td>model</td>\n",
       "      <td>NaN</td>\n",
       "      <td>NaN</td>\n",
       "      <td>NaN</td>\n",
       "      <td>NaN</td>\n",
       "      <td>-13.0</td>\n",
       "    </tr>\n",
       "    <tr>\n",
       "      <th>16</th>\n",
       "      <td>16</td>\n",
       "      <td>textattack/bert-base-uncased-ag-news</td>\n",
       "      <td>AG_NEWS</td>\n",
       "      <td>SIB</td>\n",
       "      <td>0.63</td>\n",
       "      <td>model</td>\n",
       "      <td>NaN</td>\n",
       "      <td>NaN</td>\n",
       "      <td>NaN</td>\n",
       "      <td>NaN</td>\n",
       "      <td>-37.0</td>\n",
       "    </tr>\n",
       "    <tr>\n",
       "      <th>17</th>\n",
       "      <td>17</td>\n",
       "      <td>textattack/bert-base-uncased-ag-news</td>\n",
       "      <td>AG_NEWS</td>\n",
       "      <td>INVSIB</td>\n",
       "      <td>0.75</td>\n",
       "      <td>model</td>\n",
       "      <td>NaN</td>\n",
       "      <td>NaN</td>\n",
       "      <td>NaN</td>\n",
       "      <td>NaN</td>\n",
       "      <td>-25.0</td>\n",
       "    </tr>\n",
       "    <tr>\n",
       "      <th>18</th>\n",
       "      <td>18</td>\n",
       "      <td>textattack/bert-base-uncased-ag-news</td>\n",
       "      <td>AG_NEWS</td>\n",
       "      <td>TextMix</td>\n",
       "      <td>0.64</td>\n",
       "      <td>model</td>\n",
       "      <td>NaN</td>\n",
       "      <td>NaN</td>\n",
       "      <td>NaN</td>\n",
       "      <td>NaN</td>\n",
       "      <td>-36.0</td>\n",
       "    </tr>\n",
       "    <tr>\n",
       "      <th>19</th>\n",
       "      <td>19</td>\n",
       "      <td>textattack/bert-base-uncased-ag-news</td>\n",
       "      <td>AG_NEWS</td>\n",
       "      <td>SentMix</td>\n",
       "      <td>0.48</td>\n",
       "      <td>model</td>\n",
       "      <td>NaN</td>\n",
       "      <td>NaN</td>\n",
       "      <td>NaN</td>\n",
       "      <td>NaN</td>\n",
       "      <td>-52.0</td>\n",
       "    </tr>\n",
       "    <tr>\n",
       "      <th>20</th>\n",
       "      <td>20</td>\n",
       "      <td>textattack/bert-base-uncased-ag-news</td>\n",
       "      <td>AG_NEWS</td>\n",
       "      <td>WordMix</td>\n",
       "      <td>0.60</td>\n",
       "      <td>model</td>\n",
       "      <td>NaN</td>\n",
       "      <td>NaN</td>\n",
       "      <td>NaN</td>\n",
       "      <td>NaN</td>\n",
       "      <td>-40.0</td>\n",
       "    </tr>\n",
       "    <tr>\n",
       "      <th>21</th>\n",
       "      <td>21</td>\n",
       "      <td>textattack/roberta-base-ag-news</td>\n",
       "      <td>AG_NEWS</td>\n",
       "      <td>ORIG</td>\n",
       "      <td>0.99</td>\n",
       "      <td>model</td>\n",
       "      <td>NaN</td>\n",
       "      <td>NaN</td>\n",
       "      <td>NaN</td>\n",
       "      <td>NaN</td>\n",
       "      <td>-1.0</td>\n",
       "    </tr>\n",
       "    <tr>\n",
       "      <th>22</th>\n",
       "      <td>22</td>\n",
       "      <td>textattack/roberta-base-ag-news</td>\n",
       "      <td>AG_NEWS</td>\n",
       "      <td>INV</td>\n",
       "      <td>0.84</td>\n",
       "      <td>model</td>\n",
       "      <td>NaN</td>\n",
       "      <td>NaN</td>\n",
       "      <td>NaN</td>\n",
       "      <td>NaN</td>\n",
       "      <td>-16.0</td>\n",
       "    </tr>\n",
       "    <tr>\n",
       "      <th>23</th>\n",
       "      <td>23</td>\n",
       "      <td>textattack/roberta-base-ag-news</td>\n",
       "      <td>AG_NEWS</td>\n",
       "      <td>SIB</td>\n",
       "      <td>0.61</td>\n",
       "      <td>model</td>\n",
       "      <td>NaN</td>\n",
       "      <td>NaN</td>\n",
       "      <td>NaN</td>\n",
       "      <td>NaN</td>\n",
       "      <td>-39.0</td>\n",
       "    </tr>\n",
       "    <tr>\n",
       "      <th>24</th>\n",
       "      <td>24</td>\n",
       "      <td>textattack/roberta-base-ag-news</td>\n",
       "      <td>AG_NEWS</td>\n",
       "      <td>INVSIB</td>\n",
       "      <td>0.70</td>\n",
       "      <td>model</td>\n",
       "      <td>NaN</td>\n",
       "      <td>NaN</td>\n",
       "      <td>NaN</td>\n",
       "      <td>NaN</td>\n",
       "      <td>-30.0</td>\n",
       "    </tr>\n",
       "    <tr>\n",
       "      <th>25</th>\n",
       "      <td>25</td>\n",
       "      <td>textattack/roberta-base-ag-news</td>\n",
       "      <td>AG_NEWS</td>\n",
       "      <td>TextMix</td>\n",
       "      <td>0.61</td>\n",
       "      <td>model</td>\n",
       "      <td>NaN</td>\n",
       "      <td>NaN</td>\n",
       "      <td>NaN</td>\n",
       "      <td>NaN</td>\n",
       "      <td>-39.0</td>\n",
       "    </tr>\n",
       "    <tr>\n",
       "      <th>26</th>\n",
       "      <td>26</td>\n",
       "      <td>textattack/roberta-base-ag-news</td>\n",
       "      <td>AG_NEWS</td>\n",
       "      <td>SentMix</td>\n",
       "      <td>0.47</td>\n",
       "      <td>model</td>\n",
       "      <td>NaN</td>\n",
       "      <td>NaN</td>\n",
       "      <td>NaN</td>\n",
       "      <td>NaN</td>\n",
       "      <td>-53.0</td>\n",
       "    </tr>\n",
       "    <tr>\n",
       "      <th>27</th>\n",
       "      <td>27</td>\n",
       "      <td>textattack/roberta-base-ag-news</td>\n",
       "      <td>AG_NEWS</td>\n",
       "      <td>WordMix</td>\n",
       "      <td>0.55</td>\n",
       "      <td>model</td>\n",
       "      <td>NaN</td>\n",
       "      <td>NaN</td>\n",
       "      <td>NaN</td>\n",
       "      <td>NaN</td>\n",
       "      <td>-45.0</td>\n",
       "    </tr>\n",
       "    <tr>\n",
       "      <th>35</th>\n",
       "      <td>35</td>\n",
       "      <td>Mturk</td>\n",
       "      <td>AG_NEWS</td>\n",
       "      <td>ORIG</td>\n",
       "      <td>1.00</td>\n",
       "      <td>human</td>\n",
       "      <td>NaN</td>\n",
       "      <td>NaN</td>\n",
       "      <td>NaN</td>\n",
       "      <td>NaN</td>\n",
       "      <td>0.0</td>\n",
       "    </tr>\n",
       "    <tr>\n",
       "      <th>36</th>\n",
       "      <td>36</td>\n",
       "      <td>Mturk</td>\n",
       "      <td>AG_NEWS</td>\n",
       "      <td>INV</td>\n",
       "      <td>0.93</td>\n",
       "      <td>human</td>\n",
       "      <td>NaN</td>\n",
       "      <td>NaN</td>\n",
       "      <td>NaN</td>\n",
       "      <td>NaN</td>\n",
       "      <td>-7.0</td>\n",
       "    </tr>\n",
       "    <tr>\n",
       "      <th>37</th>\n",
       "      <td>37</td>\n",
       "      <td>Mturk</td>\n",
       "      <td>AG_NEWS</td>\n",
       "      <td>SIB</td>\n",
       "      <td>0.65</td>\n",
       "      <td>human</td>\n",
       "      <td>NaN</td>\n",
       "      <td>NaN</td>\n",
       "      <td>NaN</td>\n",
       "      <td>NaN</td>\n",
       "      <td>-35.0</td>\n",
       "    </tr>\n",
       "    <tr>\n",
       "      <th>38</th>\n",
       "      <td>38</td>\n",
       "      <td>Mturk</td>\n",
       "      <td>AG_NEWS</td>\n",
       "      <td>INVSIB</td>\n",
       "      <td>0.78</td>\n",
       "      <td>human</td>\n",
       "      <td>NaN</td>\n",
       "      <td>NaN</td>\n",
       "      <td>NaN</td>\n",
       "      <td>NaN</td>\n",
       "      <td>-22.0</td>\n",
       "    </tr>\n",
       "    <tr>\n",
       "      <th>39</th>\n",
       "      <td>39</td>\n",
       "      <td>Mturk</td>\n",
       "      <td>AG_NEWS</td>\n",
       "      <td>TextMix</td>\n",
       "      <td>0.86</td>\n",
       "      <td>human</td>\n",
       "      <td>NaN</td>\n",
       "      <td>NaN</td>\n",
       "      <td>NaN</td>\n",
       "      <td>NaN</td>\n",
       "      <td>-14.0</td>\n",
       "    </tr>\n",
       "    <tr>\n",
       "      <th>40</th>\n",
       "      <td>40</td>\n",
       "      <td>Mturk</td>\n",
       "      <td>AG_NEWS</td>\n",
       "      <td>SentMix</td>\n",
       "      <td>0.88</td>\n",
       "      <td>human</td>\n",
       "      <td>NaN</td>\n",
       "      <td>NaN</td>\n",
       "      <td>NaN</td>\n",
       "      <td>NaN</td>\n",
       "      <td>-12.0</td>\n",
       "    </tr>\n",
       "    <tr>\n",
       "      <th>41</th>\n",
       "      <td>41</td>\n",
       "      <td>Mturk</td>\n",
       "      <td>AG_NEWS</td>\n",
       "      <td>WordMix</td>\n",
       "      <td>0.82</td>\n",
       "      <td>human</td>\n",
       "      <td>NaN</td>\n",
       "      <td>NaN</td>\n",
       "      <td>NaN</td>\n",
       "      <td>NaN</td>\n",
       "      <td>-18.0</td>\n",
       "    </tr>\n",
       "  </tbody>\n",
       "</table>\n",
       "</div>"
      ],
      "text/plain": [
       "    Unnamed: 0                            MODEL_NAME  dataset     tran  \\\n",
       "14          14  textattack/bert-base-uncased-ag-news  AG_NEWS     ORIG   \n",
       "15          15  textattack/bert-base-uncased-ag-news  AG_NEWS      INV   \n",
       "16          16  textattack/bert-base-uncased-ag-news  AG_NEWS      SIB   \n",
       "17          17  textattack/bert-base-uncased-ag-news  AG_NEWS   INVSIB   \n",
       "18          18  textattack/bert-base-uncased-ag-news  AG_NEWS  TextMix   \n",
       "19          19  textattack/bert-base-uncased-ag-news  AG_NEWS  SentMix   \n",
       "20          20  textattack/bert-base-uncased-ag-news  AG_NEWS  WordMix   \n",
       "21          21       textattack/roberta-base-ag-news  AG_NEWS     ORIG   \n",
       "22          22       textattack/roberta-base-ag-news  AG_NEWS      INV   \n",
       "23          23       textattack/roberta-base-ag-news  AG_NEWS      SIB   \n",
       "24          24       textattack/roberta-base-ag-news  AG_NEWS   INVSIB   \n",
       "25          25       textattack/roberta-base-ag-news  AG_NEWS  TextMix   \n",
       "26          26       textattack/roberta-base-ag-news  AG_NEWS  SentMix   \n",
       "27          27       textattack/roberta-base-ag-news  AG_NEWS  WordMix   \n",
       "35          35                                 Mturk  AG_NEWS     ORIG   \n",
       "36          36                                 Mturk  AG_NEWS      INV   \n",
       "37          37                                 Mturk  AG_NEWS      SIB   \n",
       "38          38                                 Mturk  AG_NEWS   INVSIB   \n",
       "39          39                                 Mturk  AG_NEWS  TextMix   \n",
       "40          40                                 Mturk  AG_NEWS  SentMix   \n",
       "41          41                                 Mturk  AG_NEWS  WordMix   \n",
       "\n",
       "    test_acc tester_type  Unnamed: 6  Unnamed: 7  Unnamed: 8  Unnamed: 9  \\\n",
       "14      1.00       model         NaN         NaN         NaN         NaN   \n",
       "15      0.87       model         NaN         NaN         NaN         NaN   \n",
       "16      0.63       model         NaN         NaN         NaN         NaN   \n",
       "17      0.75       model         NaN         NaN         NaN         NaN   \n",
       "18      0.64       model         NaN         NaN         NaN         NaN   \n",
       "19      0.48       model         NaN         NaN         NaN         NaN   \n",
       "20      0.60       model         NaN         NaN         NaN         NaN   \n",
       "21      0.99       model         NaN         NaN         NaN         NaN   \n",
       "22      0.84       model         NaN         NaN         NaN         NaN   \n",
       "23      0.61       model         NaN         NaN         NaN         NaN   \n",
       "24      0.70       model         NaN         NaN         NaN         NaN   \n",
       "25      0.61       model         NaN         NaN         NaN         NaN   \n",
       "26      0.47       model         NaN         NaN         NaN         NaN   \n",
       "27      0.55       model         NaN         NaN         NaN         NaN   \n",
       "35      1.00       human         NaN         NaN         NaN         NaN   \n",
       "36      0.93       human         NaN         NaN         NaN         NaN   \n",
       "37      0.65       human         NaN         NaN         NaN         NaN   \n",
       "38      0.78       human         NaN         NaN         NaN         NaN   \n",
       "39      0.86       human         NaN         NaN         NaN         NaN   \n",
       "40      0.88       human         NaN         NaN         NaN         NaN   \n",
       "41      0.82       human         NaN         NaN         NaN         NaN   \n",
       "\n",
       "    improv  \n",
       "14     0.0  \n",
       "15   -13.0  \n",
       "16   -37.0  \n",
       "17   -25.0  \n",
       "18   -36.0  \n",
       "19   -52.0  \n",
       "20   -40.0  \n",
       "21    -1.0  \n",
       "22   -16.0  \n",
       "23   -39.0  \n",
       "24   -30.0  \n",
       "25   -39.0  \n",
       "26   -53.0  \n",
       "27   -45.0  \n",
       "35     0.0  \n",
       "36    -7.0  \n",
       "37   -35.0  \n",
       "38   -22.0  \n",
       "39   -14.0  \n",
       "40   -12.0  \n",
       "41   -18.0  "
      ]
     },
     "execution_count": 55,
     "metadata": {},
     "output_type": "execute_result"
    }
   ],
   "source": [
    "df"
   ]
  },
  {
   "cell_type": "code",
   "execution_count": 119,
   "metadata": {},
   "outputs": [
    {
     "data": {
      "image/png": "[encoded data removed]",
      "text/plain": [
       "<Figure size 432x288 with 1 Axes>"
      ]
     },
     "metadata": {},
     "output_type": "display_data"
    },
    {
     "data": {
      "image/png": "[encoded data removed]",
      "text/plain": [
       "<Figure size 432x288 with 1 Axes>"
      ]
     },
     "metadata": {},
     "output_type": "display_data"
    }
   ],
   "source": [
    "for d in ['SST2', 'AG_NEWS']: \n",
    "    \n",
    "    df = pd.read_csv('test_models_results.csv')\n",
    "    \n",
    "    ds = (df['dataset']==d)\n",
    "    \n",
    "    df = df[ds]\n",
    "    \n",
    "    hum_avg = df[(df['tester_type']=='human')]['test_acc'].to_numpy()\n",
    "    df_ = df[(df['tester_type']=='model')].groupby(['tran'], as_index=False).mean()\n",
    "    df_ = df_.merge(df[['id',  'tran']], on='tran').sort_values('id_y')\n",
    "    df_ = df_[['test_acc', 'tran']].drop_duplicates()\n",
    "    mod_avg = df_['test_acc'].to_numpy()\n",
    "    diff = (hum_avg - mod_avg) * 100\n",
    "    \n",
    "    g = sns.barplot(data=df[df.dataset.str.contains(d)], x='tran', y='test_acc', hue='tester_type', palette='Spectral', errwidth=0.5)\n",
    "    g.set_xlabel('Transformation Pipeline $TP$')\n",
    "    g.set_ylabel('Accuracy')\n",
    "    g.set_ylim((0.3, 1.00))\n",
    "    # g.set_xticklabels(g.get_xticklabels(),rotation=45)\n",
    "    g.set_title('Test Accuracy | ' +  d)\n",
    "    g.legend(ncol=2, loc=\"lower right\", frameon=True)\n",
    "    values = diff.tolist()\n",
    "    values = ['{:+.0f}%'.format(v) for v in values]\n",
    "    show_values_on_bars(g, values, 0.02)\n",
    "    g.figure.savefig('imgs/test_acc_' + d + '_vhuman')\n",
    "    plt.show()"
   ]
  },
  {
   "cell_type": "code",
   "execution_count": null,
   "metadata": {},
   "outputs": [],
   "source": []
  },
  {
   "cell_type": "code",
   "execution_count": null,
   "metadata": {},
   "outputs": [],
   "source": []
  },
  {
   "cell_type": "code",
   "execution_count": null,
   "metadata": {},
   "outputs": [],
   "source": []
  },
  {
   "cell_type": "code",
   "execution_count": null,
   "metadata": {},
   "outputs": [],
   "source": []
  }
 ],
 "metadata": {
  "kernelspec": {
   "display_name": "Python 3",
   "language": "python",
   "name": "python3"
  },
  "language_info": {
   "codemirror_mode": {
    "name": "ipython",
    "version": 3
   },
   "file_extension": ".py",
   "mimetype": "text/x-python",
   "name": "python",
   "nbconvert_exporter": "python",
   "pygments_lexer": "ipython3",
   "version": "3.8.5"
  },
  "varInspector": {
   "cols": {
    "lenName": 16,
    "lenType": 16,
    "lenVar": 40
   },
   "kernels_config": {
    "python": {
     "delete_cmd_postfix": "",
     "delete_cmd_prefix": "del ",
     "library": "var_list.py",
     "varRefreshCmd": "print(var_dic_list())"
    },
    "r": {
     "delete_cmd_postfix": ") ",
     "delete_cmd_prefix": "rm(",
     "library": "var_list.r",
     "varRefreshCmd": "cat(var_dic_list()) "
    }
   },
   "types_to_exclude": [
    "module",
    "function",
    "builtin_function_or_method",
    "instance",
    "_Feature"
   ],
   "window_display": false
  }
 },
 "nbformat": 4,
 "nbformat_minor": 4
}
