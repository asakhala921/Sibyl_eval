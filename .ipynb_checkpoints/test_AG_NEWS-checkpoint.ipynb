{
 "cells": [
  {
   "cell_type": "code",
   "execution_count": 1,
   "metadata": {},
   "outputs": [],
   "source": [
    "%reload_ext autoreload\n",
    "%autoreload 2"
   ]
  },
  {
   "cell_type": "code",
   "execution_count": 4,
   "metadata": {},
   "outputs": [],
   "source": [
    "from utils import *\n",
    "\n",
    "from datasets import load_dataset\n",
    "import pandas as pd\n",
    "import random\n",
    "import time\n",
    "import pickle\n",
    "import os\n",
    "from tqdm.notebook import tqdm"
   ]
  },
  {
   "cell_type": "markdown",
   "metadata": {},
   "source": [
    "### Data"
   ]
  },
  {
   "cell_type": "code",
   "execution_count": null,
   "metadata": {},
   "outputs": [],
   "source": [
    "dataset = load_dataset(\"ag_news\").shuffle()"
   ]
  },
  {
   "cell_type": "code",
   "execution_count": 3,
   "metadata": {},
   "outputs": [],
   "source": [
    "## generate 100 test suites with n tests\n",
    "# n = 100\n",
    "# test_suites = {}\n",
    "# for i in range(100):\n",
    "#     j = random.randint(0, len(dataset['train']['text']) - 1 - n)\n",
    "#     X, y = dataset['train']['text'][j:j+n], dataset['train']['label'][j:j+n]\n",
    "#     test_suite = {'data': X, 'target': y}\n",
    "#     test_suites[i] = test_suite  \n",
    "# pkl_save(test_suites, 'assets/AG_NEWS/test_suites.pkl')\n",
    "test_suites = pkl_load('assets/AG_NEWS/test_suites.pkl')"
   ]
  },
  {
   "cell_type": "code",
   "execution_count": 6,
   "metadata": {
    "scrolled": true
   },
   "outputs": [
    {
     "ename": "NameError",
     "evalue": "name 'tqdm' is not defined",
     "output_type": "error",
     "traceback": [
      "\u001b[1;31m---------------------------------------------------------------------------\u001b[0m",
      "\u001b[1;31mNameError\u001b[0m                                 Traceback (most recent call last)",
      "\u001b[1;32m<ipython-input-6-66341e973ee7>\u001b[0m in \u001b[0;36m<module>\u001b[1;34m\u001b[0m\n\u001b[1;32m----> 1\u001b[1;33m \u001b[0mINV_test_suites\u001b[0m \u001b[1;33m=\u001b[0m \u001b[0mapply_transforms\u001b[0m\u001b[1;33m(\u001b[0m\u001b[0mtest_suites\u001b[0m\u001b[1;33m,\u001b[0m \u001b[0mnum_transforms\u001b[0m\u001b[1;33m=\u001b[0m\u001b[1;36m2\u001b[0m\u001b[1;33m,\u001b[0m \u001b[0mtask\u001b[0m\u001b[1;33m=\u001b[0m\u001b[1;34m'topic'\u001b[0m\u001b[1;33m,\u001b[0m \u001b[0mtran\u001b[0m\u001b[1;33m=\u001b[0m\u001b[1;34m'INV'\u001b[0m\u001b[1;33m)\u001b[0m\u001b[1;33m\u001b[0m\u001b[1;33m\u001b[0m\u001b[0m\n\u001b[0m\u001b[0;32m      2\u001b[0m \u001b[0mpkl_save\u001b[0m\u001b[1;33m(\u001b[0m\u001b[0mINV_test_suites\u001b[0m\u001b[1;33m,\u001b[0m \u001b[1;34m'assets/AG_NEWS/INV_test_suites.pkl'\u001b[0m\u001b[1;33m)\u001b[0m\u001b[1;33m\u001b[0m\u001b[1;33m\u001b[0m\u001b[0m\n",
      "\u001b[1;32m~\\Documents\\GitHub\\SIBAttack\\utils.py\u001b[0m in \u001b[0;36mapply_transforms\u001b[1;34m(test_suites, num_transforms, task, tran)\u001b[0m\n\u001b[0;32m    108\u001b[0m \u001b[1;32mdef\u001b[0m \u001b[0mapply_transforms\u001b[0m\u001b[1;33m(\u001b[0m\u001b[0mtest_suites\u001b[0m\u001b[1;33m,\u001b[0m \u001b[0mnum_transforms\u001b[0m\u001b[1;33m=\u001b[0m\u001b[1;36m2\u001b[0m\u001b[1;33m,\u001b[0m \u001b[0mtask\u001b[0m\u001b[1;33m=\u001b[0m\u001b[1;32mNone\u001b[0m\u001b[1;33m,\u001b[0m \u001b[0mtran\u001b[0m\u001b[1;33m=\u001b[0m\u001b[1;32mNone\u001b[0m\u001b[1;33m)\u001b[0m\u001b[1;33m:\u001b[0m\u001b[1;33m\u001b[0m\u001b[1;33m\u001b[0m\u001b[0m\n\u001b[0;32m    109\u001b[0m     \u001b[0mdf\u001b[0m \u001b[1;33m=\u001b[0m \u001b[0minit_transforms\u001b[0m\u001b[1;33m(\u001b[0m\u001b[0mtask\u001b[0m\u001b[1;33m=\u001b[0m\u001b[0mtask\u001b[0m\u001b[1;33m,\u001b[0m \u001b[0mtran\u001b[0m\u001b[1;33m=\u001b[0m\u001b[0mtran\u001b[0m\u001b[1;33m,\u001b[0m \u001b[0mmeta\u001b[0m\u001b[1;33m=\u001b[0m\u001b[1;32mTrue\u001b[0m\u001b[1;33m)\u001b[0m\u001b[1;33m\u001b[0m\u001b[1;33m\u001b[0m\u001b[0m\n\u001b[1;32m--> 110\u001b[1;33m     \u001b[0mnew_test_suites\u001b[0m \u001b[1;33m=\u001b[0m \u001b[1;33m{\u001b[0m\u001b[1;33m}\u001b[0m\u001b[1;33m\u001b[0m\u001b[1;33m\u001b[0m\u001b[0m\n\u001b[0m\u001b[0;32m    111\u001b[0m     \u001b[1;32mfor\u001b[0m \u001b[0mi\u001b[0m\u001b[1;33m,\u001b[0m \u001b[0mtest_suite\u001b[0m \u001b[1;32min\u001b[0m \u001b[0mtqdm\u001b[0m\u001b[1;33m(\u001b[0m\u001b[0mtest_suites\u001b[0m\u001b[1;33m.\u001b[0m\u001b[0mitems\u001b[0m\u001b[1;33m(\u001b[0m\u001b[1;33m)\u001b[0m\u001b[1;33m)\u001b[0m\u001b[1;33m:\u001b[0m\u001b[1;33m\u001b[0m\u001b[1;33m\u001b[0m\u001b[0m\n\u001b[0;32m    112\u001b[0m         \u001b[1;32mif\u001b[0m \u001b[0mtran\u001b[0m\u001b[1;33m==\u001b[0m\u001b[1;34m'SIB-mix'\u001b[0m\u001b[1;33m:\u001b[0m\u001b[1;33m\u001b[0m\u001b[1;33m\u001b[0m\u001b[0m\n",
      "\u001b[1;31mNameError\u001b[0m: name 'tqdm' is not defined"
     ]
    }
   ],
   "source": [
    "INV_test_suites = transform_test_suites(test_suites, num_transforms=2, task='topic', tran='INV')\n",
    "pkl_save(INV_test_suites, 'assets/AG_NEWS/INV_test_suites.pkl')"
   ]
  },
  {
   "cell_type": "code",
   "execution_count": null,
   "metadata": {},
   "outputs": [],
   "source": [
    "SIB_test_suites = transform_test_suites(test_suites, num_transforms=1, task='topic', tran='SIB-mix')\n",
    "pkl_save(SIB_test_suites, 'assets/AG_NEWS/SIB_test_suites.pkl')"
   ]
  },
  {
   "cell_type": "code",
   "execution_count": null,
   "metadata": {},
   "outputs": [],
   "source": [
    "# cannot easily apply since SIB transformations return soft-labels and INV ones return hard-labels\n",
    "# would require some time to think about how to do this (via one-hot-encoding), but then how to measure? loss BCEwithLogits?\n",
    "\n",
    "# both_test_suites = transform_test_suites(test_suites, num_transforms=2, task='sentiment', tran=None)\n",
    "# pkl_save(both_test_suites, 'assets/AG_NEWS/both_test_suites.pkl')"
   ]
  },
  {
   "cell_type": "markdown",
   "metadata": {},
   "source": [
    "# Testing"
   ]
  },
  {
   "cell_type": "code",
   "execution_count": 6,
   "metadata": {},
   "outputs": [],
   "source": [
    "test_suites = pkl_load('assets/AG_NEWS/test_suites.pkl')\n",
    "INV_test_suites = pkl_load('assets/AG_NEWS/INV_test_suites.pkl')\n",
    "SIB_test_suites = pkl_load('assets/AG_NEWS/SIB_test_suites.pkl')\n",
    "# both_test_suites = pkl_load('assets/IMDB/both_test_suites.pkl')"
   ]
  },
  {
   "cell_type": "code",
   "execution_count": 10,
   "metadata": {},
   "outputs": [],
   "source": [
    "def get_acc(y_pred, y_true):\n",
    "    total = y_true.size(0)\n",
    "    correct = (y_pred == y_true).sum().item()\n",
    "    return correct / total\n",
    "\n",
    "def get_topk_acc(logits, y_true, k):\n",
    "    total = y_true.size(0)\n",
    "    y_weights, y_idx = torch.topk(y_true, k=k, dim=1)\n",
    "    out_weights, out_idx = torch.topk(logits, k=k, dim=1)\n",
    "    correct = torch.sum(torch.eq(y_idx, out_idx) * y_weights)\n",
    "    return correct / total"
   ]
  },
  {
   "cell_type": "code",
   "execution_count": 14,
   "metadata": {
    "scrolled": true
   },
   "outputs": [
    {
     "name": "stderr",
     "output_type": "stream",
     "text": [
      "Some weights of the model checkpoint at textattack/roberta-base-ag-news were not used when initializing RobertaForSequenceClassification: ['roberta.pooler.dense.weight', 'roberta.pooler.dense.bias']\n",
      "- This IS expected if you are initializing RobertaForSequenceClassification from the checkpoint of a model trained on another task or with another architecture (e.g. initializing a BertForSequenceClassification model from a BertForPreTraining model).\n",
      "- This IS NOT expected if you are initializing RobertaForSequenceClassification from the checkpoint of a model that you expect to be exactly identical (initializing a BertForSequenceClassification model from a BertForSequenceClassification model).\n"
     ]
    }
   ],
   "source": [
    "import torch\n",
    "from transformers import AutoTokenizer, AutoModelForSequenceClassification\n",
    "\n",
    "# device = torch.device(\"cuda\" if torch.cuda.is_available() else \"cpu\")\n",
    "device = torch.device(\"cpu\")\n",
    "\n",
    "def load_huggingface_model(model_name, device, max_length=500):\n",
    "    tokenizer = AutoTokenizer.from_pretrained(model_name,)\n",
    "    model = AutoModelForSequenceClassification.from_pretrained(model_name).to(device)\n",
    "    def pipeline(sentence):\n",
    "        encode = tokenizer(sentence, \n",
    "                           padding=True, \n",
    "                           truncation=True, \n",
    "                           max_length=max_length, \n",
    "                           return_tensors=\"pt\").to(device)\n",
    "        logits = model(**encode)[0]\n",
    "        soft_m = torch.softmax(logits, dim=1)\n",
    "        return soft_m\n",
    "    return pipeline\n",
    "\n",
    "MODEL_NAME = \"textattack/bert-base-uncased-ag-news\" #\"textattack/distilbert-base-uncased-ag-news\" \n",
    "model = load_huggingface_model(MODEL_NAME, device, 100)"
   ]
  },
  {
   "cell_type": "code",
   "execution_count": 2,
   "metadata": {},
   "outputs": [
    {
     "ename": "NameError",
     "evalue": "name 'test_suites' is not defined",
     "output_type": "error",
     "traceback": [
      "\u001b[1;31m---------------------------------------------------------------------------\u001b[0m",
      "\u001b[1;31mNameError\u001b[0m                                 Traceback (most recent call last)",
      "\u001b[1;32m<ipython-input-2-ca53db8bd097>\u001b[0m in \u001b[0;36m<module>\u001b[1;34m\u001b[0m\n\u001b[0;32m      1\u001b[0m tss = {\n\u001b[1;32m----> 2\u001b[1;33m     \u001b[1;34m'test_suites'\u001b[0m \u001b[1;33m:\u001b[0m \u001b[0mtest_suites\u001b[0m\u001b[1;33m,\u001b[0m\u001b[1;33m\u001b[0m\u001b[1;33m\u001b[0m\u001b[0m\n\u001b[0m\u001b[0;32m      3\u001b[0m     \u001b[1;34m'INV_test_suites'\u001b[0m \u001b[1;33m:\u001b[0m \u001b[0mINV_test_suites\u001b[0m\u001b[1;33m,\u001b[0m\u001b[1;33m\u001b[0m\u001b[1;33m\u001b[0m\u001b[0m\n\u001b[0;32m      4\u001b[0m     \u001b[1;34m'SIB_test_suites'\u001b[0m \u001b[1;33m:\u001b[0m \u001b[0mSIB_test_suites\u001b[0m\u001b[1;33m,\u001b[0m\u001b[1;33m\u001b[0m\u001b[1;33m\u001b[0m\u001b[0m\n\u001b[0;32m      5\u001b[0m     \u001b[1;31m# 'both_test_suites' : both_test_suites\u001b[0m\u001b[1;33m\u001b[0m\u001b[1;33m\u001b[0m\u001b[1;33m\u001b[0m\u001b[0m\n",
      "\u001b[1;31mNameError\u001b[0m: name 'test_suites' is not defined"
     ]
    }
   ],
   "source": [
    "tss = {\n",
    "    'test_suites' : test_suites,\n",
    "    'INV_test_suites' : INV_test_suites,\n",
    "    'SIB_test_suites' : SIB_test_suites,\n",
    "    # 'both_test_suites' : both_test_suites\n",
    "}"
   ]
  },
  {
   "cell_type": "code",
   "execution_count": 15,
   "metadata": {
    "scrolled": true
   },
   "outputs": [
    {
     "name": "stdout",
     "output_type": "stream",
     "text": [
      "starting test_suites...\n",
      "test suite 0 acc: 0.99\n",
      "test suite 1 acc: 1.0\n",
      "test suite 2 acc: 0.99\n",
      "test suite 3 acc: 0.98\n",
      "test suite 4 acc: 0.99\n",
      "test suite 5 acc: 0.96\n",
      "test suite 6 acc: 0.99\n",
      "test suite 7 acc: 0.98\n",
      "test suite 8 acc: 0.99\n",
      "test suite 9 acc: 1.0\n",
      "test suite 10 acc: 0.98\n",
      "test suite 11 acc: 0.98\n",
      "test suite 12 acc: 1.0\n",
      "test suite 13 acc: 0.98\n",
      "test suite 14 acc: 0.96\n",
      "test suite 15 acc: 0.98\n",
      "test suite 16 acc: 0.98\n",
      "test suite 17 acc: 0.99\n",
      "test suite 18 acc: 0.97\n",
      "test suite 19 acc: 1.0\n",
      "test suite 20 acc: 0.99\n",
      "test suite 21 acc: 0.98\n",
      "test suite 22 acc: 0.95\n",
      "test suite 23 acc: 0.99\n",
      "test suite 24 acc: 0.99\n",
      "test suite 25 acc: 0.96\n",
      "test suite 26 acc: 1.0\n",
      "test suite 27 acc: 1.0\n",
      "test suite 28 acc: 0.99\n",
      "test suite 29 acc: 0.99\n",
      "test suite 30 acc: 0.97\n",
      "test suite 31 acc: 1.0\n",
      "test suite 32 acc: 1.0\n",
      "test suite 33 acc: 0.99\n",
      "test suite 34 acc: 0.98\n",
      "test suite 35 acc: 0.98\n",
      "test suite 36 acc: 0.99\n",
      "test suite 37 acc: 1.0\n",
      "test suite 38 acc: 0.97\n",
      "test suite 39 acc: 0.97\n",
      "test suite 40 acc: 1.0\n",
      "test suite 41 acc: 0.98\n",
      "test suite 42 acc: 0.98\n",
      "test suite 43 acc: 0.98\n",
      "test suite 44 acc: 0.99\n",
      "test suite 45 acc: 0.99\n",
      "test suite 46 acc: 0.99\n",
      "test suite 47 acc: 0.97\n",
      "test suite 48 acc: 0.99\n",
      "test suite 49 acc: 0.99\n",
      "test suite 50 acc: 0.99\n",
      "test suite 51 acc: 0.97\n",
      "test suite 52 acc: 0.99\n",
      "test suite 53 acc: 0.99\n",
      "test suite 54 acc: 0.99\n",
      "test suite 55 acc: 0.95\n",
      "test suite 56 acc: 1.0\n",
      "test suite 57 acc: 0.99\n",
      "test suite 58 acc: 0.99\n",
      "test suite 59 acc: 0.98\n",
      "test suite 60 acc: 0.99\n",
      "test suite 61 acc: 0.98\n",
      "test suite 62 acc: 0.98\n",
      "test suite 63 acc: 0.99\n",
      "test suite 64 acc: 0.99\n",
      "test suite 65 acc: 1.0\n",
      "test suite 66 acc: 0.97\n",
      "test suite 67 acc: 0.99\n",
      "test suite 68 acc: 0.97\n",
      "test suite 69 acc: 1.0\n",
      "test suite 70 acc: 0.98\n",
      "test suite 71 acc: 1.0\n",
      "test suite 72 acc: 1.0\n",
      "test suite 73 acc: 0.98\n",
      "test suite 74 acc: 1.0\n",
      "test suite 75 acc: 1.0\n",
      "test suite 76 acc: 0.96\n",
      "test suite 77 acc: 1.0\n",
      "test suite 78 acc: 0.98\n",
      "test suite 79 acc: 1.0\n",
      "test suite 80 acc: 1.0\n",
      "test suite 81 acc: 0.97\n",
      "test suite 82 acc: 1.0\n",
      "test suite 83 acc: 0.98\n",
      "test suite 84 acc: 0.98\n",
      "test suite 85 acc: 0.98\n",
      "test suite 86 acc: 0.97\n",
      "test suite 87 acc: 0.99\n",
      "test suite 88 acc: 0.98\n",
      "test suite 89 acc: 0.99\n",
      "test suite 90 acc: 0.98\n",
      "test suite 91 acc: 0.98\n",
      "test suite 92 acc: 0.98\n",
      "test suite 93 acc: 1.0\n",
      "test suite 94 acc: 0.98\n",
      "test suite 95 acc: 0.99\n",
      "test suite 96 acc: 1.0\n",
      "test suite 97 acc: 0.96\n",
      "test suite 98 acc: 1.0\n",
      "test suite 99 acc: 0.99\n",
      "saving assets/AG_NEWS/RoBERTa/test_suites_w_acc.pkl\n",
      "starting INV_test_suites...\n",
      "test suite 0 acc: 0.4\n",
      "test suite 1 acc: 0.43\n",
      "test suite 2 acc: 0.42\n",
      "test suite 3 acc: 0.41\n",
      "test suite 4 acc: 0.46\n",
      "test suite 5 acc: 0.4\n",
      "test suite 6 acc: 0.44\n",
      "test suite 7 acc: 0.45\n",
      "test suite 8 acc: 0.4\n",
      "test suite 9 acc: 0.43\n",
      "test suite 10 acc: 0.39\n",
      "test suite 11 acc: 0.42\n",
      "test suite 12 acc: 0.32\n",
      "test suite 13 acc: 0.43\n",
      "test suite 14 acc: 0.41\n",
      "test suite 15 acc: 0.53\n",
      "test suite 16 acc: 0.59\n",
      "test suite 17 acc: 0.48\n",
      "test suite 18 acc: 0.41\n",
      "test suite 19 acc: 0.39\n",
      "test suite 20 acc: 0.38\n",
      "test suite 21 acc: 0.43\n",
      "test suite 22 acc: 0.38\n",
      "test suite 23 acc: 0.46\n",
      "test suite 24 acc: 0.5\n",
      "test suite 25 acc: 0.37\n",
      "test suite 26 acc: 0.51\n",
      "test suite 27 acc: 0.43\n",
      "test suite 28 acc: 0.43\n",
      "test suite 29 acc: 0.43\n",
      "test suite 30 acc: 0.42\n",
      "test suite 31 acc: 0.42\n",
      "test suite 32 acc: 0.39\n",
      "test suite 33 acc: 0.41\n",
      "test suite 34 acc: 0.4\n",
      "test suite 35 acc: 0.48\n",
      "test suite 36 acc: 0.51\n",
      "test suite 37 acc: 0.49\n",
      "test suite 38 acc: 0.47\n",
      "test suite 39 acc: 0.48\n",
      "test suite 40 acc: 0.48\n",
      "test suite 41 acc: 0.55\n",
      "test suite 42 acc: 0.44\n",
      "test suite 43 acc: 0.42\n",
      "test suite 44 acc: 0.43\n",
      "test suite 45 acc: 0.4\n",
      "test suite 46 acc: 0.41\n",
      "test suite 47 acc: 0.56\n",
      "test suite 48 acc: 0.53\n",
      "test suite 49 acc: 0.36\n",
      "test suite 50 acc: 0.48\n",
      "test suite 51 acc: 0.42\n",
      "test suite 52 acc: 0.44\n",
      "test suite 53 acc: 0.46\n",
      "test suite 54 acc: 0.47\n",
      "test suite 55 acc: 0.49\n",
      "test suite 56 acc: 0.46\n",
      "test suite 57 acc: 0.36\n",
      "test suite 58 acc: 0.43\n",
      "test suite 59 acc: 0.43\n",
      "test suite 60 acc: 0.52\n",
      "test suite 61 acc: 0.41\n",
      "test suite 62 acc: 0.52\n",
      "test suite 63 acc: 0.55\n",
      "test suite 64 acc: 0.43\n",
      "test suite 65 acc: 0.5\n",
      "test suite 66 acc: 0.41\n",
      "test suite 67 acc: 0.5\n",
      "test suite 68 acc: 0.44\n",
      "test suite 69 acc: 0.39\n",
      "test suite 70 acc: 0.51\n",
      "test suite 71 acc: 0.49\n",
      "test suite 72 acc: 0.52\n",
      "test suite 73 acc: 0.41\n",
      "test suite 74 acc: 0.46\n",
      "test suite 75 acc: 0.4\n",
      "test suite 76 acc: 0.44\n",
      "test suite 77 acc: 0.48\n",
      "test suite 78 acc: 0.47\n",
      "test suite 79 acc: 0.44\n",
      "test suite 80 acc: 0.51\n",
      "test suite 81 acc: 0.4\n",
      "test suite 82 acc: 0.5\n",
      "test suite 83 acc: 0.44\n",
      "test suite 84 acc: 0.45\n",
      "test suite 85 acc: 0.46\n",
      "test suite 86 acc: 0.48\n",
      "test suite 87 acc: 0.47\n",
      "test suite 88 acc: 0.45\n",
      "test suite 89 acc: 0.53\n",
      "test suite 90 acc: 0.44\n",
      "test suite 91 acc: 0.53\n",
      "test suite 92 acc: 0.35\n",
      "test suite 93 acc: 0.44\n",
      "test suite 94 acc: 0.35\n",
      "test suite 95 acc: 0.41\n",
      "test suite 96 acc: 0.53\n",
      "test suite 97 acc: 0.45\n",
      "test suite 98 acc: 0.49\n",
      "test suite 99 acc: 0.43\n",
      "saving assets/AG_NEWS/RoBERTa/INV_test_suites_w_acc.pkl\n",
      "starting SIB_test_suites...\n",
      "test suite 0 acc: 0.5418848695829662\n",
      "test suite 1 acc: 0.6418063880569\n",
      "test suite 2 acc: 0.6796221596194271\n",
      "test suite 3 acc: 0.49610813371130363\n",
      "test suite 4 acc: 0.663039935820173\n",
      "test suite 5 acc: 0.5690047641571742\n",
      "test suite 6 acc: 0.5987510355751112\n",
      "test suite 7 acc: 0.5463408557315061\n",
      "test suite 8 acc: 0.5192453044611871\n",
      "test suite 9 acc: 0.6212821765643853\n",
      "test suite 10 acc: 0.6176763425999593\n",
      "test suite 11 acc: 0.5386533145495785\n",
      "test suite 12 acc: 0.570819716034677\n",
      "test suite 13 acc: 0.593930985033787\n",
      "test suite 14 acc: 0.5984549450057886\n",
      "test suite 15 acc: 0.6302808594259798\n",
      "test suite 16 acc: 0.5468610443943192\n",
      "test suite 17 acc: 0.5980368158980656\n",
      "test suite 18 acc: 0.5457480988987665\n",
      "test suite 19 acc: 0.5726177901192628\n",
      "test suite 20 acc: 0.5825223070320299\n",
      "test suite 21 acc: 0.5884390848177518\n",
      "test suite 22 acc: 0.6293987443411867\n",
      "test suite 23 acc: 0.5681025500303813\n",
      "test suite 24 acc: 0.6178033266102458\n",
      "test suite 25 acc: 0.6050278858178896\n",
      "test suite 26 acc: 0.5715600993881084\n",
      "test suite 27 acc: 0.6646795725513711\n",
      "test suite 28 acc: 0.5955115298204721\n",
      "test suite 29 acc: 0.5607320938750051\n",
      "test suite 30 acc: 0.6301989867080448\n",
      "test suite 31 acc: 0.6274309091898161\n",
      "test suite 32 acc: 0.4924997871566943\n",
      "test suite 33 acc: 0.6042549497148169\n",
      "test suite 34 acc: 0.6982333319666668\n",
      "test suite 35 acc: 0.6157515802940466\n",
      "test suite 36 acc: 0.6569494304014273\n",
      "test suite 37 acc: 0.5479796271117982\n",
      "test suite 38 acc: 0.6226790376305623\n",
      "test suite 39 acc: 0.6296184861642424\n",
      "test suite 40 acc: 0.5569927515454776\n",
      "test suite 41 acc: 0.5360512307762193\n",
      "test suite 42 acc: 0.7239185310879003\n",
      "test suite 43 acc: 0.6384510145384772\n",
      "test suite 44 acc: 0.6087909278802887\n",
      "test suite 45 acc: 0.5941644511596943\n",
      "test suite 46 acc: 0.5956025764253516\n",
      "test suite 47 acc: 0.6489197756153541\n",
      "test suite 48 acc: 0.562224496370962\n",
      "test suite 49 acc: 0.62284357550946\n",
      "test suite 50 acc: 0.647033130318832\n",
      "test suite 51 acc: 0.5851039419505935\n",
      "test suite 52 acc: 0.6219797221017843\n",
      "test suite 53 acc: 0.5468144486923473\n",
      "test suite 54 acc: 0.5770443553573138\n",
      "test suite 55 acc: 0.6319768462724662\n",
      "test suite 56 acc: 0.5932182743225745\n",
      "test suite 57 acc: 0.6609467472766007\n",
      "test suite 58 acc: 0.5870322130525889\n",
      "test suite 59 acc: 0.6233152548178005\n",
      "test suite 60 acc: 0.5523295475338449\n",
      "test suite 61 acc: 0.5907742424677302\n",
      "test suite 62 acc: 0.522225015355271\n",
      "test suite 63 acc: 0.5924682290577747\n",
      "test suite 64 acc: 0.5340438985089349\n",
      "test suite 65 acc: 0.5913702241109209\n",
      "test suite 66 acc: 0.5923120769462165\n",
      "test suite 67 acc: 0.6126110179547113\n",
      "test suite 68 acc: 0.5711777964430901\n",
      "test suite 69 acc: 0.5173823744115448\n",
      "test suite 70 acc: 0.5488902748668143\n",
      "test suite 71 acc: 0.617004499403604\n",
      "test suite 72 acc: 0.6646436821076466\n",
      "test suite 73 acc: 0.6128358228893699\n",
      "test suite 74 acc: 0.6648912047655904\n",
      "test suite 75 acc: 0.5542416791342304\n",
      "test suite 76 acc: 0.4846141153138987\n",
      "test suite 77 acc: 0.6337151057120683\n",
      "test suite 78 acc: 0.5625919296437568\n",
      "test suite 79 acc: 0.6233149401263379\n",
      "test suite 80 acc: 0.6910749523827603\n",
      "test suite 81 acc: 0.577155235843998\n",
      "test suite 82 acc: 0.6259289989216819\n",
      "test suite 83 acc: 0.6031977358359663\n",
      "test suite 84 acc: 0.5517112764049337\n",
      "test suite 85 acc: 0.5125627377659014\n",
      "test suite 86 acc: 0.6390373103605884\n"
     ]
    },
    {
     "name": "stdout",
     "output_type": "stream",
     "text": [
      "test suite 87 acc: 0.6026801661356486\n",
      "test suite 88 acc: 0.6041914137253054\n",
      "test suite 89 acc: 0.6061552693733545\n",
      "test suite 90 acc: 0.542363953551598\n",
      "test suite 91 acc: 0.5701471606401337\n",
      "test suite 92 acc: 0.6496023530592336\n",
      "test suite 93 acc: 0.5607412125836916\n",
      "test suite 94 acc: 0.6762468731750261\n",
      "test suite 95 acc: 0.535502324007135\n",
      "test suite 96 acc: 0.5564344438719613\n",
      "test suite 97 acc: 0.4887957886673549\n",
      "test suite 98 acc: 0.6329216633947465\n",
      "test suite 99 acc: 0.5575256261645823\n",
      "saving assets/AG_NEWS/RoBERTa/SIB_test_suites_w_acc.pkl\n"
     ]
    }
   ],
   "source": [
    "for t_name, test_suites in tss.items():\n",
    "    print('starting {}...'.format(t_name))\n",
    "    if 'SIB' in t_name:\n",
    "        for idx, t in test_suites.items():\n",
    "            logits = model([str(x) for x in t['data'].tolist()])\n",
    "            y_true = torch.tensor(t['target'])\n",
    "            acc = get_topk_acc(logits, y_true, k=2)\n",
    "            t['performance'] = {\n",
    "                'MODEL_NAME' : MODEL_NAME,\n",
    "                'acc' : acc\n",
    "            }\n",
    "            print('test suite {} acc: {}'.format(idx, acc))\n",
    "    else:\n",
    "        for idx, t in test_suites.items():\n",
    "            logits = model(t['data'])\n",
    "            y_true = torch.tensor(t['target'])\n",
    "            acc = get_topk_acc(logits, y_true, k=1)\n",
    "            t['performance'] = {\n",
    "                'MODEL_NAME' : MODEL_NAME,\n",
    "                'acc' : acc\n",
    "            }\n",
    "            print('test suite {} acc: {}'.format(idx, acc))\n",
    "    file_path = 'assets/AG_NEWS/BERT/' + t_name + '_w_acc.pkl'\n",
    "    pkl_save(test_suites, file_path)\n",
    "    print('saving {}'.format(file_path))"
   ]
  },
  {
   "cell_type": "code",
   "execution_count": 12,
   "metadata": {},
   "outputs": [
    {
     "name": "stdout",
     "output_type": "stream",
     "text": [
      "average acc: 0.97 | test_suites\n",
      "average acc: 0.44 | INV_test_suites\n",
      "average acc: 0.60 | SIB_test_suites\n"
     ]
    }
   ],
   "source": [
    "# BERT\n",
    "for t_name, test_suites in tss.items():\n",
    "    count = 0\n",
    "    total = 0\n",
    "    for idx, t in test_suites.items():\n",
    "        total += t['performance']['acc']\n",
    "        count += 1\n",
    "    avg_acc = total / count\n",
    "    print('average acc: {0:1.2f} | {1}'.format(avg_acc, t_name))"
   ]
  },
  {
   "cell_type": "code",
   "execution_count": 16,
   "metadata": {},
   "outputs": [
    {
     "name": "stdout",
     "output_type": "stream",
     "text": [
      "average acc: 0.99 | test_suites\n",
      "average acc: 0.45 | INV_test_suites\n",
      "average acc: 0.59 | SIB_test_suites\n"
     ]
    }
   ],
   "source": [
    "# RoBERTa\n",
    "for t_name, test_suites in tss.items():\n",
    "    count = 0\n",
    "    total = 0\n",
    "    for idx, t in test_suites.items():\n",
    "        total += t['performance']['acc']\n",
    "        count += 1\n",
    "    avg_acc = total / count\n",
    "    print('average acc: {0:1.2f} | {1}'.format(avg_acc, t_name))"
   ]
  },
  {
   "cell_type": "markdown",
   "metadata": {},
   "source": [
    "# Sample some transforms to see if they're reasonable"
   ]
  },
  {
   "cell_type": "code",
   "execution_count": null,
   "metadata": {},
   "outputs": [],
   "source": [
    "import csv"
   ]
  },
  {
   "cell_type": "code",
   "execution_count": 7,
   "metadata": {},
   "outputs": [],
   "source": [
    "filename = \"./assets/csv_examples/agnews_inv_examples.csv\"\n",
    "    \n",
    "# writing to csv file  \n",
    "with open(filename, 'w') as csvfile:  \n",
    "    # creating a csv writer object  \n",
    "    csvwriter = csv.writer(csvfile)  \n",
    "    csvwriter.writerow(['text', 'label', 'sound good?'])\n",
    "    # writing the fields  \n",
    "    for i in range(50):\n",
    "        row = [INV_test_suites[i]['data'][i], INV_test_suites[i]['target'][i], True ]#, INV_test_suites[i]['ts'][i] ]\n",
    "        csvwriter.writerow(row)"
   ]
  },
  {
   "cell_type": "code",
   "execution_count": 8,
   "metadata": {},
   "outputs": [],
   "source": [
    "filename = \"./assets/csv_examples/agnews_sib_examples.csv\"\n",
    "    \n",
    "# writing to csv file  \n",
    "with open(filename, 'w') as csvfile:  \n",
    "    # creating a csv writer object  \n",
    "    csvwriter = csv.writer(csvfile)  \n",
    "    csvwriter.writerow(['text', 'label', 'sound good?'])\n",
    "    # writing the fields  \n",
    "    for i in range(50):\n",
    "        row = [SIB_test_suites[i]['data'][i], SIB_test_suites[i]['target'][i], True ]#, INV_test_suites[i]['ts'][i] ]\n",
    "        csvwriter.writerow(row)"
   ]
  }
 ],
 "metadata": {
  "kernelspec": {
   "display_name": "Python 3",
   "language": "python",
   "name": "python3"
  },
  "language_info": {
   "codemirror_mode": {
    "name": "ipython",
    "version": 3
   },
   "file_extension": ".py",
   "mimetype": "text/x-python",
   "name": "python",
   "nbconvert_exporter": "python",
   "pygments_lexer": "ipython3",
   "version": "3.8.5"
  },
  "varInspector": {
   "cols": {
    "lenName": 16,
    "lenType": 16,
    "lenVar": 40
   },
   "kernels_config": {
    "python": {
     "delete_cmd_postfix": "",
     "delete_cmd_prefix": "del ",
     "library": "var_list.py",
     "varRefreshCmd": "print(var_dic_list())"
    },
    "r": {
     "delete_cmd_postfix": ") ",
     "delete_cmd_prefix": "rm(",
     "library": "var_list.r",
     "varRefreshCmd": "cat(var_dic_list()) "
    }
   },
   "types_to_exclude": [
    "module",
    "function",
    "builtin_function_or_method",
    "instance",
    "_Feature"
   ],
   "window_display": false
  }
 },
 "nbformat": 4,
 "nbformat_minor": 4
}
