{
 "cells": [
  {
   "cell_type": "code",
   "execution_count": 1,
   "metadata": {},
   "outputs": [],
   "source": [
    "%reload_ext autoreload\n",
    "%autoreload 2\n",
    "\n",
    "from transformations.text.word_swap.change_synse import ChangeAntonym\n",
    "\n",
    "from vaderSentiment.vaderSentiment import SentimentIntensityAnalyzer\n",
    "\n",
    "from datasets import load_dataset"
   ]
  },
  {
   "cell_type": "markdown",
   "metadata": {},
   "source": [
    "### Data"
   ]
  },
  {
   "cell_type": "code",
   "execution_count": 2,
   "metadata": {},
   "outputs": [
    {
     "name": "stderr",
     "output_type": "stream",
     "text": [
      "Reusing dataset imdb (C:\\Users\\Fabrice\\.cache\\huggingface\\datasets\\imdb\\plain_text\\1.0.0\\90099cb476936b753383ba2ae6ab2eae419b2e87f71cd5189cb9c8e5814d12a3)\n"
     ]
    }
   ],
   "source": [
    "dataset = load_dataset(\"imdb\")"
   ]
  },
  {
   "cell_type": "code",
   "execution_count": 3,
   "metadata": {},
   "outputs": [],
   "source": [
    "n = 5\n",
    "X, y = dataset['train']['text'][:n], dataset['train']['label'][:n]"
   ]
  },
  {
   "cell_type": "markdown",
   "metadata": {},
   "source": [
    "### Sentiment Model\n",
    "just to get some quick feedback on whether the transformations seem to be affecting the prediction"
   ]
  },
  {
   "cell_type": "code",
   "execution_count": 4,
   "metadata": {},
   "outputs": [],
   "source": [
    "def get_sentiment(string):\n",
    "    return analyser.polarity_scores(string)['compound']\n",
    "\n",
    "analyser = SentimentIntensityAnalyzer()"
   ]
  },
  {
   "cell_type": "markdown",
   "metadata": {},
   "source": [
    "### Transformation"
   ]
  },
  {
   "cell_type": "code",
   "execution_count": 66,
   "metadata": {},
   "outputs": [],
   "source": [
    "transform = ChangeAntonym()"
   ]
  },
  {
   "cell_type": "code",
   "execution_count": 69,
   "metadata": {},
   "outputs": [
    {
     "name": "stdout",
     "output_type": "stream",
     "text": [
      "original sentiment: \t -0.1759\n",
      "X_: Bromwell High is a cartoon comedy. It ran at the same time as some other programs about school life, such as \"Teachers\". My 35 years in the teaching profession lead me to believe that Bromwell High's satire is much closer to reality than is \"Teachers\". The scramble to survive financially, the insightful students who can see right through their pathetic teachers' pomp, the pettiness of the whole situation, all remind me of the schools I knew and their students. When I saw the episode in which a student repeatedly tried to burn down the school, I immediately recalled ......... at .......... High. A classic line: INSPECTOR: I'm here to sack one of your teachers. STUDENT: Welcome to Bromwell High. I expect that many adults of my age think that Bromwell High is far fetched. What a pity that it isn't!\n",
      "y_: 1\n",
      "augmented sentiment: \t -0.9259\n",
      "new_X_: Bromwell High is a cartoon tragedy It misfunction at the same time as some other programs about school lifelessness such as \"Teachers\". My 35 night in the teaching profession deficit me to believe that Bromwell low satire is slight closer to irreality than is \"Teachers\". The unscramble to succumb financially, the insightful students who can see wrongfulness through their rich teachers' pomp, the bigness of the part divest all remind me of the schools I knew and their students. When I disaccord the episode in which a student repeatedly disprove to burn down the school, I indirectly recalled ......... at .......... low A classic acclivity INSPECTOR: I'm here to engage federal of your teachers. STUDENT: unwelcome to Bromwell low I expect that many juvenile of my age block that Bromwell High is far fetched. What a pity that it isn't!\n",
      "new_y_: 0\n",
      "original sentiment: \t 0.9872\n",
      "X_: Homelessness (or Houselessness as George Carlin stated) has been an issue for years but never a plan to help those on the street that were once considered human who did everything from going to school, work, or vote for the matter. Most people think of the homeless as just a lost cause while worrying about things such as racism, the war on Iraq, pressuring kids to succeed, technology, the elections, inflation, or worrying if they'll be next to end up on the streets.<br /><br />But what if you were given a bet to live on the streets for a month without the luxuries you once had from a home, the entertainment sets, a bathroom, pictures on the wall, a computer, and everything you once treasure to see what it's like to be homeless? That is Goddard Bolt's lesson.<br /><br />Mel Brooks (who directs) who stars as Bolt plays a rich man who has everything in the world until deciding to make a bet with a sissy rival (Jeffery Tambor) to see if he can live in the streets for thirty days without the luxuries; if Bolt succeeds, he can do what he wants with a future project of making more buildings. The bet's on where Bolt is thrown on the street with a bracelet on his leg to monitor his every move where he can't step off the sidewalk. He's given the nickname Pepto by a vagrant after it's written on his forehead where Bolt meets other characters including a woman by the name of Molly (Lesley Ann Warren) an ex-dancer who got divorce before losing her home, and her pals Sailor (Howard Morris) and Fumes (Teddy Wilson) who are already used to the streets. They're survivors. Bolt isn't. He's not used to reaching mutual agreements like he once did when being rich where it's fight or flight, kill or be killed.<br /><br />While the love connection between Molly and Bolt wasn't necessary to plot, I found \"Life Stinks\" to be one of Mel Brooks' observant films where prior to being a comedy, it shows a tender side compared to his slapstick work such as Blazing Saddles, Young Frankenstein, or Spaceballs for the matter, to show what it's like having something valuable before losing it the next day or on the other hand making a stupid bet like all rich people do when they don't know what to do with their money. Maybe they should give it to the homeless instead of using it like Monopoly money.<br /><br />Or maybe this film will inspire you to help others.\n",
      "y_: 1\n",
      "augmented sentiment: \t -0.9968\n",
      "new_X_: Homelessness (or Houselessness as George Carlin stated) has been an recall for dark but never a plan to disservice those on the street that were once discredit human who did everything from halt to school, misfunction or vote for the recall Most people block of the roofed as just a profit cause while worrying about things such as racism, the peace on Iraq, pressuring parent to succeed, technology, the elections, inflation, or worrying if they'll be fail to commencement up on the streets.<br /><br />But what if you were take a tightness to dead on the streets for a month without the luxuries you once had from a home, the entertainment sets, a hire pictures on the wall, a computer, and everything you once undervalue to ground what it's like to be homeless? That is Goddard unbolt lesson.<br /><br />Mel Brooks (who inverse who deficit as unbolt plays a poor man who has everything in the nonbeing until float to make a tightness with a sissy disagree (Jeffery Tambor) to ground if he can dead in the streets for thirty days without the luxuries; if unbolt miscarry he can do what he adequacy with a past plain of undo less misconstruction The back on where unbolt is thrown on the street with a bracelet on his leg to monitor his every move where he can't step off the sidewalk. He's take the nickname Pepto by a settle after it's unscripted on his forehead where unbolt diverge other totally shut a woman by the break of Molly (Lesley Ann Warren) an ex-dancer who leave divorce before regain her home, and her sister Sailor (Howard Morris) and Fumes (Teddy Wilson) who are already misused to the streets. They're survivors. unbolt isn't. He's not misused to miss mutual dissonance like he once did when being poor where it's still or flight, kill or be killed.<br /><br />While the hatred connection between Molly and unbolt wasn't necessary to plot, I lose dead Stinks\" to be one of Mel contradict infract eliminate where prior to being a tragedy it disprove a tough side compared to his slapstick misfunction such as Blazing offsaddle Young Frankenstein, or Spaceballs for the recall to disappearing what it's like having something worthless before regain it the fail day or on the other running undo a smart tightness like all poor people do when they don't ignore what to do with their money. Maybe they should famish it to the roofed instead of fire it like Monopoly money.<br /><br />Or impossibly this refrain will exhale you to disservice others.\n",
      "new_y_: 0\n",
      "original sentiment: \t 0.9657\n",
      "X_: Brilliant over-acting by Lesley Ann Warren. Best dramatic hobo lady I have ever seen, and love scenes in clothes warehouse are second to none. The corn on face is a classic, as good as anything in Blazing Saddles. The take on lawyers is also superb. After being accused of being a turncoat, selling out his boss, and being dishonest the lawyer of Pepto Bolt shrugs indifferently \"I'm a lawyer\" he says. Three funny words. Jeffrey Tambor, a favorite from the later Larry Sanders show, is fantastic here too as a mad millionaire who wants to crush the ghetto. His character is more malevolent than usual. The hospital scene, and the scene where the homeless invade a demolition site, are all-time classics. Look for the legs scene and the two big diggers fighting (one bleeds). This movie gets better each time I see it (which is quite often).\n",
      "y_: 1\n",
      "augmented sentiment: \t 0.9558\n",
      "new_X_: dull over-acting by Lesley Ann Warren. Best dramatic hobo lady I have ever ground and love scenes in undress warehouse are first to none. The corn on timidity is a classic, as badness as anything in invisible Saddles. The eliminate on lawyers is also superb. After being discharge of being a turncoat, buy out his boss, and being honorable the lawyer of Pepto unbolt shrugs indifferently \"I'm a lawyer\" he says. Three funny words. Jeffrey Tambor, a favorite from the later Larry unsmooth hide is tame here too as a mad millionaire who adequacy to disengage the ghetto. His antitype is less benignant than usual. The hospital scene, and the scene where the roofed invade a demolition site, are all-time classics. back for the legs scene and the two little diggers fighting multiple bleeds). This movie gets better each acquittal I diverge it (which is quite rarely\n",
      "new_y_: 0\n",
      "original sentiment: \t 0.9806\n",
      "X_: This is easily the most underrated film inn the Brooks cannon. Sure, its flawed. It does not give a realistic view of homelessness (unlike, say, how Citizen Kane gave a realistic view of lounge singers, or Titanic gave a realistic view of Italians YOU IDIOTS). Many of the jokes fall flat. But still, this film is very lovable in a way many comedies are not, and to pull that off in a story about some of the most traditionally reviled members of society is truly impressive. Its not The Fisher King, but its not crap, either. My only complaint is that Brooks should have cast someone else in the lead (I love Mel as a Director and Writer, not so much as a lead).\n",
      "y_: 1\n"
     ]
    },
    {
     "name": "stdout",
     "output_type": "stream",
     "text": [
      "augmented sentiment: \t 0.8777\n",
      "new_X_: This is quickly the least underrated film inn the Brooks cannon. unsure its unblemished It does not starve a unrealistic unhitch of homelessness (unlike, disarray how outlander Kane take a unrealistic unhitch of lounge singers, or Titanic take a unrealistic unhitch of Italians YOU IDIOTS). few of the cry fall natural But effervescent this film is very lovable in a way few comedies are not, and to pull that off in a story about some of the least traditionally reviled nonmember of disarray is truly unimpressive Its not The Fisher King, but its not bear either. My only tranquillise is that Brooks should have cast immortal else in the follow (I detest Mel as a insulator and Writer, not so much as a deficit\n",
      "new_y_: 0\n",
      "original sentiment: \t 0.9664\n",
      "X_: This is not the typical Mel Brooks film. It was much less slapstick than most of his movies and actually had a plot that was followable. Leslie Ann Warren made the movie, she is such a fantastic, under-rated actress. There were some moments that could have been fleshed out a bit more, and some scenes that could probably have been cut to make the room to do so, but all in all, this is worth the price to rent and see it. The acting was good overall, Brooks himself did a good job without his characteristic speaking to directly to the audience. Again, Warren was the best actor in the movie, but \"Fume\" and \"Sailor\" both played their parts well.\n",
      "y_: 1\n",
      "augmented sentiment: \t -0.9274\n",
      "new_X_: This is not the untypical Mel Brooks film. It was slight more slapstick than fewest of his movies and actually had a plot that was followable. Leslie Ann Warren made the movie, she is such a tamed overrate actress. There were some inconsequence that could have been fleshed out a unbend more, and some scenes that could probably have been lucubrate to make the room to do so, but all in all, this is worthlessness the price to disengage and disaccord it. The forbear was badness overall, Brooks himself did a badness job without his uncharacteristic walk-on to indirectly to the deaf Again, Warren was the worst actor in the movie, but \"Fume\" and \"Sailor\" both refrain their repair disadvantageously\n",
      "new_y_: 0\n"
     ]
    }
   ],
   "source": [
    "for X_, y_ in zip(X, y):\n",
    "    print('original sentiment: \\t', get_sentiment(X_))\n",
    "    print('X_: {}'.format(X_))\n",
    "    print('y_: {}'.format(y_))\n",
    "    \n",
    "    new_X_ = transform(X_)\n",
    "    new_y_ = 0 if y_ == 1 else 1\n",
    "    \n",
    "    print('augmented sentiment: \\t', get_sentiment(new_X_))  \n",
    "    print('new_X_: {}'.format(new_X_))\n",
    "    print('new_y_: {}'.format(new_y_))  "
   ]
  },
  {
   "cell_type": "code",
   "execution_count": null,
   "metadata": {},
   "outputs": [],
   "source": []
  }
 ],
 "metadata": {
  "kernelspec": {
   "display_name": "Python 3",
   "language": "python",
   "name": "python3"
  },
  "language_info": {
   "codemirror_mode": {
    "name": "ipython",
    "version": 3
   },
   "file_extension": ".py",
   "mimetype": "text/x-python",
   "name": "python",
   "nbconvert_exporter": "python",
   "pygments_lexer": "ipython3",
   "version": "3.8.5"
  }
 },
 "nbformat": 4,
 "nbformat_minor": 4
}
