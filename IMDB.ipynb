{
 "cells": [
  {
   "cell_type": "code",
   "execution_count": 1,
   "metadata": {},
   "outputs": [],
   "source": [
    "%reload_ext autoreload\n",
    "%autoreload 2"
   ]
  },
  {
   "cell_type": "code",
   "execution_count": 2,
   "metadata": {},
   "outputs": [],
   "source": [
    "from transformations.text.contraction.expand_contractions import ExpandContractions\n",
    "from transformations.text.contraction.contract_contractions import ContractContractions\n",
    "from transformations.text.emoji.emojify import Emojify, AddPositiveEmoji, AddNegativeEmoji, AddNeutralEmoji\n",
    "from transformations.text.emoji.demojify import Demojify, RemovePositiveEmoji, RemoveNegativeEmoji, RemoveNeutralEmoji\n",
    "from transformations.text.negation.remove_negation import RemoveNegation\n",
    "from transformations.text.negation.add_negation import AddNegation\n",
    "from transformations.text.contraction.expand_contractions import ExpandContractions\n",
    "from transformations.text.contraction.contract_contractions import ContractContractions\n",
    "from transformations.text.word_swap.change_number import ChangeNumber\n",
    "from transformations.text.word_swap.change_synse import ChangeSynonym, ChangeAntonym, ChangeHyponym, ChangeHypernym\n",
    "from transformations.text.word_swap.word_deletion import WordDeletion\n",
    "from transformations.text.word_swap.homoglyph_swap import HomoglyphSwap\n",
    "from transformations.text.word_swap.random_swap import RandomSwap\n",
    "from transformations.text.insertion.random_insertion import RandomInsertion\n",
    "from transformations.text.insertion.sentiment_phrase import InsertSentimentPhrase, InsertPositivePhrase, InsertNegativePhrase\n",
    "from transformations.text.links.add_sentiment_link import AddSentimentLink, AddPositiveLink, AddNegativeLink\n",
    "from transformations.text.links.import_link_text import ImportLinkText\n",
    "from transformations.text.entities.change_location import ChangeLocation\n",
    "from transformations.text.entities.change_name import ChangeName\n",
    "from transformations.text.typos.char_delete import RandomCharDel\n",
    "from transformations.text.typos.char_insert import RandomCharInsert\n",
    "from transformations.text.typos.char_substitute import RandomCharSubst\n",
    "from transformations.text.typos.char_swap import RandomCharSwap\n",
    "from transformations.text.typos.char_swap_qwerty import RandomSwapQwerty "
   ]
  },
  {
   "cell_type": "code",
   "execution_count": 3,
   "metadata": {},
   "outputs": [],
   "source": [
    "from vaderSentiment.vaderSentiment import SentimentIntensityAnalyzer\n",
    "from datasets import load_dataset\n",
    "from collections import defaultdict\n",
    "import pandas as pd\n",
    "import random\n",
    "import time"
   ]
  },
  {
   "cell_type": "markdown",
   "metadata": {},
   "source": [
    "### Data"
   ]
  },
  {
   "cell_type": "code",
   "execution_count": 4,
   "metadata": {},
   "outputs": [
    {
     "name": "stderr",
     "output_type": "stream",
     "text": [
      "Reusing dataset imdb (C:\\Users\\Fabrice\\.cache\\huggingface\\datasets\\imdb\\plain_text\\1.0.0\\90099cb476936b753383ba2ae6ab2eae419b2e87f71cd5189cb9c8e5814d12a3)\n"
     ]
    }
   ],
   "source": [
    "dataset = load_dataset(\"imdb\")"
   ]
  },
  {
   "cell_type": "markdown",
   "metadata": {},
   "source": [
    "### Sentiment Model\n",
    "just to get some quick feedback on whether the transformations seem to be affecting the prediction"
   ]
  },
  {
   "cell_type": "code",
   "execution_count": 5,
   "metadata": {},
   "outputs": [],
   "source": [
    "def get_sentiment(string):\n",
    "    return analyser.polarity_scores(string)['compound']\n",
    "\n",
    "analyser = SentimentIntensityAnalyzer()"
   ]
  },
  {
   "cell_type": "markdown",
   "metadata": {},
   "source": [
    "### Transformation"
   ]
  },
  {
   "cell_type": "code",
   "execution_count": 6,
   "metadata": {},
   "outputs": [],
   "source": [
    "transformations = [\n",
    "    ExpandContractions,\n",
    "    ContractContractions,\n",
    "    Emojify,\n",
    "    AddPositiveEmoji,\n",
    "    AddNegativeEmoji,\n",
    "    AddNeutralEmoji,\n",
    "    Demojify, \n",
    "    RemovePositiveEmoji,\n",
    "    RemoveNegativeEmoji,\n",
    "    RemoveNeutralEmoji,\n",
    "    ChangeLocation,\n",
    "    ChangeName,\n",
    "    InsertPositivePhrase,\n",
    "    InsertNegativePhrase,\n",
    "    RandomInsertion,\n",
    "    AddPositiveLink,\n",
    "    AddNegativeLink,\n",
    "    ImportLinkText,\n",
    "    AddNegation,\n",
    "    RemoveNegation,\n",
    "    RandomCharDel,\n",
    "    RandomCharInsert, \n",
    "    RandomCharSubst, \n",
    "    RandomCharSwap, \n",
    "    RandomSwapQwerty,\n",
    "    ChangeNumber,\n",
    "    ChangeSynonym, \n",
    "    ChangeAntonym, \n",
    "    ChangeHyponym, \n",
    "    ChangeHypernym,\n",
    "    WordDeletion, \n",
    "    HomoglyphSwap, \n",
    "    RandomSwap\n",
    "]"
   ]
  },
  {
   "cell_type": "code",
   "execution_count": 7,
   "metadata": {},
   "outputs": [],
   "source": [
    "df_all = []\n",
    "for transform in transformations:\n",
    "    t = transform()\n",
    "    df = t.get_tran_types()\n",
    "    df['transformation'] = t.__class__.__name__\n",
    "    df['tran_fn'] = t\n",
    "    df_all.append(df)\n",
    "    \n",
    "df = pd.concat(df_all)"
   ]
  },
  {
   "cell_type": "markdown",
   "metadata": {},
   "source": [
    "### INV Transforms"
   ]
  },
  {
   "cell_type": "code",
   "execution_count": 8,
   "metadata": {},
   "outputs": [],
   "source": [
    "task = df['task_name'] == 'sentiment'\n",
    "tran = df['tran_type'] == 'INV'\n",
    "\n",
    "df_all = df[task & tran]\n",
    "# df_all"
   ]
  },
  {
   "cell_type": "code",
   "execution_count": 9,
   "metadata": {},
   "outputs": [],
   "source": [
    "n = 20\n",
    "i = random.randint(0, len(dataset['train']['text']) - 1 - n)\n",
    "X, y = dataset['train']['text'][i:i+n], dataset['train']['label'][i:i+n]"
   ]
  },
  {
   "cell_type": "code",
   "execution_count": null,
   "metadata": {
    "scrolled": true
   },
   "outputs": [],
   "source": [
    "Xs, ys, ts = X, y, defaultdict(list)\n",
    "num_X = 1000\n",
    "\n",
    "tic = time.perf_counter()\n",
    "while len(Xs) < num_X:\n",
    "    \n",
    "    # sample an (X,y) pair\n",
    "    i = random.randint(0, len(Xs) - 1)\n",
    "    X_, y_, ts_ = Xs[i], ys[i], ts[i]\n",
    "    \n",
    "    # sample a transformation\n",
    "    t_df   = df_all.sample(1)\n",
    "    t_fn   = t_df['tran_fn'][0]\n",
    "    t_name = t_df['transformation'][0]\n",
    "                \n",
    "    if t_name in ts_:\n",
    "        continue\n",
    "    \n",
    "    applied_ts = ts_ + [t_name]\n",
    "\n",
    "    new_X_, new_y_ = t_fn.transform_Xy(X_, y_)\n",
    "\n",
    "    if new_X_ not in Xs:\n",
    "        Xs.append(new_X_)\n",
    "        ys.append(new_y_)\n",
    "        j = len(Xs) - 1\n",
    "        ts[j].extend(applied_ts)\n",
    "    \n",
    "toc = time.perf_counter()\n",
    "print('Time to generate {0} examples: {1:.2f} seconds'.format(num_X, (toc - tic)))"
   ]
  },
  {
   "cell_type": "code",
   "execution_count": null,
   "metadata": {},
   "outputs": [],
   "source": [
    "ts"
   ]
  },
  {
   "cell_type": "markdown",
   "metadata": {},
   "source": [
    "### SIB Transforms"
   ]
  },
  {
   "cell_type": "code",
   "execution_count": null,
   "metadata": {},
   "outputs": [],
   "source": [
    "task = df['task_name'] == 'sentiment'\n",
    "tran = df['tran_type'] == 'SIB'\n",
    "\n",
    "df_all = df[task & tran]\n",
    "# df_all"
   ]
  },
  {
   "cell_type": "code",
   "execution_count": null,
   "metadata": {},
   "outputs": [],
   "source": [
    "n = 20\n",
    "i = random.randint(0, len(dataset['train']['text']) - 1 - n)\n",
    "X, y = dataset['train']['text'][i:i+n], dataset['train']['label'][i:i+n]"
   ]
  },
  {
   "cell_type": "code",
   "execution_count": null,
   "metadata": {
    "scrolled": true
   },
   "outputs": [],
   "source": [
    "Xs, ys, ts = X, y, defaultdict(list)\n",
    "num_X = 1000\n",
    "\n",
    "tic = time.perf_counter()\n",
    "while len(Xs) < num_X:\n",
    "    \n",
    "    # sample an (X,y) pair\n",
    "    i = random.randint(0, len(Xs) - 1)\n",
    "    X_, y_, ts_ = Xs[i], ys[i], ts[i]\n",
    "\n",
    "    # sample a transformation\n",
    "    t_df   = df_all.sample(1)\n",
    "    t_fn   = t_df['tran_fn'][0]\n",
    "    t_name = t_df['transformation'][0]\n",
    "    \n",
    "    if t_name in ts_:\n",
    "        continue\n",
    "    \n",
    "    applied_ts = ts_ + [t_name]\n",
    "\n",
    "    new_X_, new_y_ = t_fn.transform_Xy(X_, y_)\n",
    "\n",
    "    if new_X_ not in Xs:\n",
    "        Xs.append(new_X_)\n",
    "        ys.append(new_y_)\n",
    "        j = len(Xs) - 1\n",
    "        ts[j].extend(applied_ts)\n",
    "    \n",
    "toc = time.perf_counter()\n",
    "print('Time to generate {0} examples: {1:.2f} seconds'.format(num_X, (toc - tic)))"
   ]
  },
  {
   "cell_type": "code",
   "execution_count": null,
   "metadata": {},
   "outputs": [],
   "source": [
    "ts"
   ]
  }
 ],
 "metadata": {
  "kernelspec": {
   "display_name": "Python 3",
   "language": "python",
   "name": "python3"
  },
  "language_info": {
   "codemirror_mode": {
    "name": "ipython",
    "version": 3
   },
   "file_extension": ".py",
   "mimetype": "text/x-python",
   "name": "python",
   "nbconvert_exporter": "python",
   "pygments_lexer": "ipython3",
   "version": "3.8.5"
  },
  "varInspector": {
   "cols": {
    "lenName": 16,
    "lenType": 16,
    "lenVar": 40
   },
   "kernels_config": {
    "python": {
     "delete_cmd_postfix": "",
     "delete_cmd_prefix": "del ",
     "library": "var_list.py",
     "varRefreshCmd": "print(var_dic_list())"
    },
    "r": {
     "delete_cmd_postfix": ") ",
     "delete_cmd_prefix": "rm(",
     "library": "var_list.r",
     "varRefreshCmd": "cat(var_dic_list()) "
    }
   },
   "types_to_exclude": [
    "module",
    "function",
    "builtin_function_or_method",
    "instance",
    "_Feature"
   ],
   "window_display": false
  }
 },
 "nbformat": 4,
 "nbformat_minor": 4
}
