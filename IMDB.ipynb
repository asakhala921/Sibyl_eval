{
 "cells": [
  {
   "cell_type": "code",
   "execution_count": 1,
   "metadata": {},
   "outputs": [],
   "source": [
    "%reload_ext autoreload\n",
    "%autoreload 2"
   ]
  },
  {
   "cell_type": "code",
   "execution_count": 78,
   "metadata": {},
   "outputs": [],
   "source": [
    "from transformations.text.contraction.expand_contractions import ExpandContractions\n",
    "from transformations.text.contraction.contract_contractions import ContractContractions\n",
    "from transformations.text.emoji.emojify import Emojify, AddPositiveEmoji, AddNegativeEmoji, AddNeutralEmoji\n",
    "from transformations.text.emoji.demojify import Demojify, RemovePositiveEmoji, RemoveNegativeEmoji, RemoveNeutralEmoji\n",
    "from transformations.text.negation.remove_negation import RemoveNegation\n",
    "from transformations.text.negation.add_negation import AddNegation\n",
    "from transformations.text.contraction.expand_contractions import ExpandContractions\n",
    "from transformations.text.contraction.contract_contractions import ContractContractions\n",
    "from transformations.text.word_swap.change_number import ChangeNumber\n",
    "from transformations.text.word_swap.change_synse import ChangeSynonym, ChangeAntonym, ChangeHyponym, ChangeHypernym\n",
    "from transformations.text.word_swap.word_deletion import WordDeletion\n",
    "from transformations.text.word_swap.homoglyph_swap import HomoglyphSwap\n",
    "from transformations.text.word_swap.random_swap import RandomSwap\n",
    "from transformations.text.insertion.random_insertion import RandomInsertion\n",
    "from transformations.text.insertion.sentiment_phrase import InsertSentimentPhrase, InsertPositivePhrase, InsertNegativePhrase\n",
    "from transformations.text.links.add_sentiment_link import AddSentimentLink, AddPositiveLink, AddNegativeLink\n",
    "from transformations.text.links.import_link_text import ImportLinkText\n",
    "from transformations.text.entities.change_location import ChangeLocation\n",
    "from transformations.text.entities.change_name import ChangeName\n",
    "from transformations.text.typos.char_delete import RandomCharDel\n",
    "from transformations.text.typos.char_insert import RandomCharInsert\n",
    "from transformations.text.typos.char_substitute import RandomCharSubst\n",
    "from transformations.text.typos.char_swap import RandomCharSwap\n",
    "from transformations.text.typos.char_swap_qwerty import RandomSwapQwerty "
   ]
  },
  {
   "cell_type": "code",
   "execution_count": 38,
   "metadata": {},
   "outputs": [],
   "source": [
    "from vaderSentiment.vaderSentiment import SentimentIntensityAnalyzer\n",
    "from datasets import load_dataset"
   ]
  },
  {
   "cell_type": "markdown",
   "metadata": {},
   "source": [
    "### Data"
   ]
  },
  {
   "cell_type": "code",
   "execution_count": 18,
   "metadata": {},
   "outputs": [
    {
     "name": "stderr",
     "output_type": "stream",
     "text": [
      "Reusing dataset imdb (C:\\Users\\fabri\\.cache\\huggingface\\datasets\\imdb\\plain_text\\1.0.0\\90099cb476936b753383ba2ae6ab2eae419b2e87f71cd5189cb9c8e5814d12a3)\n"
     ]
    }
   ],
   "source": [
    "dataset = load_dataset(\"imdb\")"
   ]
  },
  {
   "cell_type": "code",
   "execution_count": 19,
   "metadata": {},
   "outputs": [],
   "source": [
    "n = 5\n",
    "X, y = dataset['train']['text'][:n], dataset['train']['label'][:n]"
   ]
  },
  {
   "cell_type": "markdown",
   "metadata": {},
   "source": [
    "### Sentiment Model\n",
    "just to get some quick feedback on whether the transformations seem to be affecting the prediction"
   ]
  },
  {
   "cell_type": "code",
   "execution_count": 20,
   "metadata": {},
   "outputs": [],
   "source": [
    "def get_sentiment(string):\n",
    "    return analyser.polarity_scores(string)['compound']\n",
    "\n",
    "analyser = SentimentIntensityAnalyzer()"
   ]
  },
  {
   "cell_type": "markdown",
   "metadata": {},
   "source": [
    "### Transformation"
   ]
  },
  {
   "cell_type": "code",
   "execution_count": 79,
   "metadata": {},
   "outputs": [],
   "source": [
    "transformations = [\n",
    "    ExpandContractions,\n",
    "    ContractContractions,\n",
    "    Emojify,\n",
    "    AddPositiveEmoji,\n",
    "    AddNegativeEmoji,\n",
    "    AddNeutralEmoji,\n",
    "    Demojify, \n",
    "    RemovePositiveEmoji,\n",
    "    RemoveNegativeEmoji,\n",
    "    RemoveNeutralEmoji,\n",
    "    ChangeLocation,\n",
    "    ChangeName,\n",
    "    InsertPositivePhrase,\n",
    "    InsertNegativePhrase,\n",
    "    RandomInsertion,\n",
    "    AddPositiveLink,\n",
    "    AddNegativeLink,\n",
    "    ImportLinkText,\n",
    "    AddNegation,\n",
    "    RemoveNegation,\n",
    "#     RandomCharDel,\n",
    "#     RandomCharInsert, \n",
    "#     RandomCharSubst, \n",
    "#     RandomCharSwap, \n",
    "#     RandomSwapQwerty,\n",
    "    ChangeNumber,\n",
    "    ChangeSynonym, \n",
    "    ChangeAntonym, \n",
    "    ChangeHyponym, \n",
    "    ChangeHypernym,\n",
    "    WordDeletion, \n",
    "    HomoglyphSwap, \n",
    "    RandomSwap\n",
    "]"
   ]
  },
  {
   "cell_type": "code",
   "execution_count": 80,
   "metadata": {},
   "outputs": [],
   "source": [
    "import pandas as pd"
   ]
  },
  {
   "cell_type": "code",
   "execution_count": 84,
   "metadata": {},
   "outputs": [],
   "source": [
    "df_all = []\n",
    "for transform in transformations:\n",
    "    t = transform()\n",
    "    df = t.get_tran_types()\n",
    "    df['transformation'] = t.__class__.__name__\n",
    "    df['tran_fn'] = t\n",
    "    df_all.append(df)\n",
    "    \n",
    "df = pd.concat(df_all)"
   ]
  },
  {
   "cell_type": "code",
   "execution_count": 86,
   "metadata": {},
   "outputs": [],
   "source": [
    "task = df['task_name'] == 'sentiment'\n",
    "tran = df['tran_type'] == 'SIB'\n",
    "\n",
    "df_all = df[task & tran]"
   ]
  },
  {
   "cell_type": "code",
   "execution_count": 87,
   "metadata": {},
   "outputs": [
    {
     "data": {
      "text/html": [
       "<div>\n",
       "<style scoped>\n",
       "    .dataframe tbody tr th:only-of-type {\n",
       "        vertical-align: middle;\n",
       "    }\n",
       "\n",
       "    .dataframe tbody tr th {\n",
       "        vertical-align: top;\n",
       "    }\n",
       "\n",
       "    .dataframe thead th {\n",
       "        text-align: right;\n",
       "    }\n",
       "</style>\n",
       "<table border=\"1\" class=\"dataframe\">\n",
       "  <thead>\n",
       "    <tr style=\"text-align: right;\">\n",
       "      <th></th>\n",
       "      <th>task_name</th>\n",
       "      <th>tran_type</th>\n",
       "      <th>transformation</th>\n",
       "      <th>tran_fn</th>\n",
       "    </tr>\n",
       "  </thead>\n",
       "  <tbody>\n",
       "    <tr>\n",
       "      <th>0</th>\n",
       "      <td>sentiment</td>\n",
       "      <td>SIB</td>\n",
       "      <td>AddPositiveEmoji</td>\n",
       "      <td>&lt;transformations.text.emoji.emojify.AddPositiv...</td>\n",
       "    </tr>\n",
       "    <tr>\n",
       "      <th>0</th>\n",
       "      <td>sentiment</td>\n",
       "      <td>SIB</td>\n",
       "      <td>AddNegativeEmoji</td>\n",
       "      <td>&lt;transformations.text.emoji.emojify.AddNegativ...</td>\n",
       "    </tr>\n",
       "    <tr>\n",
       "      <th>0</th>\n",
       "      <td>sentiment</td>\n",
       "      <td>SIB</td>\n",
       "      <td>RemovePositiveEmoji</td>\n",
       "      <td>&lt;transformations.text.emoji.demojify.RemovePos...</td>\n",
       "    </tr>\n",
       "    <tr>\n",
       "      <th>0</th>\n",
       "      <td>sentiment</td>\n",
       "      <td>SIB</td>\n",
       "      <td>RemoveNegativeEmoji</td>\n",
       "      <td>&lt;transformations.text.emoji.demojify.RemoveNeg...</td>\n",
       "    </tr>\n",
       "    <tr>\n",
       "      <th>0</th>\n",
       "      <td>sentiment</td>\n",
       "      <td>SIB</td>\n",
       "      <td>InsertPositivePhrase</td>\n",
       "      <td>&lt;transformations.text.insertion.sentiment_phra...</td>\n",
       "    </tr>\n",
       "    <tr>\n",
       "      <th>0</th>\n",
       "      <td>sentiment</td>\n",
       "      <td>SIB</td>\n",
       "      <td>InsertNegativePhrase</td>\n",
       "      <td>&lt;transformations.text.insertion.sentiment_phra...</td>\n",
       "    </tr>\n",
       "    <tr>\n",
       "      <th>0</th>\n",
       "      <td>sentiment</td>\n",
       "      <td>SIB</td>\n",
       "      <td>AddPositiveLink</td>\n",
       "      <td>&lt;transformations.text.links.add_sentiment_link...</td>\n",
       "    </tr>\n",
       "    <tr>\n",
       "      <th>0</th>\n",
       "      <td>sentiment</td>\n",
       "      <td>SIB</td>\n",
       "      <td>AddNegativeLink</td>\n",
       "      <td>&lt;transformations.text.links.add_sentiment_link...</td>\n",
       "    </tr>\n",
       "    <tr>\n",
       "      <th>0</th>\n",
       "      <td>sentiment</td>\n",
       "      <td>SIB</td>\n",
       "      <td>AddNegation</td>\n",
       "      <td>&lt;transformations.text.negation.add_negation.Ad...</td>\n",
       "    </tr>\n",
       "    <tr>\n",
       "      <th>0</th>\n",
       "      <td>sentiment</td>\n",
       "      <td>SIB</td>\n",
       "      <td>RemoveNegation</td>\n",
       "      <td>&lt;transformations.text.negation.remove_negation...</td>\n",
       "    </tr>\n",
       "    <tr>\n",
       "      <th>0</th>\n",
       "      <td>sentiment</td>\n",
       "      <td>SIB</td>\n",
       "      <td>ChangeAntonym</td>\n",
       "      <td>&lt;transformations.text.word_swap.change_synse.C...</td>\n",
       "    </tr>\n",
       "  </tbody>\n",
       "</table>\n",
       "</div>"
      ],
      "text/plain": [
       "   task_name tran_type        transformation  \\\n",
       "0  sentiment       SIB      AddPositiveEmoji   \n",
       "0  sentiment       SIB      AddNegativeEmoji   \n",
       "0  sentiment       SIB   RemovePositiveEmoji   \n",
       "0  sentiment       SIB   RemoveNegativeEmoji   \n",
       "0  sentiment       SIB  InsertPositivePhrase   \n",
       "0  sentiment       SIB  InsertNegativePhrase   \n",
       "0  sentiment       SIB       AddPositiveLink   \n",
       "0  sentiment       SIB       AddNegativeLink   \n",
       "0  sentiment       SIB           AddNegation   \n",
       "0  sentiment       SIB        RemoveNegation   \n",
       "0  sentiment       SIB         ChangeAntonym   \n",
       "\n",
       "                                             tran_fn  \n",
       "0  <transformations.text.emoji.emojify.AddPositiv...  \n",
       "0  <transformations.text.emoji.emojify.AddNegativ...  \n",
       "0  <transformations.text.emoji.demojify.RemovePos...  \n",
       "0  <transformations.text.emoji.demojify.RemoveNeg...  \n",
       "0  <transformations.text.insertion.sentiment_phra...  \n",
       "0  <transformations.text.insertion.sentiment_phra...  \n",
       "0  <transformations.text.links.add_sentiment_link...  \n",
       "0  <transformations.text.links.add_sentiment_link...  \n",
       "0  <transformations.text.negation.add_negation.Ad...  \n",
       "0  <transformations.text.negation.remove_negation...  \n",
       "0  <transformations.text.word_swap.change_synse.C...  "
      ]
     },
     "execution_count": 87,
     "metadata": {},
     "output_type": "execute_result"
    }
   ],
   "source": [
    "df_all"
   ]
  },
  {
   "cell_type": "code",
   "execution_count": 97,
   "metadata": {},
   "outputs": [
    {
     "data": {
      "text/html": [
       "<div>\n",
       "<style scoped>\n",
       "    .dataframe tbody tr th:only-of-type {\n",
       "        vertical-align: middle;\n",
       "    }\n",
       "\n",
       "    .dataframe tbody tr th {\n",
       "        vertical-align: top;\n",
       "    }\n",
       "\n",
       "    .dataframe thead th {\n",
       "        text-align: right;\n",
       "    }\n",
       "</style>\n",
       "<table border=\"1\" class=\"dataframe\">\n",
       "  <thead>\n",
       "    <tr style=\"text-align: right;\">\n",
       "      <th></th>\n",
       "      <th>task_name</th>\n",
       "      <th>tran_type</th>\n",
       "      <th>transformation</th>\n",
       "      <th>tran_fn</th>\n",
       "    </tr>\n",
       "  </thead>\n",
       "  <tbody>\n",
       "    <tr>\n",
       "      <th>0</th>\n",
       "      <td>sentiment</td>\n",
       "      <td>SIB</td>\n",
       "      <td>AddPositiveEmoji</td>\n",
       "      <td>&lt;transformations.text.emoji.emojify.AddPositiv...</td>\n",
       "    </tr>\n",
       "  </tbody>\n",
       "</table>\n",
       "</div>"
      ],
      "text/plain": [
       "   task_name tran_type    transformation  \\\n",
       "0  sentiment       SIB  AddPositiveEmoji   \n",
       "\n",
       "                                             tran_fn  \n",
       "0  <transformations.text.emoji.emojify.AddPositiv...  "
      ]
     },
     "execution_count": 97,
     "metadata": {},
     "output_type": "execute_result"
    }
   ],
   "source": [
    "df_all.sample(1)"
   ]
  },
  {
   "cell_type": "code",
   "execution_count": 108,
   "metadata": {},
   "outputs": [
    {
     "name": "stdout",
     "output_type": "stream",
     "text": [
      "<class 'zip'>\n",
      "<class 'zip'>\n"
     ]
    }
   ],
   "source": [
    "Xs, ys = set(), set()\n",
    "for x in zip(X, y), zip(Xs, ys):\n",
    "    print(type(x))"
   ]
  },
  {
   "cell_type": "code",
   "execution_count": 136,
   "metadata": {},
   "outputs": [],
   "source": [
    "import random\n",
    "import time"
   ]
  },
  {
   "cell_type": "code",
   "execution_count": 144,
   "metadata": {},
   "outputs": [
    {
     "name": "stdout",
     "output_type": "stream",
     "text": [
      "Time to generate 1000 examples: 17.43 seconds\n"
     ]
    }
   ],
   "source": [
    "Xs, ys = set(X), set(y)\n",
    "num_X = 1000\n",
    "\n",
    "tic = time.perf_counter()\n",
    "while len(Xs) < num_X:\n",
    "    \n",
    "    # sample an (X,y) pair\n",
    "    examples = list(zip(Xs, ys))\n",
    "    example = random.sample(examples, 1)\n",
    "    X_, y_ = zip(*example)\n",
    "    X_, y_ = X_[0], y_[0]\n",
    "    \n",
    "    # print('original sentiment: \\t', get_sentiment(X_))\n",
    "    # print('X_: {}'.format(X_))\n",
    "    # print('y_: {}'.format(y_))\n",
    "\n",
    "    # sample a transformation\n",
    "    t_df = df_all.sample(1)\n",
    "    t_fn = t_df['tran_fn'][0]\n",
    "    t_name = t_df['transformation'][0]\n",
    "\n",
    "    # print(t_name)\n",
    "\n",
    "    new_X_ = t_fn(X_)\n",
    "    new_y_ = 0 if y_ == 1 else 1\n",
    "\n",
    "    Xs.add(new_X_)\n",
    "    ys.add(new_y_)\n",
    "    \n",
    "    # print(len(Xs))\n",
    "\n",
    "    # print('augmented sentiment: \\t', get_sentiment(new_X_))  \n",
    "    # print('new_X_: {}'.format(new_X_))\n",
    "    # print('new_y_: {}'.format(new_y_)) \n",
    "    \n",
    "toc = time.perf_counter()\n",
    "print('Time to generate {0} examples: {1:.2f} seconds'.format(num_X, (toc - tic)))"
   ]
  },
  {
   "cell_type": "code",
   "execution_count": null,
   "metadata": {},
   "outputs": [],
   "source": []
  }
 ],
 "metadata": {
  "kernelspec": {
   "display_name": "Python 3",
   "language": "python",
   "name": "python3"
  },
  "language_info": {
   "codemirror_mode": {
    "name": "ipython",
    "version": 3
   },
   "file_extension": ".py",
   "mimetype": "text/x-python",
   "name": "python",
   "nbconvert_exporter": "python",
   "pygments_lexer": "ipython3",
   "version": "3.8.5"
  },
  "varInspector": {
   "cols": {
    "lenName": 16,
    "lenType": 16,
    "lenVar": 40
   },
   "kernels_config": {
    "python": {
     "delete_cmd_postfix": "",
     "delete_cmd_prefix": "del ",
     "library": "var_list.py",
     "varRefreshCmd": "print(var_dic_list())"
    },
    "r": {
     "delete_cmd_postfix": ") ",
     "delete_cmd_prefix": "rm(",
     "library": "var_list.r",
     "varRefreshCmd": "cat(var_dic_list()) "
    }
   },
   "types_to_exclude": [
    "module",
    "function",
    "builtin_function_or_method",
    "instance",
    "_Feature"
   ],
   "window_display": false
  }
 },
 "nbformat": 4,
 "nbformat_minor": 4
}
