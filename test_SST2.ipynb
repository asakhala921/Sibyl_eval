{
 "cells": [
  {
   "cell_type": "code",
   "execution_count": 1,
   "metadata": {},
   "outputs": [],
   "source": [
    "%reload_ext autoreload\n",
    "%autoreload 2"
   ]
  },
  {
   "cell_type": "code",
   "execution_count": 2,
   "metadata": {},
   "outputs": [],
   "source": [
    "from utils import *\n",
    "\n",
    "from datasets import load_dataset\n",
    "import pandas as pd\n",
    "import random\n",
    "import time\n",
    "import pickle\n",
    "import os"
   ]
  },
  {
   "cell_type": "markdown",
   "metadata": {},
   "source": [
    "# Data"
   ]
  },
  {
   "cell_type": "code",
   "execution_count": 16,
   "metadata": {},
   "outputs": [
    {
     "name": "stderr",
     "output_type": "stream",
     "text": [
      "Reusing dataset glue (C:\\Users\\Fabrice\\.cache\\huggingface\\datasets\\glue\\sst2\\1.0.0\\7c99657241149a24692c402a5c3f34d4c9f1df5ac2e4c3759fadea38f6cb29c4)\n"
     ]
    }
   ],
   "source": [
    "dataset = load_dataset('glue', 'sst2').shuffle()"
   ]
  },
  {
   "cell_type": "markdown",
   "metadata": {},
   "source": [
    "# Evaluation"
   ]
  },
  {
   "cell_type": "code",
   "execution_count": 17,
   "metadata": {},
   "outputs": [],
   "source": [
    "# # generate 100 test suites\n",
    "# test_suites = {}\n",
    "# for i in range(100):\n",
    "#     n = 100\n",
    "#     j = random.randint(0, len(dataset['train']['sentence']) - 1 - n)\n",
    "#     X, y = dataset['train']['sentence'][j:j+n], dataset['train']['label'][j:j+n]\n",
    "#     test_suite = {'data': [str(x) for x in X], 'target': y}\n",
    "#     test_suites[i] = test_suite\n",
    "# pkl_save(test_suites, 'assets/SST2/test_suites.pkl')\n",
    "test_suites = pkl_load('assets/SST2/test_suites.pkl')"
   ]
  },
  {
   "cell_type": "code",
   "execution_count": 25,
   "metadata": {
    "scrolled": true
   },
   "outputs": [
    {
     "name": "stderr",
     "output_type": "stream",
     "text": [
      "100%|████████████████████████████████████████████████████████████████████████████████| 100/100 [01:35<00:00,  1.05it/s]\n"
     ]
    }
   ],
   "source": [
    "INV_test_suites = transform_test_suites(test_suites, num_transforms=2, task='sentiment', tran='INV')\n",
    "pkl_save(INV_test_suites, 'assets/SST2/INV_test_suites.pkl')"
   ]
  },
  {
   "cell_type": "code",
   "execution_count": 26,
   "metadata": {},
   "outputs": [
    {
     "name": "stderr",
     "output_type": "stream",
     "text": [
      "100%|████████████████████████████████████████████████████████████████████████████████| 100/100 [01:09<00:00,  1.43it/s]\n"
     ]
    }
   ],
   "source": [
    "SIB_test_suites = transform_test_suites(test_suites, num_transforms=2, task='sentiment', tran='SIB')\n",
    "pkl_save(SIB_test_suites, 'assets/SST2/SIB_test_suites.pkl')"
   ]
  },
  {
   "cell_type": "code",
   "execution_count": 28,
   "metadata": {},
   "outputs": [
    {
     "name": "stderr",
     "output_type": "stream",
     "text": [
      "100%|████████████████████████████████████████████████████████████████████████████████| 100/100 [01:59<00:00,  1.19s/it]\n"
     ]
    }
   ],
   "source": [
    "both_test_suites = transform_test_suites(test_suites, num_transforms=2, task='sentiment', tran=None)\n",
    "pkl_save(both_test_suites, 'assets/SST2/both_test_suites.pkl')"
   ]
  },
  {
   "cell_type": "markdown",
   "metadata": {},
   "source": [
    "# Testing"
   ]
  },
  {
   "cell_type": "code",
   "execution_count": 3,
   "metadata": {},
   "outputs": [],
   "source": [
    "test_suites = pkl_load('assets/SST2/test_suites.pkl')\n",
    "INV_test_suites = pkl_load('assets/SST2/INV_test_suites.pkl')\n",
    "SIB_test_suites = pkl_load('assets/SST2/SIB_test_suites.pkl')\n",
    "both_test_suites = pkl_load('assets/SST2/both_test_suites.pkl')"
   ]
  },
  {
   "cell_type": "code",
   "execution_count": 4,
   "metadata": {},
   "outputs": [],
   "source": [
    "def get_acc(y_pred, y_true):\n",
    "    total = y_true.size(0)\n",
    "    correct = (y_pred == y_true).sum().item()\n",
    "    return correct / total"
   ]
  },
  {
   "cell_type": "code",
   "execution_count": 5,
   "metadata": {},
   "outputs": [
    {
     "data": {
      "application/vnd.jupyter.widget-view+json": {
       "model_id": "fe9bb1f710d647cb96102f735b777e1d",
       "version_major": 2,
       "version_minor": 0
      },
      "text/plain": [
       "HBox(children=(HTML(value='Downloading'), FloatProgress(value=0.0, max=477.0), HTML(value='')))"
      ]
     },
     "metadata": {},
     "output_type": "display_data"
    },
    {
     "name": "stdout",
     "output_type": "stream",
     "text": [
      "\n"
     ]
    },
    {
     "data": {
      "application/vnd.jupyter.widget-view+json": {
       "model_id": "c2e495b6515d45a381e33c24844b8bb1",
       "version_major": 2,
       "version_minor": 0
      },
      "text/plain": [
       "HBox(children=(HTML(value='Downloading'), FloatProgress(value=0.0, max=231508.0), HTML(value='')))"
      ]
     },
     "metadata": {},
     "output_type": "display_data"
    },
    {
     "name": "stdout",
     "output_type": "stream",
     "text": [
      "\n"
     ]
    },
    {
     "data": {
      "application/vnd.jupyter.widget-view+json": {
       "model_id": "eaf9d797880546ac9a2f0f530d7a6999",
       "version_major": 2,
       "version_minor": 0
      },
      "text/plain": [
       "HBox(children=(HTML(value='Downloading'), FloatProgress(value=0.0, max=112.0), HTML(value='')))"
      ]
     },
     "metadata": {},
     "output_type": "display_data"
    },
    {
     "name": "stdout",
     "output_type": "stream",
     "text": [
      "\n"
     ]
    },
    {
     "data": {
      "application/vnd.jupyter.widget-view+json": {
       "model_id": "d94fdbf2d876425f9394e37865a6c95a",
       "version_major": 2,
       "version_minor": 0
      },
      "text/plain": [
       "HBox(children=(HTML(value='Downloading'), FloatProgress(value=0.0, max=48.0), HTML(value='')))"
      ]
     },
     "metadata": {},
     "output_type": "display_data"
    },
    {
     "name": "stdout",
     "output_type": "stream",
     "text": [
      "\n"
     ]
    },
    {
     "data": {
      "application/vnd.jupyter.widget-view+json": {
       "model_id": "5ebb21329a704b69aca43c08d57ce7e6",
       "version_major": 2,
       "version_minor": 0
      },
      "text/plain": [
       "HBox(children=(HTML(value='Downloading'), FloatProgress(value=0.0, max=437985387.0), HTML(value='')))"
      ]
     },
     "metadata": {},
     "output_type": "display_data"
    },
    {
     "name": "stdout",
     "output_type": "stream",
     "text": [
      "\n"
     ]
    }
   ],
   "source": [
    "import torch\n",
    "from transformers import AutoTokenizer, AutoModelForSequenceClassification\n",
    "\n",
    "# device = torch.device(\"cuda\" if torch.cuda.is_available() else \"cpu\")\n",
    "device = torch.device(\"cpu\")\n",
    "\n",
    "def load_huggingface_model(model_name, device, max_length=500):\n",
    "    tokenizer = AutoTokenizer.from_pretrained(model_name,)\n",
    "    model = AutoModelForSequenceClassification.from_pretrained(model_name).to(device)\n",
    "    def pipeline(sentence):\n",
    "        encode = tokenizer(sentence, \n",
    "                           padding=True, \n",
    "                           truncation=True, \n",
    "                           max_length=max_length, \n",
    "                           return_tensors=\"pt\").to(device)\n",
    "        logits = model(**encode)[0]\n",
    "        soft_m = torch.softmax(logits, dim=1)\n",
    "        return soft_m\n",
    "    return pipeline\n",
    "\n",
    "MODEL_NAME = \"textattack/bert-base-uncased-SST-2\"\n",
    "model = load_huggingface_model(MODEL_NAME, device, 250)"
   ]
  },
  {
   "cell_type": "code",
   "execution_count": 6,
   "metadata": {},
   "outputs": [],
   "source": [
    "tss = {\n",
    "    'test_suites' : test_suites,\n",
    "    'INV_test_suites' : INV_test_suites,\n",
    "    'SIB_test_suites' : SIB_test_suites,\n",
    "    'both_test_suites' : both_test_suites\n",
    "}"
   ]
  },
  {
   "cell_type": "code",
   "execution_count": 8,
   "metadata": {
    "scrolled": true
   },
   "outputs": [
    {
     "name": "stdout",
     "output_type": "stream",
     "text": [
      "starting test_suites...\n",
      "test suite 0 acc: 0.99\n",
      "test suite 1 acc: 1.0\n",
      "test suite 2 acc: 1.0\n",
      "test suite 3 acc: 0.99\n",
      "test suite 4 acc: 0.99\n",
      "test suite 5 acc: 0.98\n",
      "test suite 6 acc: 0.96\n",
      "test suite 7 acc: 0.97\n",
      "test suite 8 acc: 0.99\n",
      "test suite 9 acc: 1.0\n",
      "test suite 10 acc: 0.99\n",
      "test suite 11 acc: 0.99\n",
      "test suite 12 acc: 0.99\n",
      "test suite 13 acc: 0.99\n",
      "test suite 14 acc: 1.0\n",
      "test suite 15 acc: 1.0\n",
      "test suite 16 acc: 0.99\n",
      "test suite 17 acc: 0.99\n",
      "test suite 18 acc: 0.96\n",
      "test suite 19 acc: 0.98\n",
      "test suite 20 acc: 0.99\n",
      "test suite 21 acc: 0.99\n",
      "test suite 22 acc: 0.96\n",
      "test suite 23 acc: 0.98\n",
      "test suite 24 acc: 0.99\n",
      "test suite 25 acc: 0.97\n",
      "test suite 26 acc: 0.98\n",
      "test suite 27 acc: 0.98\n",
      "test suite 28 acc: 0.98\n",
      "test suite 29 acc: 0.96\n",
      "test suite 30 acc: 0.99\n",
      "test suite 31 acc: 1.0\n",
      "test suite 32 acc: 0.99\n",
      "test suite 33 acc: 1.0\n",
      "test suite 34 acc: 0.99\n",
      "test suite 35 acc: 0.98\n",
      "test suite 36 acc: 0.96\n",
      "test suite 37 acc: 0.97\n",
      "test suite 38 acc: 0.98\n",
      "test suite 39 acc: 1.0\n",
      "test suite 40 acc: 0.98\n",
      "test suite 41 acc: 1.0\n",
      "test suite 42 acc: 0.99\n",
      "test suite 43 acc: 0.99\n",
      "test suite 44 acc: 1.0\n",
      "test suite 45 acc: 0.99\n",
      "test suite 46 acc: 0.99\n",
      "test suite 47 acc: 1.0\n",
      "test suite 48 acc: 0.96\n",
      "test suite 49 acc: 0.97\n",
      "test suite 50 acc: 0.98\n",
      "test suite 51 acc: 0.98\n",
      "test suite 52 acc: 0.99\n",
      "test suite 53 acc: 1.0\n",
      "test suite 54 acc: 0.97\n",
      "test suite 55 acc: 0.99\n",
      "test suite 56 acc: 0.98\n",
      "test suite 57 acc: 0.99\n",
      "test suite 58 acc: 1.0\n",
      "test suite 59 acc: 0.99\n",
      "test suite 60 acc: 0.99\n",
      "test suite 61 acc: 0.99\n",
      "test suite 62 acc: 0.98\n",
      "test suite 63 acc: 1.0\n",
      "test suite 64 acc: 0.99\n",
      "test suite 65 acc: 0.98\n",
      "test suite 66 acc: 0.99\n",
      "test suite 67 acc: 0.98\n",
      "test suite 68 acc: 0.98\n",
      "test suite 69 acc: 0.99\n",
      "test suite 70 acc: 0.98\n",
      "test suite 71 acc: 0.99\n",
      "test suite 72 acc: 0.99\n",
      "test suite 73 acc: 0.96\n",
      "test suite 74 acc: 0.98\n",
      "test suite 75 acc: 0.96\n",
      "test suite 76 acc: 0.99\n",
      "test suite 77 acc: 1.0\n",
      "test suite 78 acc: 0.98\n",
      "test suite 79 acc: 1.0\n",
      "test suite 80 acc: 0.97\n",
      "test suite 81 acc: 0.97\n",
      "test suite 82 acc: 1.0\n",
      "test suite 83 acc: 1.0\n",
      "test suite 84 acc: 0.99\n",
      "test suite 85 acc: 0.99\n",
      "test suite 86 acc: 1.0\n",
      "test suite 87 acc: 0.99\n",
      "test suite 88 acc: 0.97\n",
      "test suite 89 acc: 1.0\n",
      "test suite 90 acc: 0.98\n",
      "test suite 91 acc: 0.99\n",
      "test suite 92 acc: 0.99\n",
      "test suite 93 acc: 1.0\n",
      "test suite 94 acc: 0.99\n",
      "test suite 95 acc: 0.99\n",
      "test suite 96 acc: 0.98\n",
      "test suite 97 acc: 1.0\n",
      "test suite 98 acc: 0.99\n",
      "test suite 99 acc: 0.99\n",
      "saving assets/SST2/test_suites_w_acc.pkl\n",
      "starting INV_test_suites...\n",
      "test suite 0 acc: 0.8\n",
      "test suite 1 acc: 0.76\n",
      "test suite 2 acc: 0.78\n",
      "test suite 3 acc: 0.89\n",
      "test suite 4 acc: 0.81\n",
      "test suite 5 acc: 0.67\n",
      "test suite 6 acc: 0.76\n",
      "test suite 7 acc: 0.81\n",
      "test suite 8 acc: 0.76\n",
      "test suite 9 acc: 0.83\n",
      "test suite 10 acc: 0.78\n",
      "test suite 11 acc: 0.75\n",
      "test suite 12 acc: 0.77\n",
      "test suite 13 acc: 0.78\n",
      "test suite 14 acc: 0.76\n",
      "test suite 15 acc: 0.84\n",
      "test suite 16 acc: 0.78\n",
      "test suite 17 acc: 0.83\n",
      "test suite 18 acc: 0.72\n",
      "test suite 19 acc: 0.8\n",
      "test suite 20 acc: 0.77\n",
      "test suite 21 acc: 0.84\n",
      "test suite 22 acc: 0.79\n",
      "test suite 23 acc: 0.8\n",
      "test suite 24 acc: 0.82\n",
      "test suite 25 acc: 0.8\n",
      "test suite 26 acc: 0.77\n",
      "test suite 27 acc: 0.74\n",
      "test suite 28 acc: 0.78\n",
      "test suite 29 acc: 0.75\n",
      "test suite 30 acc: 0.77\n",
      "test suite 31 acc: 0.77\n",
      "test suite 32 acc: 0.75\n",
      "test suite 33 acc: 0.77\n",
      "test suite 34 acc: 0.75\n",
      "test suite 35 acc: 0.75\n",
      "test suite 36 acc: 0.79\n",
      "test suite 37 acc: 0.75\n",
      "test suite 38 acc: 0.87\n",
      "test suite 39 acc: 0.7\n",
      "test suite 40 acc: 0.84\n",
      "test suite 41 acc: 0.79\n",
      "test suite 42 acc: 0.81\n",
      "test suite 43 acc: 0.83\n",
      "test suite 44 acc: 0.83\n",
      "test suite 45 acc: 0.68\n",
      "test suite 46 acc: 0.76\n",
      "test suite 47 acc: 0.79\n",
      "test suite 48 acc: 0.75\n",
      "test suite 49 acc: 0.76\n",
      "test suite 50 acc: 0.76\n",
      "test suite 51 acc: 0.79\n",
      "test suite 52 acc: 0.82\n",
      "test suite 53 acc: 0.71\n",
      "test suite 54 acc: 0.77\n",
      "test suite 55 acc: 0.79\n",
      "test suite 56 acc: 0.73\n",
      "test suite 57 acc: 0.8\n",
      "test suite 58 acc: 0.79\n",
      "test suite 59 acc: 0.82\n",
      "test suite 60 acc: 0.85\n",
      "test suite 61 acc: 0.79\n",
      "test suite 62 acc: 0.89\n",
      "test suite 63 acc: 0.8\n",
      "test suite 64 acc: 0.76\n",
      "test suite 65 acc: 0.81\n",
      "test suite 66 acc: 0.78\n",
      "test suite 67 acc: 0.81\n",
      "test suite 68 acc: 0.74\n",
      "test suite 69 acc: 0.76\n",
      "test suite 70 acc: 0.75\n",
      "test suite 71 acc: 0.72\n",
      "test suite 72 acc: 0.82\n",
      "test suite 73 acc: 0.85\n",
      "test suite 74 acc: 0.8\n",
      "test suite 75 acc: 0.87\n",
      "test suite 76 acc: 0.83\n",
      "test suite 77 acc: 0.76\n",
      "test suite 78 acc: 0.79\n",
      "test suite 79 acc: 0.81\n",
      "test suite 80 acc: 0.85\n",
      "test suite 81 acc: 0.84\n",
      "test suite 82 acc: 0.82\n",
      "test suite 83 acc: 0.8\n",
      "test suite 84 acc: 0.82\n",
      "test suite 85 acc: 0.75\n",
      "test suite 86 acc: 0.78\n",
      "test suite 87 acc: 0.85\n",
      "test suite 88 acc: 0.73\n",
      "test suite 89 acc: 0.84\n",
      "test suite 90 acc: 0.78\n",
      "test suite 91 acc: 0.8\n",
      "test suite 92 acc: 0.75\n",
      "test suite 93 acc: 0.82\n",
      "test suite 94 acc: 0.8\n",
      "test suite 95 acc: 0.73\n",
      "test suite 96 acc: 0.78\n",
      "test suite 97 acc: 0.77\n",
      "test suite 98 acc: 0.76\n",
      "test suite 99 acc: 0.81\n",
      "saving assets/SST2/INV_test_suites_w_acc.pkl\n",
      "starting SIB_test_suites...\n",
      "test suite 0 acc: 0.59\n",
      "test suite 1 acc: 0.65\n",
      "test suite 2 acc: 0.64\n",
      "test suite 3 acc: 0.52\n",
      "test suite 4 acc: 0.7\n",
      "test suite 5 acc: 0.52\n",
      "test suite 6 acc: 0.62\n",
      "test suite 7 acc: 0.67\n",
      "test suite 8 acc: 0.58\n",
      "test suite 9 acc: 0.52\n",
      "test suite 10 acc: 0.59\n",
      "test suite 11 acc: 0.63\n",
      "test suite 12 acc: 0.6\n",
      "test suite 13 acc: 0.59\n",
      "test suite 14 acc: 0.53\n",
      "test suite 15 acc: 0.61\n",
      "test suite 16 acc: 0.61\n",
      "test suite 17 acc: 0.58\n",
      "test suite 18 acc: 0.62\n",
      "test suite 19 acc: 0.62\n",
      "test suite 20 acc: 0.62\n",
      "test suite 21 acc: 0.58\n",
      "test suite 22 acc: 0.63\n",
      "test suite 23 acc: 0.64\n",
      "test suite 24 acc: 0.59\n",
      "test suite 25 acc: 0.59\n",
      "test suite 26 acc: 0.61\n",
      "test suite 27 acc: 0.66\n",
      "test suite 28 acc: 0.53\n",
      "test suite 29 acc: 0.55\n",
      "test suite 30 acc: 0.6\n",
      "test suite 31 acc: 0.61\n",
      "test suite 32 acc: 0.59\n",
      "test suite 33 acc: 0.62\n",
      "test suite 34 acc: 0.67\n",
      "test suite 35 acc: 0.64\n",
      "test suite 36 acc: 0.63\n",
      "test suite 37 acc: 0.65\n",
      "test suite 38 acc: 0.6\n",
      "test suite 39 acc: 0.62\n",
      "test suite 40 acc: 0.65\n",
      "test suite 41 acc: 0.67\n",
      "test suite 42 acc: 0.6\n",
      "test suite 43 acc: 0.64\n",
      "test suite 44 acc: 0.55\n",
      "test suite 45 acc: 0.48\n",
      "test suite 46 acc: 0.7\n",
      "test suite 47 acc: 0.5\n",
      "test suite 48 acc: 0.62\n",
      "test suite 49 acc: 0.61\n",
      "test suite 50 acc: 0.62\n",
      "test suite 51 acc: 0.61\n",
      "test suite 52 acc: 0.57\n",
      "test suite 53 acc: 0.55\n",
      "test suite 54 acc: 0.61\n",
      "test suite 55 acc: 0.7\n",
      "test suite 56 acc: 0.58\n",
      "test suite 57 acc: 0.63\n",
      "test suite 58 acc: 0.56\n",
      "test suite 59 acc: 0.54\n",
      "test suite 60 acc: 0.61\n",
      "test suite 61 acc: 0.65\n",
      "test suite 62 acc: 0.56\n",
      "test suite 63 acc: 0.61\n",
      "test suite 64 acc: 0.55\n",
      "test suite 65 acc: 0.53\n",
      "test suite 66 acc: 0.51\n",
      "test suite 67 acc: 0.54\n",
      "test suite 68 acc: 0.61\n",
      "test suite 69 acc: 0.54\n",
      "test suite 70 acc: 0.6\n",
      "test suite 71 acc: 0.7\n",
      "test suite 72 acc: 0.55\n",
      "test suite 73 acc: 0.55\n",
      "test suite 74 acc: 0.62\n",
      "test suite 75 acc: 0.61\n",
      "test suite 76 acc: 0.6\n",
      "test suite 77 acc: 0.54\n",
      "test suite 78 acc: 0.56\n",
      "test suite 79 acc: 0.67\n",
      "test suite 80 acc: 0.64\n",
      "test suite 81 acc: 0.6\n",
      "test suite 82 acc: 0.65\n",
      "test suite 83 acc: 0.64\n",
      "test suite 84 acc: 0.63\n",
      "test suite 85 acc: 0.6\n",
      "test suite 86 acc: 0.6\n",
      "test suite 87 acc: 0.64\n",
      "test suite 88 acc: 0.54\n",
      "test suite 89 acc: 0.65\n",
      "test suite 90 acc: 0.58\n",
      "test suite 91 acc: 0.62\n",
      "test suite 92 acc: 0.65\n",
      "test suite 93 acc: 0.65\n",
      "test suite 94 acc: 0.62\n",
      "test suite 95 acc: 0.63\n",
      "test suite 96 acc: 0.64\n",
      "test suite 97 acc: 0.58\n",
      "test suite 98 acc: 0.6\n",
      "test suite 99 acc: 0.58\n",
      "saving assets/SST2/SIB_test_suites_w_acc.pkl\n",
      "starting both_test_suites...\n",
      "test suite 0 acc: 0.66\n",
      "test suite 1 acc: 0.67\n",
      "test suite 2 acc: 0.77\n",
      "test suite 3 acc: 0.64\n",
      "test suite 4 acc: 0.63\n",
      "test suite 5 acc: 0.75\n",
      "test suite 6 acc: 0.68\n",
      "test suite 7 acc: 0.6\n",
      "test suite 8 acc: 0.66\n",
      "test suite 9 acc: 0.64\n",
      "test suite 10 acc: 0.62\n",
      "test suite 11 acc: 0.65\n",
      "test suite 12 acc: 0.62\n",
      "test suite 13 acc: 0.69\n",
      "test suite 14 acc: 0.58\n",
      "test suite 15 acc: 0.74\n",
      "test suite 16 acc: 0.69\n",
      "test suite 17 acc: 0.59\n",
      "test suite 18 acc: 0.57\n",
      "test suite 19 acc: 0.69\n",
      "test suite 20 acc: 0.59\n",
      "test suite 21 acc: 0.66\n",
      "test suite 22 acc: 0.62\n",
      "test suite 23 acc: 0.62\n",
      "test suite 24 acc: 0.61\n",
      "test suite 25 acc: 0.62\n",
      "test suite 26 acc: 0.71\n",
      "test suite 27 acc: 0.61\n",
      "test suite 28 acc: 0.56\n",
      "test suite 29 acc: 0.66\n",
      "test suite 30 acc: 0.64\n",
      "test suite 31 acc: 0.59\n",
      "test suite 32 acc: 0.68\n",
      "test suite 33 acc: 0.64\n",
      "test suite 34 acc: 0.6\n",
      "test suite 35 acc: 0.71\n"
     ]
    },
    {
     "name": "stdout",
     "output_type": "stream",
     "text": [
      "test suite 36 acc: 0.64\n",
      "test suite 37 acc: 0.68\n",
      "test suite 38 acc: 0.65\n",
      "test suite 39 acc: 0.58\n",
      "test suite 40 acc: 0.75\n",
      "test suite 41 acc: 0.58\n",
      "test suite 42 acc: 0.69\n",
      "test suite 43 acc: 0.64\n",
      "test suite 44 acc: 0.61\n",
      "test suite 45 acc: 0.68\n",
      "test suite 46 acc: 0.67\n",
      "test suite 47 acc: 0.61\n",
      "test suite 48 acc: 0.63\n",
      "test suite 49 acc: 0.72\n",
      "test suite 50 acc: 0.57\n",
      "test suite 51 acc: 0.64\n",
      "test suite 52 acc: 0.54\n",
      "test suite 53 acc: 0.62\n",
      "test suite 54 acc: 0.64\n",
      "test suite 55 acc: 0.65\n",
      "test suite 56 acc: 0.58\n",
      "test suite 57 acc: 0.67\n",
      "test suite 58 acc: 0.58\n",
      "test suite 59 acc: 0.65\n",
      "test suite 60 acc: 0.71\n",
      "test suite 61 acc: 0.69\n",
      "test suite 62 acc: 0.64\n",
      "test suite 63 acc: 0.65\n",
      "test suite 64 acc: 0.59\n",
      "test suite 65 acc: 0.68\n",
      "test suite 66 acc: 0.63\n",
      "test suite 67 acc: 0.64\n",
      "test suite 68 acc: 0.66\n",
      "test suite 69 acc: 0.57\n",
      "test suite 70 acc: 0.67\n",
      "test suite 71 acc: 0.59\n",
      "test suite 72 acc: 0.59\n",
      "test suite 73 acc: 0.63\n",
      "test suite 74 acc: 0.58\n",
      "test suite 75 acc: 0.6\n",
      "test suite 76 acc: 0.64\n",
      "test suite 77 acc: 0.61\n",
      "test suite 78 acc: 0.65\n",
      "test suite 79 acc: 0.65\n",
      "test suite 80 acc: 0.6\n",
      "test suite 81 acc: 0.61\n",
      "test suite 82 acc: 0.58\n",
      "test suite 83 acc: 0.62\n",
      "test suite 84 acc: 0.67\n",
      "test suite 85 acc: 0.53\n",
      "test suite 86 acc: 0.63\n",
      "test suite 87 acc: 0.6\n",
      "test suite 88 acc: 0.61\n",
      "test suite 89 acc: 0.6\n",
      "test suite 90 acc: 0.66\n",
      "test suite 91 acc: 0.73\n",
      "test suite 92 acc: 0.7\n",
      "test suite 93 acc: 0.51\n",
      "test suite 94 acc: 0.63\n",
      "test suite 95 acc: 0.67\n",
      "test suite 96 acc: 0.62\n",
      "test suite 97 acc: 0.6\n",
      "test suite 98 acc: 0.65\n",
      "test suite 99 acc: 0.64\n",
      "saving assets/SST2/both_test_suites_w_acc.pkl\n"
     ]
    }
   ],
   "source": [
    "for t_name, test_suites in tss.items():\n",
    "    print('starting {}...'.format(t_name))\n",
    "    for idx, t in test_suites.items():\n",
    "        logits = model([str(x) for x in t['data']])\n",
    "        y_pred = torch.argmax(logits, dim=1)\n",
    "        y_true = torch.tensor(t['target'])\n",
    "        acc = get_acc(y_pred, y_true)\n",
    "        t['performance'] = {\n",
    "            'MODEL_NAME' : MODEL_NAME,\n",
    "            'acc' : acc\n",
    "        }\n",
    "        print('test suite {} acc: {}'.format(idx, acc))\n",
    "    file_path = 'assets/SST2/' + t_name + '_w_acc.pkl'\n",
    "    pkl_save(test_suites, file_path)\n",
    "    print('saving {}'.format(file_path))"
   ]
  },
  {
   "cell_type": "code",
   "execution_count": 9,
   "metadata": {},
   "outputs": [
    {
     "name": "stdout",
     "output_type": "stream",
     "text": [
      "average acc: 0.99 | test_suites\n",
      "average acc: 0.79 | INV_test_suites\n",
      "average acc: 0.60 | SIB_test_suites\n",
      "average acc: 0.64 | both_test_suites\n"
     ]
    }
   ],
   "source": [
    "# BERT\n",
    "for t_name, test_suites in tss.items():\n",
    "    count = 0\n",
    "    total = 0\n",
    "    for idx, t in test_suites.items():\n",
    "        total += t['performance']['acc']\n",
    "        count += 1\n",
    "    avg_acc = total / count\n",
    "    print('average acc: {0:1.2f} | {1}'.format(avg_acc, t_name))"
   ]
  },
  {
   "cell_type": "markdown",
   "metadata": {},
   "source": [
    "# Sample some transforms to see if they're reasonable"
   ]
  },
  {
   "cell_type": "code",
   "execution_count": null,
   "metadata": {},
   "outputs": [],
   "source": [
    "import csv"
   ]
  },
  {
   "cell_type": "code",
   "execution_count": 8,
   "metadata": {},
   "outputs": [],
   "source": [
    "filename = \"./assets/csv_examples/sst2_inv_examples.csv\"\n",
    "    \n",
    "# writing to csv file  \n",
    "with open(filename, 'w') as csvfile:  \n",
    "    # creating a csv writer object  \n",
    "    csvwriter = csv.writer(csvfile)  \n",
    "    csvwriter.writerow(['text', 'label', 'sound good?'])\n",
    "    # writing the fields  \n",
    "    for i in range(50):\n",
    "        row = [INV_test_suites[i]['data'][i], INV_test_suites[i]['target'][i], True ]#, INV_test_suites[i]['ts'][i] ]\n",
    "        csvwriter.writerow(row)"
   ]
  },
  {
   "cell_type": "code",
   "execution_count": 9,
   "metadata": {},
   "outputs": [],
   "source": [
    "filename = \"./assets/csv_examples/sst2_sib_examples.csv\"\n",
    "    \n",
    "# writing to csv file  \n",
    "with open(filename, 'w') as csvfile:  \n",
    "    # creating a csv writer object  \n",
    "    csvwriter = csv.writer(csvfile)  \n",
    "    csvwriter.writerow(['text', 'label', 'sound good?'])\n",
    "    # writing the fields  \n",
    "    for i in range(50):\n",
    "        row = [SIB_test_suites[i]['data'][i], SIB_test_suites[i]['target'][i], True ]#, INV_test_suites[i]['ts'][i] ]\n",
    "        csvwriter.writerow(row)"
   ]
  }
 ],
 "metadata": {
  "kernelspec": {
   "display_name": "Python 3",
   "language": "python",
   "name": "python3"
  },
  "language_info": {
   "codemirror_mode": {
    "name": "ipython",
    "version": 3
   },
   "file_extension": ".py",
   "mimetype": "text/x-python",
   "name": "python",
   "nbconvert_exporter": "python",
   "pygments_lexer": "ipython3",
   "version": "3.8.5"
  },
  "varInspector": {
   "cols": {
    "lenName": 16,
    "lenType": 16,
    "lenVar": 40
   },
   "kernels_config": {
    "python": {
     "delete_cmd_postfix": "",
     "delete_cmd_prefix": "del ",
     "library": "var_list.py",
     "varRefreshCmd": "print(var_dic_list())"
    },
    "r": {
     "delete_cmd_postfix": ") ",
     "delete_cmd_prefix": "rm(",
     "library": "var_list.r",
     "varRefreshCmd": "cat(var_dic_list()) "
    }
   },
   "types_to_exclude": [
    "module",
    "function",
    "builtin_function_or_method",
    "instance",
    "_Feature"
   ],
   "window_display": false
  }
 },
 "nbformat": 4,
 "nbformat_minor": 4
}
