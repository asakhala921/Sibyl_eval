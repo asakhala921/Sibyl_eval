{
 "cells": [
  {
   "cell_type": "code",
   "execution_count": 1,
   "metadata": {},
   "outputs": [],
   "source": [
    "%reload_ext autoreload\n",
    "%autoreload 2"
   ]
  },
  {
   "cell_type": "code",
   "execution_count": 2,
   "metadata": {},
   "outputs": [],
   "source": [
    "from utils import *\n",
    "from transforms import *\n",
    "from datasets import load_dataset, Dataset"
   ]
  },
  {
   "cell_type": "code",
   "execution_count": 3,
   "metadata": {},
   "outputs": [],
   "source": [
    "df = init_transforms(meta=True)"
   ]
  },
  {
   "cell_type": "code",
   "execution_count": 4,
   "metadata": {},
   "outputs": [],
   "source": [
    "datasets = [('glue', 'sst2'), 'ag_news']\n",
    "tasks = df.task_name.unique().tolist()\n",
    "trans = df.tran_type.unique().tolist()\n",
    "labels = df.label_type.unique().tolist()\n",
    "\n",
    "tasks.reverse()\n",
    "trans.reverse()"
   ]
  },
  {
   "cell_type": "code",
   "execution_count": 5,
   "metadata": {},
   "outputs": [],
   "source": [
    "def one_hot_encode(y, nb_classes):\n",
    "    if isinstance(y, np.ndarray):\n",
    "        return y\n",
    "    y = np.array(y)\n",
    "    res = np.eye(nb_classes)[np.array(y).reshape(-1)]\n",
    "    return res.reshape(list(y.shape)+[nb_classes])\n",
    "\n",
    "def sample_Xy(text, label, num_sample=1):\n",
    "    idx = np.random.randint(0, len(text), num_sample)\n",
    "    return list(np.array(text)[idx]), list(np.array(label)[idx])"
   ]
  },
  {
   "cell_type": "code",
   "execution_count": 159,
   "metadata": {},
   "outputs": [
    {
     "name": "stderr",
     "output_type": "stream",
     "text": [
      "Reusing dataset glue (C:\\Users\\sleev\\.cache\\huggingface\\datasets\\glue\\sst2\\1.0.0\\7c99657241149a24692c402a5c3f34d4c9f1df5ac2e4c3759fadea38f6cb29c4)\n",
      "100%|█████████████████████████████████████████████████████████████████████████████████| 68/68 [00:00<00:00, 514.08it/s]\n",
      "100%|██████████████████████████████████████████████████████████████████████████████████| 68/68 [00:02<00:00, 30.68it/s]\n",
      "100%|█████████████████████████████████████████████████████████████████████████████████| 68/68 [00:00<00:00, 185.28it/s]\n"
     ]
    }
   ],
   "source": [
    "dataset = load_dataset('glue', 'sst2')['train']\n",
    "dataset.rename_column_('sentence', 'text')\n",
    "\n",
    "text, label = dataset['text'], dataset['label'] \n",
    "new_text, new_label = [], []\n",
    "    \n",
    "text = np.array([str(x).encode('utf-8') for x in text], dtype=np.string_)\n",
    "label = pd.get_dummies(label).to_numpy(dtype=np.float)\n",
    "    \n",
    "batch_size= 1000\n",
    "\n",
    "for t in [TextMix(), SentMix(), WordMix()]:\n",
    "\n",
    "    for i in tqdm(range(0, len(label), batch_size)):\n",
    "        text_batch = text[i:i+batch_size]\n",
    "        label_batch = label[i:i+batch_size]\n",
    "        batch = (text_batch, label_batch)\n",
    "        batch = t(batch)\n",
    "        new_text.extend(batch[0].tolist())\n",
    "        new_label.extend(batch[1].tolist())\n",
    "\n",
    "    save_dir = os.path.join('assets', 'SST2', t.__class__.__name__)\n",
    "    npy_save(os.path.join(save_dir, 'text_test'), [str(x).encode('utf-8') for x in new_text])\n",
    "    npy_save(os.path.join(save_dir, 'label_test'), new_label)"
   ]
  },
  {
   "cell_type": "code",
   "execution_count": 534,
   "metadata": {},
   "outputs": [
    {
     "name": "stderr",
     "output_type": "stream",
     "text": [
      "Reusing dataset glue (C:\\Users\\Fabrice\\.cache\\huggingface\\datasets\\glue\\sst2\\1.0.0\\7c99657241149a24692c402a5c3f34d4c9f1df5ac2e4c3759fadea38f6cb29c4)\n",
      "100%|████████████████████████████████████████████████████████████████████████████| 67349/67349 [22:58<00:00, 48.86it/s]\n"
     ]
    }
   ],
   "source": [
    "dataset = load_dataset('glue', 'sst2')['train']\n",
    "dataset.rename_column_('sentence', 'text')\n",
    "task = 'sentiment'\n",
    "\n",
    "new_text, new_label, trans = transform_dataset_INVSIB(dataset, task_type=task)\n",
    "\n",
    "save_dir = os.path.join('assets', 'sst2', task, 'INVSIB')\n",
    "npy_save(os.path.join(save_dir, 'text'), new_text)\n",
    "npy_save(os.path.join(save_dir, 'label'), new_label)\n",
    "npy_save(os.path.join(save_dir, 'trans'), trans)"
   ]
  },
  {
   "cell_type": "code",
   "execution_count": 152,
   "metadata": {},
   "outputs": [
    {
     "name": "stderr",
     "output_type": "stream",
     "text": [
      "Using custom data configuration default\n",
      "Reusing dataset ag_news (C:\\Users\\sleev\\.cache\\huggingface\\datasets\\ag_news\\default\\0.0.0\\fb5c5e74a110037311ef5e904583ce9f8b9fbc1354290f97b4929f01b3f48b1a)\n",
      "100%|████████████████████████████████████████████████████████████████████████| 120000/120000 [5:17:20<00:00,  6.30it/s]\n"
     ]
    }
   ],
   "source": [
    "dataset = load_dataset('ag_news')['train']\n",
    "task = 'topic'\n",
    "\n",
    "new_text, new_label, trans = transform_dataset_INVSIB(dataset, task_type=task)\n",
    "\n",
    "save_dir = os.path.join('assets', 'ag_news', task, 'INVSIB')\n",
    "npy_save(os.path.join(save_dir, 'text'), new_text)\n",
    "npy_save(os.path.join(save_dir, 'label'), new_label)\n",
    "npy_save(os.path.join(save_dir, 'trans'), trans)"
   ]
  },
  {
   "cell_type": "code",
   "execution_count": 18,
   "metadata": {},
   "outputs": [
    {
     "data": {
      "text/html": [
       "<div>\n",
       "<style scoped>\n",
       "    .dataframe tbody tr th:only-of-type {\n",
       "        vertical-align: middle;\n",
       "    }\n",
       "\n",
       "    .dataframe tbody tr th {\n",
       "        vertical-align: top;\n",
       "    }\n",
       "\n",
       "    .dataframe thead th {\n",
       "        text-align: right;\n",
       "    }\n",
       "</style>\n",
       "<table border=\"1\" class=\"dataframe\">\n",
       "  <thead>\n",
       "    <tr style=\"text-align: right;\">\n",
       "      <th></th>\n",
       "      <th>task_name</th>\n",
       "      <th>tran_type</th>\n",
       "      <th>label_type</th>\n",
       "      <th>transformation</th>\n",
       "      <th>tran_fn</th>\n",
       "    </tr>\n",
       "  </thead>\n",
       "  <tbody>\n",
       "    <tr>\n",
       "      <th>0</th>\n",
       "      <td>sentiment</td>\n",
       "      <td>INV</td>\n",
       "      <td>hard</td>\n",
       "      <td>ExpandContractions</td>\n",
       "      <td>&lt;transformations.text.contraction.expand_contr...</td>\n",
       "    </tr>\n",
       "    <tr>\n",
       "      <th>1</th>\n",
       "      <td>topic</td>\n",
       "      <td>INV</td>\n",
       "      <td>hard</td>\n",
       "      <td>ExpandContractions</td>\n",
       "      <td>&lt;transformations.text.contraction.expand_contr...</td>\n",
       "    </tr>\n",
       "    <tr>\n",
       "      <th>2</th>\n",
       "      <td>sentiment</td>\n",
       "      <td>INV</td>\n",
       "      <td>hard</td>\n",
       "      <td>ContractContractions</td>\n",
       "      <td>&lt;transformations.text.contraction.contract_con...</td>\n",
       "    </tr>\n",
       "    <tr>\n",
       "      <th>3</th>\n",
       "      <td>topic</td>\n",
       "      <td>INV</td>\n",
       "      <td>hard</td>\n",
       "      <td>ContractContractions</td>\n",
       "      <td>&lt;transformations.text.contraction.contract_con...</td>\n",
       "    </tr>\n",
       "    <tr>\n",
       "      <th>4</th>\n",
       "      <td>sentiment</td>\n",
       "      <td>INV</td>\n",
       "      <td>hard</td>\n",
       "      <td>Emojify</td>\n",
       "      <td>&lt;transformations.text.emoji.emojify.Emojify ob...</td>\n",
       "    </tr>\n",
       "    <tr>\n",
       "      <th>...</th>\n",
       "      <td>...</td>\n",
       "      <td>...</td>\n",
       "      <td>...</td>\n",
       "      <td>...</td>\n",
       "      <td>...</td>\n",
       "    </tr>\n",
       "    <tr>\n",
       "      <th>67</th>\n",
       "      <td>topic</td>\n",
       "      <td>SIB</td>\n",
       "      <td>soft</td>\n",
       "      <td>TextMix</td>\n",
       "      <td>&lt;transformations.text.mixture.text_mix.TextMix...</td>\n",
       "    </tr>\n",
       "    <tr>\n",
       "      <th>68</th>\n",
       "      <td>sentiment</td>\n",
       "      <td>SIB</td>\n",
       "      <td>soft</td>\n",
       "      <td>SentMix</td>\n",
       "      <td>&lt;transformations.text.mixture.text_mix.SentMix...</td>\n",
       "    </tr>\n",
       "    <tr>\n",
       "      <th>69</th>\n",
       "      <td>topic</td>\n",
       "      <td>SIB</td>\n",
       "      <td>soft</td>\n",
       "      <td>SentMix</td>\n",
       "      <td>&lt;transformations.text.mixture.text_mix.SentMix...</td>\n",
       "    </tr>\n",
       "    <tr>\n",
       "      <th>70</th>\n",
       "      <td>sentiment</td>\n",
       "      <td>SIB</td>\n",
       "      <td>soft</td>\n",
       "      <td>WordMix</td>\n",
       "      <td>&lt;transformations.text.mixture.text_mix.WordMix...</td>\n",
       "    </tr>\n",
       "    <tr>\n",
       "      <th>71</th>\n",
       "      <td>topic</td>\n",
       "      <td>SIB</td>\n",
       "      <td>soft</td>\n",
       "      <td>WordMix</td>\n",
       "      <td>&lt;transformations.text.mixture.text_mix.WordMix...</td>\n",
       "    </tr>\n",
       "  </tbody>\n",
       "</table>\n",
       "<p>72 rows × 5 columns</p>\n",
       "</div>"
      ],
      "text/plain": [
       "    task_name tran_type label_type        transformation  \\\n",
       "0   sentiment       INV       hard    ExpandContractions   \n",
       "1       topic       INV       hard    ExpandContractions   \n",
       "2   sentiment       INV       hard  ContractContractions   \n",
       "3       topic       INV       hard  ContractContractions   \n",
       "4   sentiment       INV       hard               Emojify   \n",
       "..        ...       ...        ...                   ...   \n",
       "67      topic       SIB       soft               TextMix   \n",
       "68  sentiment       SIB       soft               SentMix   \n",
       "69      topic       SIB       soft               SentMix   \n",
       "70  sentiment       SIB       soft               WordMix   \n",
       "71      topic       SIB       soft               WordMix   \n",
       "\n",
       "                                              tran_fn  \n",
       "0   <transformations.text.contraction.expand_contr...  \n",
       "1   <transformations.text.contraction.expand_contr...  \n",
       "2   <transformations.text.contraction.contract_con...  \n",
       "3   <transformations.text.contraction.contract_con...  \n",
       "4   <transformations.text.emoji.emojify.Emojify ob...  \n",
       "..                                                ...  \n",
       "67  <transformations.text.mixture.text_mix.TextMix...  \n",
       "68  <transformations.text.mixture.text_mix.SentMix...  \n",
       "69  <transformations.text.mixture.text_mix.SentMix...  \n",
       "70  <transformations.text.mixture.text_mix.WordMix...  \n",
       "71  <transformations.text.mixture.text_mix.WordMix...  \n",
       "\n",
       "[72 rows x 5 columns]"
      ]
     },
     "execution_count": 18,
     "metadata": {},
     "output_type": "execute_result"
    }
   ],
   "source": [
    "df"
   ]
  },
  {
   "cell_type": "code",
   "execution_count": 8,
   "metadata": {},
   "outputs": [
    {
     "name": "stderr",
     "output_type": "stream",
     "text": [
      "Reusing dataset glue (C:\\Users\\Fabrice\\.cache\\huggingface\\datasets\\glue\\sst2\\1.0.0\\7c99657241149a24692c402a5c3f34d4c9f1df5ac2e4c3759fadea38f6cb29c4)\n"
     ]
    },
    {
     "name": "stdout",
     "output_type": "stream",
     "text": [
      "working on sst2 sentiment INV ['hard']\n"
     ]
    },
    {
     "name": "stderr",
     "output_type": "stream",
     "text": [
      "100%|████████████████████████████████████████████████████████████████████████████| 67349/67349 [25:03<00:00, 44.79it/s]\n"
     ]
    },
    {
     "name": "stdout",
     "output_type": "stream",
     "text": [
      "working on sst2 sentiment SIB ['soft' 'hard']\n"
     ]
    },
    {
     "name": "stderr",
     "output_type": "stream",
     "text": [
      "100%|████████████████████████████████████████████████████████████████████████████| 67349/67349 [42:03<00:00, 26.69it/s]\n",
      "C:\\Users\\Fabrice\\Documents\\GitHub\\SIBAttack\\transforms.py:275: VisibleDeprecationWarning: Creating an ndarray from ragged nested sequences (which is a list-or-tuple of lists-or-tuples-or ndarrays with different lengths or shapes) is deprecated. If you meant to do this, you must specify 'dtype=object' when creating the ndarray\n",
      "  return np.array(new_text, dtype=np.string_), np.array(new_label), np.array(trans, dtype=np.string_)\n",
      "Using custom data configuration default\n",
      "Reusing dataset ag_news (C:\\Users\\Fabrice\\.cache\\huggingface\\datasets\\ag_news\\default\\0.0.0\\fb5c5e74a110037311ef5e904583ce9f8b9fbc1354290f97b4929f01b3f48b1a)\n"
     ]
    },
    {
     "name": "stdout",
     "output_type": "stream",
     "text": [
      "working on ag_news topic INV ['hard']\n"
     ]
    },
    {
     "name": "stderr",
     "output_type": "stream",
     "text": [
      "100%|████████████████████████████████████████████████████████████████████████| 120000/120000 [1:15:14<00:00, 26.58it/s]\n"
     ]
    }
   ],
   "source": [
    "for d in datasets:\n",
    "    if type(d) == tuple and d[0] == 'glue':\n",
    "        train, test = load_dataset(d[0], d[1], split=['train', 'test'])\n",
    "        train.rename_column_('sentence', 'text')\n",
    "        d = d[1]\n",
    "    else:\n",
    "        train, test = load_dataset(d, split=['train', 'test'])\n",
    "    for task in tasks:\n",
    "        task_df = df['task_name'] == task\n",
    "        trans = df[task_df].tran_type.unique()\n",
    "        for tran in trans:\n",
    "            label_df = df['tran_type'] == tran\n",
    "            lbls = df[label_df].label_type.unique()\n",
    "            if (\n",
    "                (d == 'ag_news' and task == 'topic' and tran == 'INV')  \n",
    "             or (d == 'sst2'    and task == 'sentiment')\n",
    "            ):\n",
    "                print('working on', d, task, tran, lbls)\n",
    "                use_one_hot = False\n",
    "                if len(lbls) > 1: \n",
    "                    use_one_hot = True\n",
    "                    \n",
    "                new_text, new_label, trans = transform_dataset_INVSIB(\n",
    "                    dataset=train, \n",
    "                    num_INV_required=2 if tran=='INV' else 0, \n",
    "                    num_SIB_required=2 if tran=='SIB' else 0,\n",
    "                    task_type=task, \n",
    "                    tran_type=tran, \n",
    "                    label_type=None,\n",
    "                    one_hot=use_one_hot)\n",
    "                new_text = np.array(new_text)\n",
    "                new_label = np.array([np.squeeze(x) for x in new_label])\n",
    "                trans = np.array(trans, dtype=np.string_)\n",
    "                save_dir = os.path.join('assets', d, task, tran)\n",
    "                npy_save(os.path.join(save_dir, 'text'), new_text)\n",
    "                npy_save(os.path.join(save_dir, 'label'), new_label)\n",
    "                npy_save(os.path.join(save_dir, 'trans'), trans)"
   ]
  },
  {
   "cell_type": "code",
   "execution_count": 6,
   "metadata": {},
   "outputs": [
    {
     "name": "stderr",
     "output_type": "stream",
     "text": [
      "Using custom data configuration default\n",
      "Reusing dataset ag_news (C:\\Users\\Fabrice\\.cache\\huggingface\\datasets\\ag_news\\default\\0.0.0\\fb5c5e74a110037311ef5e904583ce9f8b9fbc1354290f97b4929f01b3f48b1a)\n",
      "100%|████████████████████████████████████████████████████████████████████████████████| 120/120 [00:08<00:00, 14.98it/s]\n"
     ]
    }
   ],
   "source": [
    "n=1\n",
    "d = ('ag_news')\n",
    "task = 'topic'\n",
    "tran = 'SIB'\n",
    "train, test = load_dataset(d, split=['train', 'test'])\n",
    "new_text, new_label, trans = transform_dataset(train, num_transforms=n, task_type=task, tran_type=tran)\n",
    "new_text = np.array(new_text)\n",
    "new_label = np.array([np.squeeze(x) for x in new_label])\n",
    "trans = np.array(trans, dtype=np.string_)\n",
    "save_dir = os.path.join('assets', d, task, tran)\n",
    "npy_save(os.path.join(save_dir, 'text'), new_text)\n",
    "npy_save(os.path.join(save_dir, 'label'), new_label)\n",
    "npy_save(os.path.join(save_dir, 'trans'), trans)"
   ]
  },
  {
   "cell_type": "code",
   "execution_count": 147,
   "metadata": {},
   "outputs": [],
   "source": [
    "SST2_INV_text = npy_load(\"./assets/SST2/sentiment/INV/text.npy\")\n",
    "SST2_INV_label = npy_load(\"./assets/SST2/sentiment/INV/label.npy\")\n",
    "\n",
    "SST2_SIB_text = npy_load(\"./assets/SST2/sentiment/SIB/text.npy\")\n",
    "SST2_SIB_label = npy_load(\"./assets/SST2/sentiment/SIB/label2.npy\")"
   ]
  },
  {
   "cell_type": "code",
   "execution_count": 146,
   "metadata": {},
   "outputs": [],
   "source": [
    "new_label = np.array([np.squeeze(x) for x in SST2_SIB_label])\n",
    "save_dir = os.path.join('assets', 'SST2', 'sentiment', 'SIB')\n",
    "npy_save(os.path.join(save_dir, 'label2'), new_label)"
   ]
  },
  {
   "cell_type": "code",
   "execution_count": 9,
   "metadata": {},
   "outputs": [],
   "source": [
    "INV_text = npy_load(\"./assets/AG_NEWS/topic/INV/text.npy\")\n",
    "INV_label = npy_load(\"./assets/AG_NEWS/topic/INV/label.npy\")\n",
    "\n",
    "SIB_text = npy_load(\"./assets/AG_NEWS/topic/SIB/text.npy\")\n",
    "SIB_label = npy_load(\"./assets/AG_NEWS/topic/SIB/label.npy\")"
   ]
  },
  {
   "cell_type": "code",
   "execution_count": 151,
   "metadata": {},
   "outputs": [
    {
     "data": {
      "text/plain": [
       "array([[0.        , 0.        , 0.37305699, 0.62694301],\n",
       "       [0.        , 0.        , 0.5256917 , 0.4743083 ],\n",
       "       [0.        , 0.        , 1.        , 0.        ],\n",
       "       ...,\n",
       "       [0.        , 1.        , 0.        , 0.        ],\n",
       "       [0.        , 0.45679012, 0.54320988, 0.        ],\n",
       "       [0.40106952, 0.59893048, 0.        , 0.        ]])"
      ]
     },
     "execution_count": 151,
     "metadata": {},
     "output_type": "execute_result"
    }
   ],
   "source": [
    "SIB_label"
   ]
  },
  {
   "cell_type": "code",
   "execution_count": null,
   "metadata": {},
   "outputs": [],
   "source": []
  }
 ],
 "metadata": {
  "kernelspec": {
   "display_name": "Python 3",
   "language": "python",
   "name": "python3"
  },
  "language_info": {
   "codemirror_mode": {
    "name": "ipython",
    "version": 3
   },
   "file_extension": ".py",
   "mimetype": "text/x-python",
   "name": "python",
   "nbconvert_exporter": "python",
   "pygments_lexer": "ipython3",
   "version": "3.8.5"
  },
  "varInspector": {
   "cols": {
    "lenName": 16,
    "lenType": 16,
    "lenVar": 40
   },
   "kernels_config": {
    "python": {
     "delete_cmd_postfix": "",
     "delete_cmd_prefix": "del ",
     "library": "var_list.py",
     "varRefreshCmd": "print(var_dic_list())"
    },
    "r": {
     "delete_cmd_postfix": ") ",
     "delete_cmd_prefix": "rm(",
     "library": "var_list.r",
     "varRefreshCmd": "cat(var_dic_list()) "
    }
   },
   "types_to_exclude": [
    "module",
    "function",
    "builtin_function_or_method",
    "instance",
    "_Feature"
   ],
   "window_display": false
  }
 },
 "nbformat": 4,
 "nbformat_minor": 4
}
