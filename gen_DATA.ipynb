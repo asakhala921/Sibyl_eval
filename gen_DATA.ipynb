{
 "cells": [
  {
   "cell_type": "code",
   "execution_count": 1,
   "metadata": {},
   "outputs": [],
   "source": [
    "%reload_ext autoreload\n",
    "%autoreload 2"
   ]
  },
  {
   "cell_type": "code",
   "execution_count": 2,
   "metadata": {},
   "outputs": [],
   "source": [
    "from datasets import load_dataset\n",
    "from sklearn.model_selection import train_test_split\n",
    "from tqdm.contrib import tzip\n",
    "import os\n",
    "\n",
    "from utils import *"
   ]
  },
  {
   "cell_type": "code",
   "execution_count": 26,
   "metadata": {},
   "outputs": [],
   "source": [
    "def transform_dataset(dataset, num_transforms=2, task=None, tran=None):\n",
    "    df = init_transforms(task=task, tran=tran, meta=True)\n",
    "    text, label = dataset['text'], dataset['label'] \n",
    "    new_text, new_label, trans = [], [], []\n",
    "    if tran == 'SIB-mix':\n",
    "        if type(text) == list:\n",
    "            text = np.array(text, dtype=np.string_)\n",
    "            label = np.array(label)\n",
    "        batch_size= 1000\n",
    "        for i in range(0, len(label), batch_size):\n",
    "            text_batch = text[i:i+batch_size]\n",
    "            label_batch = label[i:i+batch_size]\n",
    "            batch = (text_batch, label_batch)\n",
    "            t_trans = []\n",
    "            n = 0\n",
    "            while n < num_transforms:\n",
    "                t_df   = df.sample(1)\n",
    "                t_fn   = t_df['tran_fn'].iloc[0]\n",
    "                t_name = t_df['transformation'].iloc[0]\n",
    "                if t_name in trans:\n",
    "                    continue\n",
    "                else:\n",
    "                    t_trans.append(t_name)\n",
    "                batch, meta = t_fn(batch)\n",
    "                if meta['change']:\n",
    "                    n += 1\n",
    "                else:\n",
    "                    t_trans.remove(t_name)\n",
    "            new_text.extend(batch[0].tolist())\n",
    "            new_label.extend(batch[1].tolist())\n",
    "            trans.append(t_trans)\n",
    "    else:\n",
    "        for X, y in tzip(text, label):\n",
    "            t_trans = []\n",
    "            n = 0\n",
    "            while n < num_transforms:\n",
    "                t_df   = df.sample(1)\n",
    "                t_fn   = t_df['tran_fn'].iloc[0]\n",
    "                t_name = t_df['transformation'].iloc[0]\n",
    "                if t_name in t_trans:\n",
    "                    continue\n",
    "                else:\n",
    "                    t_trans.append(t_name)\n",
    "                X, y, meta = t_fn.transform_Xy(str(X), y)\n",
    "                if meta['change']:\n",
    "                    n += 1\n",
    "                else:\n",
    "                    t_trans.remove(t_name)\n",
    "            new_text.append(X)\n",
    "            new_label.append(y)\n",
    "            trans.append(t_trans)\n",
    "    return new_text, new_label, trans"
   ]
  },
  {
   "cell_type": "code",
   "execution_count": 4,
   "metadata": {},
   "outputs": [],
   "source": [
    "df = init_transforms(task=None, tran=None, meta=True)"
   ]
  },
  {
   "cell_type": "code",
   "execution_count": 5,
   "metadata": {},
   "outputs": [],
   "source": [
    "datasets = [('glue', 'sst2'), 'ag_news']\n",
    "tasks = df.task_name.unique()\n",
    "trans = df.tran_type.unique()"
   ]
  },
  {
   "cell_type": "code",
   "execution_count": null,
   "metadata": {},
   "outputs": [],
   "source": [
    "n = 2 \n",
    "for d in datasets:\n",
    "    if type(d) == tuple and d[0] == 'glue':\n",
    "        train, test = load_dataset(d[0], d[1], split=['train', 'test'])\n",
    "        train.rename_column_('sentence', 'text')\n",
    "        d = d[1]\n",
    "    else:\n",
    "        train, test = load_dataset(d, split=['train', 'test'])\n",
    "    for task in tasks:\n",
    "        task_df = df['task_name'] == task\n",
    "        trans = df[task_df].tran_type.unique()\n",
    "        for tran in trans:\n",
    "            if d == 'ag_news' and task == 'sentiment':\n",
    "                continue\n",
    "            if d == 'sst2' and (task == 'topic' or tran == 'SIB-mix'):\n",
    "                continue\n",
    "            print(task, tran)\n",
    "            if tran == 'SIB-mix':\n",
    "                n = 1\n",
    "            new_text, new_label, trans = transform_dataset(train, num_transforms=n, task=task, tran=tran)\n",
    "            save_dir = os.path.join('assets', d, task, tran)\n",
    "            npy_save(os.path.join(save_dir, 'text'), new_text)\n",
    "            npy_save(os.path.join(save_dir, 'label'), new_label)\n",
    "            npy_save(os.path.join(save_dir, 'trans'), trans)"
   ]
  },
  {
   "cell_type": "code",
   "execution_count": null,
   "metadata": {},
   "outputs": [],
   "source": []
  }
 ],
 "metadata": {
  "kernelspec": {
   "display_name": "Python 3",
   "language": "python",
   "name": "python3"
  },
  "language_info": {
   "codemirror_mode": {
    "name": "ipython",
    "version": 3
   },
   "file_extension": ".py",
   "mimetype": "text/x-python",
   "name": "python",
   "nbconvert_exporter": "python",
   "pygments_lexer": "ipython3",
   "version": "3.8.5"
  },
  "varInspector": {
   "cols": {
    "lenName": 16,
    "lenType": 16,
    "lenVar": 40
   },
   "kernels_config": {
    "python": {
     "delete_cmd_postfix": "",
     "delete_cmd_prefix": "del ",
     "library": "var_list.py",
     "varRefreshCmd": "print(var_dic_list())"
    },
    "r": {
     "delete_cmd_postfix": ") ",
     "delete_cmd_prefix": "rm(",
     "library": "var_list.r",
     "varRefreshCmd": "cat(var_dic_list()) "
    }
   },
   "types_to_exclude": [
    "module",
    "function",
    "builtin_function_or_method",
    "instance",
    "_Feature"
   ],
   "window_display": false
  }
 },
 "nbformat": 4,
 "nbformat_minor": 4
}
