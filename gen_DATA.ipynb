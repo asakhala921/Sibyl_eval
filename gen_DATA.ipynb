{
 "cells": [
  {
   "cell_type": "code",
   "execution_count": null,
   "metadata": {},
   "outputs": [],
   "source": [
    "%reload_ext autoreload\n",
    "%autoreload 2"
   ]
  },
  {
   "cell_type": "code",
   "execution_count": null,
   "metadata": {},
   "outputs": [],
   "source": [
    "from utils import *\n",
    "from datasets import load_dataset"
   ]
  },
  {
   "cell_type": "code",
   "execution_count": null,
   "metadata": {},
   "outputs": [],
   "source": [
    "df = init_transforms(task=None, tran=None, meta=True)"
   ]
  },
  {
   "cell_type": "code",
   "execution_count": null,
   "metadata": {},
   "outputs": [],
   "source": [
    "datasets = [('glue', 'sst2'), 'ag_news']\n",
    "tasks = df.task_name.unique().tolist()\n",
    "trans = df.tran_type.unique().tolist()\n",
    "\n",
    "tasks.reverse()\n",
    "trans.reverse()"
   ]
  },
  {
   "cell_type": "code",
   "execution_count": null,
   "metadata": {
    "scrolled": true
   },
   "outputs": [],
   "source": [
    "n = 2 \n",
    "for d in datasets:\n",
    "    if type(d) == tuple and d[0] == 'glue':\n",
    "        train, test = load_dataset(d[0], d[1], split=['train', 'test'])\n",
    "        train.rename_column_('sentence', 'text')\n",
    "        d = d[1]\n",
    "    else:\n",
    "        train, test = load_dataset(d, split=['train', 'test'])\n",
    "    for task in tasks:\n",
    "        task_df = df['task_name'] == task\n",
    "        trans = df[task_df].tran_type.unique()\n",
    "        for tran in trans:\n",
    "            if (\n",
    "                (d == 'ag_news' and task == 'topic'     and (tran == 'INV' or tran == 'SIB-mix'))  \n",
    "             or (d == 'sst2'    and task == 'sentiment' and (tran == 'INV' or tran == 'SIB'))\n",
    "            ):\n",
    "                print('working on', d, task, tran)\n",
    "                new_text, new_label, trans = transform_dataset(train, num_transforms=n, task=task, tran=tran)\n",
    "                new_text = np.array(new_text)\n",
    "                new_label = np.array(new_label)\n",
    "                trans = np.array(trans, dtype=np.string_)\n",
    "                save_dir = os.path.join('assets', d, task, tran)\n",
    "                npy_save(os.path.join(save_dir, 'text3'), new_text)\n",
    "                npy_save(os.path.join(save_dir, 'label3'), new_label)\n",
    "                npy_save(os.path.join(save_dir, 'trans3'), trans)"
   ]
  },
  {
   "cell_type": "code",
   "execution_count": null,
   "metadata": {
    "scrolled": true
   },
   "outputs": [],
   "source": [
    "# n=2\n",
    "# d = ('glue', 'sst2')\n",
    "# task = 'sentiment'\n",
    "# tran = None\n",
    "# train, test = load_dataset(d[0], d[1], split=['train', 'test'])\n",
    "# train.rename_column_('sentence', 'text')\n",
    "# d = d[1]\n",
    "# new_text, new_label, trans = transform_dataset(train, num_transforms=n, task=task, tran=tran)\n",
    "# if tran is None:\n",
    "#     tran = 'BOTH'\n",
    "# new_text = np.array(new_text)\n",
    "# new_label = np.array(new_label)\n",
    "# trans = np.array(trans, dtype=np.string_)\n",
    "# save_dir = os.path.join('assets', d, task, tran)\n",
    "# npy_save(os.path.join(save_dir, 'text2'), new_text)\n",
    "# npy_save(os.path.join(save_dir, 'label2'), new_label)\n",
    "# npy_save(os.path.join(save_dir, 'trans2'), trans)"
   ]
  },
  {
   "cell_type": "code",
   "execution_count": null,
   "metadata": {},
   "outputs": [],
   "source": [
    "# SST2_INV_text = npy_load(\"./assets/SST2/sentiment/INV/text2.npy\")\n",
    "# SST2_INV_label = npy_load(\"./assets/SST2/sentiment/INV/label2.npy\")\n",
    "\n",
    "# SST2_SIB_text = npy_load(\"./assets/SST2/sentiment/SIB/text2.npy\")\n",
    "# SST2_SIB_label = npy_load(\"./assets/SST2/sentiment/SIB/label2.npy\")"
   ]
  },
  {
   "cell_type": "code",
   "execution_count": null,
   "metadata": {},
   "outputs": [],
   "source": [
    "# INV_text = npy_load(\"./assets/AG_NEWS/topic/INV/text2.npy\")\n",
    "# INV_label = npy_load(\"./assets/AG_NEWS/topic/INV/label2.npy\")\n",
    "\n",
    "# SIB_text = npy_load(\"./assets/AG_NEWS/topic/SIB-mix/text2.npy\")\n",
    "# SIB_label = npy_load(\"./assets/AG_NEWS/topic/SIB-mix/label2.npy\")"
   ]
  },
  {
   "cell_type": "code",
   "execution_count": null,
   "metadata": {},
   "outputs": [],
   "source": []
  }
 ],
 "metadata": {
  "kernelspec": {
   "display_name": "Python 3",
   "language": "python",
   "name": "python3"
  },
  "language_info": {
   "codemirror_mode": {
    "name": "ipython",
    "version": 3
   },
   "file_extension": ".py",
   "mimetype": "text/x-python",
   "name": "python",
   "nbconvert_exporter": "python",
   "pygments_lexer": "ipython3",
   "version": "3.8.5"
  },
  "varInspector": {
   "cols": {
    "lenName": 16,
    "lenType": 16,
    "lenVar": 40
   },
   "kernels_config": {
    "python": {
     "delete_cmd_postfix": "",
     "delete_cmd_prefix": "del ",
     "library": "var_list.py",
     "varRefreshCmd": "print(var_dic_list())"
    },
    "r": {
     "delete_cmd_postfix": ") ",
     "delete_cmd_prefix": "rm(",
     "library": "var_list.r",
     "varRefreshCmd": "cat(var_dic_list()) "
    }
   },
   "types_to_exclude": [
    "module",
    "function",
    "builtin_function_or_method",
    "instance",
    "_Feature"
   ],
   "window_display": false
  }
 },
 "nbformat": 4,
 "nbformat_minor": 4
}
