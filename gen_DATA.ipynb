{
 "cells": [
  {
   "cell_type": "code",
   "execution_count": 473,
   "metadata": {},
   "outputs": [],
   "source": [
    "%reload_ext autoreload\n",
    "%autoreload 2"
   ]
  },
  {
   "cell_type": "code",
   "execution_count": 474,
   "metadata": {},
   "outputs": [],
   "source": [
    "from utils import *\n",
    "from transforms import *\n",
    "from datasets import load_dataset, Dataset"
   ]
  },
  {
   "cell_type": "code",
   "execution_count": 475,
   "metadata": {},
   "outputs": [],
   "source": [
    "df = init_transforms(meta=True)"
   ]
  },
  {
   "cell_type": "code",
   "execution_count": 4,
   "metadata": {},
   "outputs": [],
   "source": [
    "datasets = [('glue', 'sst2'), 'ag_news']\n",
    "tasks = df.task_name.unique().tolist()\n",
    "trans = df.tran_type.unique().tolist()\n",
    "\n",
    "tasks.reverse()\n",
    "trans.reverse()"
   ]
  },
  {
   "cell_type": "code",
   "execution_count": 498,
   "metadata": {},
   "outputs": [],
   "source": [
    "def one_hot_encode(y, nb_classes):\n",
    "    if isinstance(y, np.ndarray):\n",
    "        return y\n",
    "    y = np.array(y)\n",
    "    res = np.eye(nb_classes)[np.array(y).reshape(-1)]\n",
    "    return res.reshape(list(y.shape)+[nb_classes])\n",
    "\n",
    "def sample_Xy(text, label, num_sample=1):\n",
    "    idx = np.random.randint(0, len(text), num_sample)\n",
    "    return list(np.array(text)[idx]), list(np.array(label)[idx])"
   ]
  },
  {
   "cell_type": "code",
   "execution_count": 533,
   "metadata": {},
   "outputs": [],
   "source": [
    "def transform_dataset_INVSIB(\n",
    "    dataset, \n",
    "    num_INV_required=1, \n",
    "    num_SIB_required=1, \n",
    "    task_type=None, \n",
    "    tran_type=None, \n",
    "    label_type=None,\n",
    "    one_hot=True):\n",
    "    \n",
    "    df = init_transforms(task_type=task_type, tran_type=tran_type, label_type=label_type, meta=True)\n",
    "    \n",
    "    text, label = dataset['text'], dataset['label']\n",
    "    new_text, new_label, trans = [], [], []\n",
    "\n",
    "    num_classes = len(np.unique(label))\n",
    "    \n",
    "    for X, y in tqdm(zip(text, label), total=len(label)): \n",
    "        t_trans = []\n",
    "\n",
    "        num_tries = 0\n",
    "        num_INV_applied = 0\n",
    "        while num_INV_applied < num_INV_required:\n",
    "            if num_tries > 25:\n",
    "                break\n",
    "            t_df   = df[df['tran_type']=='INV'].sample(1)\n",
    "            t_fn   = t_df['tran_fn'].iloc[0]\n",
    "            t_name = t_df['transformation'].iloc[0]                \n",
    "            if t_name in trans:\n",
    "                continue\n",
    "            X, y, meta = t_fn.transform_Xy(str(X), y)\n",
    "            if one_hot:\n",
    "                y = one_hot_encode(y, num_classes)\n",
    "            if meta['change']:\n",
    "                num_INV_applied += 1\n",
    "                t_trans.append(t_name)\n",
    "            num_tries += 1\n",
    "\n",
    "        num_tries = 0\n",
    "        num_SIB_applied = 0       \n",
    "        while num_SIB_applied < num_SIB_required:\n",
    "            if num_tries > 25:\n",
    "                break\n",
    "            t_df   = df[df['tran_type']=='SIB'].sample(1)\n",
    "            t_fn   = t_df['tran_fn'].iloc[0]\n",
    "            t_name = t_df['transformation'].iloc[0]                \n",
    "            if t_name in trans:\n",
    "                continue\n",
    "            if 'AbstractBatchTransformation' in t_fn.__class__.__bases__[0].__name__:\n",
    "                Xs, ys = sample_Xy(text, label, num_sample=1)\n",
    "                Xs.append(X); ys.append(y)   \n",
    "                Xs = [str(x).encode('utf-8') for x in Xs]\n",
    "                ys = [one_hot_encode(y, num_classes) for y in ys]\n",
    "                (X, y), meta = t_fn((Xs, ys))\n",
    "                X, y = X[0], y[0]\n",
    "            else:\n",
    "                X, y, meta = t_fn.transform_Xy(str(X), y)\n",
    "            if meta['change']:\n",
    "                num_SIB_applied += 1\n",
    "                t_trans.append(t_name)\n",
    "            num_tries += 1\n",
    "\n",
    "        new_text.append(X)\n",
    "        new_label.append(y)\n",
    "        trans.append(t_trans)\n",
    "                \n",
    "    new_text = [str(x).encode('utf-8') for x in new_text]\n",
    "    return np.array(new_text, dtype=np.string_), np.array(new_label), np.array(trans, dtype=np.string_)"
   ]
  },
  {
   "cell_type": "code",
   "execution_count": null,
   "metadata": {},
   "outputs": [
    {
     "name": "stderr",
     "output_type": "stream",
     "text": [
      "Reusing dataset glue (C:\\Users\\Fabrice\\.cache\\huggingface\\datasets\\glue\\sst2\\1.0.0\\7c99657241149a24692c402a5c3f34d4c9f1df5ac2e4c3759fadea38f6cb29c4)\n",
      " 57%|███████████████████████████████████████████▌                                | 38655/67349 [12:29<10:47, 44.35it/s]"
     ]
    }
   ],
   "source": [
    "dataset = load_dataset('glue', 'sst2')['train']\n",
    "dataset.rename_column_('sentence', 'text')\n",
    "task = 'sentiment'\n",
    "\n",
    "new_text, new_label, trans = transform_dataset_INVSIB(dataset, task_type=task)\n",
    "\n",
    "save_dir = os.path.join('assets', 'sst2', task, 'INVSIB')\n",
    "npy_save(os.path.join(save_dir, 'text'), new_text)\n",
    "npy_save(os.path.join(save_dir, 'label'), new_label)\n",
    "npy_save(os.path.join(save_dir, 'trans'), trans)"
   ]
  },
  {
   "cell_type": "code",
   "execution_count": 119,
   "metadata": {},
   "outputs": [
    {
     "name": "stderr",
     "output_type": "stream",
     "text": [
      "Using custom data configuration default\n",
      "Reusing dataset ag_news (C:\\Users\\Fabrice\\.cache\\huggingface\\datasets\\ag_news\\default\\0.0.0\\fb5c5e74a110037311ef5e904583ce9f8b9fbc1354290f97b4929f01b3f48b1a)\n",
      "120000it [5:50:16,  5.71it/s]\n"
     ]
    }
   ],
   "source": [
    "dataset = load_dataset('ag_news')['train']\n",
    "task = 'topic'\n",
    "\n",
    "new_text, new_label, trans = transform_dataset_INVSIB(dataset, task_type=task)\n",
    "\n",
    "save_dir = os.path.join('assets', 'ag_news', task, 'INVSIB')\n",
    "npy_save(os.path.join(save_dir, 'text'), new_text)\n",
    "npy_save(os.path.join(save_dir, 'label'), new_label)\n",
    "npy_save(os.path.join(save_dir, 'trans'), trans)"
   ]
  },
  {
   "cell_type": "code",
   "execution_count": null,
   "metadata": {},
   "outputs": [],
   "source": [
    "n = 2 \n",
    "for d in datasets:\n",
    "    if type(d) == tuple and d[0] == 'glue':\n",
    "        train, test = load_dataset(d[0], d[1], split=['train', 'test'])\n",
    "        train.rename_column_('sentence', 'text')\n",
    "        d = d[1]\n",
    "    else:\n",
    "        train, test = load_dataset(d, split=['train', 'test'])\n",
    "    for task in tasks:\n",
    "        task_df = df['task_name'] == task\n",
    "        trans = df[task_df].tran_type.unique()\n",
    "        for tran in trans:\n",
    "            if (\n",
    "                (d == 'ag_news' and task == 'topic'     and (tran == 'INV' or tran == 'SIB-mix'))  \n",
    "             or (d == 'sst2'    and task == 'sentiment' and (tran == 'INV' or tran == 'SIB'))\n",
    "            ):\n",
    "                print('working on', d, task, tran)\n",
    "                new_text, new_label, trans = transform_dataset(train, num_transforms=n, task=task, tran=tran)\n",
    "                new_text = np.array(new_text)\n",
    "                new_label = np.array(new_label)\n",
    "                trans = np.array(trans, dtype=np.string_)\n",
    "                save_dir = os.path.join('assets', d, task, tran)\n",
    "                npy_save(os.path.join(save_dir, 'text3'), new_text)\n",
    "                npy_save(os.path.join(save_dir, 'label3'), new_label)\n",
    "                npy_save(os.path.join(save_dir, 'trans3'), trans)"
   ]
  },
  {
   "cell_type": "code",
   "execution_count": null,
   "metadata": {
    "scrolled": true
   },
   "outputs": [],
   "source": [
    "# n=2\n",
    "# d = ('glue', 'sst2')\n",
    "# task = 'sentiment'\n",
    "# tran = None\n",
    "# train, test = load_dataset(d[0], d[1], split=['train', 'test'])\n",
    "# train.rename_column_('sentence', 'text')\n",
    "# d = d[1]\n",
    "# new_text, new_label, trans = transform_dataset(train, num_transforms=n, task=task, tran=tran)\n",
    "# if tran is None:\n",
    "#     tran = 'BOTH'\n",
    "# new_text = np.array(new_text)\n",
    "# new_label = np.array(new_label)\n",
    "# trans = np.array(trans, dtype=np.string_)\n",
    "# save_dir = os.path.join('assets', d, task, tran)\n",
    "# npy_save(os.path.join(save_dir, 'text2'), new_text)\n",
    "# npy_save(os.path.join(save_dir, 'label2'), new_label)\n",
    "# npy_save(os.path.join(save_dir, 'trans2'), trans)"
   ]
  },
  {
   "cell_type": "code",
   "execution_count": null,
   "metadata": {},
   "outputs": [],
   "source": [
    "# SST2_INV_text = npy_load(\"./assets/SST2/sentiment/INV/text2.npy\")\n",
    "# SST2_INV_label = npy_load(\"./assets/SST2/sentiment/INV/label2.npy\")\n",
    "\n",
    "# SST2_SIB_text = npy_load(\"./assets/SST2/sentiment/SIB/text2.npy\")\n",
    "# SST2_SIB_label = npy_load(\"./assets/SST2/sentiment/SIB/label2.npy\")"
   ]
  },
  {
   "cell_type": "code",
   "execution_count": null,
   "metadata": {},
   "outputs": [],
   "source": [
    "# INV_text = npy_load(\"./assets/AG_NEWS/topic/INV/text2.npy\")\n",
    "# INV_label = npy_load(\"./assets/AG_NEWS/topic/INV/label2.npy\")\n",
    "\n",
    "# SIB_text = npy_load(\"./assets/AG_NEWS/topic/SIB-mix/text2.npy\")\n",
    "# SIB_label = npy_load(\"./assets/AG_NEWS/topic/SIB-mix/label2.npy\")"
   ]
  },
  {
   "cell_type": "code",
   "execution_count": null,
   "metadata": {},
   "outputs": [],
   "source": []
  }
 ],
 "metadata": {
  "kernelspec": {
   "display_name": "Python 3",
   "language": "python",
   "name": "python3"
  },
  "language_info": {
   "codemirror_mode": {
    "name": "ipython",
    "version": 3
   },
   "file_extension": ".py",
   "mimetype": "text/x-python",
   "name": "python",
   "nbconvert_exporter": "python",
   "pygments_lexer": "ipython3",
   "version": "3.8.5"
  },
  "varInspector": {
   "cols": {
    "lenName": 16,
    "lenType": 16,
    "lenVar": 40
   },
   "kernels_config": {
    "python": {
     "delete_cmd_postfix": "",
     "delete_cmd_prefix": "del ",
     "library": "var_list.py",
     "varRefreshCmd": "print(var_dic_list())"
    },
    "r": {
     "delete_cmd_postfix": ") ",
     "delete_cmd_prefix": "rm(",
     "library": "var_list.r",
     "varRefreshCmd": "cat(var_dic_list()) "
    }
   },
   "types_to_exclude": [
    "module",
    "function",
    "builtin_function_or_method",
    "instance",
    "_Feature"
   ],
   "window_display": false
  }
 },
 "nbformat": 4,
 "nbformat_minor": 4
}
