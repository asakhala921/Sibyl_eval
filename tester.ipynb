{
 "cells": [
  {
   "cell_type": "markdown",
   "metadata": {},
   "source": [
    "# Testing Area for Text Transformations"
   ]
  },
  {
   "cell_type": "markdown",
   "metadata": {},
   "source": [
    "## Load Transforms"
   ]
  },
  {
   "cell_type": "code",
   "execution_count": 303,
   "metadata": {
    "scrolled": true
   },
   "outputs": [],
   "source": [
    "%reload_ext autoreload\n",
    "%autoreload 2\n",
    "\n",
    "from transformations.text.emoji.emojify import Emojify\n",
    "from transformations.text.emoji.demojify import Demojify\n",
    "from transformations.text.negation.remove_negation import RemoveNegation\n",
    "from transformations.text.negation.add_negation import AddNegation\n",
    "from transformations.text.contraction.expand_contractions import ExpandContractions\n",
    "from transformations.text.contraction.contract_contractions import ContractContractions\n",
    "from transformations.text.word_swap.change_number import ChangeNumber\n",
    "from transformations.text.word_swap.change_synse import ChangeSynse\n",
    "from transformations.text.word_swap.word_deletion import WordDeletion\n",
    "from transformations.text.word_swap.homoglyph_swap import HomoglyphSwap\n",
    "from transformations.text.word_swap.random_swap import RandomSwap\n",
    "from transformations.text.insertion.random_insertion import RandomInsertion\n",
    "from transformations.text.insertion.sentiment_phrase import InsertSentimentPhrase\n",
    "from transformations.text.links.add_sentiment_link import AddSentimentLink\n",
    "from transformations.text.links.import_link_text import ImportLinkText\n",
    "from transformations.text.entities.change_name import ChangeName\n",
    "from transformations.text.entities.change_location import ChangeLocation\n",
    "from transformations.text.typos.char_substitute import RandomCharSubst\n",
    "from transformations.text.typos.char_insert import RandomCharInsert\n",
    "# from transformations.text.typos.char_delete import RandomCharDel\n",
    "# from transformations.text.typos.char_swap import RandomCharSwap\n",
    "# from transformations.text.typos.char_swap_qwerty import RandomSwapQwerty"
   ]
  },
  {
   "cell_type": "markdown",
   "metadata": {},
   "source": [
    "## Emojify"
   ]
  },
  {
   "cell_type": "code",
   "execution_count": 196,
   "metadata": {},
   "outputs": [
    {
     "name": "stdout",
     "output_type": "stream",
     "text": [
      "The 🏠 is on 🔥!\n"
     ]
    }
   ],
   "source": [
    "transform = Emojify()\n",
    "string_in = 'The house is on fire!'\n",
    "string_out = transform(string_in)\n",
    "print(string_out)"
   ]
  },
  {
   "cell_type": "markdown",
   "metadata": {},
   "source": [
    "### Demojify"
   ]
  },
  {
   "cell_type": "code",
   "execution_count": 197,
   "metadata": {},
   "outputs": [
    {
     "name": "stdout",
     "output_type": "stream",
     "text": [
      "The house is on fire!\n"
     ]
    }
   ],
   "source": [
    "transform = Demojify()\n",
    "string_in = 'The 🏠 is on 🔥!'\n",
    "string_out = transform(string_in)\n",
    "print(string_out)"
   ]
  },
  {
   "cell_type": "markdown",
   "metadata": {},
   "source": [
    "### Remove Negation"
   ]
  },
  {
   "cell_type": "code",
   "execution_count": 198,
   "metadata": {},
   "outputs": [
    {
     "name": "stdout",
     "output_type": "stream",
     "text": [
      "Requirement already satisfied: en_core_web_sm==2.3.1 from https://github.com/explosion/spacy-models/releases/download/en_core_web_sm-2.3.1/en_core_web_sm-2.3.1.tar.gz#egg=en_core_web_sm==2.3.1 in /Users/asakhala/opt/anaconda3/lib/python3.8/site-packages (2.3.1)\n",
      "Requirement already satisfied: spacy<2.4.0,>=2.3.0 in /Users/asakhala/opt/anaconda3/lib/python3.8/site-packages (from en_core_web_sm==2.3.1) (2.3.2)\n",
      "Requirement already satisfied: numpy>=1.15.0 in /Users/asakhala/opt/anaconda3/lib/python3.8/site-packages (from spacy<2.4.0,>=2.3.0->en_core_web_sm==2.3.1) (1.18.5)\n",
      "Requirement already satisfied: blis<0.5.0,>=0.4.0 in /Users/asakhala/opt/anaconda3/lib/python3.8/site-packages (from spacy<2.4.0,>=2.3.0->en_core_web_sm==2.3.1) (0.4.1)\n",
      "Requirement already satisfied: murmurhash<1.1.0,>=0.28.0 in /Users/asakhala/opt/anaconda3/lib/python3.8/site-packages (from spacy<2.4.0,>=2.3.0->en_core_web_sm==2.3.1) (1.0.4)\n",
      "Requirement already satisfied: requests<3.0.0,>=2.13.0 in /Users/asakhala/opt/anaconda3/lib/python3.8/site-packages (from spacy<2.4.0,>=2.3.0->en_core_web_sm==2.3.1) (2.24.0)\n",
      "Requirement already satisfied: catalogue<1.1.0,>=0.0.7 in /Users/asakhala/opt/anaconda3/lib/python3.8/site-packages (from spacy<2.4.0,>=2.3.0->en_core_web_sm==2.3.1) (1.0.0)\n",
      "Requirement already satisfied: thinc==7.4.1 in /Users/asakhala/opt/anaconda3/lib/python3.8/site-packages (from spacy<2.4.0,>=2.3.0->en_core_web_sm==2.3.1) (7.4.1)\n",
      "Requirement already satisfied: plac<1.2.0,>=0.9.6 in /Users/asakhala/opt/anaconda3/lib/python3.8/site-packages (from spacy<2.4.0,>=2.3.0->en_core_web_sm==2.3.1) (1.1.3)\n",
      "Requirement already satisfied: setuptools in /Users/asakhala/opt/anaconda3/lib/python3.8/site-packages (from spacy<2.4.0,>=2.3.0->en_core_web_sm==2.3.1) (49.2.0.post20200714)\n",
      "Requirement already satisfied: wasabi<1.1.0,>=0.4.0 in /Users/asakhala/opt/anaconda3/lib/python3.8/site-packages (from spacy<2.4.0,>=2.3.0->en_core_web_sm==2.3.1) (0.8.0)\n",
      "Requirement already satisfied: srsly<1.1.0,>=1.0.2 in /Users/asakhala/opt/anaconda3/lib/python3.8/site-packages (from spacy<2.4.0,>=2.3.0->en_core_web_sm==2.3.1) (1.0.3)\n",
      "Requirement already satisfied: cymem<2.1.0,>=2.0.2 in /Users/asakhala/opt/anaconda3/lib/python3.8/site-packages (from spacy<2.4.0,>=2.3.0->en_core_web_sm==2.3.1) (2.0.4)\n",
      "Requirement already satisfied: tqdm<5.0.0,>=4.38.0 in /Users/asakhala/opt/anaconda3/lib/python3.8/site-packages (from spacy<2.4.0,>=2.3.0->en_core_web_sm==2.3.1) (4.47.0)\n",
      "Requirement already satisfied: preshed<3.1.0,>=3.0.2 in /Users/asakhala/opt/anaconda3/lib/python3.8/site-packages (from spacy<2.4.0,>=2.3.0->en_core_web_sm==2.3.1) (3.0.4)\n",
      "Requirement already satisfied: certifi>=2017.4.17 in /Users/asakhala/opt/anaconda3/lib/python3.8/site-packages (from requests<3.0.0,>=2.13.0->spacy<2.4.0,>=2.3.0->en_core_web_sm==2.3.1) (2020.6.20)\n",
      "Requirement already satisfied: urllib3!=1.25.0,!=1.25.1,<1.26,>=1.21.1 in /Users/asakhala/opt/anaconda3/lib/python3.8/site-packages (from requests<3.0.0,>=2.13.0->spacy<2.4.0,>=2.3.0->en_core_web_sm==2.3.1) (1.25.9)\n",
      "Requirement already satisfied: idna<3,>=2.5 in /Users/asakhala/opt/anaconda3/lib/python3.8/site-packages (from requests<3.0.0,>=2.13.0->spacy<2.4.0,>=2.3.0->en_core_web_sm==2.3.1) (2.10)\n",
      "Requirement already satisfied: chardet<4,>=3.0.2 in /Users/asakhala/opt/anaconda3/lib/python3.8/site-packages (from requests<3.0.0,>=2.13.0->spacy<2.4.0,>=2.3.0->en_core_web_sm==2.3.1) (3.0.4)\n",
      "\u001b[38;5;2m✔ Download and installation successful\u001b[0m\n",
      "You can now load the model via spacy.load('en_core_web_sm')\n"
     ]
    }
   ],
   "source": [
    "!python -m spacy download en_core_web_sm"
   ]
  },
  {
   "cell_type": "code",
   "execution_count": 199,
   "metadata": {},
   "outputs": [
    {
     "name": "stdout",
     "output_type": "stream",
     "text": [
      "I did do nothing.\n"
     ]
    }
   ],
   "source": [
    "from pattern import en\n",
    "transform = RemoveNegation()\n",
    "string_in = \"I didn't do nothing.\"\n",
    "string_out = transform(string_in)\n",
    "print(string_out)"
   ]
  },
  {
   "cell_type": "markdown",
   "metadata": {},
   "source": [
    "### Add Negation"
   ]
  },
  {
   "cell_type": "code",
   "execution_count": 8,
   "metadata": {},
   "outputs": [
    {
     "name": "stdout",
     "output_type": "stream",
     "text": [
      "I don't want to live.\n"
     ]
    }
   ],
   "source": [
    "transform = AddNegation()\n",
    "string_in = \"I want to live.\"\n",
    "string_out = transform(string_in)\n",
    "print(string_out)"
   ]
  },
  {
   "cell_type": "markdown",
   "metadata": {},
   "source": [
    "### Expand Contractions"
   ]
  },
  {
   "cell_type": "code",
   "execution_count": 287,
   "metadata": {},
   "outputs": [
    {
     "name": "stdout",
     "output_type": "stream",
     "text": [
      "I cannot even begin to tell you how much I should not have said that.\n"
     ]
    }
   ],
   "source": [
    "transform = ExpandContractions()\n",
    "string_in = \"I can't even begin to tell you how much I shouldn't have said that.\"\n",
    "string_out = transform(string_in)\n",
    "print(string_out)"
   ]
  },
  {
   "cell_type": "markdown",
   "metadata": {},
   "source": [
    "### Contract Contractions"
   ]
  },
  {
   "cell_type": "code",
   "execution_count": 289,
   "metadata": {},
   "outputs": [
    {
     "name": "stdout",
     "output_type": "stream",
     "text": [
      "I can't even begin to tell you how much I shouldn't have said that.\n"
     ]
    }
   ],
   "source": [
    "transform = ContractContractions()\n",
    "string_in = \"I cannot even begin to tell you how much I should not have said that.\"\n",
    "string_out = transform(string_in)\n",
    "print(string_out)"
   ]
  },
  {
   "cell_type": "markdown",
   "metadata": {},
   "source": [
    "###  Change Number"
   ]
  },
  {
   "cell_type": "code",
   "execution_count": 11,
   "metadata": {
    "scrolled": true
   },
   "outputs": [
    {
     "name": "stdout",
     "output_type": "stream",
     "text": [
      "My paper has 10 citations.\n"
     ]
    }
   ],
   "source": [
    "transform = ChangeNumber(multiplier=10000, replacement=10)\n",
    "string_in = \"My paper has 3 citations.\"\n",
    "string_out = transform(string_in)\n",
    "print(string_out)"
   ]
  },
  {
   "cell_type": "markdown",
   "metadata": {},
   "source": [
    "### Synonym Replacement"
   ]
  },
  {
   "cell_type": "code",
   "execution_count": 134,
   "metadata": {},
   "outputs": [
    {
     "name": "stdout",
     "output_type": "stream",
     "text": [
      "The quick brownish fox rise over the lazy dog\n"
     ]
    }
   ],
   "source": [
    "transform = ChangeSynse(synse='synonym', num_to_replace=3)\n",
    "string_in = \"The quick brown fox jumps over the lazy dog\"\n",
    "string_out = transform(string_in)\n",
    "print(string_out)"
   ]
  },
  {
   "cell_type": "markdown",
   "metadata": {},
   "source": [
    "### Antonym Replacement"
   ]
  },
  {
   "cell_type": "code",
   "execution_count": 141,
   "metadata": {},
   "outputs": [
    {
     "name": "stdout",
     "output_type": "stream",
     "text": [
      "I hate how you just freshen anything.\n"
     ]
    }
   ],
   "source": [
    "transform = ChangeSynse(synse='antonym', num_to_replace=3)\n",
    "string_in = \"I love how you just wear anything.\"\n",
    "string_out = transform(string_in)\n",
    "print(string_out)"
   ]
  },
  {
   "cell_type": "markdown",
   "metadata": {},
   "source": [
    "### Hyponym Replacement"
   ]
  },
  {
   "cell_type": "code",
   "execution_count": 14,
   "metadata": {},
   "outputs": [
    {
     "name": "stdout",
     "output_type": "stream",
     "text": [
      "I cherish how you just overfatigue anything.\n"
     ]
    }
   ],
   "source": [
    "transform = ChangeSynse(synse='hyponym', num_to_replace=3)\n",
    "string_in = \"I love how you just wear anything.\"\n",
    "string_out = transform(string_in)\n",
    "print(string_out)"
   ]
  },
  {
   "cell_type": "markdown",
   "metadata": {},
   "source": [
    "### Hypernym Replacement"
   ]
  },
  {
   "cell_type": "code",
   "execution_count": 15,
   "metadata": {},
   "outputs": [
    {
     "name": "stdout",
     "output_type": "stream",
     "text": [
      "I link how you just have anything.\n"
     ]
    }
   ],
   "source": [
    "transform = ChangeSynse(synse='hypernym', num_to_replace=3)\n",
    "string_in = \"I love how you just wear anything.\"\n",
    "string_out = transform(string_in)\n",
    "print(string_out)"
   ]
  },
  {
   "cell_type": "markdown",
   "metadata": {},
   "source": [
    "### Word Deletion"
   ]
  },
  {
   "cell_type": "code",
   "execution_count": 161,
   "metadata": {},
   "outputs": [
    {
     "name": "stdout",
     "output_type": "stream",
     "text": [
      "I love how you anything.\n"
     ]
    }
   ],
   "source": [
    "transform = WordDeletion(p=0.3)\n",
    "string_in = \"I love how you just wear anything.\"\n",
    "string_out = transform(string_in)\n",
    "print(string_out)"
   ]
  },
  {
   "cell_type": "markdown",
   "metadata": {},
   "source": [
    "### Homoglyph swap"
   ]
  },
  {
   "cell_type": "code",
   "execution_count": 102,
   "metadata": {},
   "outputs": [
    {
     "name": "stdout",
     "output_type": "stream",
     "text": [
      "Tհе ԛսіϲ𝒌 Ьⲅоԝո fо× ϳսｍрѕ оѵеⲅ tհе ⅼɑzу dоg\n"
     ]
    }
   ],
   "source": [
    "transform = HomoglyphSwap(change=0.75)\n",
    "string_in = \"The quick brown fox jumps over the lazy dog\"\n",
    "string_out = transform(string_in)\n",
    "print(string_out)"
   ]
  },
  {
   "cell_type": "markdown",
   "metadata": {},
   "source": [
    "### Random Swap"
   ]
  },
  {
   "cell_type": "code",
   "execution_count": 155,
   "metadata": {},
   "outputs": [
    {
     "name": "stdout",
     "output_type": "stream",
     "text": [
      "dog quick brown over jumps the fox lazy The\n"
     ]
    }
   ],
   "source": [
    "transform = RandomSwap(n=3)\n",
    "string_in = \"The quick brown fox jumps over the lazy dog\"\n",
    "string_out = transform(string_in)\n",
    "print(string_out)"
   ]
  },
  {
   "cell_type": "markdown",
   "metadata": {},
   "source": [
    "### Random Word Insertion"
   ]
  },
  {
   "cell_type": "code",
   "execution_count": 201,
   "metadata": {},
   "outputs": [
    {
     "name": "stdout",
     "output_type": "stream",
     "text": [
      "embrown The quick brown fox embrown throw jumps over the lazy terminated dog\n"
     ]
    }
   ],
   "source": [
    "transform = RandomInsertion(n=4)\n",
    "string_in = \"The quick brown fox jumps over the lazy dog\"\n",
    "string_out = transform(string_in)\n",
    "print(string_out)"
   ]
  },
  {
   "cell_type": "markdown",
   "metadata": {},
   "source": [
    "### Add Sentiment Link"
   ]
  },
  {
   "cell_type": "code",
   "execution_count": 290,
   "metadata": {},
   "outputs": [],
   "source": [
    "# cd /Users/asakhala/Downloads/NLG/SIBAttack/transformations/text/links/"
   ]
  },
  {
   "cell_type": "code",
   "execution_count": 214,
   "metadata": {},
   "outputs": [
    {
     "name": "stdout",
     "output_type": "stream",
     "text": [
      "I would describe this movie with one word: https://www.dictionary.com/browse/enliven\n"
     ]
    }
   ],
   "source": [
    "transform = AddSentimentLink(sentiment='positive')\n",
    "string_in = \"I would describe this movie with one word:\"\n",
    "string_out = transform(string_in)\n",
    "print(string_out)"
   ]
  },
  {
   "cell_type": "code",
   "execution_count": 213,
   "metadata": {},
   "outputs": [
    {
     "name": "stdout",
     "output_type": "stream",
     "text": [
      "I would describe this movie with one word: https://www.dictionary.com/browse/resentful\n"
     ]
    }
   ],
   "source": [
    "transform = AddSentimentLink(sentiment='negative')\n",
    "string_in = \"I would describe this movie with one word:\"\n",
    "string_out = transform(string_in)\n",
    "print(string_out)"
   ]
  },
  {
   "cell_type": "markdown",
   "metadata": {},
   "source": [
    "### Import Link Text"
   ]
  },
  {
   "cell_type": "code",
   "execution_count": 202,
   "metadata": {},
   "outputs": [
    {
     "name": "stdout",
     "output_type": "stream",
     "text": [
      "This is a cool site:         DICTIONARY.COM THESAURUS.COM MEANINGS MEANINGS Emoji Slang Acronyms Pop Culture Memes Gender and Sexuality Mixed-up Meanings WORD GAMES WORD GAMES Quizzes Crossword Solver Scrabble Word Finder Words With Friends Cheat Daily Crossword Puzzle LEARN LEARN Online Tutors New Words Word Trends Word Facts 101 All About English Science and Technology Literature and Arts WRITING WRITING Grammar Coach Writing Prompts Grammar 101 Writing Tips Ways to Say It Better WORD OF THE DAY WORD OF THE DAY Word of the Day Synonym of the Day Word of the Year Word List Account Settings Subscriptions Help Center Sign Out DEFINITIONS SYNONYMS Search MEANINGS MEANINGS Emoji Slang Acronyms Pop Culture Memes Gender and Sexuality Mixed-up Meanings WORD GAMES WORD GAMES Quizzes Crossword Solver Scrabble Word Finder Words With Friends Cheat Daily Crossword Puzzle LEARN LEARN Online Tutors New Words Word Trends Word Facts 101 All About English Science and Technology Literature and Arts WRITING WRITING Grammar Coach Writing Prompts Grammar 101 Writing Tips Ways to Say It Better WORD OF THE DAY WORD OF THE DAY Word of the Day Synonym of the Day Word of the Year Top Definitions  Quizzes  Related Content  Examples  Explore Dictionary  British  Idioms And Phrases  good [ g oo d  ] SHOW IPA / gʊd  / PHONETIC RESPELLING SEE SYNONYMS FOR  good adjective,  bet·ter,  best. morally excellent; virtuous; righteous; pious: a good man.  satisfactory in quality, quantity, or degree: a good teacher; good health.  of high quality; excellent. right; proper; fit: It is good that you are here. His credentials are good.  well-behaved: a good child.  kind, beneficent, or friendly: to do a good deed.  honorable or worthy; in good standing: a good name.  educated and refined: She has a good background.  financially sound or safe: His credit is good.  genuine; not counterfeit: a good quarter.  sound or valid: good judgment; good reasons.  reliable; dependable; responsible: good advice.  healthful; beneficial: Fresh fruit is good for you.  in excellent condition; healthy: good teeth.  not spoiled or tainted; edible; palatable: The meat was still good after three months in the freezer.  favorable; propitious: good news.  cheerful; optimistic; amiable: in good spirits.  free of distress or pain; comfortable: to feel good after surgery.  agreeable; pleasant: Have a good time.  attractive; handsome: She has a good figure.  (of the complexion) smooth; free from blemish. close or intimate; warm: She's a good friend of mine.  sufficient or ample: a good supply.  advantageous; satisfactory for the purpose: a good day for fishing.  competent or skillful; clever: a good manager; good at arithmetic.  skillfully or expertly done: a really good job; a good play.  conforming to rules of grammar, usage, etc.; correct: good English.  socially proper: good manners.  remaining available to one: Don't throw good money after bad.  comparatively new or of relatively fine quality: Don't play in the mud in your good clothes.  finest or most dressy: He wore his good suit to the office today.  full: a good day's journey away.  fairly large or great: a good amount.  free from precipitation or cloudiness: good weather.  Medicine/Medical . (of a patient's condition) having stable and normal vital signs, being conscious and comfortable, and having excellent appetite, mobility, etc. fertile; rich: good soil.  loyal: a good Democrat.  (of a return or service in tennis, squash, handball, etc.) landing within the limits of a court or section of a court. Informal . (used when declining an offer or suggestion, as to communicate that one is already satisfied): \"More coffee?\" \"No thanks, I’m good!\"  Horse Racing . (of the surface of a track) drying after a rain so as to be still slightly sticky: This horse runs best on a good track.  (of meat, especially beef) noting or pertaining to the specific grade below “choice,” containing more lean muscle and less edible fat than “prime” or “choice.” favorably regarded (used as an epithet for a ship, town, etc.): the good ship Syrena.  SEE MORE SEE LESS noun profit or advantage; worth; benefit: What good will that do?  We shall work for the common good.  excellence or merit; kindness: to do good.  moral righteousness; virtue: to be a power for good.  (especially in the grading of U.S. beef) an official grade below that of “choice.” goods,   possessions, especially movable effects or personal property.  articles of trade; wares; merchandise: canned goods.  Informal .  what has been promised or is expected: to deliver the goods.  Informal .  items that are authentic rather than imitation; the genuine article : If you want real pearls, we have the goods. Informal .  evidence of guilt, as stolen articles: to catch someone with the goods.   cloth or textile material: top-quality linen goods.  Chiefly British .  merchandise sent by land, rather than by water or air. the good,   the ideal of goodness or morality.  good things or persons collectively. SEE MORE SEE LESS interjection (used as an expression of approval or satisfaction): Good! Now we can all go home.  adverb Informal . well 1 (defs. 1-3, 8) : I wish I could cook this good!  Yes, we knew him pretty good.  SEE MORE DEFINITIONS SEE FEWER DEFINITIONS   QUIZZES BECOME A PRO CHEF WITH THIS EXQUISITE CUISINE QUIZ! Even if you can't be a professional chef, you can at least talk like one with this vocabulary quiz. Question 1 of 9 You may have read the word \"simmer\" in a recipe or two, but what does it really mean? To cook in water that begins cold and then reaches a boil. To stew in a sauce for a long time. To cook in water, just below boiling temperature. TAKE THE QUIZ TO FIND OUT  Idioms for good as good as . as 1 (def. 20) . come to no good , to end in failure or as a failure: Her jealous relatives said that she would come to no good.  for good , finally and permanently; forever: to leave the country for good.  Also for good and all.  good and , Informal . very ; completely ; exceedingly : This soup is good and hot.  good for ,  certain to repay (money owed) because of integrity, financial stability, etc.  the equivalent in value of: Two thousand stamps are good for one coffeepot.   able to survive or continue functioning for (the length of time or the distance indicated): These tires are good for another 10,000 miles.   valid or in effect for (the length of time indicated): a license good for one year.   (used as an expression of approval): Good for you!  good full , Nautical . (of a sail or sails) well filled, especially when sailing close to the wind; clean full; rap full. make good ,  to make recompense for; repay.  to implement an agreement; fulfill.  to be successful.  to substantiate; verify.  to carry out; accomplish; execute: The convicts made good their getaway.  no good , without value or merit; worthless; contemptible: The check was no good.  to the good ,  generally advantageous: That's all to the good, but what do I get out of it?   richer in profit or gain: When he withdrew from the partnership, he was several thousand dollars to the good.  SEE MORE IDIOMS SEE FEWER IDIOMS   Origin of  good First recorded before 900; Middle English good, god; Old English gōd; cognate with Dutch goed, German gut, Old Norse gōthr, Gothic goths  SYNONYMS FOR good 1  pure , moral , conscientious ; meritorious , worthy , exemplary , upright . 2  adequate . 3  outstanding , admirable . 5  obedient , heedful . 6  kindly , benevolent , humane , gracious , obliging . 23  goodly , adequate . 24  profitable , useful , serviceable , beneficial . 25  efficient , proficient , capable , able , ready , suited , suitable , dexterous , expert , adroit , apt . SEE SYNONYMS FOR  good synonym study for good 47 .  See property . usage note for good Good is common as an adverb in informal speech, especially after forms of do: He did good on the test. She sees good with her new glasses. This use does not occur in formal speech or edited writing, where the adverb well is used instead: He did well on the test. She sees well with her new glasses.  The adjective good is standard after linking verbs like taste, smell, look, feel, be, and seem: Everything tastes good. The biscuits smell good. You're looking good today. When used after look or feel,  good may refer to spirits as well as health: I'm feeling pretty good this morning, ready to take on the world.  Well is both an adjective and an adverb. As an adjective used after look, feel, or other linking verbs, it often refers to good health: You're looking well; we missed you while you were in the hospital. See also bad . OTHER WORDS FROM good qua·si-good,  adjective WORDS THAT MAY BE CONFUSED WITH good good , well (see usage note at the current entry) Words nearby good gonzo , goo , goober , gooby , Gooch , good , good afternoon , Goodall , good and , good around , good behavior Dictionary.com Unabridged\n",
      "Based on the Random House Unabridged Dictionary, © Random House, Inc. 2020 Content related to good The Most Insincere Compliments And What To Say Instead Time to move away from \"great job\" and \"very nice\" and elevate your compliments with these synonyms for some of the most overused words of praise out there. READ MORE Words related to good great , satisfying , exceptional , positive , acceptable , satisfactory , valuable , superb , marvelous , bad , wonderful , favorable , excellent , respectable , honest , useful , talented , efficient , reliable , able Example sentences from the Web for good As an example of good science-and-society policymaking, the history of fluoride may be more of a cautionary tale. Anti-Fluoriders Are The OG Anti-Vaxxers | Michael Schulson | July 27, 2016 | DAILY BEAST Petty, shade, and thirst are my favorite human “virtues” and the trifecta of any good series of “stories.” ‘Empire’ Review: Hip-Hop Musical Chairs with an Insane Soap Opera Twist | Judnick Mayard | January 8, 2015 | DAILY BEAST I think everybody would like to be handsome and good at karate. ‘Archer’ Creator Adam Reed Spills Season 6 Secrets, From Surreal Plotlines to Life Post-ISIS | Marlow Stern | January 8, 2015 | DAILY BEAST They worked just as hard on that as the people who made the good movie did. Patton Oswalt on Fighting Conservatives With Satire | William O’Connor | January 6, 2015 | DAILY BEAST For those living in poor communities in particular, interactions with police rarely come with good news and a smile. How to Solve the Policing Crisis | Keli Goff | January 5, 2015 | DAILY BEAST And upon those rocks of crystal grow the good diamonds that be of trouble colour. The Travels of Sir John Mandeville | John Mandeville Some numbers have a bad influence for him, and there are good numbers. Appletons' Popular Science Monthly, January 1900 | Various He said that the food was good and that sometimes evenings he had a chance to go out. Warren Commission (1 of 26): Hearings Vol. I (of 15) | The President's Commission on the Assassination of President Kennedy The invalids replied untruthfully that they did, while Peter stated that Master had done him good already. Furze the Cruel | John Trevena How are we to know what is right and wrong, and what are our motives for approving and disapproving the good and the bad? The Life of Sir James Fitzjames Stephen, Bart., K.C.S.I. | Sir Leslie Stephen SEE MORE EXAMPLES SEE FEWER EXAMPLES   Explore Dictionary.com Why Do “Left” And “Right” Mean Liberal And Conservative? “Affect” vs. “Effect”: Use The Correct Word Every Time “Have” vs. “Has”: When To Use Each One What Do “a.m.” And “p.m.” Stand For? Systematic vs. Systemic: There’s A System To The Difference “Yams” vs. “Sweet Potatoes”: Are They Synonyms? British Dictionary definitions for  good good / ( ɡʊd ) / adjective  better  or  best having admirable, pleasing, superior, or positive qualities; not negative, bad or mediocre a good idea ; a good teacher  morally excellent or admirable; virtuous; righteous a good man  ( as collective noun; preceded by the ) the good suitable or efficient for a purpose a good secretary ; a good winter coat beneficial or advantageous vegetables are good for you not ruined or decayed; sound or whole the meat is still good kindly, generous, or approving you are good to him right or acceptable your qualifications are good for the job rich and fertile good land valid or genuine I would not do this without good reason honourable or held in high esteem a good family commercially or financially secure, sound, or safe good securities ; a good investment (of a draft) drawn for a stated sum (of debts) expected to be fully paid clever, competent, or talented he's good at science obedient or well-behaved a good dog reliable, safe, or recommended a good make of clothes affording material pleasure or indulgence the good things in life ; the good life having a well-proportioned, beautiful, or generally fine appearance a good figure ; a good complexion complete; full I took a good look round the house propitious; opportune a good time to ask the manager for a rise satisfying or gratifying a good rest comfortable did you have a good night? newest or of the best quality to keep the good plates for important guests fairly large, extensive, or long a good distance away sufficient; ample we have a good supply of food US  (of meat) of the third government grade, above standard and below choice serious or intellectual good music used in a traditional description the good ship ``America'' used in polite or patronizing phrases or to express anger (often intended ironically) how is your good lady? ; look here, my good man! a good one   an unbelievable assertion  a very funny joke as good as  virtually; practically it's as good as finished as good as gold  excellent; very good indeed be as good as to  or  be so good as to  would you please come good  to recover and perform well after a bad start or setback good and  informal  (intensifier) good and mad (intensifier; used in mild oaths) good grief! ; good heavens! SEE MORE SEE LESS interjection an exclamation of approval, agreement, pleasure, etc noun moral or material advantage or use; benefit or profit for the good of our workers ; what is the good of worrying? positive moral qualities; goodness; virtue; righteousness; piety (sometimes capital)  moral qualities seen as a single abstract entity we must pursue the Good a good thing economics  a commodity or service that satisfies a human need for good  or  for good and all  forever; permanently I have left them for good make good   to recompense or repair damage or injury  to be successful  to demonstrate or prove the truth of (a statement or accusation)  to secure and retain (a position)  to effect or fulfil (something intended or promised) good on you  or  good for you  well done, well said, etc: a term of congratulation get any good of  or  get some good of  Irish   to handle to good effect I never got any good of this machine  to understand properly I could never get any good of him  to receive cooperation from SEE MORE SEE LESS See also goods Derived forms of good goodish , adjective Word Origin for good Old English gōd; related to Old Norse gōthr, Old High German guot good Collins English Dictionary - Complete & Unabridged 2012 Digital Edition \n",
      "© William Collins Sons & Co. Ltd. 1979, 1986 © HarperCollins \n",
      "Publishers 1998, 2000, 2003, 2005, 2006, 2007, 2009, 2012 Idioms and Phrases with  good good In addition to the idioms beginning with good good and good around good as, as good as done, as good as gold, as good as one's word, as good day good deal, a good egg, a good evening good faith good for good graces good grief good head on one's shoulders, have a good life, the good luck good many, a good mind good morning good nature goodness gracious goodness knows good night good off good riddance good Samaritan good scout good sort good thing good time good turn good word good works goody two-shoes also see: bad (good) sort but good do any good do good do one good for good for good measure get on someone's good side get out while the getting is good give a good account of oneself give as good as one gets have a good command of have a good mind to have a good thing going have a good time hold good ill wind (that blows nobody any good) in all good conscience in bad (good) faith in (good) condition in due course (all in good time) in good in good hands in good part in good spirits in good time in good with in someone's good graces keep (good) time make good make good time make someone look good miss is as good as a mile never had it so good no good no news is good news not the only fish (other good fish) in the sea one good turn deserves another on good terms on one's best (good) behavior put in a good word put to good use show someone a good time show to (good) advantage so far so good stand in good stead take in good part throw good money after bad to good purpose too good to be true too much of a good thing to the good turn to (good account) up to no good well and good what's the good of with good grace world of good your guess is as good as mine Also see undergoodnessgoods. SEE MORE ORIGINS SEE FEWER ORIGINS   The American Heritage® Idioms Dictionary \n",
      " Copyright © 2002, 2001, 1995 by Houghton Mifflin Harcourt Publishing Company. Published by Houghton Mifflin Harcourt Publishing Company. WORD OF THE DAY regale verb (used with object) | [ri- geyl ] SEE DEFINITION Others Are Reading Where Does “Sunday” Get Its Name From? “Stuffing” vs. “Dressing”: Do You Know The Difference? “Epidemic” vs. “Pandemic” vs. “Endemic”: What Do These Terms Mean? What Is “GOP” Short For? See Today's New Synonym! Browse the Dictionary : # A B C D E F G H I J K L M N O P Q R S T U V W X Y Z Browse by Category: Slang Emoji Acronyms Pop Culture More About Careers Contact Us Cookies, Terms, & Privacy © 2020 Dictionary.com, LLC     \n"
     ]
    }
   ],
   "source": [
    "transform = ImportLinkText()\n",
    "string_in = 'This is a cool site: https://www.dictionary.com/browse/good?s=t'\n",
    "string_out = transform(string_in)\n",
    "print(string_out)"
   ]
  },
  {
   "cell_type": "markdown",
   "metadata": {},
   "source": [
    "### Insert Sentiment Phrase"
   ]
  },
  {
   "cell_type": "code",
   "execution_count": 215,
   "metadata": {},
   "outputs": [
    {
     "name": "stdout",
     "output_type": "stream",
     "text": [
      "The movie was very clever. That said, I couldn't be happier.\n"
     ]
    }
   ],
   "source": [
    "transform = InsertSentimentPhrase()\n",
    "string_in = 'The movie was very clever.'\n",
    "string_out = transform(string_in)\n",
    "print(string_out)"
   ]
  },
  {
   "cell_type": "markdown",
   "metadata": {},
   "source": [
    "### Change name"
   ]
  },
  {
   "cell_type": "code",
   "execution_count": 292,
   "metadata": {},
   "outputs": [
    {
     "name": "stdout",
     "output_type": "stream",
     "text": [
      "\n",
      "His friend Jasmyn J. Whitehurst is here with Kohl Pipes and Horace. \n",
      "My name is Kamyla Cruise, and I live in USA with Malayna Morehouse and his best friend Xaria Fellows.\n",
      "Fabrice Harcel-Canada and Atharv Sakhala with Toi work at Charleen is looking at buying U.K. startup for $1billion\n",
      "\n"
     ]
    }
   ],
   "source": [
    "transform = ChangeName()\n",
    "string_in = \"\"\"\n",
    "His friend Nicolas J. Smith is here with Bart Simpon and Fred. \n",
    "My name is John Doe, and I live in USA with Donald Trump and his best friend Barack Obama.\n",
    "Fabrice Harcel-Canada and Atharv Sakhala with John work at Apple is looking at buying U.K. startup for $1billion\n",
    "\"\"\"\n",
    "string_out = transform(string_in)\n",
    "print(string_out)"
   ]
  },
  {
   "cell_type": "markdown",
   "metadata": {},
   "source": [
    "### Change location"
   ]
  },
  {
   "cell_type": "code",
   "execution_count": 293,
   "metadata": {},
   "outputs": [
    {
     "name": "stdout",
     "output_type": "stream",
     "text": [
      "\n",
      "I live in Cayman Islands, Arcadia, Oman Angeles.\n",
      "Pakistan is in Tuvalu.\n",
      "Fabrice is Kuwait and from Wausau and Atharv Sakhala is Czech but lives in Chilean\n",
      "\n"
     ]
    }
   ],
   "source": [
    "transform = ChangeLocation()\n",
    "string_in = \"\"\"\n",
    "I live in USA, California, Los Angeles.\n",
    "UCLA is in LA.\n",
    "Fabrice is Japanese and from Canada and Atharv Sakhala is Korean but lives in U.K.\n",
    "\"\"\"\n",
    "string_out = transform(string_in)\n",
    "print(string_out)"
   ]
  },
  {
   "cell_type": "markdown",
   "metadata": {},
   "source": [
    "## Typos\n",
    "### Random Char substitution"
   ]
  },
  {
   "cell_type": "code",
   "execution_count": 307,
   "metadata": {},
   "outputs": [
    {
     "name": "stdout",
     "output_type": "stream",
     "text": [
      "The quick brown fox jumps over theWlazy dog\n"
     ]
    }
   ],
   "source": [
    "transform = RandomCharSubst()\n",
    "string_in = \"The quick brown fox jumps over the lazy dog\"\n",
    "string_out = transform(string_in)\n",
    "print(string_out)"
   ]
  },
  {
   "cell_type": "code",
   "execution_count": 308,
   "metadata": {},
   "outputs": [
    {
     "name": "stdout",
     "output_type": "stream",
     "text": [
      "The qu#ckabrown hox jumps ovRr the laay dog\n"
     ]
    }
   ],
   "source": [
    "transform = RandomCharSubst()\n",
    "string_in = \"The quick brown fox jumps over the lazy dog\"\n",
    "string_out = transform(string_in, n=6)\n",
    "print(string_out)"
   ]
  },
  {
   "cell_type": "markdown",
   "metadata": {},
   "source": [
    "### Random Char insert"
   ]
  },
  {
   "cell_type": "code",
   "execution_count": 311,
   "metadata": {},
   "outputs": [
    {
     "name": "stdout",
     "output_type": "stream",
     "text": [
      "The quicDkg brown fox jumps over the xlazy dog\n"
     ]
    }
   ],
   "source": [
    "transform = RandomCharInsert()\n",
    "string_in = \"The quick brown fox jumps over the lazy dog\"\n",
    "string_out = transform(string_in, n=3)\n",
    "print(string_out)"
   ]
  },
  {
   "cell_type": "markdown",
   "metadata": {},
   "source": [
    "### Random Char delete"
   ]
  },
  {
   "cell_type": "code",
   "execution_count": 314,
   "metadata": {},
   "outputs": [
    {
     "name": "stdout",
     "output_type": "stream",
     "text": [
      "The quick brown ox umps oer the lazy dog\n"
     ]
    }
   ],
   "source": [
    "transform = RandomCharDel()\n",
    "string_in = \"The quick brown fox jumps over the lazy dog\"\n",
    "string_out = transform(string_in, n=3)\n",
    "print(string_out)"
   ]
  },
  {
   "cell_type": "markdown",
   "metadata": {},
   "source": [
    "### Random Char swap"
   ]
  },
  {
   "cell_type": "code",
   "execution_count": 318,
   "metadata": {},
   "outputs": [
    {
     "name": "stdout",
     "output_type": "stream",
     "text": [
      "The quick brwon fox ujmps over the lazyd og\n"
     ]
    }
   ],
   "source": [
    "transform = RandomCharSwap()\n",
    "string_in = \"The quick brown fox jumps over the lazy dog\"\n",
    "string_out = transform(string_in, n=3)\n",
    "print(string_out)"
   ]
  },
  {
   "cell_type": "markdown",
   "metadata": {},
   "source": [
    "### Random Char Swap qwerty"
   ]
  },
  {
   "cell_type": "code",
   "execution_count": 321,
   "metadata": {},
   "outputs": [
    {
     "name": "stdout",
     "output_type": "stream",
     "text": [
      "Ghe quick brown foc jumls over the lasy dog\n"
     ]
    }
   ],
   "source": [
    "transform = RandomSwapQwerty()\n",
    "string_in = \"The quick brown fox jumps over the lazy dog\"\n",
    "string_out = transform(string_in, n=6)\n",
    "print(string_out)"
   ]
  },
  {
   "cell_type": "code",
   "execution_count": 320,
   "metadata": {},
   "outputs": [],
   "source": [
    "from transformations.text.typos.char_substitute import RandomCharSubst\n",
    "from transformations.text.typos.char_insert import RandomCharInsert\n",
    "from transformations.text.typos.char_delete import RandomCharDel\n",
    "from transformations.text.typos.char_swap import RandomCharSwap\n",
    "from transformations.text.typos.char_swap_qwerty import RandomSwapQwerty"
   ]
  },
  {
   "cell_type": "code",
   "execution_count": null,
   "metadata": {},
   "outputs": [],
   "source": []
  }
 ],
 "metadata": {
  "kernelspec": {
   "display_name": "Python 3",
   "language": "python",
   "name": "python3"
  },
  "language_info": {
   "codemirror_mode": {
    "name": "ipython",
    "version": 3
   },
   "file_extension": ".py",
   "mimetype": "text/x-python",
   "name": "python",
   "nbconvert_exporter": "python",
   "pygments_lexer": "ipython3",
   "version": "3.8.3"
  },
  "varInspector": {
   "cols": {
    "lenName": 16,
    "lenType": 16,
    "lenVar": 40
   },
   "kernels_config": {
    "python": {
     "delete_cmd_postfix": "",
     "delete_cmd_prefix": "del ",
     "library": "var_list.py",
     "varRefreshCmd": "print(var_dic_list())"
    },
    "r": {
     "delete_cmd_postfix": ") ",
     "delete_cmd_prefix": "rm(",
     "library": "var_list.r",
     "varRefreshCmd": "cat(var_dic_list()) "
    }
   },
   "types_to_exclude": [
    "module",
    "function",
    "builtin_function_or_method",
    "instance",
    "_Feature"
   ],
   "window_display": false
  }
 },
 "nbformat": 4,
 "nbformat_minor": 2
}
