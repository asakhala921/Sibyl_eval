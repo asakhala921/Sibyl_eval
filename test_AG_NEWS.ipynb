{
 "cells": [
  {
   "cell_type": "code",
   "execution_count": 4,
   "metadata": {},
   "outputs": [],
   "source": [
    "%reload_ext autoreload\n",
    "%autoreload 2"
   ]
  },
  {
   "cell_type": "code",
   "execution_count": null,
   "metadata": {},
   "outputs": [],
   "source": [
    "from utils import *\n",
    "\n",
    "from datasets import load_dataset\n",
    "import pandas as pd\n",
    "import random\n",
    "import time\n",
    "import pickle\n",
    "import os\n",
    "from tqdm.notebook import tqdm"
   ]
  },
  {
   "cell_type": "markdown",
   "metadata": {},
   "source": [
    "# Data"
   ]
  },
  {
   "cell_type": "code",
   "execution_count": null,
   "metadata": {},
   "outputs": [],
   "source": [
    "dataset = load_dataset(\"ag_news\").shuffle()"
   ]
  },
  {
   "cell_type": "code",
   "execution_count": 3,
   "metadata": {},
   "outputs": [],
   "source": [
    "## generate 100 test suites with n tests\n",
    "# n = 100\n",
    "# test_suites = {}\n",
    "# for i in range(100):\n",
    "#     j = random.randint(0, len(dataset['train']['text']) - 1 - n)\n",
    "#     X, y = dataset['train']['text'][j:j+n], dataset['train']['label'][j:j+n]\n",
    "#     test_suite = {'data': X, 'target': y}\n",
    "#     test_suites[i] = test_suite  \n",
    "# pkl_save(test_suites, 'assets/AG_NEWS/test_suites.pkl')\n",
    "test_suites = pkl_load('assets/AG_NEWS/test_suites.pkl')"
   ]
  },
  {
   "cell_type": "code",
   "execution_count": 4,
   "metadata": {
    "scrolled": true
   },
   "outputs": [
    {
     "name": "stderr",
     "output_type": "stream",
     "text": [
      "100%|████████████████████████████████████████████████████████████████████████████████| 100/100 [04:25<00:00,  2.65s/it]\n"
     ]
    }
   ],
   "source": [
    "INV_test_suites = transform_test_suites(test_suites, num_transforms=2, task='topic', tran='INV')\n",
    "pkl_save(INV_test_suites, 'assets/AG_NEWS/INV_test_suites.pkl')"
   ]
  },
  {
   "cell_type": "code",
   "execution_count": null,
   "metadata": {},
   "outputs": [],
   "source": [
    "SIB_test_suites = transform_test_suites(test_suites, num_transforms=1, task='topic', tran='SIB-mix')\n",
    "pkl_save(SIB_test_suites, 'assets/AG_NEWS/SIB_test_suites.pkl')"
   ]
  },
  {
   "cell_type": "code",
   "execution_count": null,
   "metadata": {},
   "outputs": [],
   "source": [
    "# cannot easily apply since SIB transformations return soft-labels and INV ones return hard-labels\n",
    "# would require some time to think about how to do this (via one-hot-encoding), but then how to measure? loss BCEwithLogits?\n",
    "\n",
    "# both_test_suites = transform_test_suites(test_suites, num_transforms=2, task='sentiment', tran=None)\n",
    "# pkl_save(both_test_suites, 'assets/AG_NEWS/both_test_suites.pkl')"
   ]
  },
  {
   "cell_type": "markdown",
   "metadata": {},
   "source": [
    "# Testing"
   ]
  },
  {
   "cell_type": "code",
   "execution_count": 5,
   "metadata": {},
   "outputs": [],
   "source": [
    "test_suites = pkl_load('assets/AG_NEWS/test_suites.pkl')\n",
    "INV_test_suites = pkl_load('assets/AG_NEWS/INV_test_suites.pkl')\n",
    "SIB_test_suites = pkl_load('assets/AG_NEWS/SIB_test_suites.pkl')\n",
    "# both_test_suites = pkl_load('assets/IMDB/both_test_suites.pkl')"
   ]
  },
  {
   "cell_type": "code",
   "execution_count": 6,
   "metadata": {},
   "outputs": [],
   "source": [
    "def get_acc(y_pred, y_true):\n",
    "    total = y_true.size(0)\n",
    "    correct = (y_pred == y_true).sum().item()\n",
    "    return correct / total\n",
    "\n",
    "def get_topk_acc(logits, y_true, k):\n",
    "    total = y_true.size(0)\n",
    "    y_weights, y_idx = torch.topk(y_true, k=k, dim=1)\n",
    "    out_weights, out_idx = torch.topk(logits, k=k, dim=1)\n",
    "    correct = torch.sum(torch.eq(y_idx, out_idx) * y_weights)\n",
    "    return correct / total"
   ]
  },
  {
   "cell_type": "code",
   "execution_count": 7,
   "metadata": {
    "scrolled": true
   },
   "outputs": [
    {
     "data": {
      "application/vnd.jupyter.widget-view+json": {
       "model_id": "58d027651ae44e9ba92c938caf7f8758",
       "version_major": 2,
       "version_minor": 0
      },
      "text/plain": [
       "HBox(children=(HTML(value='Downloading'), FloatProgress(value=0.0, max=706.0), HTML(value='')))"
      ]
     },
     "metadata": {},
     "output_type": "display_data"
    },
    {
     "name": "stdout",
     "output_type": "stream",
     "text": [
      "\n"
     ]
    },
    {
     "data": {
      "application/vnd.jupyter.widget-view+json": {
       "model_id": "2f52c2f97e7441588d991e1f053def18",
       "version_major": 2,
       "version_minor": 0
      },
      "text/plain": [
       "HBox(children=(HTML(value='Downloading'), FloatProgress(value=0.0, max=231508.0), HTML(value='')))"
      ]
     },
     "metadata": {},
     "output_type": "display_data"
    },
    {
     "name": "stdout",
     "output_type": "stream",
     "text": [
      "\n"
     ]
    },
    {
     "data": {
      "application/vnd.jupyter.widget-view+json": {
       "model_id": "82f3a5995c8445b694b0fd6723583cfb",
       "version_major": 2,
       "version_minor": 0
      },
      "text/plain": [
       "HBox(children=(HTML(value='Downloading'), FloatProgress(value=0.0, max=112.0), HTML(value='')))"
      ]
     },
     "metadata": {},
     "output_type": "display_data"
    },
    {
     "name": "stdout",
     "output_type": "stream",
     "text": [
      "\n"
     ]
    },
    {
     "data": {
      "application/vnd.jupyter.widget-view+json": {
       "model_id": "9de16c7cab614aacb9dbe4668fc0f925",
       "version_major": 2,
       "version_minor": 0
      },
      "text/plain": [
       "HBox(children=(HTML(value='Downloading'), FloatProgress(value=0.0, max=48.0), HTML(value='')))"
      ]
     },
     "metadata": {},
     "output_type": "display_data"
    },
    {
     "name": "stdout",
     "output_type": "stream",
     "text": [
      "\n"
     ]
    },
    {
     "data": {
      "application/vnd.jupyter.widget-view+json": {
       "model_id": "9c06c678fc73467b8987a11f0a7dddbd",
       "version_major": 2,
       "version_minor": 0
      },
      "text/plain": [
       "HBox(children=(HTML(value='Downloading'), FloatProgress(value=0.0, max=437991539.0), HTML(value='')))"
      ]
     },
     "metadata": {},
     "output_type": "display_data"
    },
    {
     "name": "stdout",
     "output_type": "stream",
     "text": [
      "\n"
     ]
    }
   ],
   "source": [
    "import torch\n",
    "from transformers import AutoTokenizer, AutoModelForSequenceClassification\n",
    "\n",
    "# device = torch.device(\"cuda\" if torch.cuda.is_available() else \"cpu\")\n",
    "device = torch.device(\"cpu\")\n",
    "\n",
    "def load_huggingface_model(model_name, device, max_length=500):\n",
    "    tokenizer = AutoTokenizer.from_pretrained(model_name,)\n",
    "    model = AutoModelForSequenceClassification.from_pretrained(model_name).to(device)\n",
    "    def pipeline(sentence):\n",
    "        encode = tokenizer(sentence, \n",
    "                           padding=True, \n",
    "                           truncation=True, \n",
    "                           max_length=max_length, \n",
    "                           return_tensors=\"pt\").to(device)\n",
    "        logits = model(**encode)[0]\n",
    "        soft_m = torch.softmax(logits, dim=1)\n",
    "        return soft_m\n",
    "    return pipeline\n",
    "\n",
    "MODEL_NAME = \"textattack/bert-base-uncased-ag-news\" #\"textattack/distilbert-base-uncased-ag-news\" \n",
    "model = load_huggingface_model(MODEL_NAME, device, 100)"
   ]
  },
  {
   "cell_type": "code",
   "execution_count": 8,
   "metadata": {},
   "outputs": [],
   "source": [
    "tss = {\n",
    "    'test_suites' : test_suites,\n",
    "    'INV_test_suites' : INV_test_suites,\n",
    "    'SIB_test_suites' : SIB_test_suites,\n",
    "    # 'both_test_suites' : both_test_suites\n",
    "}"
   ]
  },
  {
   "cell_type": "code",
   "execution_count": 9,
   "metadata": {
    "scrolled": true
   },
   "outputs": [
    {
     "name": "stdout",
     "output_type": "stream",
     "text": [
      "starting test_suites...\n",
      "test suite 0 acc: 0.99\n",
      "test suite 1 acc: 1.0\n",
      "test suite 2 acc: 0.99\n",
      "test suite 3 acc: 1.0\n",
      "test suite 4 acc: 1.0\n",
      "test suite 5 acc: 1.0\n",
      "test suite 6 acc: 1.0\n",
      "test suite 7 acc: 1.0\n",
      "test suite 8 acc: 1.0\n",
      "test suite 9 acc: 1.0\n",
      "test suite 10 acc: 0.97\n",
      "test suite 11 acc: 1.0\n",
      "test suite 12 acc: 0.99\n",
      "test suite 13 acc: 1.0\n",
      "test suite 14 acc: 1.0\n",
      "test suite 15 acc: 1.0\n",
      "test suite 16 acc: 0.99\n",
      "test suite 17 acc: 1.0\n",
      "test suite 18 acc: 1.0\n",
      "test suite 19 acc: 1.0\n",
      "test suite 20 acc: 1.0\n",
      "test suite 21 acc: 0.98\n",
      "test suite 22 acc: 0.98\n",
      "test suite 23 acc: 1.0\n",
      "test suite 24 acc: 1.0\n",
      "test suite 25 acc: 1.0\n",
      "test suite 26 acc: 1.0\n",
      "test suite 27 acc: 1.0\n",
      "test suite 28 acc: 1.0\n",
      "test suite 29 acc: 1.0\n",
      "test suite 30 acc: 1.0\n",
      "test suite 31 acc: 1.0\n",
      "test suite 32 acc: 1.0\n",
      "test suite 33 acc: 0.99\n",
      "test suite 34 acc: 1.0\n",
      "test suite 35 acc: 1.0\n",
      "test suite 36 acc: 1.0\n",
      "test suite 37 acc: 1.0\n",
      "test suite 38 acc: 1.0\n",
      "test suite 39 acc: 1.0\n",
      "test suite 40 acc: 1.0\n",
      "test suite 41 acc: 0.99\n",
      "test suite 42 acc: 1.0\n",
      "test suite 43 acc: 1.0\n",
      "test suite 44 acc: 0.99\n",
      "test suite 45 acc: 0.99\n",
      "test suite 46 acc: 1.0\n",
      "test suite 47 acc: 0.99\n",
      "test suite 48 acc: 1.0\n",
      "test suite 49 acc: 1.0\n",
      "test suite 50 acc: 1.0\n",
      "test suite 51 acc: 1.0\n",
      "test suite 52 acc: 1.0\n",
      "test suite 53 acc: 1.0\n",
      "test suite 54 acc: 1.0\n",
      "test suite 55 acc: 0.98\n",
      "test suite 56 acc: 1.0\n",
      "test suite 57 acc: 1.0\n",
      "test suite 58 acc: 0.99\n",
      "test suite 59 acc: 1.0\n",
      "test suite 60 acc: 1.0\n",
      "test suite 61 acc: 1.0\n",
      "test suite 62 acc: 0.99\n",
      "test suite 63 acc: 0.99\n",
      "test suite 64 acc: 1.0\n",
      "test suite 65 acc: 1.0\n",
      "test suite 66 acc: 0.99\n",
      "test suite 67 acc: 0.99\n",
      "test suite 68 acc: 1.0\n",
      "test suite 69 acc: 1.0\n",
      "test suite 70 acc: 1.0\n",
      "test suite 71 acc: 1.0\n",
      "test suite 72 acc: 1.0\n",
      "test suite 73 acc: 1.0\n",
      "test suite 74 acc: 1.0\n",
      "test suite 75 acc: 1.0\n",
      "test suite 76 acc: 0.99\n",
      "test suite 77 acc: 1.0\n",
      "test suite 78 acc: 0.98\n",
      "test suite 79 acc: 1.0\n",
      "test suite 80 acc: 1.0\n",
      "test suite 81 acc: 0.99\n",
      "test suite 82 acc: 1.0\n",
      "test suite 83 acc: 0.99\n",
      "test suite 84 acc: 1.0\n",
      "test suite 85 acc: 0.98\n",
      "test suite 86 acc: 0.99\n",
      "test suite 87 acc: 1.0\n",
      "test suite 88 acc: 0.98\n",
      "test suite 89 acc: 0.99\n",
      "test suite 90 acc: 1.0\n",
      "test suite 91 acc: 1.0\n",
      "test suite 92 acc: 0.99\n",
      "test suite 93 acc: 1.0\n",
      "test suite 94 acc: 0.99\n",
      "test suite 95 acc: 1.0\n",
      "test suite 96 acc: 1.0\n",
      "test suite 97 acc: 1.0\n",
      "test suite 98 acc: 1.0\n",
      "test suite 99 acc: 0.99\n",
      "saving assets/AG_NEWS/BERT/test_suites_w_acc.pkl\n",
      "starting INV_test_suites...\n",
      "test suite 0 acc: 0.53\n",
      "test suite 1 acc: 0.49\n",
      "test suite 2 acc: 0.46\n",
      "test suite 3 acc: 0.53\n",
      "test suite 4 acc: 0.49\n",
      "test suite 5 acc: 0.44\n",
      "test suite 6 acc: 0.47\n",
      "test suite 7 acc: 0.48\n",
      "test suite 8 acc: 0.5\n",
      "test suite 9 acc: 0.42\n",
      "test suite 10 acc: 0.41\n",
      "test suite 11 acc: 0.47\n",
      "test suite 12 acc: 0.48\n",
      "test suite 13 acc: 0.47\n",
      "test suite 14 acc: 0.38\n",
      "test suite 15 acc: 0.44\n",
      "test suite 16 acc: 0.45\n",
      "test suite 17 acc: 0.44\n",
      "test suite 18 acc: 0.4\n",
      "test suite 19 acc: 0.4\n",
      "test suite 20 acc: 0.36\n",
      "test suite 21 acc: 0.46\n",
      "test suite 22 acc: 0.38\n",
      "test suite 23 acc: 0.38\n",
      "test suite 24 acc: 0.41\n",
      "test suite 25 acc: 0.44\n",
      "test suite 26 acc: 0.52\n",
      "test suite 27 acc: 0.41\n",
      "test suite 28 acc: 0.45\n",
      "test suite 29 acc: 0.47\n",
      "test suite 30 acc: 0.44\n",
      "test suite 31 acc: 0.38\n",
      "test suite 32 acc: 0.48\n",
      "test suite 33 acc: 0.43\n",
      "test suite 34 acc: 0.46\n",
      "test suite 35 acc: 0.45\n",
      "test suite 36 acc: 0.43\n",
      "test suite 37 acc: 0.45\n",
      "test suite 38 acc: 0.31\n",
      "test suite 39 acc: 0.44\n",
      "test suite 40 acc: 0.45\n",
      "test suite 41 acc: 0.46\n",
      "test suite 42 acc: 0.52\n",
      "test suite 43 acc: 0.45\n",
      "test suite 44 acc: 0.5\n",
      "test suite 45 acc: 0.42\n",
      "test suite 46 acc: 0.56\n",
      "test suite 47 acc: 0.43\n",
      "test suite 48 acc: 0.44\n",
      "test suite 49 acc: 0.45\n",
      "test suite 50 acc: 0.44\n",
      "test suite 51 acc: 0.52\n",
      "test suite 52 acc: 0.43\n",
      "test suite 53 acc: 0.48\n",
      "test suite 54 acc: 0.56\n",
      "test suite 55 acc: 0.39\n",
      "test suite 56 acc: 0.48\n",
      "test suite 57 acc: 0.43\n",
      "test suite 58 acc: 0.45\n",
      "test suite 59 acc: 0.41\n",
      "test suite 60 acc: 0.44\n",
      "test suite 61 acc: 0.53\n",
      "test suite 62 acc: 0.49\n",
      "test suite 63 acc: 0.48\n",
      "test suite 64 acc: 0.5\n",
      "test suite 65 acc: 0.51\n",
      "test suite 66 acc: 0.5\n",
      "test suite 67 acc: 0.49\n",
      "test suite 68 acc: 0.45\n",
      "test suite 69 acc: 0.46\n",
      "test suite 70 acc: 0.43\n",
      "test suite 71 acc: 0.53\n",
      "test suite 72 acc: 0.46\n",
      "test suite 73 acc: 0.52\n",
      "test suite 74 acc: 0.52\n",
      "test suite 75 acc: 0.39\n",
      "test suite 76 acc: 0.48\n",
      "test suite 77 acc: 0.47\n",
      "test suite 78 acc: 0.43\n",
      "test suite 79 acc: 0.47\n",
      "test suite 80 acc: 0.49\n",
      "test suite 81 acc: 0.49\n",
      "test suite 82 acc: 0.45\n",
      "test suite 83 acc: 0.42\n",
      "test suite 84 acc: 0.43\n",
      "test suite 85 acc: 0.33\n",
      "test suite 86 acc: 0.33\n",
      "test suite 87 acc: 0.45\n",
      "test suite 88 acc: 0.43\n",
      "test suite 89 acc: 0.44\n",
      "test suite 90 acc: 0.48\n",
      "test suite 91 acc: 0.51\n",
      "test suite 92 acc: 0.4\n",
      "test suite 93 acc: 0.41\n",
      "test suite 94 acc: 0.55\n",
      "test suite 95 acc: 0.41\n",
      "test suite 96 acc: 0.36\n",
      "test suite 97 acc: 0.37\n",
      "test suite 98 acc: 0.45\n",
      "test suite 99 acc: 0.41\n",
      "saving assets/AG_NEWS/BERT/INV_test_suites_w_acc.pkl\n",
      "starting SIB_test_suites...\n",
      "test suite 0 acc: 0.5526845979529882\n",
      "test suite 1 acc: 0.5899845547190016\n",
      "test suite 2 acc: 0.6535427366508364\n",
      "test suite 3 acc: 0.5757726773084926\n",
      "test suite 4 acc: 0.6362919910519628\n",
      "test suite 5 acc: 0.5841766619922325\n",
      "test suite 6 acc: 0.6055999806620371\n",
      "test suite 7 acc: 0.6868921844815364\n",
      "test suite 8 acc: 0.6010732498630823\n",
      "test suite 9 acc: 0.6492574906242132\n",
      "test suite 10 acc: 0.6233714998282718\n",
      "test suite 11 acc: 0.5452662788243586\n",
      "test suite 12 acc: 0.6410615641434886\n",
      "test suite 13 acc: 0.6847222001928601\n",
      "test suite 14 acc: 0.5950181642455021\n",
      "test suite 15 acc: 0.5749469916430879\n",
      "test suite 16 acc: 0.5937622106986941\n",
      "test suite 17 acc: 0.6380595579472256\n",
      "test suite 18 acc: 0.6219280075872903\n",
      "test suite 19 acc: 0.6747235252118701\n",
      "test suite 20 acc: 0.5544780147766203\n",
      "test suite 21 acc: 0.6448621472439047\n",
      "test suite 22 acc: 0.6412468345590914\n",
      "test suite 23 acc: 0.611934547482288\n",
      "test suite 24 acc: 0.6325548568758106\n",
      "test suite 25 acc: 0.6279502291857877\n",
      "test suite 26 acc: 0.6626440614948977\n",
      "test suite 27 acc: 0.6003600964306114\n",
      "test suite 28 acc: 0.5967851004582003\n",
      "test suite 29 acc: 0.658298121023396\n",
      "test suite 30 acc: 0.6429100091044826\n",
      "test suite 31 acc: 0.641894356460575\n",
      "test suite 32 acc: 0.6485926193226409\n",
      "test suite 33 acc: 0.6432357965671648\n",
      "test suite 34 acc: 0.6523386253033485\n",
      "test suite 35 acc: 0.6370473002322714\n",
      "test suite 36 acc: 0.6085967526317887\n",
      "test suite 37 acc: 0.5792546725902536\n",
      "test suite 38 acc: 0.6718835056613374\n",
      "test suite 39 acc: 0.676679783797378\n",
      "test suite 40 acc: 0.6566932497175479\n",
      "test suite 41 acc: 0.6178648725069388\n",
      "test suite 42 acc: 0.6327372385274294\n",
      "test suite 43 acc: 0.6578535656148681\n",
      "test suite 44 acc: 0.5867323754372498\n",
      "test suite 45 acc: 0.7027674933605522\n",
      "test suite 46 acc: 0.5593828678654034\n",
      "test suite 47 acc: 0.6435232168499947\n",
      "test suite 48 acc: 0.6763505410250146\n",
      "test suite 49 acc: 0.5861498706484274\n",
      "test suite 50 acc: 0.7075571154940304\n",
      "test suite 51 acc: 0.6651421576836295\n",
      "test suite 52 acc: 0.5882106980738453\n",
      "test suite 53 acc: 0.6870175527758614\n",
      "test suite 54 acc: 0.6171435326857861\n",
      "test suite 55 acc: 0.5840403280001113\n",
      "test suite 56 acc: 0.6228959030693205\n",
      "test suite 57 acc: 0.6740079483762531\n",
      "test suite 58 acc: 0.668431218986586\n",
      "test suite 59 acc: 0.6185114555742522\n",
      "test suite 60 acc: 0.702335457343278\n",
      "test suite 61 acc: 0.6258207027952418\n",
      "test suite 62 acc: 0.5799824763288116\n",
      "test suite 63 acc: 0.6775116382962413\n",
      "test suite 64 acc: 0.6004341529878715\n",
      "test suite 65 acc: 0.571629929408378\n",
      "test suite 66 acc: 0.6402940602798977\n",
      "test suite 67 acc: 0.6561222461655392\n",
      "test suite 68 acc: 0.5989330144340659\n",
      "test suite 69 acc: 0.5774604475183756\n",
      "test suite 70 acc: 0.5446929191684333\n",
      "test suite 71 acc: 0.5298667299499257\n",
      "test suite 72 acc: 0.6159512783178027\n",
      "test suite 73 acc: 0.5891804893800421\n",
      "test suite 74 acc: 0.6193029091810439\n",
      "test suite 75 acc: 0.6491123626426866\n",
      "test suite 76 acc: 0.6033509213814642\n",
      "test suite 77 acc: 0.6437946430334178\n",
      "test suite 78 acc: 0.5977804594478205\n",
      "test suite 79 acc: 0.6150076280740846\n",
      "test suite 80 acc: 0.6613735916357573\n",
      "test suite 81 acc: 0.6167334558127462\n",
      "test suite 82 acc: 0.5958771508042268\n",
      "test suite 83 acc: 0.5759852104805251\n",
      "test suite 84 acc: 0.6181561441270023\n",
      "test suite 85 acc: 0.623075555082655\n",
      "test suite 86 acc: 0.6250443925266378\n",
      "test suite 87 acc: 0.6376197024047814\n"
     ]
    },
    {
     "name": "stdout",
     "output_type": "stream",
     "text": [
      "test suite 88 acc: 0.6794212747758607\n",
      "test suite 89 acc: 0.5529635369087186\n",
      "test suite 90 acc: 0.6670173753813041\n",
      "test suite 91 acc: 0.6623795592934744\n",
      "test suite 92 acc: 0.6330509141218206\n",
      "test suite 93 acc: 0.6676707118365327\n",
      "test suite 94 acc: 0.513041733944327\n",
      "test suite 95 acc: 0.5592081739299514\n",
      "test suite 96 acc: 0.6417770350545341\n",
      "test suite 97 acc: 0.6039034802356585\n",
      "test suite 98 acc: 0.6518913263140864\n",
      "test suite 99 acc: 0.539455539201459\n",
      "saving assets/AG_NEWS/BERT/SIB_test_suites_w_acc.pkl\n"
     ]
    }
   ],
   "source": [
    "for t_name, test_suites in tss.items():\n",
    "    print('starting {}...'.format(t_name))\n",
    "    if 'SIB' in t_name:\n",
    "        for idx, t in test_suites.items():\n",
    "            logits = model([str(x) for x in t['data'].tolist()])\n",
    "            y_true = torch.tensor(t['target'])\n",
    "            acc = get_topk_acc(logits, y_true, k=2)\n",
    "            t['performance'] = {\n",
    "                'MODEL_NAME' : MODEL_NAME,\n",
    "                'acc' : acc\n",
    "            }\n",
    "            print('test suite {} acc: {}'.format(idx, acc))\n",
    "    else:\n",
    "        for idx, t in test_suites.items():\n",
    "            logits = model(t['data'])\n",
    "            y_pred = torch.argmax(logits, dim=1)\n",
    "            y_true = torch.tensor(t['target'])\n",
    "            acc = get_acc(y_pred, y_true)\n",
    "            t['performance'] = {\n",
    "                'MODEL_NAME' : MODEL_NAME,\n",
    "                'acc' : acc\n",
    "            }\n",
    "            print('test suite {} acc: {}'.format(idx, acc))\n",
    "    file_path = 'assets/AG_NEWS/BERT/' + t_name + '_w_acc.pkl'\n",
    "    pkl_save(test_suites, file_path)\n",
    "    print('saving {}'.format(file_path))"
   ]
  },
  {
   "cell_type": "code",
   "execution_count": 10,
   "metadata": {},
   "outputs": [
    {
     "name": "stdout",
     "output_type": "stream",
     "text": [
      "average acc: 1.00 | test_suites\n",
      "average acc: 0.45 | INV_test_suites\n",
      "average acc: 0.62 | SIB_test_suites\n"
     ]
    }
   ],
   "source": [
    "# BERT\n",
    "for t_name, test_suites in tss.items():\n",
    "    count = 0\n",
    "    total = 0\n",
    "    for idx, t in test_suites.items():\n",
    "        total += t['performance']['acc']\n",
    "        count += 1\n",
    "    avg_acc = total / count\n",
    "    print('average acc: {0:1.2f} | {1}'.format(avg_acc, t_name))"
   ]
  },
  {
   "cell_type": "markdown",
   "metadata": {},
   "source": [
    "# Sample some transforms to see if they're reasonable"
   ]
  },
  {
   "cell_type": "code",
   "execution_count": 11,
   "metadata": {},
   "outputs": [],
   "source": [
    "test_suites = pkl_load('assets/AG_NEWS/test_suites.pkl')\n",
    "INV_test_suites = pkl_load('assets/AG_NEWS/INV_test_suites.pkl')\n",
    "SIB_test_suites = pkl_load('assets/AG_NEWS/SIB_test_suites.pkl')"
   ]
  },
  {
   "cell_type": "code",
   "execution_count": 68,
   "metadata": {
    "scrolled": true
   },
   "outputs": [],
   "source": [
    "n = 50\n",
    "df_orig = pd.DataFrame.from_dict(test_suites[0]).head(n)\n",
    "df_INV  = pd.DataFrame.from_dict(INV_test_suites[0]).head(n)\n",
    "df_SIB  = pd.DataFrame.from_dict({'data': SIB_test_suites[0]['data'], \n",
    "                                  'target': SIB_test_suites[0]['target'],\n",
    "                                  'ts': SIB_test_suites[0]['ts'] * 100}).head(n)\n",
    "\n",
    "df_orig.rename(columns={'data': 'orig'}, inplace=True)\n",
    "df_INV.rename(columns={'data': 'INV'}, inplace=True)\n",
    "df_SIB.rename(columns={'data': 'SIB'}, inplace=True)"
   ]
  },
  {
   "cell_type": "code",
   "execution_count": 69,
   "metadata": {},
   "outputs": [],
   "source": [
    "df = pd.concat([df_orig, df_INV, df_SIB], axis=1)"
   ]
  },
  {
   "cell_type": "code",
   "execution_count": 71,
   "metadata": {},
   "outputs": [],
   "source": [
    "df.to_csv('assets/AG_NEWS/transformed_samples.csv')"
   ]
  },
  {
   "cell_type": "code",
   "execution_count": null,
   "metadata": {},
   "outputs": [],
   "source": []
  }
 ],
 "metadata": {
  "kernelspec": {
   "display_name": "Python 3",
   "language": "python",
   "name": "python3"
  },
  "language_info": {
   "codemirror_mode": {
    "name": "ipython",
    "version": 3
   },
   "file_extension": ".py",
   "mimetype": "text/x-python",
   "name": "python",
   "nbconvert_exporter": "python",
   "pygments_lexer": "ipython3",
   "version": "3.8.5"
  },
  "varInspector": {
   "cols": {
    "lenName": 16,
    "lenType": 16,
    "lenVar": 40
   },
   "kernels_config": {
    "python": {
     "delete_cmd_postfix": "",
     "delete_cmd_prefix": "del ",
     "library": "var_list.py",
     "varRefreshCmd": "print(var_dic_list())"
    },
    "r": {
     "delete_cmd_postfix": ") ",
     "delete_cmd_prefix": "rm(",
     "library": "var_list.r",
     "varRefreshCmd": "cat(var_dic_list()) "
    }
   },
   "types_to_exclude": [
    "module",
    "function",
    "builtin_function_or_method",
    "instance",
    "_Feature"
   ],
   "window_display": false
  }
 },
 "nbformat": 4,
 "nbformat_minor": 4
}
