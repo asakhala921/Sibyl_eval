{
 "cells": [
  {
   "cell_type": "code",
   "execution_count": 1,
   "metadata": {},
   "outputs": [],
   "source": [
    "%reload_ext autoreload\n",
    "%autoreload 2"
   ]
  },
  {
   "cell_type": "code",
   "execution_count": 2,
   "metadata": {},
   "outputs": [],
   "source": [
    "from transformations.text.contraction.expand_contractions import ExpandContractions\n",
    "from transformations.text.contraction.contract_contractions import ContractContractions\n",
    "from transformations.text.emoji.emojify import Emojify, AddPositiveEmoji, AddNegativeEmoji, AddNeutralEmoji\n",
    "from transformations.text.emoji.demojify import Demojify, RemovePositiveEmoji, RemoveNegativeEmoji, RemoveNeutralEmoji\n",
    "from transformations.text.negation.remove_negation import RemoveNegation\n",
    "from transformations.text.negation.add_negation import AddNegation\n",
    "from transformations.text.contraction.expand_contractions import ExpandContractions\n",
    "from transformations.text.contraction.contract_contractions import ContractContractions\n",
    "from transformations.text.word_swap.change_number import ChangeNumber\n",
    "from transformations.text.word_swap.change_synse import ChangeSynonym, ChangeAntonym, ChangeHyponym, ChangeHypernym\n",
    "from transformations.text.word_swap.word_deletion import WordDeletion\n",
    "from transformations.text.word_swap.homoglyph_swap import HomoglyphSwap\n",
    "from transformations.text.word_swap.random_swap import RandomSwap\n",
    "from transformations.text.insertion.random_insertion import RandomInsertion\n",
    "from transformations.text.insertion.sentiment_phrase import InsertSentimentPhrase, InsertPositivePhrase, InsertNegativePhrase\n",
    "from transformations.text.links.add_sentiment_link import AddSentimentLink, AddPositiveLink, AddNegativeLink\n",
    "from transformations.text.links.import_link_text import ImportLinkText\n",
    "from transformations.text.entities.change_location import ChangeLocation\n",
    "from transformations.text.entities.change_name import ChangeName\n",
    "from transformations.text.typos.char_delete import RandomCharDel\n",
    "from transformations.text.typos.char_insert import RandomCharInsert\n",
    "from transformations.text.typos.char_substitute import RandomCharSubst\n",
    "from transformations.text.typos.char_swap import RandomCharSwap\n",
    "from transformations.text.typos.char_swap_qwerty import RandomSwapQwerty "
   ]
  },
  {
   "cell_type": "code",
   "execution_count": 3,
   "metadata": {},
   "outputs": [],
   "source": [
    "from datasets import load_dataset\n",
    "import pandas as pd\n",
    "import random\n",
    "import time\n",
    "import pickle\n",
    "import os\n",
    "from tqdm.notebook import tqdm"
   ]
  },
  {
   "cell_type": "code",
   "execution_count": 4,
   "metadata": {},
   "outputs": [],
   "source": [
    "transformations = [\n",
    "    ExpandContractions,\n",
    "    ContractContractions,\n",
    "    Emojify,\n",
    "    AddPositiveEmoji,\n",
    "    AddNegativeEmoji,\n",
    "    AddNeutralEmoji,\n",
    "    Demojify, \n",
    "    RemovePositiveEmoji,\n",
    "    RemoveNegativeEmoji,\n",
    "    RemoveNeutralEmoji,\n",
    "    ChangeLocation,\n",
    "    ChangeName,\n",
    "    InsertPositivePhrase,\n",
    "    InsertNegativePhrase,\n",
    "    RandomInsertion,\n",
    "    AddPositiveLink,\n",
    "    AddNegativeLink,\n",
    "    ImportLinkText,\n",
    "    AddNegation,\n",
    "    RemoveNegation,\n",
    "    RandomCharDel,\n",
    "    RandomCharInsert, \n",
    "    RandomCharSubst, \n",
    "    RandomCharSwap, \n",
    "    RandomSwapQwerty,\n",
    "    ChangeNumber,\n",
    "    ChangeSynonym, \n",
    "    ChangeAntonym, \n",
    "    ChangeHyponym, \n",
    "    ChangeHypernym,\n",
    "    WordDeletion, \n",
    "    HomoglyphSwap, \n",
    "    RandomSwap\n",
    "]"
   ]
  },
  {
   "cell_type": "code",
   "execution_count": 52,
   "metadata": {},
   "outputs": [],
   "source": [
    "df_all = []\n",
    "for transform in transformations:\n",
    "    t = transform(meta=True)\n",
    "    df = t.get_tran_types()\n",
    "    df['transformation'] = t.__class__.__name__\n",
    "    df['tran_fn'] = t\n",
    "    df_all.append(df)\n",
    "    \n",
    "df = pd.concat(df_all)"
   ]
  },
  {
   "cell_type": "code",
   "execution_count": 54,
   "metadata": {},
   "outputs": [
    {
     "data": {
      "text/html": [
       "<div>\n",
       "<style scoped>\n",
       "    .dataframe tbody tr th:only-of-type {\n",
       "        vertical-align: middle;\n",
       "    }\n",
       "\n",
       "    .dataframe tbody tr th {\n",
       "        vertical-align: top;\n",
       "    }\n",
       "\n",
       "    .dataframe thead th {\n",
       "        text-align: right;\n",
       "    }\n",
       "</style>\n",
       "<table border=\"1\" class=\"dataframe\">\n",
       "  <thead>\n",
       "    <tr style=\"text-align: right;\">\n",
       "      <th></th>\n",
       "      <th>task_name</th>\n",
       "      <th>tran_type</th>\n",
       "      <th>transformation</th>\n",
       "      <th>tran_fn</th>\n",
       "    </tr>\n",
       "  </thead>\n",
       "  <tbody>\n",
       "    <tr>\n",
       "      <th>0</th>\n",
       "      <td>sentiment</td>\n",
       "      <td>INV</td>\n",
       "      <td>ExpandContractions</td>\n",
       "      <td>&lt;transformations.text.contraction.expand_contr...</td>\n",
       "    </tr>\n",
       "    <tr>\n",
       "      <th>1</th>\n",
       "      <td>topic</td>\n",
       "      <td>INV</td>\n",
       "      <td>ExpandContractions</td>\n",
       "      <td>&lt;transformations.text.contraction.expand_contr...</td>\n",
       "    </tr>\n",
       "    <tr>\n",
       "      <th>0</th>\n",
       "      <td>sentiment</td>\n",
       "      <td>INV</td>\n",
       "      <td>ContractContractions</td>\n",
       "      <td>&lt;transformations.text.contraction.contract_con...</td>\n",
       "    </tr>\n",
       "    <tr>\n",
       "      <th>1</th>\n",
       "      <td>topic</td>\n",
       "      <td>INV</td>\n",
       "      <td>ContractContractions</td>\n",
       "      <td>&lt;transformations.text.contraction.contract_con...</td>\n",
       "    </tr>\n",
       "    <tr>\n",
       "      <th>0</th>\n",
       "      <td>sentiment</td>\n",
       "      <td>INV</td>\n",
       "      <td>Emojify</td>\n",
       "      <td>&lt;transformations.text.emoji.emojify.Emojify ob...</td>\n",
       "    </tr>\n",
       "    <tr>\n",
       "      <th>...</th>\n",
       "      <td>...</td>\n",
       "      <td>...</td>\n",
       "      <td>...</td>\n",
       "      <td>...</td>\n",
       "    </tr>\n",
       "    <tr>\n",
       "      <th>1</th>\n",
       "      <td>topic</td>\n",
       "      <td>INV</td>\n",
       "      <td>WordDeletion</td>\n",
       "      <td>&lt;transformations.text.word_swap.word_deletion....</td>\n",
       "    </tr>\n",
       "    <tr>\n",
       "      <th>0</th>\n",
       "      <td>sentiment</td>\n",
       "      <td>INV</td>\n",
       "      <td>HomoglyphSwap</td>\n",
       "      <td>&lt;transformations.text.word_swap.homoglyph_swap...</td>\n",
       "    </tr>\n",
       "    <tr>\n",
       "      <th>1</th>\n",
       "      <td>topic</td>\n",
       "      <td>INV</td>\n",
       "      <td>HomoglyphSwap</td>\n",
       "      <td>&lt;transformations.text.word_swap.homoglyph_swap...</td>\n",
       "    </tr>\n",
       "    <tr>\n",
       "      <th>0</th>\n",
       "      <td>sentiment</td>\n",
       "      <td>INV</td>\n",
       "      <td>RandomSwap</td>\n",
       "      <td>&lt;transformations.text.word_swap.random_swap.Ra...</td>\n",
       "    </tr>\n",
       "    <tr>\n",
       "      <th>1</th>\n",
       "      <td>topic</td>\n",
       "      <td>INV</td>\n",
       "      <td>RandomSwap</td>\n",
       "      <td>&lt;transformations.text.word_swap.random_swap.Ra...</td>\n",
       "    </tr>\n",
       "  </tbody>\n",
       "</table>\n",
       "<p>66 rows × 4 columns</p>\n",
       "</div>"
      ],
      "text/plain": [
       "    task_name tran_type        transformation  \\\n",
       "0   sentiment       INV    ExpandContractions   \n",
       "1       topic       INV    ExpandContractions   \n",
       "0   sentiment       INV  ContractContractions   \n",
       "1       topic       INV  ContractContractions   \n",
       "0   sentiment       INV               Emojify   \n",
       "..        ...       ...                   ...   \n",
       "1       topic       INV          WordDeletion   \n",
       "0   sentiment       INV         HomoglyphSwap   \n",
       "1       topic       INV         HomoglyphSwap   \n",
       "0   sentiment       INV            RandomSwap   \n",
       "1       topic       INV            RandomSwap   \n",
       "\n",
       "                                              tran_fn  \n",
       "0   <transformations.text.contraction.expand_contr...  \n",
       "1   <transformations.text.contraction.expand_contr...  \n",
       "0   <transformations.text.contraction.contract_con...  \n",
       "1   <transformations.text.contraction.contract_con...  \n",
       "0   <transformations.text.emoji.emojify.Emojify ob...  \n",
       "..                                                ...  \n",
       "1   <transformations.text.word_swap.word_deletion....  \n",
       "0   <transformations.text.word_swap.homoglyph_swap...  \n",
       "1   <transformations.text.word_swap.homoglyph_swap...  \n",
       "0   <transformations.text.word_swap.random_swap.Ra...  \n",
       "1   <transformations.text.word_swap.random_swap.Ra...  \n",
       "\n",
       "[66 rows x 4 columns]"
      ]
     },
     "execution_count": 54,
     "metadata": {},
     "output_type": "execute_result"
    }
   ],
   "source": [
    "df"
   ]
  },
  {
   "cell_type": "code",
   "execution_count": 10,
   "metadata": {},
   "outputs": [],
   "source": [
    "def pkl_save(file, path):\n",
    "    with open(path, 'wb') as handle:\n",
    "        pickle.dump(file, handle, protocol=pickle.HIGHEST_PROTOCOL)\n",
    "        \n",
    "def pkl_load(path):\n",
    "    with open(path, 'rb') as handle:\n",
    "        file = pickle.load(handle)\n",
    "    return file\n",
    "\n",
    "def init_transforms(task=None, tran=None, meta=True):\n",
    "    df_all = []\n",
    "    for transform in transformations:\n",
    "        t = transform(meta=meta)\n",
    "        df = t.get_tran_types()\n",
    "        df['transformation'] = t.__class__.__name__\n",
    "        df['tran_fn'] = t\n",
    "        df_all.append(df)\n",
    "    df = pd.concat(df_all)\n",
    "    if task is not None:\n",
    "        task_df = df['task_name'] == task\n",
    "        df = df[task_df]\n",
    "    if tran is not None:\n",
    "        tran_df = df['tran_type'] == tran\n",
    "        df = df[tran_df]\n",
    "    return df\n",
    "\n",
    "def apply_transforms(test_suites, num_transforms=2, task=None, tran=None):\n",
    "    df = init_transforms(task=task, tran=tran, meta=True)\n",
    "    new_test_suites = {}\n",
    "    for i, test_suite in tqdm(test_suites.items()):\n",
    "        new_X, new_y, new_ts = [], [], []\n",
    "        for X, y in zip(test_suite['data'], test_suite['target']):\n",
    "            ts = []\n",
    "            n = 0\n",
    "            while n < num_transforms:\n",
    "                t_df   = df.sample(1)\n",
    "                t_fn   = t_df['tran_fn'][0]\n",
    "                t_name = t_df['transformation'][0]\n",
    "                if t_name in ts:\n",
    "                    continue\n",
    "                else:\n",
    "                    ts.append(t_name)\n",
    "                _X, _y, meta = t_fn.transform_Xy(X, y)\n",
    "                if meta['change']:\n",
    "                    n += 1\n",
    "                else:\n",
    "                    ts.remove(t_name)\n",
    "            new_X.append(_X)\n",
    "            new_y.append(_y)\n",
    "            new_ts.append(ts)\n",
    "        new_test_suites[i] = {'data': new_X, 'target': new_y, 'ts': new_ts}\n",
    "    return new_test_suites"
   ]
  },
  {
   "cell_type": "code",
   "execution_count": 11,
   "metadata": {},
   "outputs": [],
   "source": [
    "test_suites = pkl_load('assets/SST2/test_suites.pkl')\n",
    "INV_test_suites = pkl_load('assets/SST2/INV_test_suites.pkl')\n",
    "SIB_test_suites = pkl_load('assets/SST2/SIB_test_suites.pkl')\n",
    "# both_test_suites = pkl_load('assets/SST2/both_test_suites.pkl')"
   ]
  },
  {
   "cell_type": "code",
   "execution_count": 19,
   "metadata": {},
   "outputs": [
    {
     "data": {
      "text/plain": [
       "100"
      ]
     },
     "execution_count": 19,
     "metadata": {},
     "output_type": "execute_result"
    }
   ],
   "source": [
    "len(test_suites[0]['target'])"
   ]
  },
  {
   "cell_type": "code",
   "execution_count": 26,
   "metadata": {},
   "outputs": [
    {
     "data": {
      "text/plain": [
       "[('nothing but an episode of smackdown ! ', 0),\n",
       " ('stillborn except as a harsh conceptual exercise ', 0),\n",
       " ('so you can get your money back ', 0),\n",
       " ('be awed by the power and grace of one of the greatest natural sportsmen of modern times ',\n",
       "  1),\n",
       " ('exciting to watch as two last-place basketball ', 0),\n",
       " ('for a fairly inexperienced filmmaker ', 0)]"
      ]
     },
     "execution_count": 26,
     "metadata": {},
     "output_type": "execute_result"
    }
   ],
   "source": [
    "numeg=6\n",
    "list(zip(test_suites[0]['data'][:numeg],test_suites[0]['target'][:numeg]))"
   ]
  },
  {
   "cell_type": "code",
   "execution_count": 56,
   "metadata": {},
   "outputs": [
    {
     "data": {
      "text/plain": [
       "list"
      ]
     },
     "execution_count": 56,
     "metadata": {},
     "output_type": "execute_result"
    }
   ],
   "source": [
    "examples=test_suites[75]['data']\n",
    "type(examples)"
   ]
  },
  {
   "cell_type": "code",
   "execution_count": 58,
   "metadata": {},
   "outputs": [
    {
     "data": {
      "text/plain": [
       "\"it 's probably worth catching solely on its visual merits . \""
      ]
     },
     "execution_count": 58,
     "metadata": {},
     "output_type": "execute_result"
    }
   ],
   "source": [
    "examples[75]"
   ]
  },
  {
   "cell_type": "code",
   "execution_count": 90,
   "metadata": {},
   "outputs": [
    {
     "data": {
      "text/plain": [
       "33"
      ]
     },
     "execution_count": 90,
     "metadata": {},
     "output_type": "execute_result"
    }
   ],
   "source": [
    "len(transformations)"
   ]
  },
  {
   "cell_type": "code",
   "execution_count": 103,
   "metadata": {},
   "outputs": [],
   "source": [
    "import numpy as np\n",
    "avg = np.zeros(33)"
   ]
  },
  {
   "cell_type": "code",
   "execution_count": 104,
   "metadata": {},
   "outputs": [
    {
     "name": "stdout",
     "output_type": "stream",
     "text": [
      "0\t transf= ExpandContractions \t avg= 0.0%\n",
      "1\t transf= ContractContractions \t avg= 5.0%\n",
      "2\t transf= Emojify \t avg= 51.0%\n",
      "3\t transf= AddPositiveEmoji \t avg= 100.0%\n",
      "4\t transf= AddNegativeEmoji \t avg= 100.0%\n",
      "5\t transf= AddNeutralEmoji \t avg= 100.0%\n",
      "6\t transf= Demojify \t avg= 0.0%\n",
      "7\t transf= RemovePositiveEmoji \t avg= 100.0%\n",
      "8\t transf= RemoveNegativeEmoji \t avg= 100.0%\n",
      "9\t transf= RemoveNeutralEmoji \t avg= 100.0%\n",
      "10\t transf= ChangeLocation \t avg= 14.0%\n",
      "11\t transf= ChangeName \t avg= 12.0%\n",
      "12\t transf= InsertPositivePhrase \t avg= 100.0%\n",
      "13\t transf= InsertNegativePhrase \t avg= 100.0%\n",
      "14\t transf= RandomInsertion \t avg= 100.0%\n",
      "15\t transf= AddPositiveLink \t avg= 100.0%\n",
      "16\t transf= AddNegativeLink \t avg= 100.0%\n",
      "17\t transf= ImportLinkText \t avg= 0.0%\n",
      "18\t transf= AddNegation \t avg= 44.0%\n",
      "19\t transf= RemoveNegation \t avg= 8.0%\n",
      "20\t transf= RandomCharDel \t avg= 100.0%\n",
      "21\t transf= RandomCharInsert \t avg= 100.0%\n",
      "22\t transf= RandomCharSubst \t avg= 99.0%\n",
      "23\t transf= RandomCharSwap \t avg= 100.0%\n",
      "24\t transf= RandomSwapQwerty \t avg= 78.0%\n",
      "25\t transf= ChangeNumber \t avg= 3.0%\n",
      "26\t transf= ChangeSynonym \t avg= 91.0%\n",
      "27\t transf= ChangeAntonym \t avg= 90.0%\n",
      "28\t transf= ChangeHyponym \t avg= 85.0%\n",
      "29\t transf= ChangeHypernym \t avg= 88.0%\n",
      "30\t transf= WordDeletion \t avg= 100.0%\n",
      "31\t transf= HomoglyphSwap \t avg= 100.0%\n",
      "32\t transf= RandomSwap \t avg= 100.0%\n"
     ]
    }
   ],
   "source": [
    "for tnum, trans in enumerate(transformations):\n",
    "    for ex in examples:\n",
    "        t = trans(meta=True)\n",
    "        _, metad = t(ex)\n",
    "        \n",
    "        if metad['change']:\n",
    "            avg[tnum] += 1\n",
    "    print(f\"{tnum}\\t transf= {t.__class__.__name__} \\t avg= {avg[tnum]}%\")\n",
    "            \n",
    "            "
   ]
  },
  {
   "cell_type": "code",
   "execution_count": 105,
   "metadata": {},
   "outputs": [
    {
     "data": {
      "text/plain": [
       "array([  0.,   5.,  51., 100., 100., 100.,   0., 100., 100., 100.,  14.,\n",
       "        12., 100., 100., 100., 100., 100.,   0.,  44.,   8., 100., 100.,\n",
       "        99., 100.,  78.,   3.,  91.,  90.,  85.,  88., 100., 100., 100.])"
      ]
     },
     "execution_count": 105,
     "metadata": {},
     "output_type": "execute_result"
    }
   ],
   "source": [
    "avg"
   ]
  },
  {
   "cell_type": "code",
   "execution_count": 106,
   "metadata": {},
   "outputs": [
    {
     "data": {
      "text/plain": [
       "[('ExpandContractions', 0.0),\n",
       " ('ContractContractions', 5.0),\n",
       " ('Emojify', 51.0),\n",
       " ('AddPositiveEmoji', 100.0),\n",
       " ('AddNegativeEmoji', 100.0),\n",
       " ('AddNeutralEmoji', 100.0),\n",
       " ('Demojify', 0.0),\n",
       " ('RemovePositiveEmoji', 100.0),\n",
       " ('RemoveNegativeEmoji', 100.0),\n",
       " ('RemoveNeutralEmoji', 100.0),\n",
       " ('ChangeLocation', 14.0),\n",
       " ('ChangeName', 12.0),\n",
       " ('InsertPositivePhrase', 100.0),\n",
       " ('InsertNegativePhrase', 100.0),\n",
       " ('RandomInsertion', 100.0),\n",
       " ('AddPositiveLink', 100.0),\n",
       " ('AddNegativeLink', 100.0),\n",
       " ('ImportLinkText', 0.0),\n",
       " ('AddNegation', 44.0),\n",
       " ('RemoveNegation', 8.0),\n",
       " ('RandomCharDel', 100.0),\n",
       " ('RandomCharInsert', 100.0),\n",
       " ('RandomCharSubst', 99.0),\n",
       " ('RandomCharSwap', 100.0),\n",
       " ('RandomSwapQwerty', 78.0),\n",
       " ('ChangeNumber', 3.0),\n",
       " ('ChangeSynonym', 91.0),\n",
       " ('ChangeAntonym', 90.0),\n",
       " ('ChangeHyponym', 85.0),\n",
       " ('ChangeHypernym', 88.0),\n",
       " ('WordDeletion', 100.0),\n",
       " ('HomoglyphSwap', 100.0),\n",
       " ('RandomSwap', 100.0)]"
      ]
     },
     "execution_count": 106,
     "metadata": {},
     "output_type": "execute_result"
    }
   ],
   "source": [
    "ans=list(zip(map(lambda t: t.__name__,transformations),list(avg)))\n",
    "ans"
   ]
  },
  {
   "cell_type": "code",
   "execution_count": 108,
   "metadata": {},
   "outputs": [],
   "source": [
    "import csv\n",
    "filename = \"./assets/transfomation-test.csv\"\n",
    "with open(filename, 'w') as csvfile:  \n",
    "    csvwriter = csv.writer(csvfile)  \n",
    "    csvwriter.writerow(['Transformation name', 'Applicability'])\n",
    "    for row in ans:\n",
    "        csvwriter.writerow(row)"
   ]
  },
  {
   "cell_type": "code",
   "execution_count": 112,
   "metadata": {},
   "outputs": [
    {
     "data": {
      "text/plain": [
       "[('ExpandContractions', 0.0),\n",
       " ('ContractContractions', 5.0),\n",
       " ('Demojify', 0.0),\n",
       " ('ChangeLocation', 14.0),\n",
       " ('ChangeName', 12.0),\n",
       " ('ImportLinkText', 0.0),\n",
       " ('AddNegation', 44.0),\n",
       " ('RemoveNegation', 8.0),\n",
       " ('ChangeNumber', 3.0)]"
      ]
     },
     "execution_count": 112,
     "metadata": {},
     "output_type": "execute_result"
    }
   ],
   "source": [
    "[(t[0],t[1]) for t in ans if t[1] < 50]"
   ]
  },
  {
   "cell_type": "code",
   "execution_count": 114,
   "metadata": {},
   "outputs": [
    {
     "data": {
      "text/plain": [
       "[('AddPositiveEmoji', 100.0),\n",
       " ('AddNegativeEmoji', 100.0),\n",
       " ('AddNeutralEmoji', 100.0),\n",
       " ('RemovePositiveEmoji', 100.0),\n",
       " ('RemoveNegativeEmoji', 100.0),\n",
       " ('RemoveNeutralEmoji', 100.0),\n",
       " ('InsertPositivePhrase', 100.0),\n",
       " ('InsertNegativePhrase', 100.0),\n",
       " ('RandomInsertion', 100.0),\n",
       " ('AddPositiveLink', 100.0),\n",
       " ('AddNegativeLink', 100.0),\n",
       " ('RandomCharDel', 100.0),\n",
       " ('RandomCharInsert', 100.0),\n",
       " ('RandomCharSubst', 99.0),\n",
       " ('RandomCharSwap', 100.0),\n",
       " ('RandomSwapQwerty', 78.0),\n",
       " ('ChangeSynonym', 91.0),\n",
       " ('ChangeAntonym', 90.0),\n",
       " ('ChangeHyponym', 85.0),\n",
       " ('ChangeHypernym', 88.0),\n",
       " ('WordDeletion', 100.0),\n",
       " ('HomoglyphSwap', 100.0),\n",
       " ('RandomSwap', 100.0)]"
      ]
     },
     "execution_count": 114,
     "metadata": {},
     "output_type": "execute_result"
    }
   ],
   "source": [
    "[(t[0],t[1]) for t in ans if t[1] > 75]"
   ]
  },
  {
   "cell_type": "code",
   "execution_count": null,
   "metadata": {},
   "outputs": [],
   "source": []
  }
 ],
 "metadata": {
  "kernelspec": {
   "display_name": "Python 3",
   "language": "python",
   "name": "python3"
  },
  "language_info": {
   "codemirror_mode": {
    "name": "ipython",
    "version": 3
   },
   "file_extension": ".py",
   "mimetype": "text/x-python",
   "name": "python",
   "nbconvert_exporter": "python",
   "pygments_lexer": "ipython3",
   "version": "3.8.3"
  }
 },
 "nbformat": 4,
 "nbformat_minor": 4
}
